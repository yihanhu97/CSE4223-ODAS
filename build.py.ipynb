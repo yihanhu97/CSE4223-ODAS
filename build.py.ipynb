{
 "cells": [
  {
   "cell_type": "code",
   "execution_count": null,
   "metadata": {},
   "outputs": [],
   "source": [
    "# CSE4223-ODAS will be installed in /home/pi/odas"
   ]
  },
  {
   "cell_type": "code",
   "execution_count": 2,
   "metadata": {},
   "outputs": [
    {
     "name": "stdout",
     "output_type": "stream",
     "text": [
      "\u001b[34mMatrix\u001b[m\u001b[m         README.md      build.py.ipynb\r\n"
     ]
    }
   ],
   "source": [
    "# Setting up working directory\n",
    "!cd /home/pi/odas/CSE4223-ODAS/Matrix"
   ]
  },
  {
   "cell_type": "code",
   "execution_count": 5,
   "metadata": {},
   "outputs": [
    {
     "name": "stdout",
     "output_type": "stream",
     "text": [
      "Enter array index: 5\n"
     ]
    }
   ],
   "source": [
    "# Ask for array index from user input \n",
    "arrayInd = input(\"Enter array index: \")"
   ]
  },
  {
   "cell_type": "code",
   "execution_count": 11,
   "metadata": {},
   "outputs": [],
   "source": [
    "# Create backup.sh based on array index\n",
    "with open ('backup.sh', 'w') as rsh:\n",
    "    rsh.write(\n",
    "'''\n",
    "#! /bin/bash\n",
    "rclone copy /home/pi/odas/recordings/SST RaspberryPi:/ODAS/logs{0}/SST\n",
    "rclone copy /home/pi/odas/recordings/SSL RaspberryPi:/ODAS/logs{0}/SSL\n",
    "rclone copy /home/pi/odas/recordings/separated RaspberryPi:/ODAS/recordings{0}/separated\n",
    "rclone copy /home/pi/odas/recordings/postfiltered RaspberryPi:/ODAS/recordings{0}/postfiltered\n",
    "'''.format(arrayInd))"
   ]
  },
  {
   "cell_type": "code",
   "execution_count": 10,
   "metadata": {},
   "outputs": [],
   "source": [
    "# Create IPupload.sh based on array index\n",
    "with open ('IPupload.sh', 'w') as rsh:\n",
    "    rsh.write(\n",
    "'''\n",
    "#! /bin/bash\n",
    "IP=$(hostname -I)\n",
    "time=$(date)\n",
    "echo \"$time: $IP\" >> /home/pi/odas/IP{0}.log \n",
    "rclone copy /home/pi/odas/IP{0}.log RaspberryPi:/ODAS\n",
    "''' .format(arrayInd))"
   ]
  },
  {
   "cell_type": "code",
   "execution_count": null,
   "metadata": {},
   "outputs": [],
   "source": [
    "# Modify python script based on array index"
   ]
  },
  {
   "cell_type": "code",
   "execution_count": null,
   "metadata": {},
   "outputs": [],
   "source": [
    "# Copy files to their working directory\n",
    "!cp backup.sh cleanup.sh crontab filemanager.sh IPupload.sh rclone.conf startup.sh ~/odas\n",
    "!cp matrix_creator_local.cfg ~/odas/config/matrix-demo\n",
    "!cp -r python ~/odas"
   ]
  },
  {
   "cell_type": "code",
   "execution_count": null,
   "metadata": {},
   "outputs": [],
   "source": [
    "# Make bash scripts executables, set up crontab, set up rclone\n",
    "!cd ~/odas\n",
    "!sudo chmod +x cleanup.sh filemanager.sh startup.sh IPupload.sh backup.sh\n",
    "!sudo crontab -e crontab\n",
    "!cp rclone.conf ~/.conf/rclone"
   ]
  },
  {
   "cell_type": "code",
   "execution_count": null,
   "metadata": {},
   "outputs": [],
   "source": [
    "# create recordings folder\n",
    "!mkdir recordings\n",
    "!cd recordings\n",
    "!mkdir SST SSL separated postfiltered raw"
   ]
  },
  {
   "cell_type": "code",
   "execution_count": null,
   "metadata": {},
   "outputs": [],
   "source": [
    "# reboot\n",
    "!sudo reboot"
   ]
  }
 ],
 "metadata": {
  "kernelspec": {
   "display_name": "Python 3",
   "language": "python",
   "name": "python3"
  },
  "language_info": {
   "codemirror_mode": {
    "name": "ipython",
    "version": 3
   },
   "file_extension": ".py",
   "mimetype": "text/x-python",
   "name": "python",
   "nbconvert_exporter": "python",
   "pygments_lexer": "ipython3",
   "version": "3.7.3"
  }
 },
 "nbformat": 4,
 "nbformat_minor": 4
}
