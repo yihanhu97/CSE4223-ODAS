{
 "cells": [
  {
   "cell_type": "code",
   "execution_count": 1,
   "metadata": {},
   "outputs": [],
   "source": [
    "import os\n",
    "import time as timer\n",
    "from datetime import datetime\n",
    "from subprocess import Popen, PIPE\n",
    "import signal"
   ]
  },
  {
   "cell_type": "code",
   "execution_count": 2,
   "metadata": {},
   "outputs": [],
   "source": [
    "# Define countdown(): a function that calculates the time difference T between now and the next 5 minute mark\n",
    "# Put the system to sleep for the length of T\n",
    "def countdown5():\n",
    "    timestamp = timer.time()\n",
    "    t1 = datetime.fromtimestamp(timestamp)\n",
    "    t2 = datetime.fromtimestamp(timestamp + 300 - timestamp % 300)\n",
    "    duration = t2 - t1\n",
    "    sleepTime = round(duration.total_seconds(),3)\n",
    "    print(\"Time is \" + str(t1) + \". Going to sleep now...\")\n",
    "    timer.sleep(sleepTime)\n",
    "    print(\"Time is \" + str(datetime.fromtimestamp(timer.time())) + \". Waking up now...\")"
   ]
  },
  {
   "cell_type": "code",
   "execution_count": 3,
   "metadata": {},
   "outputs": [],
   "source": [
    "# First set the working directory to /home/pi/odas/bin\n",
    "wd = \"/home/pi/odas/bin\"\n",
    "\n",
    "# Using universal_newlines=True converts the output to a string instead of a byte array.\n",
    "# matrix-odas only open once\n",
    "p1 = Popen([\"./matrix-odas\", \"&\"], \n",
    "           cwd=wd, universal_newlines=True)"
   ]
  },
  {
   "cell_type": "code",
   "execution_count": 6,
   "metadata": {},
   "outputs": [
    {
     "name": "stdout",
     "output_type": "stream",
     "text": [
      "Time is 2020-06-24 21:17:07.011325. Going to sleep now...\n",
      "Time is 2020-06-24 21:20:00.017845. Waking up now...\n",
      "Time is 2020-06-24 21:20:00.026114. Starting a new recording session\n",
      "Time is 2020-06-24 21:24:50.175749. Odaslive ended\n",
      "Time is 2020-06-24 21:24:52.790564. Clean up finished\n",
      "Waiting to go into the next cycle...\n",
      "Time is 2020-06-24 21:24:52.791175. Going to sleep now...\n",
      "Time is 2020-06-24 21:25:00.005714. Waking up now...\n",
      "Time is 2020-06-24 21:25:00.007569. Starting a new recording session\n",
      "Time is 2020-06-24 21:29:50.095183. Odaslive ended\n",
      "Time is 2020-06-24 21:29:52.955387. Clean up finished\n",
      "Waiting to go into the next cycle...\n",
      "Time is 2020-06-24 21:29:52.956725. Going to sleep now...\n",
      "Recording ended\n"
     ]
    }
   ],
   "source": [
    "# start the program at a 5-minute mark, run countdown()\n",
    "countdown5()\n",
    "\n",
    "# start the recording loop\n",
    "while True:  \n",
    "    try:\n",
    "        # start odaslive\n",
    "        print(\"Time is \" + str(datetime.fromtimestamp(timer.time())) + \". Starting a new recording session\")\n",
    "        p2 = Popen([\"./odaslive\", \"-vc\", \"../config/matrix-demo/matrix_creator_local.cfg\"],\n",
    "                   cwd=wd,\n",
    "                   universal_newlines=True)\n",
    "        # leave 10s for the remaining process and clean up\n",
    "        timer.sleep(290)\n",
    "        # end odaslive\n",
    "        p2.send_signal(signal.SIGINT)\n",
    "        p2.wait()\n",
    "        print(\"Time is \" + str(datetime.fromtimestamp(timer.time())) + \". Odaslive ended\")\n",
    "        \n",
    "        # obtain the last access and modified time of raw files\n",
    "        atime = os.path.getatime(\"/home/pi/odas/recordings/separated/separated.raw\")\n",
    "        mtime = os.path.getmtime(\"/home/pi/odas/recordings/separated/separated.raw\")\n",
    "        aT = datetime.fromtimestamp(atime)\n",
    "        mT = datetime.fromtimestamp(mtime)\n",
    "        \n",
    "        date0, time0 = str(aT).split()\n",
    "        time0 = time0.split('.')[0]\n",
    "\n",
    "        # run odasparsing.py to check if SST.log has empty data\n",
    "        p3 = Popen([\"python3\", \"/home/pi/odas/python/odasparsing.py\"], \n",
    "                   stdout=PIPE, \n",
    "                   stdin=PIPE, \n",
    "                   universal_newlines=True)    \n",
    "        # flag returns a string that says if the file is or is not useful            \n",
    "        flag = p3.communicate(input=\"/home/pi/odas/recordings/SST/SST.log\")[0]\n",
    "        \n",
    "        # append recording start time and end time to the end of SST.log and SSL.log\n",
    "        with open(\"/home/pi/odas/recordings/SST/cleaned.log\", \"a\") as f:\n",
    "            f.write(\"Start time: \" + str(aT) + \"\\n\")\n",
    "            f.write(\"End time: \" + str(mT))\n",
    "        \n",
    "        with open(\"/home/pi/odas/recordings/SSL/SSL.log\", \"a\") as f:\n",
    "            f.write(\"Start time: \" + str(aT) + \"\\n\")\n",
    "            f.write(\"End time: \" + str(mT))\n",
    "\n",
    "        # rename cleaned.log and remove SST.log\n",
    "        os.rename(\"/home/pi/odas/recordings/SST/cleaned.log\", \n",
    "                  \"/home/pi/odas/recordings/SST/cSST_\" + date0 + \"_\" + time0 + \"_0\" + \".log\")\n",
    "        os.remove(\"/home/pi/odas/recordings/SST/SST.log\")\n",
    "\n",
    "        # If log file contains no data other than 0, delete raw files \n",
    "        if flag == \"not useful\\n\":\n",
    "            os.remove(\"/home/pi/odas/recordings/SSL/SSL.log\")\n",
    "            os.remove(\"/home/pi/odas/recordings/separated/separated.raw\")\n",
    "            os.remove(\"/home/pi/odas/recordings/postfiltered/postfiltered.raw\")\n",
    "        else:          \n",
    "            os.rename(\"/home/pi/odas/recordings/SSL/SSL.log\", \n",
    "                      \"/home/pi/odas/recordings/SSL/cSSL_\" + date0 + \"_\" + time0 + \"_0\" + \".log\")\n",
    "            os.rename(\"/home/pi/odas/recordings/separated/separated.raw\", \n",
    "                      \"/home/pi/odas/recordings/separated/separated_\" + date0+ \"_\" + time0 + \"_0\" + \".raw\")\n",
    "            os.rename(\"/home/pi/odas/recordings/postfiltered/postfiltered.raw\", \n",
    "                      \"/home/pi/odas/recordings/postfiltered/postfiltered_\" + date0+ \"_\" + time0 + \"_0\" + \".raw\")\n",
    "\n",
    "        print(\"Time is \" + str(datetime.fromtimestamp(timer.time())) + \". Clean up finished\")\n",
    "        # wait until the next 5-minute mark\n",
    "        print(\"Waiting to go into the next cycle...\")\n",
    "        countdown5()\n",
    "                           \n",
    "    except KeyboardInterrupt:\n",
    "        p1.send_signal(signal.SIGINT)\n",
    "        p1.wait()\n",
    "        p2.send_signal(signal.SIGINT)\n",
    "        p2.wait()\n",
    "        break\n",
    "print(\"Recording ended\")"
   ]
  }
 ],
 "metadata": {
  "kernelspec": {
   "display_name": "Python 3",
   "language": "python",
   "name": "python3"
  },
  "language_info": {
   "codemirror_mode": {
    "name": "ipython",
    "version": 3
   },
   "file_extension": ".py",
   "mimetype": "text/x-python",
   "name": "python",
   "nbconvert_exporter": "python",
   "pygments_lexer": "ipython3",
   "version": "3.7.3"
  }
 },
 "nbformat": 4,
 "nbformat_minor": 2
}
