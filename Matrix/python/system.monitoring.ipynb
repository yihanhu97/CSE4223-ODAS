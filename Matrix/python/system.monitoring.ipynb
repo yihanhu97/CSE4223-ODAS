{
 "cells": [
  {
   "cell_type": "code",
   "execution_count": 3,
   "metadata": {},
   "outputs": [],
   "source": [
    "import os\n",
    "import time as timer\n",
    "from subprocess import Popen, PIPE"
   ]
  },
  {
   "cell_type": "code",
   "execution_count": 4,
   "metadata": {},
   "outputs": [],
   "source": [
    "# First set the working directory to /home/pi/odas/bin\n",
    "wd = \"/home/pi/odas/bin\""
   ]
  },
  {
   "cell_type": "code",
   "execution_count": 5,
   "metadata": {},
   "outputs": [],
   "source": [
    "# Using universal_newlines=True converts the output to a string instead of a byte array.\n",
    "# matrix-odas only open once\n",
    "p1 = Popen([\"./matrix-odas\", \"&\"], \n",
    "           cwd=wd, universal_newlines=True)"
   ]
  },
  {
   "cell_type": "code",
   "execution_count": null,
   "metadata": {},
   "outputs": [],
   "source": [
    "def countdown():\n",
    "    "
   ]
  },
  {
   "cell_type": "code",
   "execution_count": 10,
   "metadata": {},
   "outputs": [],
   "source": [
    "countdown()\n",
    "\n",
    "# Name the text file based on the recording time\n",
    "path = \"/home/pi/odas/recordings/\"\n",
    "filename = \"SST.log\"\n",
    "\n",
    "while True:\n",
    "\n",
    "    # Open the context manager\n",
    "    with open(path+filename, \"w\") as output:    \n",
    "        p2 = Popen([\"./odaslive\", \"-vc\", \"../config/matrix-demo/matrix_creator_local.cfg\"], \n",
    "                   stdout=output, \n",
    "                   cwd=wd,\n",
    "                   universal_newlines=True)\n",
    "    # The moment Odas starts to output log, start the timer    \n",
    "    timer.sleep(290)\n",
    "    p2.kill()\n",
    "    p2.wait()\n",
    "    \n",
    "    # Obtain the last access time of raw files\n",
    "    accessTime = os.path.getatime(\"/home/pi/odas/recordings/separated.raw\")\n",
    "    T = timer.strftime('%Y-%m-%d %H:%M:%S', timer.localtime(accessTime))\n",
    "    date, time = str(T).split()\n",
    "    time = time.split('.')[0]\n",
    "    \n",
    "    # Run odasparsing.py to check the SST log file\n",
    "    p3 = Popen(['python', 'odasparsing.py'], stdout=PIPE, stdin=PIPE, universal_newlines=True)    \n",
    "    output = p3.communicate(input=path+filename)[0]\n",
    "    \n",
    "    # Rename cleaned.log and remove SST.log\n",
    "    os.rename(\"/home/pi/odas/recordings/cleaned.log\", \n",
    "              \"/home/pi/odas/recordings/cSST_\" + date + \"_\" + time + \".log\")\n",
    "    # Delete SST.log\n",
    "    os.remove(\"/home/pi/odas/recordings/SST.log\")\n",
    "    \n",
    "    # If log file contains no data other than 0, delete raw files \n",
    "    if output is \"not useful\\n\":\n",
    "        os.remove(\"/home/pi/odas/recordings/separated.raw\")\n",
    "        os.remove(\"/home/pi/odas/recordings/postfiltered.raw\")\n",
    "    else:\n",
    "        os.rename(\"/home/pi/odas/recordings/separated.raw\", \n",
    "                  \"/home/pi/odas/recordings/separated_\" + date + \"_\" + time + \".raw\")\n",
    "        os.rename(\"/home/pi/odas/recordings/postfiltered.raw\", \n",
    "                  \"/home/pi/odas/recordings/postfiltered_\" + date + \"_\" + time + \".raw\")\n",
    "        \n",
    "    countdown()"
   ]
  },
  {
   "cell_type": "code",
   "execution_count": 9,
   "metadata": {},
   "outputs": [],
   "source": [
    "#p2.returncode()\n",
    "# Set by poll() and wait(). \n",
    "#p2.poll()\n",
    "# If returns None, indicates that the process hasn’t terminated yet; if returncode, the process has terminated."
   ]
  },
  {
   "cell_type": "code",
   "execution_count": 6,
   "metadata": {
    "scrolled": true
   },
   "outputs": [],
   "source": [
    "#!ls to check what files are in the current directory\n",
    "#!pwd to check the path of the current directory"
   ]
  }
 ],
 "metadata": {
  "kernelspec": {
   "display_name": "Python 3",
   "language": "python",
   "name": "python3"
  },
  "language_info": {
   "codemirror_mode": {
    "name": "ipython",
    "version": 3
   },
   "file_extension": ".py",
   "mimetype": "text/x-python",
   "name": "python",
   "nbconvert_exporter": "python",
   "pygments_lexer": "ipython3",
   "version": "3.6.4"
  }
 },
 "nbformat": 4,
 "nbformat_minor": 2
}
