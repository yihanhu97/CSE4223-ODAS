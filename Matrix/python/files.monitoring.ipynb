{
 "cells": [
  {
   "cell_type": "code",
   "execution_count": 2,
   "metadata": {},
   "outputs": [],
   "source": [
    "from glob import glob\n",
    "import os.path, time"
   ]
  },
  {
   "cell_type": "code",
   "execution_count": 9,
   "metadata": {},
   "outputs": [
    {
     "name": "stdout",
     "output_type": "stream",
     "text": [
      "cSST files have been not created yet\n",
      "0.00032806396484375\n",
      "cSST files have been not created yet\n",
      "2.0137500762939453\n",
      "cSST files have been not created yet\n",
      "4.017300128936768\n",
      "cSST files have been not created yet\n",
      "6.020493984222412\n",
      "cSST files have been not created yet\n",
      "8.02603793144226\n",
      "cSST files have been not created yet\n",
      "10.02863621711731\n",
      "cSST files have been not created yet\n",
      "12.033998966217041\n",
      "cSST files have been not created yet\n",
      "14.039525032043457\n",
      "cSST files have been not created yet\n",
      "16.043870210647583\n",
      "cSST files have been not created yet\n",
      "18.049386024475098\n",
      "cSST files have been not created yet\n",
      "20.050414085388184\n",
      "The end\n"
     ]
    }
   ],
   "source": [
    "beginTime = time.time()\n",
    "try:\n",
    "    while True:\n",
    "        paths = glob(\"/Users/hyh/Desktop/ODAS/Files/recordings/separate.raw\")\n",
    "        # paths might be empty at the very beginning\n",
    "        if not paths:\n",
    "            print(\"cSST files have been not created yet\")\n",
    "            flagTime = beginTime\n",
    "        else:     \n",
    "            latestFilePath = max(paths, key=os.path.getatime)\n",
    "            latestFileTime = os.path.getatime(latestFilePath)\n",
    "            flagTime = latestFileTime\n",
    "\n",
    "        currentTime = time.time()\n",
    "        delta = currentTime - flagTime\n",
    "        print(delta)\n",
    "        \n",
    "        if delta > 20:\n",
    "            print(\"The end\")\n",
    "            break\n",
    "            \n",
    "        time.sleep(2)   \n",
    "except KeyboardInterrupt:\n",
    "    print(\"User interrupt\")"
   ]
  },
  {
   "cell_type": "code",
   "execution_count": null,
   "metadata": {},
   "outputs": [],
   "source": []
  }
 ],
 "metadata": {
  "kernelspec": {
   "display_name": "Python 3",
   "language": "python",
   "name": "python3"
  },
  "language_info": {
   "codemirror_mode": {
    "name": "ipython",
    "version": 3
   },
   "file_extension": ".py",
   "mimetype": "text/x-python",
   "name": "python",
   "nbconvert_exporter": "python",
   "pygments_lexer": "ipython3",
   "version": "3.6.4"
  }
 },
 "nbformat": 4,
 "nbformat_minor": 2
}
