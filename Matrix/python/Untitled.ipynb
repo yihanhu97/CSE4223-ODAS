{
 "cells": [
  {
   "cell_type": "code",
   "execution_count": 1,
   "metadata": {},
   "outputs": [],
   "source": [
    "import json\n",
    "import re"
   ]
  },
  {
   "cell_type": "code",
   "execution_count": 4,
   "metadata": {},
   "outputs": [
    {
     "name": "stdout",
     "output_type": "stream",
     "text": [
      "/Users/yihanhu/Desktop/cSST_2020-09-02_10_30_03_5.log\n"
     ]
    }
   ],
   "source": [
    "filename = input()"
   ]
  },
  {
   "cell_type": "code",
   "execution_count": 5,
   "metadata": {},
   "outputs": [
    {
     "name": "stdout",
     "output_type": "stream",
     "text": [
      "not useful\n",
      "\n"
     ]
    }
   ],
   "source": [
    "with open(filename, 'r') as f:\n",
    "    text = f.read()\n",
    "    # The find() method returns the lowest index of the substring if it is found in given string\n",
    "    # Find the first left curly brace\n",
    "    ind = text.find('{\\n')\n",
    "    # Delete initialization text\n",
    "    body = text[ind:]\n",
    "\"\"\"\n",
    "+--------------------------------------------+\n",
    "|    ODAS (Open embeddeD Audition System)    |\n",
    "+--------------------------------------------+\n",
    "| Author:  Francois Grondin                  |\n",
    "| Email:   francois.grondin2@usherbrooke.ca  |\n",
    "| Website: introlab.3it.usherbrooke.ca       |\n",
    "| Version: 1.0                               |\n",
    "+--------------------------------------------+\n",
    "| + Initializing configurations...... [Done] |\n",
    "| + Initializing objects............. [Done] |\n",
    "| + Launch threads................... [Done] |\n",
    "| + Threads running.................. {\n",
    "\"\"\"        \n",
    "# Use repex to store blocks of data into a list\n",
    "data = re.split('(?<=})\\n(?={)', body) \n",
    "# Delete the last block in the list\n",
    "del data[-1]\n",
    "\n",
    "# Set a flag for zero data log file\n",
    "saveFlag = False\n",
    "\n",
    "# Use Json to convert each data block string to a dictionary\n",
    "for block in data:\n",
    "    d = json.loads(block)\n",
    "    # Obtain all id values from 4 entries\n",
    "    idList = [line['id'] for line in d['src']]\n",
    "    # Check the values of ids, if there is a none zero then break\n",
    "    if not all(value == 0 for value in idList):\n",
    "        saveFlag = True\n",
    "        break\n",
    "        \n",
    "if saveFlag:\n",
    "    print('useful\\n')\n",
    "else:\n",
    "    print('not useful\\n')\n",
    "   \n",
    "# # create a new log file that is checked and cleaned\n",
    "# with open('/home/pi/odas/recordings/SST/cleaned.log', 'w') as f:\n",
    "#     if saveFlag:\n",
    "#         for item in data:\n",
    "#             f.write(\"%s\\n\" % item)\n",
    "#     else:\n",
    "#         f.write('SST log contains no useful data\\n')"
   ]
  },
  {
   "cell_type": "code",
   "execution_count": null,
   "metadata": {},
   "outputs": [],
   "source": []
  }
 ],
 "metadata": {
  "kernelspec": {
   "display_name": "Python 3",
   "language": "python",
   "name": "python3"
  },
  "language_info": {
   "codemirror_mode": {
    "name": "ipython",
    "version": 3
   },
   "file_extension": ".py",
   "mimetype": "text/x-python",
   "name": "python",
   "nbconvert_exporter": "python",
   "pygments_lexer": "ipython3",
   "version": "3.7.3"
  }
 },
 "nbformat": 4,
 "nbformat_minor": 4
}
