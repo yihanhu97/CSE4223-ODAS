{
 "cells": [
  {
   "cell_type": "code",
   "execution_count": 2,
   "metadata": {},
   "outputs": [],
   "source": [
    "# CSE4223-ODAS will be installed in /home/pi/odas\n",
    "\n",
    "# Setting up working directory\n",
    "!cd /home/pi/odas/CSE4223-ODAS/Matrix\n",
    "\n",
    "# Ask for array index from user input \n",
    "arrayInd = input(\"Enter array index: \")\n",
    "\n",
    "# Create backup.sh based on array index\n",
    "with open ('backup.sh', 'w') as rsh:\n",
    "    rsh.write(\n",
    "'''\n",
    "#! /bin/bash\n",
    "rclone copy /home/pi/odas/recordings/SST RaspberryPi:/ODAS/logs{0}/SST\n",
    "rclone copy /home/pi/odas/recordings/SSL RaspberryPi:/ODAS/logs{0}/SSL\n",
    "rclone copy /home/pi/odas/recordings/separated RaspberryPi:/ODAS/recordings{0}/separated\n",
    "rclone copy /home/pi/odas/recordings/postfiltered RaspberryPi:/ODAS/recordings{0}/postfiltered\n",
    "'''.format(arrayInd))\n",
    "\n",
    "# Create IPupload.sh based on array index\n",
    "with open ('IPupload.sh', 'w') as rsh:\n",
    "    rsh.write(\n",
    "'''\n",
    "#! /bin/bash\n",
    "IP=$(hostname -I)\n",
    "time=$(date)\n",
    "echo \"$time: $IP\" >> /home/pi/odas/IP{0}.log \n",
    "rclone copy /home/pi/odas/IP{0}.log RaspberryPi:/ODAS\n",
    "''' .format(arrayInd))\n",
    "\n",
    "# Save arrayInd into a file\n",
    "with open(\"/home/pi/odas/arrayInfo.txt\",\"w\") as f:\n",
    "    f.writelines(arrayInd)\n",
    "\n",
    "# Copy files to their working directory\n",
    "!cp backup.sh cleanup.sh crontab filemanager.sh IPupload.sh rclone.conf startup.sh ~/odas\n",
    "!cp matrix_creator_local.cfg ~/odas/config/matrix-demo\n",
    "!cp -r python ~/odas\n",
    "\n",
    "# Make bash scripts executables, set up crontab, set up rclone\n",
    "!cd ~/odas\n",
    "!sudo chmod +x cleanup.sh filemanager.sh startup.sh IPupload.sh backup.sh\n",
    "!sudo crontab -e crontab\n",
    "!cp rclone.conf ~/.conf/rclone\n",
    "\n",
    "# create recordings folder\n",
    "!mkdir recordings\n",
    "!cd recordings\n",
    "!mkdir SST SSL separated postfiltered raw\n",
    "\n",
    "# reboot\n",
    "!sudo reboot"
   ]
  }
 ],
 "metadata": {
  "kernelspec": {
   "display_name": "Python 3",
   "language": "python",
   "name": "python3"
  },
  "language_info": {
   "codemirror_mode": {
    "name": "ipython",
    "version": 3
   },
   "file_extension": ".py",
   "mimetype": "text/x-python",
   "name": "python",
   "nbconvert_exporter": "python",
   "pygments_lexer": "ipython3",
   "version": "3.7.3"
  }
 },
 "nbformat": 4,
 "nbformat_minor": 4
}
