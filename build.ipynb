{
 "cells": [
  {
   "cell_type": "code",
   "execution_count": null,
   "metadata": {},
   "outputs": [],
   "source": [
    "# CSE4223-ODAS will be installed in /home/pi/odas\n",
    "\n",
    "import subprocess as p\n",
    "\n",
    "# Setting up working directory\n",
    "wd = \"/home/pi/odas/CSE4223-ODAS/Matrix\"\n",
    "\n",
    "# Ask for array index from user input \n",
    "arrayInd = input(\"Enter array index: \")\n",
    "\n",
    "# Create backup.sh based on array index\n",
    "with open (\"/home/pi/odas/CSE4223-ODAS/Matrix/backup.sh\", \"w\") as rsh:\n",
    "    rsh.write(\n",
    "'''\n",
    "#! /bin/bash\n",
    "rclone copy /home/pi/odas/recordings/SST RaspberryPi:/ODAS/logs{0}/SST\n",
    "rclone copy /home/pi/odas/recordings/SSL RaspberryPi:/ODAS/logs{0}/SSL\n",
    "rclone copy /home/pi/odas/recordings/separated RaspberryPi:/ODAS/recordings{0}/separated\n",
    "rclone copy /home/pi/odas/recordings/postfiltered RaspberryPi:/ODAS/recordings{0}/postfiltered\n",
    "'''.format(arrayInd))\n",
    "\n",
    "# Create IPupload.sh based on array index\n",
    "with open ('/home/pi/odas/CSE4223-ODAS/Matrix/IPupload.sh', 'w') as rsh:\n",
    "    rsh.write(\n",
    "'''\n",
    "#! /bin/bash\n",
    "IP=$(hostname -I)\n",
    "time=$(date)\n",
    "echo \"$time: $IP\" >> /home/pi/odas/IP{0}.log \n",
    "rclone copy /home/pi/odas/IP{0}.log RaspberryPi:/ODAS\n",
    "''' .format(arrayInd))\n",
    "\n",
    "# Save arrayInd into a file\n",
    "with open(\"/home/pi/odas/arrayInfo.txt\",\"w\") as f:\n",
    "    f.writelines(arrayInd)\n",
    "\n",
    "# Make bash scripts executables, set up crontab, set up rclone, and copy files to their working directory\n",
    "p.run([\"sudo\",\"chmod\",\"+x\",\"cleanup.sh\",\"filemanager.sh\",\"startup.sh\",\"IPupload.sh\",\"backup.sh\"],cwd=wd)\n",
    "p.run([\"sudo\",\"crontab\",\"crontab\"],cwd=wd)\n",
    "p.run([\"cp\",\"backup.sh\",\"cleanup.sh\",\"crontab\",\"filemanager.sh\",\"IPupload.sh\",\"rclone.conf\",\"startup.sh\",\"/home/pi/odas\"],cwd=wd)\n",
    "p.run([\"cp\",\"matrix_creator_local.cfg\",\"/home/pi/odas/config/matrix-demo\"],cwd=wd)\n",
    "p.run([\"cp\",\"-r\",\"python\",\"/home/pi/odas\"],cwd=wd)\n",
    "p.run([\"cp\",\"rclone.conf\",\"/home/pi/.config/rclone\"],cwd=wd)\n",
    "\n",
    "# create recordings folder\n",
    "p.run([\"mkdir\",\"recordings\"],cwd=\"/home/pi/odas\")\n",
    "p.run([\"mkdir\",\"SST\",\"SSL\",\"separated\",\"postfiltered\",\"raw\"],cwd=\"/home/pi/odas/recordings\") \n",
    "\n",
    "# reboot\n",
    "p.run([\"sudo\",\"reboot\"])"
   ]
  }
 ],
 "metadata": {
  "kernelspec": {
   "display_name": "Python 3",
   "language": "python",
   "name": "python3"
  },
  "language_info": {
   "codemirror_mode": {
    "name": "ipython",
    "version": 3
   },
   "file_extension": ".py",
   "mimetype": "text/x-python",
   "name": "python",
   "nbconvert_exporter": "python",
   "pygments_lexer": "ipython3",
   "version": "3.7.3"
  }
 },
 "nbformat": 4,
 "nbformat_minor": 4
}
