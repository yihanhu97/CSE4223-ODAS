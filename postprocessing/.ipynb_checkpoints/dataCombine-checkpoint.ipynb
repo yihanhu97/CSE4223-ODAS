{
 "cells": [
  {
   "cell_type": "markdown",
   "metadata": {},
   "source": [
    "## <center> Data Combining Outline </center>\n",
    "This outline is created to help put together all functions/scripts that were written to populate the final data frame. I will outline the general logic and each necessary step, as well as create some skeleton code to get started. The ultimate goal is to make the combining file run on machine without supervisino. The outline be updated everytime after each meeting. **Please check out your own branch and work separately**.  \n",
    "\n",
    "**Note**: the following discussion will be broken down into two parts. Multi sources in long period (MS+LP) and single source in short period (SS+SP). To simplify the problem for now, the main discussion will focus on SS+SP, which will be gradually extended to MS+LP.   \n",
    "\n",
    "======================================================================================================================\n",
    "### General Steps:\n",
    "- [ ]  Sound source matching\n",
    "- [ ]  Timestamp matching\n",
    "- [ ]  Delay and significance calculation\n",
    "- [ ]  Extract coordinates\n",
    "- [ ]  Populate dataframe\n",
    "\n",
    "======================================================================================================================\n",
    "### Current Goal:\n",
    "Formulate data frame for 1 min recording from 1:05 pm - 1:15pm, on March 25th. Single stationary source.\n",
    "\n",
    "======================================================================================================================"
   ]
  },
  {
   "cell_type": "markdown",
   "metadata": {},
   "source": [
    "#### Sound Source Matching\n",
    "\n",
    "The biggest challenge for data combining is sound source matching. Each array has 4 beams/channels, with each channel corresponding to a different sound source. ODAS library is able to track and separate up to 4 different sources at the same time. Currently, we have seen two main problems: cross talk between channels within an array and reflection. The first problem happens when one sound source appears in multiple channels as a result of long silence or ODAS sound source tracking (SST) algorithm failure. The second problem happens when the sound source is too close to a smooth surface and ODAS is picking up sound from direct path and reflection path, and therefore two channels have the same sound. \n",
    "\n",
    "Since each recording raw file is approximatly 5 mins long, there is a high chance that each channel within an array corresponds to more than one sound source. Calculating cross corrleation pairs over the entire 5 mins recording for sound source matching (SSM) will not be reliable. Therefore, to adapt to the volatile nature of ODAS SST algorithm, we will implement local SSM, using windowing method with no overlap. \n",
    "\n",
    "**MS+LP**: For 1 min recording starting at 1:05pm, given a window length of 1s and 4 arrays (16 channels). The number of cross correlation calculation is 60s/1s * (16 pick 2).\n",
    "\n",
    "**SS+SP**: Assume only one stationary source is present and no reflection paths are recorded. Then each array should only have one valid channel corresponding to that source. Thus for 1 min recording starting at 1:05pm, given a window length of 1s and 4 arrays (4 valid channels). The number of necessary cross correlation calculation is 60s/1s * (4 pick 2).\n",
    "\n",
    "**Challenge**:"
   ]
  },
  {
   "cell_type": "code",
   "execution_count": null,
   "metadata": {},
   "outputs": [],
   "source": [
    "import pandas as pd"
   ]
  },
  {
   "cell_type": "code",
   "execution_count": null,
   "metadata": {},
   "outputs": [],
   "source": [
    "def source_matching(path):\n",
    "    df = pd.read_csv(path)\n",
    "    master_list = []\n",
    "    start_time = df['Time In Seconds'].iloc[0]\n",
    "    split = start_time + 0.008\n",
    "    end_time = df['Time In Seconds'].iloc[-1]\n",
    "    array_0 = 0\n",
    "    array_1 = 0\n",
    "    array_2 = 0\n",
    "    array_3 = 0\n",
    "    counter = 0\n",
    "    count = 0\n",
    "    #Assuming only 1 channel for each array\n",
    "    for row in df.iterrows():\n",
    "        count = count + 1\n",
    "        if row[1]['Time In Seconds'] >= split:\n",
    "            dic = {}\n",
    "            dic['Column 1'] = array_0[\"Microphone Number\"] \n",
    "            dic['Column 2'] = array_1[\"Microphone Number\"]\n",
    "            dic['xyz 1'] = [array_0['X'],array_0['Y'],array_0['Z'] ]\n",
    "            dic['xyz 2'] = [array_1['X'],array_1['Y'],array_1['Z'] ]\n",
    "            dic['Grouping Time'] = split - 0.008\n",
    "            master_list.append(dic)\n",
    "            \n",
    "            dic = {}\n",
    "            dic['Column 1'] = array_0[\"Microphone Number\"] \n",
    "            dic['Column 2'] = array_2[\"Microphone Number\"]\n",
    "            dic['xyz 1'] = [array_0['X'],array_0['Y'],array_0['Z'] ]\n",
    "            dic['xyz 2'] = [array_2['X'],array_2['Y'],array_2['Z'] ]\n",
    "            dic['Grouping Time'] = split - 0.008\n",
    "            master_list.append(dic)\n",
    "            \n",
    "            dic = {}\n",
    "            dic['Column 1'] = array_0[\"Microphone Number\"] \n",
    "            dic['Column 2'] = array_3[\"Microphone Number\"]\n",
    "            dic['xyz 1'] = [array_0['X'],array_0['Y'],array_0['Z'] ]\n",
    "            dic['xyz 2'] = [array_3['X'],array_3['Y'],array_3['Z'] ]\n",
    "            dic['Grouping Time'] = split - 0.008\n",
    "            master_list.append(dic)\n",
    "            \n",
    "            dic = {}\n",
    "            dic['Column 1'] = array_1[\"Microphone Number\"] \n",
    "            dic['Column 2'] = array_2[\"Microphone Number\"]\n",
    "            dic['xyz 1'] = [array_1['X'],array_1['Y'],array_1['Z'] ]\n",
    "            dic['xyz 2'] = [array_2['X'],array_2['Y'],array_2['Z'] ]\n",
    "            dic['Grouping Time'] = split - 0.008\n",
    "            master_list.append(dic)\n",
    "            \n",
    "            dic = {}\n",
    "            dic['Column 1'] = array_1[\"Microphone Number\"] \n",
    "            dic['Column 2'] = array_3[\"Microphone Number\"]\n",
    "            dic['xyz 1'] = [array_1['X'],array_1['Y'],array_1['Z'] ]\n",
    "            dic['xyz 2'] = [array_3['X'],array_3['Y'],array_3['Z'] ]\n",
    "            dic['Grouping Time'] = split - 0.008\n",
    "            master_list.append(dic)\n",
    "            \n",
    "            dic = {}\n",
    "            dic['Column 1'] = array_2[\"Microphone Number\"] \n",
    "            dic['Column 2'] = array_3[\"Microphone Number\"]\n",
    "            dic['xyz 1'] = [array_2['X'],array_2['Y'],array_2['Z'] ]\n",
    "            dic['xyz 2'] = [array_3['X'],array_3['Y'],array_3['Z'] ]\n",
    "            dic['Grouping Time'] = split - 0.008\n",
    "            master_list.append(dic)\n",
    "            \n",
    "            split = split + 0.008\n",
    "\n",
    "            array_0 = 0\n",
    "            array_1 = 0\n",
    "            array_2 = 0\n",
    "            array_3 = 0\n",
    "            \n",
    "\n",
    "            if len(master_list) >= 50000:\n",
    "                output = pd.DataFrame(master_list)\n",
    "                output.to_csv(path_or_buf= \"/Users/brian_wangst/Desktop/mlr/data/\" + path[path.find(\"data/\") + 5: path.find(\"hour\") - 1] + \"_\" + str(counter) + \".csv\")\n",
    "                master_list = []\n",
    "                counter = counter + 1\n",
    "                \n",
    "        if row[1]['Microphone Number'] == 0:\n",
    "            array_0 = row[1]\n",
    "        elif row[1]['Microphone Number'] == 1:\n",
    "            array_1 = row[1]\n",
    "        elif row[1]['Microphone Number'] == 2:\n",
    "            array_2 = row[1]\n",
    "        else:\n",
    "            array_3 = row[1]\n",
    "                \n",
    "    output = pd.DataFrame(master_list)\n",
    "    output.to_csv(path_or_buf= \"/Users/brian_wangst/Desktop/mlr/data/\" + path[path.find(\"data/\") + 5:path.find(\"hour\") - 1] + \"_\" + str(counter) + \".csv\")\n",
    "\n"
   ]
  },
  {
   "cell_type": "code",
   "execution_count": null,
   "metadata": {},
   "outputs": [],
   "source": [
    "source_matching(\"/Users/brian_wangst/Desktop/mlr/data/recordingWednesday, March 25, 2020 01:05:31hour1.csv\")"
   ]
  },
  {
   "cell_type": "markdown",
   "metadata": {},
   "source": [
    "#### Timestamp Matching"
   ]
  },
  {
   "cell_type": "code",
   "execution_count": null,
   "metadata": {},
   "outputs": [],
   "source": []
  },
  {
   "cell_type": "code",
   "execution_count": null,
   "metadata": {},
   "outputs": [],
   "source": []
  }
 ],
 "metadata": {
  "kernelspec": {
   "display_name": "Python 3",
   "language": "python",
   "name": "python3"
  },
  "language_info": {
   "codemirror_mode": {
    "name": "ipython",
    "version": 3
   },
   "file_extension": ".py",
   "mimetype": "text/x-python",
   "name": "python",
   "nbconvert_exporter": "python",
   "pygments_lexer": "ipython3",
   "version": "3.8.0"
  }
 },
 "nbformat": 4,
 "nbformat_minor": 2
}
