{
 "cells": [
  {
   "cell_type": "code",
   "execution_count": 1,
   "metadata": {},
   "outputs": [],
   "source": [
    "#given .log file:\n",
    "#     create datframe of points\n",
    "#     (array i = source i + 1)\n",
    "#     dataframe: key:timestamp -> 2D array[[id, tag, x, y,z, activity]\n",
    "#                                    [id, tag, x, y,z, activity]\n",
    "#                                    [id, tag, x, y,z, activity]\n",
    "#                                    [id, tag, x, y,z, activity]]\n",
    "#     in dataframe:\n",
    "#     if(id of all source == 0):\n",
    "#         delete datapoint\n",
    "#     else\n",
    "#         convert timestamp to time\n",
    "#  \n",
    "#     return dataframe"
   ]
  },
  {
   "cell_type": "code",
   "execution_count": null,
   "metadata": {},
   "outputs": [],
   "source": [
    "#merge log files with same starting time"
   ]
  },
  {
   "cell_type": "code",
   "execution_count": 1,
   "metadata": {},
   "outputs": [],
   "source": [
    "import pandas as pd\n",
    "import re \n",
    "import json"
   ]
  },
  {
   "cell_type": "code",
   "execution_count": 2,
   "metadata": {},
   "outputs": [
    {
     "ename": "SyntaxError",
     "evalue": "unexpected EOF while parsing (<ipython-input-2-2a4be0fbd219>, line 2)",
     "output_type": "error",
     "traceback": [
      "\u001b[0;36m  File \u001b[0;32m\"<ipython-input-2-2a4be0fbd219>\"\u001b[0;36m, line \u001b[0;32m2\u001b[0m\n\u001b[0;31m    \u001b[0m\n\u001b[0m    ^\u001b[0m\n\u001b[0;31mSyntaxError\u001b[0m\u001b[0;31m:\u001b[0m unexpected EOF while parsing\n"
     ]
    }
   ],
   "source": [
    "filename = \"/Users/brian_wangst/Desktop/MLR/data\"\n",
    "def extractDirectionalities(filename):\n",
    "    with open(filename, 'r') as f:\n",
    "            text = f.read()\n",
    "        # Use repex to store blocks of data into a list\n",
    "        data = re.split('(?<=})\\n(?={)', text) \n",
    "        # Delete the time info from the last data block\n",
    "        tmp = data[-1][:(data[-1].rfind(\"}\")+1)]\n",
    "        data[-1] = tmp\n",
    "        \n",
    "        print(data[0])\n",
    "        \n",
    "        srcList = [json.loads(block)[\"src\"] for blocks in data]\n",
    "        srcList[0][0]['id']\n",
    "        \n",
    "        \n",
    "            "
   ]
  },
  {
   "cell_type": "code",
   "execution_count": null,
   "metadata": {},
   "outputs": [],
   "source": []
  }
 ],
 "metadata": {
  "kernelspec": {
   "display_name": "Python 3",
   "language": "python",
   "name": "python3"
  },
  "language_info": {
   "codemirror_mode": {
    "name": "ipython",
    "version": 3
   },
   "file_extension": ".py",
   "mimetype": "text/x-python",
   "name": "python",
   "nbconvert_exporter": "python",
   "pygments_lexer": "ipython3",
   "version": "3.7.3"
  }
 },
 "nbformat": 4,
 "nbformat_minor": 2
}
