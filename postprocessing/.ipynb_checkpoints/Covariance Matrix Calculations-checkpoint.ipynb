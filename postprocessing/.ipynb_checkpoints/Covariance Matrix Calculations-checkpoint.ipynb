{
 "cells": [
  {
   "cell_type": "markdown",
   "metadata": {},
   "source": [
    "# Covariance Matrix Calculations"
   ]
  },
  {
   "cell_type": "markdown",
   "metadata": {},
   "source": [
    "## The following cell was used to download data from my local drive. Do not run it."
   ]
  },
  {
   "cell_type": "code",
   "execution_count": 9,
   "metadata": {},
   "outputs": [],
   "source": [
    "#create data\n",
    "df = pd.DataFrame()\n",
    "for filename in glob.glob(\"/Volumes/Extreme SSD/ODAS_data/Ardel1/*.csv\"):\n",
    "    temp = pd.read_csv(filename)\n",
    "    df = df.append(temp)\n",
    "data = df.values\n",
    "data = data[:, 1:]"
   ]
  },
  {
   "cell_type": "markdown",
   "metadata": {},
   "source": [
    "## The following cell imports the .db file when run"
   ]
  },
  {
   "cell_type": "code",
   "execution_count": null,
   "metadata": {},
   "outputs": [],
   "source": [
    "!ls ../../Data/K_cluster_analysis.db"
   ]
  },
  {
   "cell_type": "code",
   "execution_count": 1,
   "metadata": {},
   "outputs": [],
   "source": [
    "#run this to import\n",
    "try:\n",
    "    import dill\n",
    "except:\n",
    "    %pip install dill\n",
    "    import dill\n",
    "dill.load_session('../../Data/K_cluster_analysis.db')"
   ]
  },
  {
   "cell_type": "markdown",
   "metadata": {},
   "source": [
    "## The following cell saves the current notebook's state into the .db file."
   ]
  },
  {
   "cell_type": "code",
   "execution_count": 8,
   "metadata": {},
   "outputs": [
    {
     "data": {
      "text/plain": [
       "(2664671, 13)"
      ]
     },
     "execution_count": 8,
     "metadata": {},
     "output_type": "execute_result"
    }
   ],
   "source": [
    "#run this to save\n",
    "try:\n",
    "    import dill\n",
    "except:\n",
    "    %pip install dill\n",
    "    import dill\n",
    "dill.dump_session('K_cluster_analysis.db')"
   ]
  },
  {
   "cell_type": "markdown",
   "metadata": {},
   "source": [
    "## Covariance matrix"
   ]
  },
  {
   "cell_type": "markdown",
   "metadata": {},
   "source": [
    "Below are the cells run in order to calculate Eigen Values and Vectors from the data. After running the import cell, you will have the following values:<br><br>\n",
    "data: all data points with 13 dimensions (the first column being '1' and the following 12 being the xyz's of the point)<br>\n",
    "cov: the calculated covariance matrix<br>\n",
    "eigen_values: eigen values of the covariance matrix<br>\n",
    "eigen_vectors: eigen vectors of the covariance matrix"
   ]
  },
  {
   "cell_type": "code",
   "execution_count": 1,
   "metadata": {},
   "outputs": [],
   "source": [
    "import pandas as pd\n",
    "import numpy as np\n",
    "from sklearn import decomposition\n",
    "from matplotlib import pyplot as plt\n",
    "import matplotlib.cm as cm\n",
    "from matplotlib.pyplot import figure\n",
    "import seaborn as sns\n",
    "from sklearn.cluster import KMeans\n",
    "import glob"
   ]
  },
  {
   "cell_type": "code",
   "execution_count": 2,
   "metadata": {},
   "outputs": [],
   "source": [
    "from numpy import linalg as LA\n",
    "\n",
    "def outerProduct(X):\n",
    "    \"\"\"Computer outer product and indicate which locations in matrix are undefined\"\"\"\n",
    "    O=np.outer(X,X)\n",
    "    N=1-np.isnan(O)\n",
    "    return (O,N)\n",
    "\n",
    "def sumWithNan(M1,M2):\n",
    "    \"\"\"Add two pairs of (matrix,count)\"\"\"\n",
    "    (X1,N1)=M1\n",
    "    (X2,N2)=M2\n",
    "    N=N1+N2\n",
    "    X=np.nansum(np.dstack((X1,X2)),axis=2)\n",
    "    return (X,N)"
   ]
  },
  {
   "cell_type": "code",
   "execution_count": 4,
   "metadata": {},
   "outputs": [],
   "source": [
    "# add 1's in front of all data points\n",
    "col = np.ones((len(data), 1))\n",
    "data = np.append(col, data, 1)"
   ]
  },
  {
   "cell_type": "code",
   "execution_count": 5,
   "metadata": {},
   "outputs": [
    {
     "ename": "KeyboardInterrupt",
     "evalue": "",
     "output_type": "error",
     "traceback": [
      "\u001b[0;31m---------------------------------------------------------------------------\u001b[0m",
      "\u001b[0;31mKeyboardInterrupt\u001b[0m                         Traceback (most recent call last)",
      "\u001b[0;32m<ipython-input-5-7bbe033ba336>\u001b[0m in \u001b[0;36m<module>\u001b[0;34m\u001b[0m\n\u001b[1;32m      3\u001b[0m \u001b[0mnon_nan\u001b[0m \u001b[0;34m=\u001b[0m \u001b[0mnp\u001b[0m\u001b[0;34m.\u001b[0m\u001b[0mzeros\u001b[0m\u001b[0;34m(\u001b[0m\u001b[0;34m(\u001b[0m\u001b[0;36m13\u001b[0m\u001b[0;34m,\u001b[0m \u001b[0;36m13\u001b[0m\u001b[0;34m)\u001b[0m\u001b[0;34m)\u001b[0m\u001b[0;34m\u001b[0m\u001b[0;34m\u001b[0m\u001b[0m\n\u001b[1;32m      4\u001b[0m \u001b[0;32mfor\u001b[0m \u001b[0mi\u001b[0m \u001b[0;32min\u001b[0m \u001b[0mrange\u001b[0m\u001b[0;34m(\u001b[0m\u001b[0mlen\u001b[0m\u001b[0;34m(\u001b[0m\u001b[0mdata\u001b[0m\u001b[0;34m)\u001b[0m\u001b[0;34m)\u001b[0m\u001b[0;34m:\u001b[0m\u001b[0;34m\u001b[0m\u001b[0;34m\u001b[0m\u001b[0m\n\u001b[0;32m----> 5\u001b[0;31m     \u001b[0moutters\u001b[0m\u001b[0;34m,\u001b[0m \u001b[0mnon_nan\u001b[0m \u001b[0;34m=\u001b[0m \u001b[0msumWithNan\u001b[0m\u001b[0;34m(\u001b[0m\u001b[0;34m(\u001b[0m\u001b[0moutters\u001b[0m\u001b[0;34m,\u001b[0m \u001b[0mnon_nan\u001b[0m\u001b[0;34m)\u001b[0m\u001b[0;34m,\u001b[0m \u001b[0mouterProduct\u001b[0m\u001b[0;34m(\u001b[0m\u001b[0mdata\u001b[0m\u001b[0;34m[\u001b[0m\u001b[0mi\u001b[0m\u001b[0;34m]\u001b[0m\u001b[0;34m)\u001b[0m\u001b[0;34m)\u001b[0m\u001b[0;34m\u001b[0m\u001b[0;34m\u001b[0m\u001b[0m\n\u001b[0m\u001b[1;32m      6\u001b[0m \u001b[0mcov\u001b[0m \u001b[0;34m=\u001b[0m \u001b[0moutters\u001b[0m\u001b[0;34m/\u001b[0m\u001b[0mnon_nan\u001b[0m\u001b[0;34m\u001b[0m\u001b[0;34m\u001b[0m\u001b[0m\n\u001b[1;32m      7\u001b[0m \u001b[0mcov\u001b[0m \u001b[0;34m=\u001b[0m \u001b[0mcov\u001b[0m\u001b[0;34m[\u001b[0m\u001b[0;36m1\u001b[0m\u001b[0;34m:\u001b[0m\u001b[0;34m,\u001b[0m \u001b[0;36m1\u001b[0m\u001b[0;34m:\u001b[0m\u001b[0;34m]\u001b[0m \u001b[0;34m-\u001b[0m \u001b[0mnp\u001b[0m\u001b[0;34m.\u001b[0m\u001b[0mouter\u001b[0m\u001b[0;34m(\u001b[0m\u001b[0mcov\u001b[0m\u001b[0;34m[\u001b[0m\u001b[0;36m0\u001b[0m\u001b[0;34m,\u001b[0m \u001b[0;36m1\u001b[0m\u001b[0;34m:\u001b[0m\u001b[0;34m]\u001b[0m\u001b[0;34m,\u001b[0m \u001b[0mcov\u001b[0m\u001b[0;34m[\u001b[0m\u001b[0;36m0\u001b[0m\u001b[0;34m,\u001b[0m \u001b[0;36m1\u001b[0m\u001b[0;34m:\u001b[0m\u001b[0;34m]\u001b[0m\u001b[0;34m)\u001b[0m\u001b[0;34m\u001b[0m\u001b[0;34m\u001b[0m\u001b[0m\n",
      "\u001b[0;32m<ipython-input-2-a31d72ed96ae>\u001b[0m in \u001b[0;36msumWithNan\u001b[0;34m(M1, M2)\u001b[0m\n\u001b[1;32m     11\u001b[0m     \u001b[0;34m(\u001b[0m\u001b[0mX1\u001b[0m\u001b[0;34m,\u001b[0m\u001b[0mN1\u001b[0m\u001b[0;34m)\u001b[0m\u001b[0;34m=\u001b[0m\u001b[0mM1\u001b[0m\u001b[0;34m\u001b[0m\u001b[0;34m\u001b[0m\u001b[0m\n\u001b[1;32m     12\u001b[0m     \u001b[0;34m(\u001b[0m\u001b[0mX2\u001b[0m\u001b[0;34m,\u001b[0m\u001b[0mN2\u001b[0m\u001b[0;34m)\u001b[0m\u001b[0;34m=\u001b[0m\u001b[0mM2\u001b[0m\u001b[0;34m\u001b[0m\u001b[0;34m\u001b[0m\u001b[0m\n\u001b[0;32m---> 13\u001b[0;31m     \u001b[0mN\u001b[0m\u001b[0;34m=\u001b[0m\u001b[0mN1\u001b[0m\u001b[0;34m+\u001b[0m\u001b[0mN2\u001b[0m\u001b[0;34m\u001b[0m\u001b[0;34m\u001b[0m\u001b[0m\n\u001b[0m\u001b[1;32m     14\u001b[0m     \u001b[0mX\u001b[0m\u001b[0;34m=\u001b[0m\u001b[0mnp\u001b[0m\u001b[0;34m.\u001b[0m\u001b[0mnansum\u001b[0m\u001b[0;34m(\u001b[0m\u001b[0mnp\u001b[0m\u001b[0;34m.\u001b[0m\u001b[0mdstack\u001b[0m\u001b[0;34m(\u001b[0m\u001b[0;34m(\u001b[0m\u001b[0mX1\u001b[0m\u001b[0;34m,\u001b[0m\u001b[0mX2\u001b[0m\u001b[0;34m)\u001b[0m\u001b[0;34m)\u001b[0m\u001b[0;34m,\u001b[0m\u001b[0maxis\u001b[0m\u001b[0;34m=\u001b[0m\u001b[0;36m2\u001b[0m\u001b[0;34m)\u001b[0m\u001b[0;34m\u001b[0m\u001b[0;34m\u001b[0m\u001b[0m\n\u001b[1;32m     15\u001b[0m     \u001b[0;32mreturn\u001b[0m \u001b[0;34m(\u001b[0m\u001b[0mX\u001b[0m\u001b[0;34m,\u001b[0m\u001b[0mN\u001b[0m\u001b[0;34m)\u001b[0m\u001b[0;34m\u001b[0m\u001b[0;34m\u001b[0m\u001b[0m\n",
      "\u001b[0;31mKeyboardInterrupt\u001b[0m: "
     ]
    }
   ],
   "source": [
    "# calculate covariance matrix\n",
    "outters = np.zeros((13, 13))\n",
    "non_nan = np.zeros((13, 13))\n",
    "for i in range(len(data)):\n",
    "    outters, non_nan = sumWithNan((outters, non_nan), outerProduct(data[i]))\n",
    "cov = outters/non_nan\n",
    "cov = cov[1:, 1:] - np.outer(cov[0, 1:], cov[0, 1:])"
   ]
  },
  {
   "cell_type": "code",
   "execution_count": 12,
   "metadata": {},
   "outputs": [],
   "source": [
    "#eigen values\n",
    "eigen_values, eigen_vectors = LA.eig(cov)"
   ]
  },
  {
   "cell_type": "code",
   "execution_count": 13,
   "metadata": {},
   "outputs": [
    {
     "data": {
      "text/plain": [
       "array([[ 5.15353103e-02, -9.01942142e-03, -2.39131445e-03,\n",
       "        -4.14385568e-02,  6.00196181e-02, -7.03635258e-02,\n",
       "        -2.47236794e-02,  3.20149932e-02, -2.44317660e-02,\n",
       "        -6.88929726e-03, -1.47231782e-03, -1.40635398e-02],\n",
       "       [-9.01942142e-03,  1.88123880e-02, -1.56837083e-03,\n",
       "         1.08454960e-01,  6.18437200e-03,  9.56060325e-02,\n",
       "        -2.14705256e-02, -3.10794278e-02,  2.18983947e-02,\n",
       "         2.04596415e-02, -1.13336575e-02,  2.50029410e-02],\n",
       "       [-2.39131445e-03, -1.56837083e-03,  2.48260315e-02,\n",
       "        -5.35089919e-02,  3.01943665e-02, -7.41239829e-02,\n",
       "         5.86306339e-02, -2.14199793e-01, -1.62843090e-01,\n",
       "        -1.17128241e-01,  9.05119315e-03,  1.13813952e-01],\n",
       "       [-4.14385568e-02,  1.08454960e-01, -5.35089919e-02,\n",
       "         3.07015649e-01, -4.00037144e-02, -1.83256060e-02,\n",
       "        -6.33920596e-02,  4.53513273e-02, -1.17581858e-01,\n",
       "        -1.26147609e-02, -4.15991525e-02, -9.73262259e-05],\n",
       "       [ 6.00196181e-02,  6.18437200e-03,  3.01943665e-02,\n",
       "        -4.00037144e-02,  2.07502743e-01,  1.27628444e-02,\n",
       "         4.50663158e-02, -5.08200115e-02,  5.82827349e-02,\n",
       "         1.20181134e-01,  2.36910931e-02,  4.20431526e-02],\n",
       "       [-7.03635258e-02,  9.56060325e-02, -7.41239829e-02,\n",
       "        -1.83256060e-02,  1.27628444e-02,  9.21632346e-02,\n",
       "         6.07128398e-02, -3.00343601e-01, -9.05015983e-02,\n",
       "         2.51790201e-01, -6.18004218e-02, -1.74675287e-01],\n",
       "       [-2.47236794e-02, -2.14705256e-02,  5.86306339e-02,\n",
       "        -6.33920596e-02,  4.50663158e-02,  6.07128398e-02,\n",
       "         1.92373954e-02, -1.71891575e-02, -9.17570594e-03,\n",
       "         1.40050885e-01,  4.63966387e-02,  1.90445713e-02],\n",
       "       [ 3.20149932e-02, -3.10794278e-02, -2.14199793e-01,\n",
       "         4.53513273e-02, -5.08200115e-02, -3.00343601e-01,\n",
       "        -1.71891575e-02,  6.21027738e-02,  3.63515094e-02,\n",
       "        -4.80375128e-01,  6.14233205e-02, -1.19999195e-01],\n",
       "       [-2.44317660e-02,  2.18983947e-02, -1.62843090e-01,\n",
       "        -1.17581858e-01,  5.82827349e-02, -9.05015983e-02,\n",
       "        -9.17570594e-03,  3.63515094e-02,  2.70828437e-02,\n",
       "         1.68849233e-01,  9.24211094e-03, -4.68944863e-01],\n",
       "       [-6.88929726e-03,  2.04596415e-02, -1.17128241e-01,\n",
       "        -1.26147609e-02,  1.20181134e-01,  2.51790201e-01,\n",
       "         1.40050885e-01, -4.80375128e-01,  1.68849233e-01,\n",
       "         1.56598037e-01, -1.25167913e-02, -1.04850141e-01],\n",
       "       [-1.47231782e-03, -1.13336575e-02,  9.05119315e-03,\n",
       "        -4.15991525e-02,  2.36910931e-02, -6.18004218e-02,\n",
       "         4.63966387e-02,  6.14233205e-02,  9.24211094e-03,\n",
       "        -1.25167913e-02,  3.63051784e-02,  7.86310807e-03],\n",
       "       [-1.40635398e-02,  2.50029410e-02,  1.13813952e-01,\n",
       "        -9.73262259e-05,  4.20431526e-02, -1.74675287e-01,\n",
       "         1.90445713e-02, -1.19999195e-01, -4.68944863e-01,\n",
       "        -1.04850141e-01,  7.86310807e-03,  9.35576912e-02]])"
      ]
     },
     "execution_count": 13,
     "metadata": {},
     "output_type": "execute_result"
    }
   ],
   "source": [
    "cov"
   ]
  },
  {
   "cell_type": "code",
   "execution_count": null,
   "metadata": {},
   "outputs": [],
   "source": []
  }
 ],
 "metadata": {
  "kernelspec": {
   "display_name": "Python 3",
   "language": "python",
   "name": "python3"
  },
  "language_info": {
   "codemirror_mode": {
    "name": "ipython",
    "version": 3
   },
   "file_extension": ".py",
   "mimetype": "text/x-python",
   "name": "python",
   "nbconvert_exporter": "python",
   "pygments_lexer": "ipython3",
   "version": "3.7.6"
  },
  "toc": {
   "base_numbering": 1,
   "nav_menu": {},
   "number_sections": true,
   "sideBar": true,
   "skip_h1_title": false,
   "title_cell": "Table of Contents",
   "title_sidebar": "Contents",
   "toc_cell": false,
   "toc_position": {},
   "toc_section_display": true,
   "toc_window_display": false
  }
 },
 "nbformat": 4,
 "nbformat_minor": 4
}
