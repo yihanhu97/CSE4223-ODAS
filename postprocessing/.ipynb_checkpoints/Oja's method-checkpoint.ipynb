{
 "cells": [
  {
   "cell_type": "markdown",
   "metadata": {},
   "source": [
    "# Oja's Algorithm"
   ]
  },
  {
   "cell_type": "markdown",
   "metadata": {},
   "source": [
    "## The following cell imports the .db file when run"
   ]
  },
  {
   "cell_type": "code",
   "execution_count": 1,
   "metadata": {},
   "outputs": [
    {
     "name": "stdout",
     "output_type": "stream",
     "text": [
      "../../K_cluster_analysis.db\r\n"
     ]
    }
   ],
   "source": [
    "!ls ../../K_cluster_analysis.db"
   ]
  },
  {
   "cell_type": "code",
   "execution_count": 2,
   "metadata": {
    "scrolled": true
   },
   "outputs": [
    {
     "name": "stdout",
     "output_type": "stream",
     "text": [
      "Populating the interactive namespace from numpy and matplotlib\n"
     ]
    }
   ],
   "source": [
    "import pandas as pd\n",
    "import numpy as np\n",
    "from sklearn import decomposition\n",
    "from matplotlib import pyplot as plt\n",
    "import matplotlib.cm as cm\n",
    "from matplotlib.pyplot import figure\n",
    "import seaborn as sns\n",
    "from sklearn.cluster import KMeans\n",
    "import glob\n",
    "%pylab inline"
   ]
  },
  {
   "cell_type": "markdown",
   "metadata": {},
   "source": [
    "From [the fast onvergence of incremental PCA](https://arxiv.org/pdf/1501.03796.pdf)\n",
    "\n",
    "![](figures/OnlinePCAEquations.png)"
   ]
  },
  {
   "cell_type": "markdown",
   "metadata": {},
   "source": [
    "### Explanation of Oja's update\n",
    "\n",
    "* $V_n$ - the estimate of the top eigenvector at iteration $n$\n",
    "* $\\gamma_n$ - learning rate.\n",
    "* $X_n$ The $n$th example\n",
    "* $X_n X_n^T V_{n-1} = X_n (X_n \\cdot V_{n-1})$"
   ]
  },
  {
   "cell_type": "code",
   "execution_count": 3,
   "metadata": {
    "scrolled": true
   },
   "outputs": [
    {
     "name": "stdout",
     "output_type": "stream",
     "text": [
      "CPU times: user 286 ms, sys: 1.65 s, total: 1.93 s\n",
      "Wall time: 8.08 s\n"
     ]
    },
    {
     "data": {
      "text/plain": [
       "(2664671, 12)"
      ]
     },
     "execution_count": 3,
     "metadata": {},
     "output_type": "execute_result"
    }
   ],
   "source": [
    "%%time\n",
    "#run this to import\n",
    "try:\n",
    "    import dill\n",
    "except:\n",
    "    %pip install dill\n",
    "    import dill\n",
    "dill.load_session('../../K_cluster_analysis.db')\n",
    "data=data[:,1:]  # remove prefix '1'\n",
    "data.shape"
   ]
  },
  {
   "cell_type": "markdown",
   "metadata": {},
   "source": [
    "### Estimate mean"
   ]
  },
  {
   "cell_type": "markdown",
   "metadata": {},
   "source": [
    "## Calculating the regular mean onine\n",
    "\n",
    "$\\mu_n = \\frac{\\sum_{i=1}^n a_i}{n}$\n",
    "\n",
    "$\\frac{n}{n+1} \\mu_n + \\frac{a_{n+1}}{n+1}$\n",
    "\n",
    "Equivalent to setting $\\eta=1/(n+1)$"
   ]
  },
  {
   "cell_type": "code",
   "execution_count": 4,
   "metadata": {},
   "outputs": [],
   "source": [
    "_mean=np.zeros(data.shape[1]) # initializing zero vector with 12 elements\n",
    "_non_nan_incidence = np.zeros(data.shape[1])\n",
    "eta=0.001 # setting learning rate"
   ]
  },
  {
   "cell_type": "code",
   "execution_count": 5,
   "metadata": {},
   "outputs": [
    {
     "name": "stdout",
     "output_type": "stream",
     "text": [
      "0 1.0000604981699857\n",
      "100000 5.736182578759251e-06\n",
      "200000 6.937662597720766e-07\n",
      "300000 7.521542888137032e-08\n",
      "400000 5.9789299840198e-08\n",
      "500000 2.842112320005564e-08\n",
      "600000 1.9892053532317562e-08\n",
      "700000 2.2275906975915026e-08\n",
      "800000 1.3794310649967045e-07\n",
      "900000 3.81451475294294e-08\n",
      "1000000 9.455594422086783e-09\n",
      "1100000 4.2651814163865296e-07\n",
      "1200000 3.6439235675076137e-07\n",
      "1300000 6.325536240915223e-08\n",
      "1400000 1.228059522900131e-08\n",
      "1500000 3.903372062654489e-09\n",
      "1600000 1.3636588843548614e-08\n",
      "1700000 5.2764013186954494e-08\n",
      "1800000 5.024591349027317e-08\n",
      "1900000 2.616893720235214e-07\n",
      "2000000 7.084413616135357e-07\n",
      "2100000 6.67039551507288e-07\n",
      "2200000 2.592451029017278e-07\n",
      "2300000 3.797223522909746e-08\n",
      "2400000 4.364669281781259e-08\n",
      "2500000 5.630394980643138e-07\n",
      "2600000 1.5896442041951605e-07\n"
     ]
    }
   ],
   "source": [
    "means=[] # initializing empty list for means\n",
    "for i in range(data.shape[0]):  # looping through all data points\n",
    "    vector=data[i,:] # selecting current vector\n",
    "    _not_nan=~isnan(vector) # creating boolean vector based off current vector with 0's where NaNs are found and 1's otherwise\n",
    "    _newmean=copy(_mean) # copying _mean vector\n",
    "    eta=1/(i+1) # configuring learning rate with each iteration\n",
    "    _newmean[_not_nan] = (1-eta)*_mean[_not_nan] + eta*vector[_not_nan]\n",
    "    # above, we update only those elements of the mean corr. to non NaN elements in current vector.\n",
    "    # if we have twelve elements in every vector, we must add all the non NaN values from the whole dataset\n",
    "    # and divide each element by how many times the element was not NaN. \n",
    "    if i%100000 == 0:\n",
    "        print(i,norm(_mean-_newmean))\n",
    "    _mean=_newmean\n",
    "    means.append(_mean)"
   ]
  },
  {
   "cell_type": "code",
   "execution_count": null,
   "metadata": {},
   "outputs": [],
   "source": []
  },
  {
   "cell_type": "code",
   "execution_count": 6,
   "metadata": {
    "scrolled": true
   },
   "outputs": [
    {
     "name": "stdout",
     "output_type": "stream",
     "text": [
      "0 0.9112799400882033\n",
      "100000 0.12404024365110486\n",
      "200000 0.02652589667743528\n",
      "300000 0.00316309581171782\n",
      "400000 0.0009386316591947038\n",
      "500000 0.0017968447548237705\n",
      "600000 0.001803846358651171\n",
      "700000 0.00272560816828956\n",
      "800000 0.0013859855188258997\n",
      "900000 0.007002621440201456\n",
      "1000000 0.03328825955686318\n",
      "1100000 0.03548923407269052\n",
      "1200000 0.017958296653161808\n",
      "1300000 0.0013654246877348774\n",
      "1400000 0.0023432984021251333\n",
      "1500000 0.0005841012329466819\n",
      "1600000 0.004757069393662526\n",
      "1700000 0.01580980415532421\n",
      "1800000 0.007303714176165043\n",
      "1900000 0.03310852384806099\n",
      "2000000 0.020343131468545442\n",
      "2100000 0.03430865144858992\n",
      "2200000 0.01825453348303243\n",
      "2300000 0.004033380789159255\n",
      "2400000 0.012447000451012078\n",
      "2500000 0.022686920604119448\n"
     ]
    }
   ],
   "source": [
    "k=100000\n",
    "for i in range(0,len(means)-k,k):\n",
    "    print(i,norm(means[i]-means[i+k]))"
   ]
  },
  {
   "cell_type": "code",
   "execution_count": 7,
   "metadata": {},
   "outputs": [
    {
     "data": {
      "text/plain": [
       "0.1268358878205581"
      ]
     },
     "execution_count": 7,
     "metadata": {},
     "output_type": "execute_result"
    }
   ],
   "source": [
    "norm(means[-1]-means[int(len(means)/2)])"
   ]
  },
  {
   "cell_type": "code",
   "execution_count": 8,
   "metadata": {},
   "outputs": [
    {
     "data": {
      "text/plain": [
       "1.4727579784896112"
      ]
     },
     "execution_count": 8,
     "metadata": {},
     "output_type": "execute_result"
    }
   ],
   "source": [
    "mean_last=means[-1]\n",
    "norm(mean_last)"
   ]
  },
  {
   "cell_type": "code",
   "execution_count": 9,
   "metadata": {},
   "outputs": [
    {
     "data": {
      "text/plain": [
       "array([-9.00674042e-09, -4.50337021e-09,  3.75280851e-07])"
      ]
     },
     "execution_count": 9,
     "metadata": {},
     "output_type": "execute_result"
    }
   ],
   "source": [
    "eta*vector[_not_nan]"
   ]
  },
  {
   "cell_type": "code",
   "execution_count": 10,
   "metadata": {},
   "outputs": [],
   "source": [
    "_not_nan=~isnan(vector)"
   ]
  },
  {
   "cell_type": "code",
   "execution_count": 11,
   "metadata": {},
   "outputs": [
    {
     "data": {
      "text/plain": [
       "array([ True,  True,  True, False, False, False, False, False, False,\n",
       "       False, False, False])"
      ]
     },
     "execution_count": 11,
     "metadata": {},
     "output_type": "execute_result"
    }
   ],
   "source": [
    "_not_nan"
   ]
  },
  {
   "cell_type": "code",
   "execution_count": 12,
   "metadata": {},
   "outputs": [
    {
     "data": {
      "text/plain": [
       "array([-0.024, -0.012,  1.   ,    nan,    nan,    nan,    nan,    nan,\n",
       "          nan,    nan,    nan,    nan])"
      ]
     },
     "execution_count": 12,
     "metadata": {},
     "output_type": "execute_result"
    }
   ],
   "source": [
    "vector"
   ]
  },
  {
   "cell_type": "code",
   "execution_count": 36,
   "metadata": {},
   "outputs": [
    {
     "data": {
      "text/plain": [
       "0.964"
      ]
     },
     "execution_count": 36,
     "metadata": {},
     "output_type": "execute_result"
    }
   ],
   "source": [
    "np.nansum(vector)"
   ]
  },
  {
   "cell_type": "code",
   "execution_count": 13,
   "metadata": {},
   "outputs": [
    {
     "data": {
      "text/plain": [
       "array([-0.024, -0.012,  1.   ])"
      ]
     },
     "execution_count": 13,
     "metadata": {},
     "output_type": "execute_result"
    }
   ],
   "source": [
    "vector[_not_nan]"
   ]
  },
  {
   "cell_type": "code",
   "execution_count": 14,
   "metadata": {},
   "outputs": [
    {
     "name": "stdout",
     "output_type": "stream",
     "text": [
      "[   nan    nan    nan    nan    nan    nan -0.011  0.     1.       nan\n",
      "    nan    nan]\n",
      "[False False False False False False  True  True  True False False False]\n",
      "[-0.011  0.     1.   ]\n"
     ]
    }
   ],
   "source": [
    "test_vec = data[2,:]\n",
    "print(test_vec)\n",
    "not_nn = ~isnan(test_vec)\n",
    "print(not_nn)\n",
    "short_vec = test_vec[not_nn]\n",
    "print(short_vec)"
   ]
  },
  {
   "cell_type": "markdown",
   "metadata": {},
   "source": [
    "### Implementing Oja's method"
   ]
  },
  {
   "cell_type": "markdown",
   "metadata": {},
   "source": [
    "![](figures/OnlinePCAEquations.png)"
   ]
  },
  {
   "cell_type": "code",
   "execution_count": 100,
   "metadata": {},
   "outputs": [
    {
     "name": "stdout",
     "output_type": "stream",
     "text": [
      "0 [0.         0.         0.         0.         0.         0.\n",
      " 0.45174762 0.29759234 0.84104868 0.         0.         0.        ]\n",
      "100000 [ 0.00000000e+00  0.00000000e+00  0.00000000e+00  0.00000000e+00\n",
      "  0.00000000e+00  0.00000000e+00  2.70138733e-04 -4.88862124e-03\n",
      "  9.99988014e-01  0.00000000e+00  0.00000000e+00  0.00000000e+00]\n",
      "200000 [ 0.          0.          0.          0.          0.          0.\n",
      "  0.03065709 -0.01199745  0.99945796  0.          0.          0.        ]\n",
      "300000 [ 0.          0.          0.          0.          0.          0.\n",
      "  0.00723339  0.00818244  0.91018082  0.01047458 -0.00220125  0.41392878]\n",
      "400000 [-0.00468807 -0.00603654  0.34542935  0.          0.          0.\n",
      "  0.01223633  0.00234561  0.84202947  0.01047457 -0.00220125  0.41392841]\n",
      "500000 [-0.00571808 -0.00509088  0.54506433  0.          0.          0.\n",
      "  0.00761319  0.00582896  0.72890525  0.01047457 -0.00220125  0.41392861]\n",
      "600000 [-0.00632385 -0.00851887  0.59047148  0.          0.          0.\n",
      "  0.00605023  0.00285162  0.69262883  0.01047457 -0.00220125  0.41392859]\n",
      "700000 [-0.01744177 -0.01670694  0.64409662  0.          0.          0.\n",
      "  0.0066028   0.00295838  0.64269143  0.01047458 -0.00220125  0.41392877]\n",
      "800000 [-0.0206385  -0.01766052  0.5822857   0.          0.          0.\n",
      "  0.008986    0.0063475   0.58280618  0.01072871 -0.00552358  0.56592917]\n",
      "900000 [-0.00166107  0.01778221  0.58316708  0.          0.          0.\n",
      "  0.01512283  0.00209864  0.58274436 -0.01615361  0.01432454  0.56507253]\n",
      "1000000 [-1.84920141e-02 -1.75674112e-02  5.82879179e-01  0.00000000e+00\n",
      "  0.00000000e+00  0.00000000e+00 -2.38514677e-05 -1.01127285e-03\n",
      "  5.82947421e-01 -1.61536010e-02  1.43245249e-02  5.65072071e-01]\n",
      "1100000 [-0.01263334  0.00622671  0.57470965  0.          0.          0.\n",
      " -0.00107515 -0.00072596  0.58236568  0.03039804 -0.00781182  0.57391107]\n",
      "1200000 [-0.00498622 -0.0009265   0.57488508  0.          0.          0.\n",
      " -0.00107515 -0.00072596  0.58236653  0.03375947 -0.01598884  0.57352736]\n",
      "1300000 [-0.02635143 -0.02653461  0.57424646  0.          0.          0.\n",
      "  0.00127002 -0.00266146  0.58122419  0.02671934 -0.01220129  0.57458635]\n",
      "1400000 [-1.62528247e-02 -1.92104238e-02  5.76208716e-01  0.00000000e+00\n",
      "  0.00000000e+00  0.00000000e+00  5.26361604e-03  4.90260784e-03\n",
      "  5.76088572e-01  1.25059331e-02 -2.10421565e-04  5.79019943e-01]\n",
      "1500000 [-0.00508741  0.02921829  0.57615935  0.          0.          0.\n",
      "  0.00673422  0.00473392  0.57607333 -0.14718377  0.02579454  0.55937836]\n",
      "1600000 [-0.00508741  0.0292183   0.57615955  0.          0.          0.\n",
      "  0.0054742   0.0036366   0.57696953  0.00735222  0.00546872  0.57804809]\n",
      "1700000 [-0.0035321   0.00081333  0.52521614  0.33828815 -0.15054485  0.14920711\n",
      " -0.32050642 -0.16672387  0.39551265 -0.00460971 -0.00302296  0.52705562]\n",
      "1800000 [-0.00306979  0.00333123  0.5252339   0.33828809 -0.15054482  0.14920709\n",
      " -0.32050636 -0.16672384  0.39551258 -0.00793575 -0.00703106  0.52695324]\n",
      "1900000 [-0.16169591 -0.01845719  0.4392677   0.21698901 -0.34958458  0.22198758\n",
      "  0.12373896 -0.23300308  0.46652277 -0.09736481  0.11255526  0.50258501]\n",
      "2000000 [ 0.15362592 -0.30047574 -0.36238    -0.19232549 -0.06259106 -0.45934957\n",
      "  0.0543642   0.31407409 -0.37864446 -0.32562062  0.11312574 -0.37294709]\n",
      "2100000 [ 0.39691152  0.08244491 -0.24218514 -0.32280887  0.19955229 -0.25980276\n",
      "  0.25672841  0.39743379 -0.24123063 -0.24266496  0.42201653 -0.21551505]\n",
      "2200000 [ 0.00832142  0.00106371 -0.49901264  0.45013236 -0.14665917 -0.16302944\n",
      " -0.10772649  0.20398812 -0.44398    -0.03217646 -0.00561155 -0.49880672]\n",
      "2300000 [ 0.00323181 -0.00264523 -0.51947563 -0.1282306   0.43151942 -0.23830827\n",
      "  0.00627585  0.01202468 -0.46691888  0.27886657 -0.17433275 -0.37990658]\n",
      "2400000 [-0.00060527  0.00378322 -0.51854193 -0.10548006  0.45555677 -0.19427474\n",
      "  0.00627585  0.01202468 -0.46691889  0.30420094 -0.16973277 -0.36763331]\n",
      "2500000 [-0.07173988  0.11096068  0.42487285 -0.04869819  0.06074824  0.33429696\n",
      "  0.14837814 -0.5409968   0.16527251  0.53357074 -0.19608346  0.13803186]\n",
      "2600000 [-0.2878028   0.11154521  0.30537784 -0.22202468 -0.09171015  0.35785448\n",
      "  0.15652287 -0.2760033   0.46926568  0.07947728  0.02022536  0.54597879]\n"
     ]
    }
   ],
   "source": [
    "v= np.random.normal(0, 1, size = 12)\n",
    "# print(v)\n",
    "v = v / 10000\n",
    "# print(v)\n",
    "\n",
    "v_next_Nr = np.zeros((12))\n",
    "\n",
    "\n",
    "for i in range(data.shape[0]):\n",
    "    \n",
    "    gamma_oja = max(0.001,1/(i+1)) # fixing learning rate [1]\n",
    "    \n",
    "    # Implementing Oja's rule equation\n",
    "    # It involves an inner product. In the presence of NaNs, we look at it as\n",
    "    # elementwise multiplication followed by nansum\n",
    "    # Then we have a multiplication of gamma and the dot product with the current vector\n",
    "    # We also add the previous weight vector to this.\n",
    "    \n",
    "    # we calculate the second term of the sum first\n",
    "    oja_term_2 = gamma_oja * data[i,:] * np.nansum(np.multiply(data[i,:],v))\n",
    "    \n",
    "    # we find which the indices of elements that not nan\n",
    "    _not_nan_term_2=~isnan(oja_term_2)\n",
    "    \n",
    "    # only updating those terms of the numerator which are not NaN\n",
    "    v_next_Nr[_not_nan_term_2] = v[_not_nan_term_2] + oja_term_2[_not_nan_term_2]\n",
    "\n",
    "#     if(i == 0):\n",
    "#         print('At the 1st iteration, numerator is ',v_next_Nr)\n",
    "#     if(i%100000==0):\n",
    "#         print('the numerator is', v_next_Nr)\n",
    "#     not_nn_oja = ~isnan(v_next_Nr)\n",
    "\n",
    "    v_next_Dr = np.linalg.norm(v_next_Nr)\n",
    "#     if(i%100000==0):\n",
    "#         print('the denominator is', v_next_Dr)\n",
    "    v_next = v_next_Nr/v_next_Dr\n",
    "\n",
    "    v = v_next\n",
    "    if(i%100000==0):\n",
    "        print(i,v)"
   ]
  },
  {
   "cell_type": "markdown",
   "metadata": {},
   "source": [
    "### Obtaining the second second eigenvector"
   ]
  },
  {
   "cell_type": "markdown",
   "metadata": {},
   "source": [
    "1. 'v' is the current eigenvector\n",
    "2. project each point i onto v. call this projection i_proj_v\n",
    "3. subtract, for each point, i_proj_v from i"
   ]
  },
  {
   "cell_type": "code",
   "execution_count": 101,
   "metadata": {},
   "outputs": [
    {
     "data": {
      "text/plain": [
       "array([-0.00316399,  0.00192958,  0.49565325, -0.22201887, -0.09170775,\n",
       "        0.35784511,  0.15651877, -0.27599608,  0.46925339, -0.01353108,\n",
       "       -0.00390503,  0.49748293])"
      ]
     },
     "execution_count": 101,
     "metadata": {},
     "output_type": "execute_result"
    }
   ],
   "source": [
    "v"
   ]
  },
  {
   "cell_type": "code",
   "execution_count": 103,
   "metadata": {},
   "outputs": [
    {
     "name": "stdout",
     "output_type": "stream",
     "text": [
      "[   nan    nan    nan    nan    nan    nan -0.012 -0.     1.       nan\n",
      "    nan    nan]\n"
     ]
    }
   ],
   "source": [
    "print(i_1)"
   ]
  },
  {
   "cell_type": "markdown",
   "metadata": {},
   "source": [
    "We use the equation to project vector a onto vector b:\n",
    "$ \\vec{a_1} = \\vec{a}  \\frac{\\vec{b}}{||\\vec{b}||} $\n",
    "\n",
    "This is the magnitude of the projection vector."
   ]
  },
  {
   "cell_type": "code",
   "execution_count": 111,
   "metadata": {},
   "outputs": [],
   "source": [
    "# projecting i_1 onto v\n",
    "\n",
    "data_perp_1 = np.zeros(data.shape)\n",
    "\n",
    "v_mag = np.linalg.norm(v)\n",
    "\n",
    "v_unit_vector = v/v_mag\n",
    "\n",
    "for j in range(data.shape[0]):\n",
    "\n",
    "    i_1 = data[j,:]\n",
    "\n",
    "    proj_num = np.nansum(np.multiply(i_1,v))\n",
    "\n",
    "    proj_not_nan = ~isnan(i_1)\n",
    "\n",
    "    proj_den = np.linalg.norm(v[proj_not_nan])\n",
    "\n",
    "    proj_mag = proj_num/proj_den\n",
    "\n",
    "    proj_vector = proj_mag * v_unit_vector\n",
    "\n",
    "    # print(proj_vector)\n",
    "\n",
    "    # subtracting projection from datapoint\n",
    "\n",
    "    data_perp_1[j,proj_not_nan] = i_1[proj_not_nan] - proj_vector[proj_not_nan]\n",
    "    "
   ]
  },
  {
   "cell_type": "markdown",
   "metadata": {},
   "source": [
    "### Oja's rule for second matrix"
   ]
  },
  {
   "cell_type": "code",
   "execution_count": 113,
   "metadata": {},
   "outputs": [
    {
     "name": "stdout",
     "output_type": "stream",
     "text": [
      "0 [ 0.17580178 -0.1328634   0.24541213  0.43963022  0.54545502  0.09638003\n",
      " -0.21105938 -0.08722915 -0.47669326 -0.06469412  0.03986182 -0.32551985]\n",
      "100000 [ 3.41538986e-02 -1.68886882e-02 -7.10019446e-01  9.55386364e-09\n",
      "  1.18536049e-08  2.09449133e-09  3.99602530e-06 -6.86961750e-06\n",
      " -1.87065228e-05 -2.26264302e-01  3.21364290e-02 -6.64975477e-01]\n",
      "200000 [ 5.06922043e-02  8.55993124e-02 -9.95039224e-01  4.18359738e-19\n",
      "  5.19064455e-19  9.17169092e-20  1.31522001e-15 -2.81102299e-15\n",
      " -7.66110902e-15 -1.65034062e-11  2.72498845e-12 -4.91426598e-11]\n",
      "300000 [ 5.36975643e-02  8.10475797e-02 -9.95262710e-01  2.63835330e-24\n",
      "  3.27343980e-24  5.78405587e-25  1.51729284e-10 -2.99372970e-10\n",
      " -7.74432823e-10 -1.81623949e-16  1.62115083e-17 -1.03168626e-15]\n",
      "400000 [ 3.31622607e-17  5.07061737e-17 -6.38372573e-16  1.59031346e-39\n",
      "  1.97312292e-39  3.48644053e-40  1.74334911e-01 -3.51894955e-01\n",
      " -9.19661503e-01 -1.09477002e-31  9.77176932e-33 -6.21866881e-31]\n",
      "500000 [ 7.49269589e-16  1.12759664e-15 -2.17560541e-14  3.25343283e-58\n",
      "  4.03657710e-58  7.13249331e-59  1.83663852e-01 -3.50404106e-01\n",
      " -9.18414151e-01 -2.23965956e-50  1.99908986e-51 -1.27220336e-49]\n",
      "600000 [ 8.07526317e-09  2.89515472e-08 -5.24311802e-07  1.92950785e-77\n",
      "  2.39396588e-77  4.23005561e-78  1.80829523e-01 -3.51769992e-01\n",
      " -9.18454439e-01 -1.32827106e-69  1.18559681e-70 -7.54503473e-69]\n",
      "700000 [ 2.18237302e-09  2.81943019e-09 -4.12128574e-08  1.76365130e-96\n",
      "  2.18818547e-96  3.86644868e-97  1.79971532e-01 -3.51594589e-01\n",
      " -9.18690096e-01 -1.21409560e-88  1.08368533e-89 -6.89647897e-88]\n",
      "800000 [ 2.60449050e-002  3.25779881e-002 -3.58041261e-001  2.90503719e-115\n",
      "  3.60431802e-115  6.36870634e-116  2.53540411e-001 -4.95298817e-001\n",
      " -7.48640858e-001 -5.71283337e-008 -3.95117193e-010 -5.16990475e-007]\n",
      "900000 [ 2.92230827e-007  5.38556004e-008 -8.59477278e-006  1.69933217e-133\n",
      "  2.10838387e-133  3.72544200e-134  1.61543763e-001 -3.54416617e-001\n",
      " -9.21027944e-001 -2.80532293e-026 -4.27820361e-027 -3.04687050e-025]\n",
      "1000000 [ 4.55641813e-007  6.81097396e-007 -9.03067384e-006  1.69875396e-140\n",
      "  2.10766649e-140  3.72417440e-141  1.95413701e-001 -3.40164071e-001\n",
      " -9.19837970e-001 -2.80436840e-033 -4.27674793e-034 -3.04583378e-032]\n",
      "1100000 [ 2.73616862e-002 -1.15257816e-002 -8.32240008e-001  3.36245309e-142\n",
      "  4.17183998e-142  7.37149818e-143  3.78145324e-002 -6.55023526e-002\n",
      " -1.76614980e-001 -1.37951403e-001  2.42712732e-002 -4.99962030e-001]\n",
      "1200000 [ 2.19081647e-002 -3.39759806e-003 -7.07689286e-001  6.93464261e-150\n",
      "  8.60390272e-150  1.52028011e-150  7.79877847e-010 -1.35090481e-009\n",
      " -3.64246498e-009 -1.76810284e-001  2.92599007e-002 -6.83056619e-001]\n",
      "1300000 [ 7.20955706e-002  8.30531221e-002 -9.82568062e-001  8.78984830e-155\n",
      "  1.09056809e-154  1.92699642e-155  2.88394669e-007 -5.04784269e-007\n",
      " -1.37083753e-006 -3.46442923e-002  5.23290835e-003 -1.45728517e-001]\n",
      "1400000 [ 3.61556491e-007  1.13320332e-006 -2.52692864e-005  6.73560688e-165\n",
      "  8.35695646e-165  1.47664555e-165  1.79563230e-001 -3.54046216e-001\n",
      " -9.17828046e-001 -1.44837227e-007 -2.05180186e-008 -1.48579268e-006]\n",
      "1500000 [ 6.73689800e-022 -4.77745132e-021 -6.84204372e-020  1.31202602e-180\n",
      "  1.62784802e-180  2.87635164e-181  1.78207851e-001 -3.54043001e-001\n",
      " -9.18093413e-001  4.02727261e-022  2.05040199e-023 -2.03765239e-021]\n",
      "1600000 [ 4.75270520e-041 -3.37036686e-040 -4.82688276e-039  9.25600018e-200\n",
      "  1.14840417e-199  2.02919079e-200  1.79787099e-001 -3.53523716e-001\n",
      " -9.17985611e-001 -5.02595181e-011 -1.52603284e-011 -4.95623998e-010]\n",
      "1700000 [ 4.01175183e-03 -3.86188413e-03 -9.95700495e-01 -6.59080129e-04\n",
      "  3.22478605e-04 -1.72226866e-04  5.62543079e-04 -3.14466470e-04\n",
      " -1.15975800e-03 -6.99838501e-04  1.11567612e-03 -9.24416181e-02]\n",
      "1800000 [ 1.16805335e-03 -6.05739601e-03 -9.40588615e-01 -6.19406324e-12\n",
      "  3.03066772e-12 -1.61859546e-12  5.28680392e-12 -2.95536933e-12\n",
      " -1.08994553e-11 -3.60985747e-03  5.86971604e-03 -3.39422329e-01]\n",
      "1900000 [-1.53504086e-02 -1.53527067e-02 -9.99568245e-01  7.18531951e-03\n",
      " -1.35485091e-02  1.26356874e-03 -4.40854463e-18  1.00340431e-17\n",
      " -2.71392055e-17 -7.96813013e-03  9.55922682e-03 -5.69948725e-04]\n",
      "2000000 [ 2.21285373e-01 -4.60667711e-01 -4.02751851e-04 -5.24340537e-01\n",
      " -1.64801401e-01 -3.20575220e-01  2.14786173e-01  1.47158693e-01\n",
      " -4.69068703e-02 -4.79597784e-01  1.78510564e-01 -4.56926525e-02]\n",
      "2100000 [-0.54403204 -0.06725122  0.07539717  0.4216099  -0.10857553  0.10838863\n",
      " -0.2899783  -0.34745804  0.060785    0.35902414 -0.39370518  0.01089099]\n",
      "2200000 [-0.15521607  0.00819665  0.07445544 -0.35828431  0.27915875 -0.19010317\n",
      "  0.02464888 -0.15186273  0.26697425  0.78654117  0.09114143 -0.07721286]\n",
      "2300000 [-0.12229098  0.01612717  0.79435202  0.33582218 -0.39525837  0.25009436\n",
      "  0.01845753  0.00747977 -0.00632907 -0.09459417  0.06987834  0.08926962]\n",
      "2400000 [ 5.47127780e-03 -2.17201132e-02  9.99749119e-01  4.22195072e-12\n",
      " -5.75536598e-12  2.80890505e-12  2.16551692e-13  8.77558589e-14\n",
      " -7.42553413e-14 -1.96096860e-12  1.18796349e-12  1.41148491e-12]\n",
      "2500000 [-2.52311101e-05  2.17543238e-05  1.44650789e-05 -2.67099602e-05\n",
      "  1.91888437e-05  4.14059185e-05  1.20175273e-01 -6.15584201e-01\n",
      " -4.05948620e-02  7.26837450e-01 -2.61789809e-01 -9.02189886e-02]\n",
      "2600000 [-8.67622310e-14  1.38525856e-14 -1.93681335e-14 -1.64276832e-01\n",
      "  1.87951342e-02 -2.41125477e-02  2.86037424e-01 -4.06698452e-01\n",
      "  1.31034155e-01  7.84294820e-01  2.06031469e-01 -2.23875258e-01]\n"
     ]
    }
   ],
   "source": [
    "v_2= np.random.normal(0, 1, size = 12)\n",
    "# print(v)\n",
    "v_2 = v_2 / 10000\n",
    "# print(v)\n",
    "\n",
    "v_next_Nr_2 = np.zeros((12))\n",
    "\n",
    "\n",
    "for i in range(data.shape[0]):\n",
    "    \n",
    "    gamma_oja_2 = max(0.001,1/(i+1)) # fixing learning rate [1]\n",
    "    \n",
    "    # Implementing Oja's rule equation\n",
    "    # It involves an inner product. In the presence of NaNs, we look at it as\n",
    "    # elementwise multiplication followed by nansum\n",
    "    # Then we have a multiplication of gamma and the dot product with the current vector\n",
    "    # We also add the previous weight vector to this.\n",
    "    \n",
    "    # we calculate the second term of the sum first\n",
    "    oja_2_term_2 = gamma_oja_2 * data_perp_1[i,:] * np.nansum(np.multiply(data_perp_1[i,:],v_2))\n",
    "    \n",
    "    # we find which the indices of elements that not nan\n",
    "    _not_nan_2_term_2=~isnan(oja_2_term_2)\n",
    "    \n",
    "    # only updating those terms of the numerator which are not NaN\n",
    "    v_next_Nr_2[_not_nan_2_term_2] = v_2[_not_nan_2_term_2] + oja_2_term_2[_not_nan_2_term_2]\n",
    "\n",
    "#     if(i == 0):\n",
    "#         print('At the 1st iteration, numerator is ',v_next_Nr)\n",
    "#     if(i%100000==0):\n",
    "#         print('the numerator is', v_next_Nr)\n",
    "#     not_nn_oja = ~isnan(v_next_Nr)\n",
    "\n",
    "    v_next_Dr_2 = np.linalg.norm(v_next_Nr_2)\n",
    "#     if(i%100000==0):\n",
    "#         print('the denominator is', v_next_Dr)\n",
    "    v_next_2 = v_next_Nr_2/v_next_Dr_2\n",
    "\n",
    "    v_2 = v_next_2\n",
    "    if(i%100000==0):\n",
    "        print(i,v_2)"
   ]
  },
  {
   "cell_type": "code",
   "execution_count": 116,
   "metadata": {},
   "outputs": [
    {
     "name": "stdout",
     "output_type": "stream",
     "text": [
      "0.641881483097954\n"
     ]
    }
   ],
   "source": [
    "# for a symmetric matrix eigenvectors must be normal\n",
    "dot_prod_ev = np.dot(v,v2)\n",
    "print(dot_prod_ev)"
   ]
  },
  {
   "cell_type": "code",
   "execution_count": 69,
   "metadata": {},
   "outputs": [
    {
     "name": "stdout",
     "output_type": "stream",
     "text": [
      "[-0.06512481  0.55507046 -0.06970197 -1.54765397  0.66028296  0.88860828\n",
      "  0.48639555  0.38047019  0.30092569 -0.7525398   1.40319839 -0.08627907]\n",
      "[ 0.17673735 -0.09013655 -0.1184975   0.14000183 -0.61194194  0.42845273\n",
      "  0.48662751  1.14981189  0.8819502  -0.81194435 -0.55124646 -0.63579609]\n"
     ]
    }
   ],
   "source": [
    "v2= np.random.normal(0, 1, size = 12)\n",
    "print(v2)\n",
    "v3= np.random.normal(0, 1, size = 12)\n",
    "print(v3)"
   ]
  },
  {
   "cell_type": "code",
   "execution_count": 83,
   "metadata": {},
   "outputs": [
    {
     "name": "stdout",
     "output_type": "stream",
     "text": [
      "[False False False False False False  True  True  True False False False]\n"
     ]
    }
   ],
   "source": [
    "print(_not_nan_term_2)"
   ]
  },
  {
   "cell_type": "code",
   "execution_count": 70,
   "metadata": {},
   "outputs": [
    {
     "name": "stdout",
     "output_type": "stream",
     "text": [
      "[-0.06512481  0.55507046 -0.06970197]\n"
     ]
    }
   ],
   "source": [
    "print(v2[_not_nan_term_2])"
   ]
  },
  {
   "cell_type": "code",
   "execution_count": 71,
   "metadata": {},
   "outputs": [
    {
     "name": "stdout",
     "output_type": "stream",
     "text": [
      "[ 0.17673735 -0.09013655 -0.1184975 ]\n"
     ]
    }
   ],
   "source": [
    "print(v3[_not_nan_term_2])"
   ]
  },
  {
   "cell_type": "code",
   "execution_count": 77,
   "metadata": {},
   "outputs": [
    {
     "name": "stdout",
     "output_type": "stream",
     "text": [
      "[0. 0. 0. 0. 0. 0. 0. 0. 0. 0. 0. 0.]\n"
     ]
    }
   ],
   "source": [
    "v4 = np.zeros((12))\n",
    "print(v4)"
   ]
  },
  {
   "cell_type": "code",
   "execution_count": 78,
   "metadata": {},
   "outputs": [],
   "source": [
    "v4[_not_nan_term_2] = (v3[_not_nan_term_2]) + (v2[_not_nan_term_2])"
   ]
  },
  {
   "cell_type": "code",
   "execution_count": 80,
   "metadata": {},
   "outputs": [
    {
     "name": "stdout",
     "output_type": "stream",
     "text": [
      "[-0.06512481  0.55507046 -0.06970197 -1.54765397  0.66028296  0.88860828\n",
      "  0.48639555  0.38047019  0.30092569 -0.7525398   1.40319839 -0.08627907] [ 0.17673735 -0.09013655 -0.1184975   0.14000183 -0.61194194  0.42845273\n",
      "  0.48662751  1.14981189  0.8819502  -0.81194435 -0.55124646 -0.63579609] [0.         0.         0.         0.         0.         0.\n",
      " 0.97302307 1.53028208 1.18287589 0.         0.         0.        ]\n"
     ]
    }
   ],
   "source": [
    "print(v2,v3,v4)"
   ]
  },
  {
   "cell_type": "code",
   "execution_count": 81,
   "metadata": {},
   "outputs": [
    {
     "name": "stdout",
     "output_type": "stream",
     "text": [
      "[0.48639555 0.38047019 0.30092569] [0.48662751 1.14981189 0.8819502 ] [0.97302307 1.53028208 1.18287589]\n"
     ]
    }
   ],
   "source": [
    "print(v2[_not_nan_term_2],v3[_not_nan_term_2],v4[_not_nan_term_2])"
   ]
  },
  {
   "cell_type": "code",
   "execution_count": 82,
   "metadata": {},
   "outputs": [
    {
     "data": {
      "text/plain": [
       "array([False, False, False, False, False, False,  True,  True,  True,\n",
       "       False, False, False])"
      ]
     },
     "execution_count": 82,
     "metadata": {},
     "output_type": "execute_result"
    }
   ],
   "source": [
    "_not_nan_term_2"
   ]
  },
  {
   "cell_type": "markdown",
   "metadata": {},
   "source": [
    "### References (links):\n",
    "\n",
    "1. https://arxiv.org/pdf/1501.03796.pdf"
   ]
  },
  {
   "cell_type": "code",
   "execution_count": null,
   "metadata": {},
   "outputs": [],
   "source": []
  }
 ],
 "metadata": {
  "kernelspec": {
   "display_name": "Python 3",
   "language": "python",
   "name": "python3"
  },
  "language_info": {
   "codemirror_mode": {
    "name": "ipython",
    "version": 3
   },
   "file_extension": ".py",
   "mimetype": "text/x-python",
   "name": "python",
   "nbconvert_exporter": "python",
   "pygments_lexer": "ipython3",
   "version": "3.7.6"
  },
  "toc": {
   "base_numbering": 1,
   "nav_menu": {},
   "number_sections": true,
   "sideBar": true,
   "skip_h1_title": false,
   "title_cell": "Table of Contents",
   "title_sidebar": "Contents",
   "toc_cell": false,
   "toc_position": {},
   "toc_section_display": true,
   "toc_window_display": false
  }
 },
 "nbformat": 4,
 "nbformat_minor": 4
}
