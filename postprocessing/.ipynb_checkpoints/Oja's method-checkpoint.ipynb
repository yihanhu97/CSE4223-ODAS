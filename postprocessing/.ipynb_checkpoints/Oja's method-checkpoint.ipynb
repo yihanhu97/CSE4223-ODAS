{
 "cells": [
  {
   "cell_type": "markdown",
   "metadata": {},
   "source": [
    "# Oja's Algorithm"
   ]
  },
  {
   "cell_type": "markdown",
   "metadata": {},
   "source": [
    "## The following cell imports the .db file when run"
   ]
  },
  {
   "cell_type": "code",
   "execution_count": 1,
   "metadata": {},
   "outputs": [
    {
     "name": "stdout",
     "output_type": "stream",
     "text": [
      "../../Data/K_cluster_analysis.db\r\n"
     ]
    }
   ],
   "source": [
    "!ls ../../Data/K_cluster_analysis.db"
   ]
  },
  {
   "cell_type": "code",
   "execution_count": 2,
   "metadata": {
    "scrolled": true
   },
   "outputs": [
    {
     "name": "stdout",
     "output_type": "stream",
     "text": [
      "Populating the interactive namespace from numpy and matplotlib\n"
     ]
    }
   ],
   "source": [
    "import pandas as pd\n",
    "import numpy as np\n",
    "from sklearn import decomposition\n",
    "from matplotlib import pyplot as plt\n",
    "import matplotlib.cm as cm\n",
    "from matplotlib.pyplot import figure\n",
    "import seaborn as sns\n",
    "from sklearn.cluster import KMeans\n",
    "import glob\n",
    "%pylab inline"
   ]
  },
  {
   "cell_type": "markdown",
   "metadata": {},
   "source": [
    "From [the fast onvergence of incremental PCA](https://arxiv.org/pdf/1501.03796.pdf)\n",
    "\n",
    "![](figures/OnlinePCAEquations.png)"
   ]
  },
  {
   "cell_type": "markdown",
   "metadata": {},
   "source": [
    "### Explanation of Oja's update\n",
    "\n",
    "* $V_n$ - the estimate of the top eigenvector at iteration $n$\n",
    "* $\\gamma_n$ - learning rate.\n",
    "* $X_n$ The $n$th example\n",
    "* $X_n X_n^T V_{n-1} = X_n (X_n \\cdot V_{n-1})$"
   ]
  },
  {
   "cell_type": "code",
   "execution_count": 4,
   "metadata": {
    "scrolled": true
   },
   "outputs": [
    {
     "name": "stdout",
     "output_type": "stream",
     "text": [
      "CPU times: user 225 ms, sys: 642 ms, total: 867 ms\n",
      "Wall time: 901 ms\n"
     ]
    },
    {
     "data": {
      "text/plain": [
       "(2664671, 12)"
      ]
     },
     "execution_count": 4,
     "metadata": {},
     "output_type": "execute_result"
    }
   ],
   "source": [
    "%%time\n",
    "#run this to import\n",
    "try:\n",
    "    import dill\n",
    "except:\n",
    "    %pip install dill\n",
    "    import dill\n",
    "dill.load_session('../../Data/K_cluster_analysis.db')\n",
    "data=data[:,1:]  # remove prefix '1'\n",
    "data.shape"
   ]
  },
  {
   "cell_type": "markdown",
   "metadata": {},
   "source": [
    "### Estimate mean"
   ]
  },
  {
   "cell_type": "markdown",
   "metadata": {},
   "source": [
    "## Calculating the regular mean onine\n",
    "\n",
    "$\\mu_n = \\frac{\\sum_{i=1}^n a_i}{n}$\n",
    "\n",
    "$\\frac{n}{n+1} \\mu_n + \\frac{a_{n+1}}{n+1}$\n",
    "\n",
    "Equivalent to setting $\\eta=1/(n+1)$"
   ]
  },
  {
   "cell_type": "code",
   "execution_count": 5,
   "metadata": {},
   "outputs": [],
   "source": [
    "_mean=np.zeros(data.shape[1])\n",
    "eta=0.001"
   ]
  },
  {
   "cell_type": "code",
   "execution_count": 8,
   "metadata": {},
   "outputs": [
    {
     "name": "stdout",
     "output_type": "stream",
     "text": [
      "0 0.5951372064291786\n",
      "100000 1.5690481591144585e-06\n",
      "200000 3.2628223800674106e-07\n",
      "300000 7.521542888137032e-08\n",
      "400000 5.9789299840198e-08\n",
      "500000 2.842112320005564e-08\n",
      "600000 1.9892053532317562e-08\n",
      "700000 2.2275906975915026e-08\n",
      "800000 6.883765363888882e-08\n",
      "900000 3.81451475294294e-08\n",
      "1000000 9.455594422086783e-09\n",
      "1100000 5.4015295425196334e-08\n",
      "1200000 6.015604081127205e-08\n",
      "1300000 2.900176538142261e-08\n",
      "1400000 1.228059522900131e-08\n",
      "1500000 3.903372062654489e-09\n",
      "1600000 1.3636588843548614e-08\n",
      "1700000 3.156327280264699e-08\n",
      "1800000 3.316731985293332e-08\n",
      "1900000 2.616893720235214e-07\n",
      "2000000 6.801978644860196e-07\n",
      "2100000 6.27873574438885e-07\n",
      "2200000 1.9012922248931373e-07\n",
      "2300000 2.2561234614329645e-08\n",
      "2400000 3.3484416174482445e-08\n",
      "2500000 6.097180171021407e-07\n",
      "2600000 4.517066511529012e-08\n"
     ]
    }
   ],
   "source": [
    "means=[]\n",
    "for i in range(data.shape[0]):\n",
    "    vector=data[i,:]\n",
    "    _not_nan=~isnan(vector)\n",
    "    _newmean=copy(_mean)\n",
    "    eta=1/(i+1)\n",
    "    _newmean[_not_nan] = (1-eta)*_mean[_not_nan] + eta*vector[_not_nan]\n",
    "    if i%100000 == 0:\n",
    "        print(i,norm(_mean-_newmean))\n",
    "    _mean=_newmean\n",
    "    means.append(_mean)"
   ]
  },
  {
   "cell_type": "code",
   "execution_count": 9,
   "metadata": {
    "scrolled": true
   },
   "outputs": [
    {
     "name": "stdout",
     "output_type": "stream",
     "text": [
      "0 0.1447404149041009\n",
      "100000 0.05378261620813265\n",
      "200000 0.012658681717191447\n",
      "300000 0.0031600419773093794\n",
      "400000 0.000749695666280752\n",
      "500000 0.0017961292526633115\n",
      "600000 0.001384093437557272\n",
      "700000 0.0010145837780274702\n",
      "800000 0.0009613488926847077\n",
      "900000 0.0032236041391800288\n",
      "1000000 0.005887319361255275\n",
      "1100000 0.003930985142360634\n",
      "1200000 0.002545977841568042\n",
      "1300000 0.0006030245716472474\n",
      "1400000 0.0009689868028682781\n",
      "1500000 0.00035340473480815283\n",
      "1600000 0.0028256053213221027\n",
      "1700000 0.004054150005473617\n",
      "1800000 0.00593420310389188\n",
      "1900000 0.031098926275841224\n",
      "2000000 0.025563120599316817\n",
      "2100000 0.03614930408244452\n",
      "2200000 0.01959457682007723\n",
      "2300000 0.002785004480648088\n",
      "2400000 0.014020684482405553\n",
      "2500000 0.01962945793467195\n"
     ]
    }
   ],
   "source": [
    "k=100000\n",
    "for i in range(0,len(means)-k,k):\n",
    "    print(i,norm(means[i]-means[i+k]))"
   ]
  },
  {
   "cell_type": "code",
   "execution_count": 10,
   "metadata": {},
   "outputs": [
    {
     "data": {
      "text/plain": [
       "0.13017125416122374"
      ]
     },
     "execution_count": 10,
     "metadata": {},
     "output_type": "execute_result"
    }
   ],
   "source": [
    "norm(means[-1]-means[int(len(means)/2)])"
   ]
  },
  {
   "cell_type": "code",
   "execution_count": 12,
   "metadata": {},
   "outputs": [
    {
     "data": {
      "text/plain": [
       "1.7898567401736574"
      ]
     },
     "execution_count": 12,
     "metadata": {},
     "output_type": "execute_result"
    }
   ],
   "source": [
    "mean_last=means[-1]\n",
    "norm(mean_last)"
   ]
  },
  {
   "cell_type": "code",
   "execution_count": 20,
   "metadata": {},
   "outputs": [
    {
     "data": {
      "text/plain": [
       "array([nan, nan, nan, nan, nan, nan, nan, nan, nan, nan, nan, nan])"
      ]
     },
     "execution_count": 20,
     "metadata": {},
     "output_type": "execute_result"
    }
   ],
   "source": [
    "eta*vector[_not_nan]"
   ]
  },
  {
   "cell_type": "code",
   "execution_count": 33,
   "metadata": {},
   "outputs": [],
   "source": [
    "_not_nan=~isnan(vector)"
   ]
  },
  {
   "cell_type": "code",
   "execution_count": 34,
   "metadata": {},
   "outputs": [
    {
     "data": {
      "text/plain": [
       "array([False, False, False, False, False, False,  True,  True,  True,\n",
       "       False, False, False])"
      ]
     },
     "execution_count": 34,
     "metadata": {},
     "output_type": "execute_result"
    }
   ],
   "source": [
    "_not_nan"
   ]
  },
  {
   "cell_type": "code",
   "execution_count": 35,
   "metadata": {},
   "outputs": [
    {
     "data": {
      "text/plain": [
       "array([   nan,    nan,    nan,    nan,    nan,    nan, -0.012, -0.   ,\n",
       "        1.   ,    nan,    nan,    nan])"
      ]
     },
     "execution_count": 35,
     "metadata": {},
     "output_type": "execute_result"
    }
   ],
   "source": [
    "vector"
   ]
  },
  {
   "cell_type": "code",
   "execution_count": 37,
   "metadata": {},
   "outputs": [
    {
     "data": {
      "text/plain": [
       "array([-0.012, -0.   ,  1.   ])"
      ]
     },
     "execution_count": 37,
     "metadata": {},
     "output_type": "execute_result"
    }
   ],
   "source": [
    "vector[_not_nan]"
   ]
  },
  {
   "cell_type": "code",
   "execution_count": null,
   "metadata": {},
   "outputs": [],
   "source": []
  }
 ],
 "metadata": {
  "kernelspec": {
   "display_name": "Python 3",
   "language": "python",
   "name": "python3"
  },
  "language_info": {
   "codemirror_mode": {
    "name": "ipython",
    "version": 3
   },
   "file_extension": ".py",
   "mimetype": "text/x-python",
   "name": "python",
   "nbconvert_exporter": "python",
   "pygments_lexer": "ipython3",
   "version": "3.7.6"
  },
  "toc": {
   "base_numbering": 1,
   "nav_menu": {},
   "number_sections": true,
   "sideBar": true,
   "skip_h1_title": false,
   "title_cell": "Table of Contents",
   "title_sidebar": "Contents",
   "toc_cell": false,
   "toc_position": {},
   "toc_section_display": true,
   "toc_window_display": false
  }
 },
 "nbformat": 4,
 "nbformat_minor": 4
}
