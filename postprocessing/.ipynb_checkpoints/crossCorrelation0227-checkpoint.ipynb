{
 "cells": [
  {
   "cell_type": "code",
   "execution_count": 1,
   "metadata": {},
   "outputs": [],
   "source": [
    "import soundfile as sf\n",
    "import numpy as np\n",
    "import scipy as signal\n",
    "import matplotlib.pyplot as plt\n",
    "import math\n",
    "import pandas as pd\n",
    "from functools import lru_cache"
   ]
  },
  {
   "cell_type": "code",
   "execution_count": 2,
   "metadata": {},
   "outputs": [],
   "source": [
    "# Load data\n",
    "data1,samplerate = sf.read('C:/Users/lenovo/Desktop/ODAS_4223_0108/postfiltered_2020-01-08_09_25_03_1.raw', \n",
    "               channels=4, \n",
    "               samplerate=16000,\n",
    "               subtype='PCM_16'\n",
    "              )\n",
    "data2,samplerate = sf.read('C:/Users/lenovo/Desktop/ODAS_4223_0108/postfiltered_2020-01-08_09_25_03_2.raw', \n",
    "               channels=4, \n",
    "               samplerate=16000,\n",
    "               subtype='PCM_16'\n",
    "              )"
   ]
  },
  {
   "cell_type": "code",
   "execution_count": 3,
   "metadata": {},
   "outputs": [],
   "source": [
    "#Functions\n",
    "def truncate(sig1, sig2):\n",
    "    '''\n",
    "    This function truncates the longer signal and return two signals of the same length\n",
    "    '''\n",
    "    l1, l2 = len(sig1), len(sig2)\n",
    "    if l1 <= l2:\n",
    "        return sig1, sig2[0:l1]\n",
    "    else:\n",
    "        return sig1[0:l2], sig2\n",
    "\n",
    "def prepadding(sig1, sig2, winDuration, Fs):\n",
    "    l = winDuration * Fs\n",
    "    N = len(sig1)    \n",
    "    # Padding to have an interger number of windows\n",
    "    if N%l != 0:\n",
    "        padWidth = l-N%l\n",
    "        sig1 = np.pad(sig1, (0, padWidth), 'constant', constant_values = 0)\n",
    "        sig2 = np.pad(sig2, (0, padWidth), 'constant', constant_values = 0)\n",
    "        \n",
    "    numOfWindows = len(sig1)/l\n",
    "    \n",
    "    return sig1, sig2, numOfWindows\n",
    "\n",
    "def whiten(sig):\n",
    "    return sig/np.abs(sig)\n",
    "\n",
    "def gcc_phat(sig1, sig2, fs=16000, max_tau=None, interp=1, window=True, windowName=\"hamming\"):\n",
    "    '''\n",
    "    This function computes the offset between the signal sig and the reference signal refsig\n",
    "    using the Generalized Cross Correlation - Phase Transform (GCC-PHAT)method. In this modified\n",
    "    function, sig1 and sig2 are garuanteed to have the same length\n",
    "    '''\n",
    "    # Make sure the length for the FFT is larger or equal than len(sig) + len(refsig)\n",
    "    # n1, n2 = sig1.shape[0], sig2.shape[0]\n",
    "    n = sig1.shape[0]\n",
    "    \n",
    "    # Add window\n",
    "    if window: \n",
    "        win1 = getattr(np, windowName)(n)\n",
    "        win2 = getattr(np, windowName)(n)\n",
    "        sig1 = sig1 * win1\n",
    "        sig2 = sig2 * win2\n",
    "\n",
    "    # Generalized Cross Correlation Phase Transform\n",
    "    SIG1 = np.fft.rfft(sig1, n=n)\n",
    "    SIG2 = np.fft.rfft(sig2, n=n)\n",
    "    \n",
    "    W1 = whiten(SIG1)\n",
    "    W2 = whiten(SIG2)\n",
    "    \n",
    "    R = W1 * np.conj(W2)\n",
    "    \n",
    "    cc = np.fft.irfft(R, n=(interp * n))\n",
    "\n",
    "    # cc = np.fft.irfft(R / np.abs(R), n=(interp * n))\n",
    "\n",
    "    max_shift = int(interp * n / 2)\n",
    "    if max_tau:\n",
    "        max_shift = np.minimum(int(interp * fs * max_tau), max_shift)\n",
    "\n",
    "    cc = np.concatenate((cc[-max_shift:], cc[:max_shift+1]))\n",
    "\n",
    "    # find max cross correlation index\n",
    "    shift = np.argmax(np.abs(cc)) - max_shift\n",
    "\n",
    "    tau = np.float(shift / float(interp * fs))\n",
    "    \n",
    "    if(np.any(np.isnan(cc))): \n",
    "        tau = math.nan\n",
    "    \n",
    "    return tau, cc, R, SIG1, SIG2\n",
    "\n",
    "\n",
    "def width_cc(cc, threshold=0.5):\n",
    "    '''\n",
    "    Calculate the width between the first sample and the last sample that are above the thresold.\n",
    "    Threshold is precentage of the peak value\n",
    "    '''\n",
    "    cc_max = np.amax(cc)\n",
    "    peak_index = np.where(cc == cc_max)\n",
    "    mag_thr = threshold * cc_max\n",
    "    width = 0\n",
    "    for ii in range(len(cc)):\n",
    "        if cc[ii] > mag_thr:\n",
    "            width = width + 1\n",
    "    return width\n",
    "\n",
    "def significance(cc):\n",
    "    '''\n",
    "    Calculate the significance of each cross correlation sequence\n",
    "    '''\n",
    "    cc_mean = np.mean(cc)\n",
    "    cc_std = np.std(cc)\n",
    "    return (np.amax(cc) - cc_mean)/cc_std"
   ]
  },
  {
   "cell_type": "code",
   "execution_count": 24,
   "metadata": {},
   "outputs": [
    {
     "data": {
      "text/plain": [
       "(286, 2)"
      ]
     },
     "execution_count": 24,
     "metadata": {},
     "output_type": "execute_result"
    }
   ],
   "source": [
    "total_time = 286\n",
    "time = np.linspace(1,286,286)\n",
    "time.T.shape\n",
    "time = [time,time]\n",
    "np.shape(np.array(time).T)"
   ]
  },
  {
   "cell_type": "code",
   "execution_count": 50,
   "metadata": {},
   "outputs": [],
   "source": []
  },
  {
   "cell_type": "code",
   "execution_count": 52,
   "metadata": {},
   "outputs": [
    {
     "name": "stderr",
     "output_type": "stream",
     "text": [
      "C:\\Users\\lenovo\\Anaconda3\\lib\\site-packages\\ipykernel_launcher.py:26: RuntimeWarning: invalid value encountered in true_divide\n"
     ]
    }
   ],
   "source": [
    "# return the table \n",
    "Fs = 16000\n",
    "total_time = int(np.minimum(len(data1), len(data2))/Fs)\n",
    "window_len = 1 # how many seconds in a window\n",
    "l = Fs * window_len\n",
    "num_channel = 4\n",
    "time_vector = np.linspace(1,total_time, total_time)\n",
    "delay_vector = np.zeros(total_time)\n",
    "width_vector = np.zeros(total_time)\n",
    "significance_vector = np.zeros(total_time)\n",
    "table_pair = np.zeros([total_time, 4])\n",
    "table = np.zeros([num_channel, num_channel, total_time, 4])\n",
    "for channel1 in range(num_channel):\n",
    "    for channel2 in range(num_channel):\n",
    "        for ii in range(total_time):\n",
    "            sig1, sig2 = truncate(data2[:,channel1], data2[:,channel2])\n",
    "            sig1Temp, sig2Temp = sig1[ii * l:(ii + 1)* l], sig2[ii * l:(ii + 1)* l]\n",
    "            tau, cc, R, SIG1, SIG2 = gcc_phat(sig1Temp, sig2Temp, fs=16000)\n",
    "            width1 = width_cc(cc)\n",
    "            significance1 = significance(cc)\n",
    "            delay_vector[ii] = tau\n",
    "            width_vector[ii] = width1\n",
    "            significance_vector[ii] = significance1\n",
    "        table_pair = np.array([time_vector, delay_vector, width_vector, significance_vector]).T\n",
    "        table[channel1, channel2, :,:] = table_pair"
   ]
  },
  {
   "cell_type": "code",
   "execution_count": 58,
   "metadata": {},
   "outputs": [],
   "source": [
    "np.save('table.npy',table)"
   ]
  },
  {
   "cell_type": "code",
   "execution_count": 56,
   "metadata": {},
   "outputs": [
    {
     "data": {
      "text/plain": [
       "26.0"
      ]
     },
     "execution_count": 56,
     "metadata": {},
     "output_type": "execute_result"
    }
   ],
   "source": [
    "286/11"
   ]
  },
  {
   "cell_type": "code",
   "execution_count": null,
   "metadata": {},
   "outputs": [],
   "source": []
  }
 ],
 "metadata": {
  "kernelspec": {
   "display_name": "Python 3",
   "language": "python",
   "name": "python3"
  },
  "language_info": {
   "codemirror_mode": {
    "name": "ipython",
    "version": 3
   },
   "file_extension": ".py",
   "mimetype": "text/x-python",
   "name": "python",
   "nbconvert_exporter": "python",
   "pygments_lexer": "ipython3",
   "version": "3.8.0"
  }
 },
 "nbformat": 4,
 "nbformat_minor": 2
}
