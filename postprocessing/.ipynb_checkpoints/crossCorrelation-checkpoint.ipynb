{
 "cells": [
  {
   "cell_type": "code",
   "execution_count": 1,
   "metadata": {},
   "outputs": [],
   "source": [
    "import soundfile as sf\n",
    "data1,samplerate = sf.read('/Users/hyh/Desktop/Test Files/Postfiltered/postfiltered_2020-01-08_09_25_03_2.raw', \n",
    "               channels=4, \n",
    "               samplerate=16000,\n",
    "               subtype='PCM_16'\n",
    "              )\n",
    "data2,samplerate = sf.read('/Users/hyh/Desktop/Test Files/Postfiltered/postfiltered_2020-01-08_09_25_03_3.raw', \n",
    "               channels=4, \n",
    "               samplerate=16000,\n",
    "               subtype='PCM_16'\n",
    "              )"
   ]
  },
  {
   "cell_type": "code",
   "execution_count": 2,
   "metadata": {},
   "outputs": [],
   "source": [
    "# from scipy import signal\n",
    "# corr1 = signal.correlate(data1[:,0],data1[:,0],method='fft')/len(data1[:,0])"
   ]
  },
  {
   "cell_type": "code",
   "execution_count": 5,
   "metadata": {},
   "outputs": [
    {
     "data": {
      "image/png": "[encoded data removed]",
      "text/plain": [
       "<Figure size 432x288 with 1 Axes>"
      ]
     },
     "metadata": {
      "needs_background": "light"
     },
     "output_type": "display_data"
    }
   ],
   "source": [
    "# corr2 = signal.correlate(data1[:,0],data1[:,1],method='fft')/len(data1[:,0])\n",
    "# import matplotlib.pyplot as plt\n",
    "# plt.plot(corr1)\n",
    "# plt.show()"
   ]
  },
  {
   "cell_type": "code",
   "execution_count": 6,
   "metadata": {},
   "outputs": [],
   "source": [
    "# Truncate signal, based on the signal that has the shorter length\n",
    "def truncate(sig1, sig2):\n",
    "    l1, l2 = len(sig1), len(sig2)\n",
    "    if l1 <= l2:\n",
    "        return sig1, sig2[0:l1]\n",
    "    else:\n",
    "        return sig1[0:l2], sig2\n",
    "\n",
    "# PHAT Transfrorm \n",
    "def phatTransform(sig1, sig2, windowDuration, Fs, ):\n",
    "    # Fs: Sampling Frequency\n",
    "    # WindowDuration: the length of moving window in time (s)\n",
    "    l = windowDuration * Fs\n",
    "    N = len(sig1)\n",
    "    # Padding\n",
    "    if N%l != 0:\n",
    "        padWidth = l-N%l\n",
    "        sig1 = np.pad(sig1, (0, padWidth), 'constant', constant_values = 0)\n",
    "        sig2 = np.pad(sig2, (0, padWidth), 'constant', constant_values = 0)\n",
    "    numOfWindows = len(sig1)/l\n",
    "    for i in range(0,numOfWindows):\n",
    "        sig1Temp, sig2Temp = sig1[i*l:l*(i+1)], sig2[i*l:l*(i+1)]\n",
    "        Fsig1 = np.fft.fft(sig1Temp)\n",
    "        Fsig2 = np.fft.fft(sig2Temp)\n",
    "        # Normalize magnitude to 1\n",
    "        phat1 = np.exp(1j*np.angle(Fsig1))\n",
    "        phat2 = np.exp(1j*np.angle(Fsig2))\n",
    "        # Element wise multiplication\n",
    "        product = np.multiply(phat1, phat2)\n",
    "        # Inverse fourier transform\n",
    "        IFFT = np.abs(np.fft.ifft(product))\n",
    "        # Statistics\n",
    "        maxValue, argmax, mean, std = max(IFFT), np.argmax(IFFT), np.mean(IFFT), np.std(IFFT)\n",
    "        significance = (maxValue - mean) / std\n",
    "        normalized = (IFFT-mean)/std\n",
    "    "
   ]
  },
  {
   "cell_type": "code",
   "execution_count": 41,
   "metadata": {},
   "outputs": [
    {
     "name": "stderr",
     "output_type": "stream",
     "text": [
      "<ipython-input-41-2ccd60b5220c>:33: RuntimeWarning: divide by zero encountered in true_divide\n",
      "  weight = 1/np.abs(crossSpectrum)\n",
      "<ipython-input-41-2ccd60b5220c>:34: RuntimeWarning: invalid value encountered in multiply\n",
      "  Rxy = np.fft.ifft(np.multiply(weight,crossSpectrum))\n"
     ]
    }
   ],
   "source": [
    "import numpy as np\n",
    "from scipy import signal\n",
    "\n",
    "# Truncate signal, based on the signal that has the shorter length\n",
    "def truncate(sig1, sig2):\n",
    "    l1, l2 = len(sig1), len(sig2)\n",
    "    if l1 <= l2:\n",
    "        return sig1, sig2[0:l1]\n",
    "    else:\n",
    "        return sig1[0:l2], sig2\n",
    "    \n",
    "sig1, sig2 = truncate(data1[:,0], data1[:,0])\n",
    "\n",
    "windowDuration, Fs = 1, 16000\n",
    "# The number of samples in each window\n",
    "l = windowDuration * Fs\n",
    "N = len(sig1)\n",
    "# Padding\n",
    "if N%l != 0:\n",
    "    padWidth = l-N%l\n",
    "    sig1 = np.pad(sig1, (0, padWidth), 'constant', constant_values = 0)\n",
    "    sig2 = np.pad(sig2, (0, padWidth), 'constant', constant_values = 0)\n",
    "    \n",
    "numOfWindows = len(sig1)/l\n",
    "for i in range(100,101):\n",
    "    sig1Temp, sig2Temp = sig1[i*l:l*(i+1)], sig2[i*l:l*(i+1)]\n",
    "    [f,crossSpectrum] = signal.csd(sig1Temp, sig2Temp, \n",
    "                                   nperseg=l,                   \n",
    "                                   fs=16000.0, \n",
    "                                   window='hamming',\n",
    "                                   return_onesided=False, \n",
    "                                   scaling='spectrum')\n",
    "    weight = 1/np.abs(crossSpectrum)\n",
    "    Rxy = np.fft.ifft(np.multiply(weight,crossSpectrum))\n",
    "    \n",
    "    \n",
    "    \n",
    "#     Fsig1 = np.fft.fft(sig1Temp)\n",
    "#     Fsig2 = np.fft.fft(sig2Temp)\n",
    "    \n",
    "#     phat1 = np.exp(1j*np.angle(Fsig1))\n",
    "#     phat2 = np.exp(1j*np.angle(Fsig2))\n",
    "    \n",
    "    \n",
    "#     product = np.multiply(phat1, np.conj(phat2))\n",
    "#     result = np.abs(signal.correlate(phat1,phat2))\n",
    "#     IFFT = np.abs(np.fft.ifft(result))\n",
    "    \n",
    "# maxValue, argmax, mean, std = max(IFFT), np.argmax(IFFT), np.mean(IFFT), np.std(IFFT)\n",
    "# significance = (maxValue - mean) / std\n",
    "# normalized = (IFFT-mean)/std    "
   ]
  },
  {
   "cell_type": "code",
   "execution_count": 36,
   "metadata": {},
   "outputs": [
    {
     "data": {
      "text/plain": [
       "16000"
      ]
     },
     "execution_count": 36,
     "metadata": {},
     "output_type": "execute_result"
    }
   ],
   "source": [
    "len(Rxy)"
   ]
  },
  {
   "cell_type": "code",
   "execution_count": 58,
   "metadata": {},
   "outputs": [
    {
     "name": "stderr",
     "output_type": "stream",
     "text": [
      "<ipython-input-58-107e1d93a4f7>:8: RuntimeWarning: divide by zero encountered in true_divide\n",
      "  weight = 1/np.abs(crossSpectrum)\n",
      "<ipython-input-58-107e1d93a4f7>:9: RuntimeWarning: invalid value encountered in multiply\n",
      "  Rxy = np.fft.ifft(np.multiply(weight,crossSpectrum))\n"
     ]
    }
   ],
   "source": [
    "sig1Temp = (10**(-1))*np.ones(16000)\n",
    "[f,crossSpectrum] = signal.csd(sig1Temp, sig1Temp, \n",
    "                               nperseg=l,                   \n",
    "                               fs=16000.0, \n",
    "                               window='hamming',\n",
    "                               return_onesided=False, \n",
    "                               scaling='spectrum')\n",
    "weight = 1/np.abs(crossSpectrum)\n",
    "Rxy = np.fft.ifft(np.multiply(weight,crossSpectrum))"
   ]
  },
  {
   "cell_type": "code",
   "execution_count": 62,
   "metadata": {},
   "outputs": [
    {
     "data": {
      "text/plain": [
       "2000"
      ]
     },
     "execution_count": 62,
     "metadata": {},
     "output_type": "execute_result"
    }
   ],
   "source": [
    "np.argmin(crossSpectrum)"
   ]
  },
  {
   "cell_type": "code",
   "execution_count": 39,
   "metadata": {},
   "outputs": [
    {
     "data": {
      "text/plain": [
       "[<matplotlib.lines.Line2D at 0x135a542b0>]"
      ]
     },
     "execution_count": 39,
     "metadata": {},
     "output_type": "execute_result"
    },
    {
     "data": {
      "image/png": "[encoded data removed]",
      "text/plain": [
       "<Figure size 432x288 with 1 Axes>"
      ]
     },
     "metadata": {
      "needs_background": "light"
     },
     "output_type": "display_data"
    }
   ],
   "source": [
    "import matplotlib.pyplot as plt\n",
    "plt.plot(Rxy[100:2000])"
   ]
  },
  {
   "cell_type": "code",
   "execution_count": null,
   "metadata": {},
   "outputs": [],
   "source": []
  },
  {
   "cell_type": "code",
   "execution_count": null,
   "metadata": {},
   "outputs": [],
   "source": []
  },
  {
   "cell_type": "code",
   "execution_count": null,
   "metadata": {},
   "outputs": [],
   "source": []
  }
 ],
 "metadata": {
  "kernelspec": {
   "display_name": "Python 3",
   "language": "python",
   "name": "python3"
  },
  "language_info": {
   "codemirror_mode": {
    "name": "ipython",
    "version": 3
   },
   "file_extension": ".py",
   "mimetype": "text/x-python",
   "name": "python",
   "nbconvert_exporter": "python",
   "pygments_lexer": "ipython3",
   "version": "3.8.0"
  }
 },
 "nbformat": 4,
 "nbformat_minor": 2
}
