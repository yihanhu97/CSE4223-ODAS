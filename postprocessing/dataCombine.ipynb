{
 "cells": [
  {
   "cell_type": "markdown",
   "metadata": {},
   "source": [
    "## <center> Data Combining Outline </center>\n",
    "This outline is created to help put together all functions/scripts that were written to populate the final data frame. I will outline the general logic and each necessary step, as well as create some skeleton code to get started. The ultimate goal is to make the combining file run on machine without supervisino. The outline be updated everytime after each meeting. **Please check out your own branch and work separately**.  \n",
    "\n",
    "**Note**: the following discussion will be broken down into two parts. Multi sources in long period (MS+LP) and single source in short period (SS+SP). To simplify the problem for now, the main discussion will focus on SS+SP, which will be gradually extended to MS+LP.   \n",
    "\n",
    "======================================================================================================================\n",
    "### General Steps:\n",
    "- [ ]  Sound source matching\n",
    "- [ ]  Timestamp matching\n",
    "- [ ]  Delay and significance calculation\n",
    "- [ ]  Extract coordinates\n",
    "- [ ]  Populate dataframe\n",
    "\n",
    "======================================================================================================================\n",
    "### Current Goal:\n",
    "Formulate data frame for 1 min recording from 1:05 pm - 1:15pm, on March 25th. Single stationary source.\n",
    "\n",
    "======================================================================================================================"
   ]
  },
  {
   "cell_type": "markdown",
   "metadata": {},
   "source": [
    "#### Sound Source Matching\n",
    "\n",
    "The biggest challenge for data combining is sound source matching. Each array has 4 beams/channels, with each channel corresponding to a different sound source. ODAS library is able to track and separate up to 4 different sources at the same time. Currently, we have seen two main problems: cross talk between channels within an array and reflection. The first problem happens when one sound source appears in multiple channels as a result of long silence or ODAS sound source tracking (SST) algorithm failure. The second problem happens when the sound source is too close to a smooth surface and ODAS is picking up sound from direct path and reflection path, and therefore two channels have the same sound. \n",
    "\n",
    "Since each recording raw file is approximatly 5 mins long, there is a high chance that each channel within an array corresponds to more than one sound source. Calculating cross corrleation pairs over the entire 5 mins recording for sound source matching (SSM) will not be reliable. Therefore, to adapt to the volatile nature of ODAS SST algorithm, we will implement local SSM, using windowing method with no overlap. \n",
    "\n",
    "**MS+LP**: For 1 min recording starting at 1:05pm, given a window length of 1s and 4 arrays (16 channels). The number of cross correlation calculation is 60s/1s * (16 pick 2).\n",
    "\n",
    "**SS+SP**: Assume only one stationary source is present and no reflection paths are recorded. Then each array should only have one valid channel corresponding to that source. Thus for 1 min recording starting at 1:05pm, given a window length of 1s and 4 arrays (4 valid channels). The number of necessary cross correlation calculation is 60s/1s * (4 pick 2).\n",
    "\n",
    "**Challenge**:"
   ]
  },
  {
   "cell_type": "code",
   "execution_count": 1,
   "metadata": {},
   "outputs": [],
   "source": [
    "import pandas as pd\n",
    "import glob as glob\n",
    "import copy "
   ]
  },
  {
   "cell_type": "code",
   "execution_count": 18,
   "metadata": {},
   "outputs": [],
   "source": [
    "def source_matching(path, number, curDay):\n",
    "    df = pd.read_csv(path)\n",
    "    master_list = []\n",
    "    start_time = df['Time In Seconds'].iloc[0]\n",
    "    split = start_time + 0.008\n",
    "    end_time = df['Time In Seconds'].iloc[-1]\n",
    "    temp = df.iloc[0]\n",
    "    temp['X'] = None\n",
    "    temp['Y'] = None\n",
    "    temp['Z'] = None\n",
    "    temp['Microphone Number'] = None\n",
    "    array_0 = temp \n",
    "    array_1 = temp\n",
    "    array_2 = temp\n",
    "    array_3 = temp\n",
    "    counter = 0\n",
    "    #Assuming only 1 channel for each array\n",
    "    for row in df.iterrows():\n",
    "        if row[1]['Time In Seconds'] > split:\n",
    "            dic = {}\n",
    "            dic['0'] = array_0['X']\n",
    "            dic['1'] = array_0['Y']\n",
    "            dic['2'] = array_0['Z']\n",
    "            dic['3'] = array_1['X']\n",
    "            dic['4'] = array_1['Y']\n",
    "            dic['5'] = array_1['Z']\n",
    "            dic['6'] = array_2['X']\n",
    "            dic['7'] = array_2['Y']\n",
    "            dic['8'] = array_2['Z']\n",
    "            dic['9'] = array_3['X']\n",
    "            dic['10'] = array_3['Y']\n",
    "            dic['11'] = array_3['Z']\n",
    "            \n",
    "            if dic['0'] != None  or dic['3'] != None or  dic['6'] != None or dic['9'] != None:\n",
    "                master_list.append(dic)\n",
    "\n",
    "            split = row[1]['Time In Seconds'] + 0.008\n",
    "\n",
    "            filler = copy.copy(row[1])\n",
    "            filler['X'] = None\n",
    "            filler['Y'] = None\n",
    "            filler['Z'] = None\n",
    "            array_0 = filler\n",
    "            array_1 = filler\n",
    "            array_2 = filler\n",
    "            array_3 = filler\n",
    "\n",
    "            if len(master_list) >= 500000:\n",
    "                output = pd.DataFrame(master_list)\n",
    "                print(counter)\n",
    "                output.to_csv(path_or_buf= \"/Users/brian_wangst/Desktop/mlr/data/Fridays/origdata/Ardel/\" + curDay + \"hour \" + str(number)+ \" \" + str(counter) + \".csv\" )      \n",
    "                master_list = []\n",
    "                counter = counter + 1\n",
    "                \n",
    "        if row[1]['Microphone Number'] == 0:\n",
    "            array_0 = row[1]\n",
    "            \n",
    "        elif row[1]['Microphone Number'] == 1:\n",
    "            array_1 = row[1]\n",
    "            \n",
    "        elif row[1]['Microphone Number'] == 2:\n",
    "            array_2 = row[1]\n",
    "\n",
    "        else:\n",
    "            array_3 = row[1]\n",
    "\n",
    "                \n",
    "    output = pd.DataFrame(master_list)\n",
    "    #output.to_csv(path_or_buf= \"/Users/brian_wangst/Desktop/mlr/data/\" + path[path.find(\"data/\") + 5:path.find(\"hour\") - 1] + \"_\" + str(counter) + \".csv\")\n",
    "    output.to_csv(path_or_buf= \"/Users/brian_wangst/Desktop/mlr/data/Fridays/origdata/Ardel/\" + curDay + \"hour \" + str(number)+ \" \" + str(counter) + \".csv\" )      \n",
    "\n",
    "    master_list = []\n"
   ]
  },
  {
   "cell_type": "code",
   "execution_count": 19,
   "metadata": {},
   "outputs": [
    {
     "name": "stdout",
     "output_type": "stream",
     "text": [
      "/Users/brian_wangst/Desktop/mlr/data/Fridays/September 13, 2019 05:55:33hour0.csv\n",
      "Switching Days\n"
     ]
    },
    {
     "name": "stderr",
     "output_type": "stream",
     "text": [
      "/opt/anaconda3/lib/python3.7/site-packages/ipykernel_launcher.py:8: SettingWithCopyWarning: \n",
      "A value is trying to be set on a copy of a slice from a DataFrame\n",
      "\n",
      "See the caveats in the documentation: http://pandas.pydata.org/pandas-docs/stable/user_guide/indexing.html#returning-a-view-versus-a-copy\n",
      "  \n",
      "/opt/anaconda3/lib/python3.7/site-packages/ipykernel_launcher.py:9: SettingWithCopyWarning: \n",
      "A value is trying to be set on a copy of a slice from a DataFrame\n",
      "\n",
      "See the caveats in the documentation: http://pandas.pydata.org/pandas-docs/stable/user_guide/indexing.html#returning-a-view-versus-a-copy\n",
      "  if __name__ == '__main__':\n",
      "/opt/anaconda3/lib/python3.7/site-packages/ipykernel_launcher.py:10: SettingWithCopyWarning: \n",
      "A value is trying to be set on a copy of a slice from a DataFrame\n",
      "\n",
      "See the caveats in the documentation: http://pandas.pydata.org/pandas-docs/stable/user_guide/indexing.html#returning-a-view-versus-a-copy\n",
      "  # Remove the CWD from sys.path while we load stuff.\n",
      "/opt/anaconda3/lib/python3.7/site-packages/ipykernel_launcher.py:11: SettingWithCopyWarning: \n",
      "A value is trying to be set on a copy of a slice from a DataFrame\n",
      "\n",
      "See the caveats in the documentation: http://pandas.pydata.org/pandas-docs/stable/user_guide/indexing.html#returning-a-view-versus-a-copy\n",
      "  # This is added back by InteractiveShellApp.init_path()\n"
     ]
    },
    {
     "name": "stdout",
     "output_type": "stream",
     "text": [
      "/Users/brian_wangst/Desktop/mlr/data/Fridays/September 13, 2019 07:23:07hour1.csv\n",
      "/Users/brian_wangst/Desktop/mlr/data/Fridays/September 13, 2019 08:24:46hour2.csv\n",
      "/Users/brian_wangst/Desktop/mlr/data/Fridays/September 13, 2019 09:36:43hour3.csv\n",
      "/Users/brian_wangst/Desktop/mlr/data/Fridays/September 13, 2019 10:37:35hour4.csv\n",
      "/Users/brian_wangst/Desktop/mlr/data/Fridays/September 13, 2019 11:37:35hour5.csv\n",
      "/Users/brian_wangst/Desktop/mlr/data/Fridays/September 13, 2019 12:38:15hour6.csv\n",
      "/Users/brian_wangst/Desktop/mlr/data/Fridays/September 27, 2019 12:01:02hour0.csv\n",
      "Switching Days\n",
      "/Users/brian_wangst/Desktop/mlr/data/Fridays/September 27, 2019 01:01:02hour1.csv\n",
      "/Users/brian_wangst/Desktop/mlr/data/Fridays/September 27, 2019 02:01:57hour2.csv\n",
      "/Users/brian_wangst/Desktop/mlr/data/Fridays/September 27, 2019 03:01:57hour3.csv\n",
      "/Users/brian_wangst/Desktop/mlr/data/Fridays/September 27, 2019 04:01:57hour4.csv\n",
      "/Users/brian_wangst/Desktop/mlr/data/Fridays/September 27, 2019 05:02:34hour5.csv\n",
      "/Users/brian_wangst/Desktop/mlr/data/Fridays/September 27, 2019 06:13:51hour6.csv\n",
      "/Users/brian_wangst/Desktop/mlr/data/Fridays/September 27, 2019 08:59:48hour7.csv\n",
      "/Users/brian_wangst/Desktop/mlr/data/Fridays/September 27, 2019 11:10:53hour8.csv\n",
      "/Users/brian_wangst/Desktop/mlr/data/Fridays/September 27, 2019 03:07:59hour9.csv\n",
      "/Users/brian_wangst/Desktop/mlr/data/Fridays/September 27, 2019 06:46:29hour10.csv\n",
      "/Users/brian_wangst/Desktop/mlr/data/Fridays/September 27, 2019 07:50:51hour11.csv\n",
      "/Users/brian_wangst/Desktop/mlr/data/Fridays/September 27, 2019 08:53:55hour12.csv\n",
      "/Users/brian_wangst/Desktop/mlr/data/Fridays/September 27, 2019 09:53:55hour13.csv\n",
      "/Users/brian_wangst/Desktop/mlr/data/Fridays/October 18, 2019 12:00:38hour0.csv\n",
      "Switching Days\n",
      "/Users/brian_wangst/Desktop/mlr/data/Fridays/October 18, 2019 01:03:41hour1.csv\n",
      "/Users/brian_wangst/Desktop/mlr/data/Fridays/October 18, 2019 02:03:41hour2.csv\n",
      "/Users/brian_wangst/Desktop/mlr/data/Fridays/October 18, 2019 03:13:01hour3.csv\n",
      "/Users/brian_wangst/Desktop/mlr/data/Fridays/October 18, 2019 04:29:44hour4.csv\n",
      "/Users/brian_wangst/Desktop/mlr/data/Fridays/October 18, 2019 07:29:46hour5.csv\n",
      "/Users/brian_wangst/Desktop/mlr/data/Fridays/October 18, 2019 08:29:46hour6.csv\n",
      "/Users/brian_wangst/Desktop/mlr/data/Fridays/October 18, 2019 10:27:44hour7.csv\n",
      "/Users/brian_wangst/Desktop/mlr/data/Fridays/October 18, 2019 12:05:13hour8.csv\n",
      "/Users/brian_wangst/Desktop/mlr/data/Fridays/October 18, 2019 01:36:21hour9.csv\n",
      "/Users/brian_wangst/Desktop/mlr/data/Fridays/October 18, 2019 02:40:40hour10.csv\n",
      "/Users/brian_wangst/Desktop/mlr/data/Fridays/October 18, 2019 04:15:04hour11.csv\n",
      "/Users/brian_wangst/Desktop/mlr/data/Fridays/October 18, 2019 05:47:44hour12.csv\n",
      "/Users/brian_wangst/Desktop/mlr/data/Fridays/October 18, 2019 06:51:12hour13.csv\n",
      "/Users/brian_wangst/Desktop/mlr/data/Fridays/October 18, 2019 07:51:12hour14.csv\n",
      "/Users/brian_wangst/Desktop/mlr/data/Fridays/October 18, 2019 08:51:57hour15.csv\n",
      "/Users/brian_wangst/Desktop/mlr/data/Fridays/November 22, 2019 02:25:19hour0.csv\n",
      "Switching Days\n",
      "/Users/brian_wangst/Desktop/mlr/data/Fridays/November 22, 2019 03:27:34hour1.csv\n"
     ]
    }
   ],
   "source": [
    "fridays = [\"/Users/brian_wangst/Desktop/mlr/data/Fridays/September 13, 2019 05:55:33hour0.csv\",\"/Users/brian_wangst/Desktop/mlr/data/Fridays/September 13, 2019 07:23:07hour1.csv\", \"/Users/brian_wangst/Desktop/mlr/data/Fridays/September 13, 2019 08:24:46hour2.csv\", \"/Users/brian_wangst/Desktop/mlr/data/Fridays/September 13, 2019 09:36:43hour3.csv\", \"/Users/brian_wangst/Desktop/mlr/data/Fridays/September 13, 2019 10:37:35hour4.csv\", \"/Users/brian_wangst/Desktop/mlr/data/Fridays/September 13, 2019 11:37:35hour5.csv\", \"/Users/brian_wangst/Desktop/mlr/data/Fridays/September 13, 2019 12:38:15hour6.csv\", \"/Users/brian_wangst/Desktop/mlr/data/Fridays/September 27, 2019 12:01:02hour0.csv\",\"/Users/brian_wangst/Desktop/mlr/data/Fridays/September 27, 2019 01:01:02hour1.csv\",\"/Users/brian_wangst/Desktop/mlr/data/Fridays/September 27, 2019 02:01:57hour2.csv\",\"/Users/brian_wangst/Desktop/mlr/data/Fridays/September 27, 2019 03:01:57hour3.csv\",\"/Users/brian_wangst/Desktop/mlr/data/Fridays/September 27, 2019 04:01:57hour4.csv\",\"/Users/brian_wangst/Desktop/mlr/data/Fridays/September 27, 2019 05:02:34hour5.csv\",\"/Users/brian_wangst/Desktop/mlr/data/Fridays/September 27, 2019 06:13:51hour6.csv\",\"/Users/brian_wangst/Desktop/mlr/data/Fridays/September 27, 2019 08:59:48hour7.csv\",\"/Users/brian_wangst/Desktop/mlr/data/Fridays/September 27, 2019 11:10:53hour8.csv\",\"/Users/brian_wangst/Desktop/mlr/data/Fridays/September 27, 2019 03:07:59hour9.csv\",\"/Users/brian_wangst/Desktop/mlr/data/Fridays/September 27, 2019 06:46:29hour10.csv\",\"/Users/brian_wangst/Desktop/mlr/data/Fridays/September 27, 2019 07:50:51hour11.csv\",\"/Users/brian_wangst/Desktop/mlr/data/Fridays/September 27, 2019 08:53:55hour12.csv\",\"/Users/brian_wangst/Desktop/mlr/data/Fridays/September 27, 2019 09:53:55hour13.csv\",\"/Users/brian_wangst/Desktop/mlr/data/Fridays/October 18, 2019 12:00:38hour0.csv\",\"/Users/brian_wangst/Desktop/mlr/data/Fridays/October 18, 2019 01:03:41hour1.csv\",\"/Users/brian_wangst/Desktop/mlr/data/Fridays/October 18, 2019 02:03:41hour2.csv\",\"/Users/brian_wangst/Desktop/mlr/data/Fridays/October 18, 2019 03:13:01hour3.csv\",\"/Users/brian_wangst/Desktop/mlr/data/Fridays/October 18, 2019 04:29:44hour4.csv\",\"/Users/brian_wangst/Desktop/mlr/data/Fridays/October 18, 2019 07:29:46hour5.csv\",\"/Users/brian_wangst/Desktop/mlr/data/Fridays/October 18, 2019 08:29:46hour6.csv\",\"/Users/brian_wangst/Desktop/mlr/data/Fridays/October 18, 2019 10:27:44hour7.csv\",\"/Users/brian_wangst/Desktop/mlr/data/Fridays/October 18, 2019 12:05:13hour8.csv\",\"/Users/brian_wangst/Desktop/mlr/data/Fridays/October 18, 2019 01:36:21hour9.csv\",\"/Users/brian_wangst/Desktop/mlr/data/Fridays/October 18, 2019 02:40:40hour10.csv\",\"/Users/brian_wangst/Desktop/mlr/data/Fridays/October 18, 2019 04:15:04hour11.csv\",\"/Users/brian_wangst/Desktop/mlr/data/Fridays/October 18, 2019 05:47:44hour12.csv\",\"/Users/brian_wangst/Desktop/mlr/data/Fridays/October 18, 2019 06:51:12hour13.csv\", \"/Users/brian_wangst/Desktop/mlr/data/Fridays/October 18, 2019 07:51:12hour14.csv\", \"/Users/brian_wangst/Desktop/mlr/data/Fridays/October 18, 2019 08:51:57hour15.csv\", \"/Users/brian_wangst/Desktop/mlr/data/Fridays/November 22, 2019 02:25:19hour0.csv\", \"/Users/brian_wangst/Desktop/mlr/data/Fridays/November 22, 2019 03:27:34hour1.csv\"]\n",
    "counter = 0\n",
    "curDay = \"\"\n",
    "lastDay = \"garbage\"\n",
    "for day in fridays:\n",
    "    curDay = day[day.find(\"Fridays/\") + 8: day.find(\":\") - 2]\n",
    "    print(day)\n",
    "    if lastDay not in curDay:\n",
    "        print(\"Switching Days\")\n",
    "        counter = 0\n",
    "        lastDay = curDay\n",
    "        source_matching(day, counter, day[day.find(\"Fridays/\") + 8: day.find(\":\") - 2])\n",
    "    else:\n",
    "        counter = counter + 1\n",
    "        source_matching(day, counter, day[day.find(\"Fridays/\") + 8: day.find(\":\") - 2])\n",
    "\n",
    "\n",
    "# source_matching(\"/Users/brian_wangst/Desktop/mlr/dataJanuary 08, 2020 11:54:14hour3.csv\")"
   ]
  },
  {
   "cell_type": "markdown",
   "metadata": {},
   "source": [
    "#### Timestamp Matching"
   ]
  },
  {
   "cell_type": "code",
   "execution_count": null,
   "metadata": {},
   "outputs": [],
   "source": [
    "fridays = [\"/Users/brian_wangst/Desktop/mlr/data/Fridays/September 13, 2019 05:55:33hour0.csv\",\"/Users/brian_wangst/Desktop/mlr/data/Fridays/September 13, 2019 07:23:07hour1.csv\", \"/Users/brian_wangst/Desktop/mlr/data/Fridays/September 13, 2019 08:24:46hour2.csv\", \"/Users/brian_wangst/Desktop/mlr/data/Fridays/September 13, 2019 09:36:43hour3.csv\", \"/Users/brian_wangst/Desktop/mlr/data/Fridays/September 13, 2019 10:37:35hour4.csv\", \"/Users/brian_wangst/Desktop/mlr/data/Fridays/September 13, 2019 11:37:35hour5.csv\", \"/Users/brian_wangst/Desktop/mlr/data/Fridays/September 13, 2019 12:38:15hour6.csv\", \"/Users/brian_wangst/Desktop/mlr/data/Fridays/September 27, 2019 12:01:02hour0.csv\",\"/Users/brian_wangst/Desktop/mlr/data/Fridays/September 27, 2019 01:01:02hour1.csv\",\"/Users/brian_wangst/Desktop/mlr/data/Fridays/September 27, 2019 02:01:57hour2.csv\",\"/Users/brian_wangst/Desktop/mlr/data/Fridays/September 27, 2019 03:01:57hour3.csv\",\"/Users/brian_wangst/Desktop/mlr/data/Fridays/September 27, 2019 04:01:57hour4.csv\",\"/Users/brian_wangst/Desktop/mlr/data/Fridays/September 27, 2019 05:02:34hour5.csv\",\"/Users/brian_wangst/Desktop/mlr/data/Fridays/September 27, 2019 06:13:51hour6.csv\",\"/Users/brian_wangst/Desktop/mlr/data/Fridays/September 27, 2019 08:59:48hour7.csv\",\"/Users/brian_wangst/Desktop/mlr/data/Fridays/September 27, 2019 11:10:53hour8.csv\",\"/Users/brian_wangst/Desktop/mlr/data/Fridays/September 27, 2019 03:07:59hour9.csv\",\"/Users/brian_wangst/Desktop/mlr/data/Fridays/September 27, 2019 06:46:29hour10.csv\",\"/Users/brian_wangst/Desktop/mlr/data/Fridays/September 27, 2019 07:50:51hour11.csv\",\"/Users/brian_wangst/Desktop/mlr/data/Fridays/September 27, 2019 08:53:55hour12.csv\",\"/Users/brian_wangst/Desktop/mlr/data/Fridays/September 27, 2019 09:53:55hour13.csv\",\"/Users/brian_wangst/Desktop/mlr/data/Fridays/October 18, 2019 12:00:38hour0.csv\",\"/Users/brian_wangst/Desktop/mlr/data/Fridays/October 18, 2019 01:03:41hour1.csv\",\"/Users/brian_wangst/Desktop/mlr/data/Fridays/October 18, 2019 02:03:41hour2.csv\",\"/Users/brian_wangst/Desktop/mlr/data/Fridays/October 18, 2019 03:13:01hour3.csv\",\"/Users/brian_wangst/Desktop/mlr/data/Fridays/October 18, 2019 04:29:44hour4.csv\",\"/Users/brian_wangst/Desktop/mlr/data/Fridays/October 18, 2019 07:29:46hour5.csv\",\"/Users/brian_wangst/Desktop/mlr/data/Fridays/October 18, 2019 08:29:46hour6.csv\",\"/Users/brian_wangst/Desktop/mlr/data/Fridays/October 18, 2019 10:27:44hour7.csv\",\"/Users/brian_wangst/Desktop/mlr/data/Fridays/October 18, 2019 12:05:13hour8.csv\",\"/Users/brian_wangst/Desktop/mlr/data/Fridays/October 18, 2019 01:36:21hour9.csv\",\"/Users/brian_wangst/Desktop/mlr/data/Fridays/October 18, 2019 02:40:40hour10.csv\",\"/Users/brian_wangst/Desktop/mlr/data/Fridays/October 18, 2019 04:15:04hour11.csv\",\"/Users/brian_wangst/Desktop/mlr/data/Fridays/October 18, 2019 05:47:44hour12.csv\",\"/Users/brian_wangst/Desktop/mlr/data/Fridays/October 18, 2019 06:51:12hour13.csv\", \"/Users/brian_wangst/Desktop/mlr/data/Fridays/October 18, 2019 07:51:12hour14.csv\", \"/Users/brian_wangst/Desktop/mlr/data/Fridays/October 18, 2019 08:51:57hour15.csv\", \"/Users/brian_wangst/Desktop/mlr/data/Fridays/November 22, 2019 02:25:19hour0.csv\", \"/Users/brian_wangst/Desktop/mlr/data/Fridays/November 22, 2019 03:27:34hour1.csv\"]\n",
    "\n"
   ]
  },
  {
   "cell_type": "code",
   "execution_count": null,
   "metadata": {},
   "outputs": [],
   "source": []
  }
 ],
 "metadata": {
  "kernelspec": {
   "display_name": "Python 3",
   "language": "python",
   "name": "python3"
  },
  "language_info": {
   "codemirror_mode": {
    "name": "ipython",
    "version": 3
   },
   "file_extension": ".py",
   "mimetype": "text/x-python",
   "name": "python",
   "nbconvert_exporter": "python",
   "pygments_lexer": "ipython3",
   "version": "3.7.4"
  }
 },
 "nbformat": 4,
 "nbformat_minor": 2
}
