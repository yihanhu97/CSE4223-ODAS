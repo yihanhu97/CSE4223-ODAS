{
 "cells": [
  {
   "cell_type": "code",
   "execution_count": null,
   "metadata": {},
   "outputs": [],
   "source": [
    "#input: .raw files\n",
    "#output: audio clip from beginning of sound to when sound ends\n",
    "\n",
    "#audioSlice(.raw file)\n",
    "\n",
    "    #create new raw fil copying old raw file\n",
    "    #parse file to determine when sound begins\n",
    "    #cut out time of new raw file for time to begin\n",
    "    #parse file to determine when audio ends\n",
    "    #cut out last part of new raw file\n",
    "    \n",
    "    #play new raw file"
   ]
  }
 ],
 "metadata": {
  "kernelspec": {
   "display_name": "Python 3",
   "language": "python",
   "name": "python3"
  },
  "language_info": {
   "codemirror_mode": {
    "name": "ipython",
    "version": 3
   },
   "file_extension": ".py",
   "mimetype": "text/x-python",
   "name": "python",
   "nbconvert_exporter": "python",
   "pygments_lexer": "ipython3",
   "version": "3.7.0"
  }
 },
 "nbformat": 4,
 "nbformat_minor": 2
}
