{
 "cells": [
  {
   "cell_type": "markdown",
   "metadata": {},
   "source": [
    "# K Clustering Analysis on Combined Arrays"
   ]
  },
  {
   "cell_type": "markdown",
   "metadata": {},
   "source": [
    "We will perform a K Cluster analysis on the combined data. First we apply principle component analysis (PCA) on the data to reduce the data from 12 dimensions to 2, to visualize the 2 dimensional floor mapping. For now, we will assume there is a single source producing data points."
   ]
  },
  {
   "cell_type": "markdown",
   "metadata": {},
   "source": [
    "## Imports"
   ]
  },
  {
   "cell_type": "code",
   "execution_count": 90,
   "metadata": {},
   "outputs": [],
   "source": [
    "import pandas as pd\n",
    "import numpy as np\n",
    "from sklearn import decomposition\n",
    "from matplotlib import pyplot as plt\n",
    "from sklearn.cluster import KMeans"
   ]
  },
  {
   "cell_type": "markdown",
   "metadata": {},
   "source": [
    "## clean_data\n",
    "clean_data takes the path to the combined data file as a string. It parses .csv file and organizes it into a 12 dimension numpy array. clean_data makes the assumption that there is a single source. Dimensions 0-2 are array 0's xyz values.<br>Dimensions 3-5 are array 1's xyz values. <br>Dimensions 6-8 are array 2's xyz values. <br>Dimensions 9-11 are array 3's xyz values."
   ]
  },
  {
   "cell_type": "code",
   "execution_count": 81,
   "metadata": {},
   "outputs": [],
   "source": [
    "def clean_data(path):\n",
    "    data = pd.read_csv(path)\n",
    "    \n",
    "    combined = np.empty([(int)(len(data)/6), 12])\n",
    "    \n",
    "    #assuming there in only 1 source\n",
    "    data_index = 0\n",
    "    combined_index = 0\n",
    "    \n",
    "    while(data_index + 5 <= len(data)):\n",
    "\n",
    "        f0 = (float)(data.iloc[data_index]['xyz 1'][1:data.iloc[data_index]['xyz 1'].find(',')])\n",
    "        f1 = (float)(data.iloc[data_index]['xyz 1'][data.iloc[data_index]['xyz 1'].find(' ') + 1:data.iloc[data_index]['xyz 1'].rfind(',')])\n",
    "        f2 = (float)(data.iloc[data_index]['xyz 1'][data.iloc[data_index]['xyz 1'].rfind(' ') + 1:data.iloc[data_index]['xyz 1'].find(']')])\n",
    "        f3 = (float)(data.iloc[data_index]['xyz 2'][1:data.iloc[data_index]['xyz 2'].find(',')])\n",
    "        f4 = (float)(data.iloc[data_index]['xyz 2'][data.iloc[data_index]['xyz 2'].find(' ') + 1:data.iloc[data_index]['xyz 2'].rfind(',')])\n",
    "        f5 = (float)(data.iloc[data_index]['xyz 2'][data.iloc[data_index]['xyz 2'].rfind(' ') + 1:data.iloc[data_index]['xyz 2'].find(']')])     \n",
    "        f6 = (float)(data.iloc[data_index + 5]['xyz 1'][1:data.iloc[data_index + 5]['xyz 1'].find(',')])\n",
    "        f7 = (float)(data.iloc[data_index + 5]['xyz 1'][data.iloc[data_index + 5]['xyz 1'].find(' ') + 1:data.iloc[data_index + 5]['xyz 1'].rfind(',')])\n",
    "        f8 = (float)(data.iloc[data_index + 5]['xyz 1'][data.iloc[data_index + 5]['xyz 1'].rfind(' ') + 1:data.iloc[data_index + 5]['xyz 1'].find(']')])\n",
    "        f9 = (float)(data.iloc[data_index + 5]['xyz 2'][1:data.iloc[data_index + 5]['xyz 2'].find(',')])\n",
    "        f10 = (float)(data.iloc[data_index + 5]['xyz 2'][data.iloc[data_index + 5]['xyz 2'].find(' ') + 1:data.iloc[data_index + 5]['xyz 2'].rfind(',')])\n",
    "        f11 = (float)(data.iloc[data_index + 5]['xyz 2'][data.iloc[data_index + 5]['xyz 2'].rfind(' ') + 1:data.iloc[data_index + 5]['xyz 2'].find(']')])\n",
    "        \n",
    "        combined[combined_index] = [f0, f1, f2, f3, f4, f5, f6, f7, f8, f9, f10, f11]\n",
    "        \n",
    "        combined_index += 1\n",
    "        data_index += 6\n",
    "        \n",
    "    return combined"
   ]
  },
  {
   "cell_type": "code",
   "execution_count": 101,
   "metadata": {},
   "outputs": [],
   "source": [
    "data = clean_data('/Users/ardelalegre/CSE4223-ODAS/data/combined/recordingWednesday, March 25, 2020 01:05:3_0.csv')\n",
    "data = np.append(data, clean_data('/Users/ardelalegre/CSE4223-ODAS/data/combined/recordingWednesday, March 25, 2020 01:05:3_0.csv'), axis=0)"
   ]
  },
  {
   "cell_type": "code",
   "execution_count": 102,
   "metadata": {},
   "outputs": [
    {
     "data": {
      "text/plain": [
       "(16668, 12)"
      ]
     },
     "execution_count": 102,
     "metadata": {},
     "output_type": "execute_result"
    }
   ],
   "source": [
    "data.shape"
   ]
  },
  {
   "cell_type": "markdown",
   "metadata": {},
   "source": [
    "## PCA Transform"
   ]
  },
  {
   "cell_type": "code",
   "execution_count": 103,
   "metadata": {},
   "outputs": [],
   "source": [
    "pca = decomposition.PCA(n_components=2)\n",
    "pca.fit(data)\n",
    "data_2D = pca.fit_transform(data) "
   ]
  },
  {
   "cell_type": "markdown",
   "metadata": {},
   "source": [
    "## K Cluster Analysis"
   ]
  },
  {
   "cell_type": "code",
   "execution_count": 104,
   "metadata": {},
   "outputs": [
    {
     "data": {
      "image/png": "[encoded data removed]",
      "text/plain": [
       "<Figure size 432x288 with 1 Axes>"
      ]
     },
     "metadata": {
      "needs_background": "light"
     },
     "output_type": "display_data"
    }
   ],
   "source": [
    "wcss = []\n",
    "for i in range(1, 11):\n",
    "    kmeans = KMeans(n_clusters=i, init='k-means++', max_iter=300, n_init=10, random_state=0)\n",
    "    kmeans.fit(data_2D)\n",
    "    wcss.append(kmeans.inertia_)\n",
    "plt.plot(range(1, 11), wcss)\n",
    "plt.title('Elbow Method')\n",
    "plt.xlabel('Number of clusters')\n",
    "plt.ylabel('WCSS')\n",
    "plt.show()"
   ]
  },
  {
   "cell_type": "code",
   "execution_count": 105,
   "metadata": {},
   "outputs": [
    {
     "data": {
      "image/png": "[encoded data removed]",
      "text/plain": [
       "<Figure size 432x288 with 1 Axes>"
      ]
     },
     "metadata": {
      "needs_background": "light"
     },
     "output_type": "display_data"
    }
   ],
   "source": [
    "kmeans = KMeans(n_clusters=6, init='k-means++', max_iter=300, n_init=10, random_state=0)\n",
    "pred_y = kmeans.fit_predict(data_2D)\n",
    "plt.scatter(data_2D[:,0], data_2D[:,1])\n",
    "plt.scatter(kmeans.cluster_centers_[:, 0], kmeans.cluster_centers_[:, 1], s=300, c='red')\n",
    "plt.show()"
   ]
  },
  {
   "cell_type": "code",
   "execution_count": null,
   "metadata": {},
   "outputs": [],
   "source": []
  }
 ],
 "metadata": {
  "kernelspec": {
   "display_name": "Python 3",
   "language": "python",
   "name": "python3"
  },
  "language_info": {
   "codemirror_mode": {
    "name": "ipython",
    "version": 3
   },
   "file_extension": ".py",
   "mimetype": "text/x-python",
   "name": "python",
   "nbconvert_exporter": "python",
   "pygments_lexer": "ipython3",
   "version": "3.7.6"
  }
 },
 "nbformat": 4,
 "nbformat_minor": 4
}
