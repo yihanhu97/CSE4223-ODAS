{
 "cells": [
  {
   "cell_type": "markdown",
   "metadata": {},
   "source": [
    "# K Clustering Analysis on Combined Arrays"
   ]
  },
  {
   "cell_type": "markdown",
   "metadata": {},
   "source": [
    "We will perform a K Cluster analysis on the combined data. First we apply principle component analysis (PCA) on the data to reduce the data from 12 dimensions to 2, to visualize the 2 dimensional floor mapping. For now, we will assume there is a single source producing data points."
   ]
  },
  {
   "cell_type": "markdown",
   "metadata": {},
   "source": [
    "## Imports"
   ]
  },
  {
   "cell_type": "code",
   "execution_count": 39,
   "metadata": {},
   "outputs": [],
   "source": [
    "import pandas as pd\n",
    "import numpy as np\n",
    "from sklearn import decomposition\n",
    "from matplotlib import pyplot as plt\n",
    "from sklearn.cluster import KMeans\n",
    "import glob"
   ]
  },
  {
   "cell_type": "markdown",
   "metadata": {},
   "source": [
    "## clean_data\n",
    "clean_data takes the path to the combined data file as a string. It parses .csv file and organizes it into a 12 dimension numpy array. clean_data makes the assumption that there is a single source. Dimensions 0-2 are array 0's xyz values.<br>Dimensions 3-5 are array 1's xyz values. <br>Dimensions 6-8 are array 2's xyz values. <br>Dimensions 9-11 are array 3's xyz values."
   ]
  },
  {
   "cell_type": "code",
   "execution_count": 40,
   "metadata": {},
   "outputs": [],
   "source": [
    "def clean_data(path):\n",
    "    data = pd.read_csv(path)\n",
    "    \n",
    "    combined = np.empty([(int)(len(data)/6), 12])\n",
    "    \n",
    "    #assuming there in only 1 source\n",
    "    data_index = 0\n",
    "    combined_index = 0\n",
    "    \n",
    "    while(data_index + 5 <= len(data)):\n",
    "\n",
    "        f0 = (data.iloc[data_index]['xyz 1'][1:data.iloc[data_index]['xyz 1'].find(',')])\n",
    "        f1 = (data.iloc[data_index]['xyz 1'][data.iloc[data_index]['xyz 1'].find(' ') + 1:data.iloc[data_index]['xyz 1'].rfind(',')])\n",
    "        f2 = (data.iloc[data_index]['xyz 1'][data.iloc[data_index]['xyz 1'].rfind(' ') + 1:data.iloc[data_index]['xyz 1'].find(']')])\n",
    "        f3 = (data.iloc[data_index]['xyz 2'][1:data.iloc[data_index]['xyz 2'].find(',')])\n",
    "        f4 = (data.iloc[data_index]['xyz 2'][data.iloc[data_index]['xyz 2'].find(' ') + 1:data.iloc[data_index]['xyz 2'].rfind(',')])\n",
    "        f5 = (data.iloc[data_index]['xyz 2'][data.iloc[data_index]['xyz 2'].rfind(' ') + 1:data.iloc[data_index]['xyz 2'].find(']')])     \n",
    "        f6 = (data.iloc[data_index + 5]['xyz 1'][1:data.iloc[data_index + 5]['xyz 1'].find(',')])\n",
    "        f7 = (data.iloc[data_index + 5]['xyz 1'][data.iloc[data_index + 5]['xyz 1'].find(' ') + 1:data.iloc[data_index + 5]['xyz 1'].rfind(',')])\n",
    "        f8 = (data.iloc[data_index + 5]['xyz 1'][data.iloc[data_index + 5]['xyz 1'].rfind(' ') + 1:data.iloc[data_index + 5]['xyz 1'].find(']')])\n",
    "        f9 = (data.iloc[data_index + 5]['xyz 2'][1:data.iloc[data_index + 5]['xyz 2'].find(',')])\n",
    "        f10 = (data.iloc[data_index + 5]['xyz 2'][data.iloc[data_index + 5]['xyz 2'].find(' ') + 1:data.iloc[data_index + 5]['xyz 2'].rfind(',')])\n",
    "        f11 = (data.iloc[data_index + 5]['xyz 2'][data.iloc[data_index + 5]['xyz 2'].rfind(' ') + 1:data.iloc[data_index + 5]['xyz 2'].find(']')])\n",
    "        \n",
    "        if(f0 != 'None'):\n",
    "            f0 = (float(f0))\n",
    "        else:\n",
    "            f0 = np.NaN\n",
    "        if(f1 != 'None'):\n",
    "            f1 = (float(f1))\n",
    "        else:\n",
    "            f1 = np.NaN\n",
    "        if(f2 != 'None'):\n",
    "            f2 = (float(f2))\n",
    "        else:\n",
    "            f2 = np.NaN\n",
    "        if(f3 != 'None'):\n",
    "            f3 = (float(f3))\n",
    "        else:\n",
    "            f3 = np.NaN\n",
    "        if(f4 != 'None'):\n",
    "            f4 = (float(f4))\n",
    "        else:\n",
    "            f4 = np.NaN\n",
    "        if(f5 != 'None'):\n",
    "            f5 = (float(f5))\n",
    "        else:\n",
    "            f5 = np.NaN\n",
    "        if(f6 != 'None'):\n",
    "            f6 = (float(f6))\n",
    "        else:\n",
    "            f6 = np.NaN\n",
    "        if(f7 != 'None'):\n",
    "            f7 = (float(f7))\n",
    "        else:\n",
    "            f7 = np.NaN\n",
    "        if(f8 != 'None'):\n",
    "            f8 = (float(f8))\n",
    "        else:\n",
    "            f8 = np.NaN\n",
    "        if(f9 != 'None'):\n",
    "            f9 = (float(f9))\n",
    "        else:\n",
    "            f9 = np.NaN\n",
    "        if(f10 != 'None'):\n",
    "            f10 = (float(f10))\n",
    "        else:\n",
    "            f10 = np.NaN\n",
    "        if(f11 != 'None'):\n",
    "            f11 = (float(f11))\n",
    "        else:\n",
    "            f11 = np.NaN\n",
    "            \n",
    "        combined[combined_index] = [f0, f1, f2, f3, f4, f5, f6, f7, f8, f9, f10, f11]\n",
    "        \n",
    "        combined_index += 1\n",
    "        data_index += 6\n",
    "        \n",
    "    return combined"
   ]
  },
  {
   "cell_type": "code",
   "execution_count": 35,
   "metadata": {},
   "outputs": [],
   "source": [
    "test_data = clean_data('/Users/ardelalegre/CSE4223-ODAS/data/combined/recordingWednesday, March 25, 2020 01:05:3_0.csv')\n",
    "test_data = np.append(test_data, clean_data('/Users/ardelalegre/CSE4223-ODAS/data/combined/recordingWednesday, March 25, 2020 01:05:3_0.csv'), axis=0)"
   ]
  },
  {
   "cell_type": "code",
   "execution_count": 36,
   "metadata": {},
   "outputs": [
    {
     "data": {
      "text/plain": [
       "(16668, 12)"
      ]
     },
     "execution_count": 36,
     "metadata": {},
     "output_type": "execute_result"
    }
   ],
   "source": [
    "test_data.shape"
   ]
  },
  {
   "cell_type": "code",
   "execution_count": 16,
   "metadata": {},
   "outputs": [],
   "source": [
    "data = clean_data('/Volumes/Extreme SSD/ODAS_data/hour0jan8/temp1.csv')"
   ]
  },
  {
   "cell_type": "code",
   "execution_count": 31,
   "metadata": {},
   "outputs": [],
   "source": [
    "real_data = real_data[~np.isnan(real_data).all(axis = 1)]"
   ]
  },
  {
   "cell_type": "code",
   "execution_count": 50,
   "metadata": {},
   "outputs": [],
   "source": [
    "data = np.empty((0,12))\n",
    "dat = np.append(data, real_data, axis = 0)"
   ]
  },
  {
   "cell_type": "code",
   "execution_count": 51,
   "metadata": {},
   "outputs": [
    {
     "name": "stdout",
     "output_type": "stream",
     "text": [
      "Starting Hour 0\n",
      "File: /Volumes/Extreme SSD/ODAS_data/hour0jan8/temp1.csv\n",
      "File: /Volumes/Extreme SSD/ODAS_data/hour0jan8/temp0.csv\n",
      "File: /Volumes/Extreme SSD/ODAS_data/hour0jan8/temp2.csv\n",
      "File: /Volumes/Extreme SSD/ODAS_data/hour0jan8/temp3.csv\n",
      "File: /Volumes/Extreme SSD/ODAS_data/hour0jan8/temp4.csv\n",
      "File: /Volumes/Extreme SSD/ODAS_data/hour0jan8/temp5.csv\n",
      "Starting Hour 1\n",
      "File: /Volumes/Extreme SSD/ODAS_data/hour1jan8/temp1.csv\n",
      "File: /Volumes/Extreme SSD/ODAS_data/hour1jan8/temp0.csv\n",
      "File: /Volumes/Extreme SSD/ODAS_data/hour1jan8/temp2.csv\n",
      "Starting Hour 2\n",
      "File: /Volumes/Extreme SSD/ODAS_data/hour2jan8/temp0.csv\n",
      "Starting Hour 3\n",
      "File: /Volumes/Extreme SSD/ODAS_data/hour3jan8/temp0.csv\n",
      "Starting Hour 4\n",
      "File: /Volumes/Extreme SSD/ODAS_data/hour4jan8/temp1.csv\n",
      "File: /Volumes/Extreme SSD/ODAS_data/hour4jan8/temp0.csv\n",
      "File: /Volumes/Extreme SSD/ODAS_data/hour4jan8/temp2.csv\n",
      "Starting Hour 5\n",
      "File: /Volumes/Extreme SSD/ODAS_data/hour5jan8/temp1.csv\n",
      "File: /Volumes/Extreme SSD/ODAS_data/hour5jan8/temp0.csv\n",
      "Starting Hour 6\n",
      "File: /Volumes/Extreme SSD/ODAS_data/hour6jan8/temp1.csv\n",
      "File: /Volumes/Extreme SSD/ODAS_data/hour6jan8/temp0.csv\n",
      "Starting Hour 7\n",
      "File: /Volumes/Extreme SSD/ODAS_data/hour7jan8/temp0.csv\n",
      "Starting Hour 8\n",
      "File: /Volumes/Extreme SSD/ODAS_data/hour8jan8/temp0.csv\n",
      "Starting Hour 9\n",
      "File: /Volumes/Extreme SSD/ODAS_data/hour9jan8/temp1.csv\n",
      "File: /Volumes/Extreme SSD/ODAS_data/hour9jan8/temp0.csv\n",
      "File: /Volumes/Extreme SSD/ODAS_data/hour9jan8/temp2.csv\n",
      "Starting Hour 10\n",
      "File: /Volumes/Extreme SSD/ODAS_data/hour10jan8/temp1.csv\n",
      "File: /Volumes/Extreme SSD/ODAS_data/hour10jan8/temp0.csv\n",
      "Starting Hour 11\n",
      "File: /Volumes/Extreme SSD/ODAS_data/hour11jan8/temp0.csv\n"
     ]
    }
   ],
   "source": [
    "data = np.empty((0, 12))\n",
    "for i in range(12):\n",
    "    print(\"Starting Hour \" + str(i))\n",
    "    for filename in glob.glob(\"/Volumes/Extreme SSD/ODAS_data/hour\" + str(i) + \"jan8/*.csv\"):\n",
    "        print(\"File: \" + filename)\n",
    "        temp = clean_data(filename)\n",
    "        temp = temp[~np.isnan(temp).all(axis = 1)]\n",
    "        data = np.append(data, temp, axis = 0)"
   ]
  },
  {
   "cell_type": "code",
   "execution_count": 175,
   "metadata": {},
   "outputs": [],
   "source": [
    "one = 0\n",
    "two = 0\n",
    "three = 0\n",
    "four = 0\n",
    "new_col = np.zeros((len(data), 1))\n",
    "data = np.append(data, new_col, 1)\n",
    "for i in range(len(data)):\n",
    "    count = 0\n",
    "    for j in data[i]:\n",
    "        if(np.isnan(j)):\n",
    "            count += 1\n",
    "    if(count == 0):\n",
    "        four += 1\n",
    "        data[i][12] = 4\n",
    "    elif(count == 3):\n",
    "        three += 1\n",
    "        data[i][12] = 3\n",
    "    elif(count == 6):\n",
    "        two += 1\n",
    "        data[i][12] = 2\n",
    "    else:\n",
    "        one += 1\n",
    "        data[i][12] = 1"
   ]
  },
  {
   "cell_type": "markdown",
   "metadata": {},
   "source": [
    "## Pair Analysis"
   ]
  },
  {
   "cell_type": "code",
   "execution_count": 176,
   "metadata": {},
   "outputs": [],
   "source": [
    "pair = data[data[:, 12] == 2]"
   ]
  },
  {
   "cell_type": "code",
   "execution_count": 220,
   "metadata": {},
   "outputs": [],
   "source": [
    "pair_12 = np.zeros((0, 6))\n",
    "pair_13 = np.zeros((0, 6))\n",
    "pair_14 = np.zeros((0, 6))\n",
    "pair_23 = np.zeros((0, 6))\n",
    "pair_24 = np.zeros((0, 6))\n",
    "pair_34 = np.zeros((0, 6))\n",
    "for i in range(len(pair)):\n",
    "    #12\n",
    "    if(~np.isnan(pair[i, 0]) and ~np.isnan(pair[i, 3])):\n",
    "        pair[i, 12] = 12\n",
    "        temp = pair[i][~np.isnan(pair[i])]\n",
    "        pair_12 = np.append(pair_12, np.array([temp[:6]]), axis = 0)\n",
    "    #13\n",
    "    elif(~np.isnan(pair[i, 0]) and ~np.isnan(pair[i, 6])):\n",
    "        pair[i, 12] = 13\n",
    "        temp = pair[i][~np.isnan(pair[i])]\n",
    "        pair_13 = np.append(pair_13, np.array([temp[:6]]), axis = 0)\n",
    "    #14\n",
    "    elif(~np.isnan(pair[i, 0]) and ~np.isnan(pair[i, 9])):\n",
    "        pair[i, 12] = 14\n",
    "        temp = pair[i][~np.isnan(pair[i])]\n",
    "        pair_14 = np.append(pair_14, np.array([temp[:6]]), axis = 0)\n",
    "    #23\n",
    "    elif(~np.isnan(pair[i, 3]) and ~np.isnan(pair[i, 6])):\n",
    "        pair[i, 12] = 23\n",
    "        temp = pair[i][~np.isnan(pair[i])]\n",
    "        pair_23 = np.append(pair_23, np.array([temp[:6]]), axis = 0)\n",
    "    #24\n",
    "    elif(~np.isnan(pair[i, 3]) and ~np.isnan(pair[i, 9])):\n",
    "        pair[i, 12] = 24\n",
    "        temp = pair[i][~np.isnan(pair[i])]\n",
    "        pair_24 = np.append(pair_24, np.array([temp[:6]]), axis = 0)\n",
    "    #34\n",
    "    elif(~np.isnan(pair[i, 6]) and ~np.isnan(pair[i, 9])):\n",
    "        i[12] = 34\n",
    "        temp = pair[i][~np.isnan(pair[i])]\n",
    "        pair_34 = np.append(pair_34, np.array([temp[:6]]), axis = 0)"
   ]
  },
  {
   "cell_type": "code",
   "execution_count": 221,
   "metadata": {},
   "outputs": [
    {
     "name": "stdout",
     "output_type": "stream",
     "text": [
      "(0, 6)\n",
      "(107011, 6)\n",
      "(0, 6)\n",
      "(90253, 6)\n",
      "(0, 6)\n",
      "(0, 6)\n"
     ]
    }
   ],
   "source": [
    "print(pair_12.shape)\n",
    "print(pair_13.shape)\n",
    "print(pair_14.shape)\n",
    "print(pair_23.shape)\n",
    "print(pair_24.shape)\n",
    "print(pair_34.shape)"
   ]
  },
  {
   "cell_type": "markdown",
   "metadata": {},
   "source": [
    "### Cluster Analysis for Array Pairs 0 and 2"
   ]
  },
  {
   "cell_type": "code",
   "execution_count": 222,
   "metadata": {},
   "outputs": [],
   "source": [
    "#PCA Transform to 2D\n",
    "pca13 = decomposition.PCA(n_components=2)\n",
    "pca.fit(pair_13)\n",
    "data_13_2D = pca.fit_transform(pair_13) \n",
    "\n",
    "pca23 = decomposition.PCA(n_components=2)\n",
    "pca.fit(pair_23)\n",
    "data_23_2D = pca.fit_transform(pair_23) "
   ]
  },
  {
   "cell_type": "code",
   "execution_count": 223,
   "metadata": {},
   "outputs": [
    {
     "data": {
      "image/png": "[encoded data removed]",
      "text/plain": [
       "<Figure size 432x288 with 1 Axes>"
      ]
     },
     "metadata": {
      "needs_background": "light"
     },
     "output_type": "display_data"
    }
   ],
   "source": [
    "#13\n",
    "wcss = []\n",
    "for i in range(1, 11):\n",
    "    kmeans = KMeans(n_clusters=i, init='k-means++', max_iter=300, n_init=10, random_state=0)\n",
    "    kmeans.fit(data_13_2D)\n",
    "    wcss.append(kmeans.inertia_)\n",
    "plt.plot(range(1, 11), wcss)\n",
    "plt.title('Elbow Method')\n",
    "plt.xlabel('Number of clusters')\n",
    "plt.ylabel('WCSS')\n",
    "plt.show()"
   ]
  },
  {
   "cell_type": "code",
   "execution_count": 224,
   "metadata": {},
   "outputs": [
    {
     "data": {
      "image/png": "[encoded data removed]",
      "text/plain": [
       "<Figure size 432x288 with 1 Axes>"
      ]
     },
     "metadata": {
      "needs_background": "light"
     },
     "output_type": "display_data"
    }
   ],
   "source": [
    "kmeans = KMeans(n_clusters=3, init='k-means++', max_iter=300, n_init=10, random_state=0)\n",
    "pred_y = kmeans.fit_predict(data_13_2D)\n",
    "plt.scatter(data_13_2D[:,0], data_13_2D[:,1])\n",
    "plt.scatter(kmeans.cluster_centers_[:, 0], kmeans.cluster_centers_[:, 1], s=300, c='red')\n",
    "plt.show()"
   ]
  },
  {
   "cell_type": "markdown",
   "metadata": {},
   "source": [
    "### Cluster Analysis for Array Pairs 1 and 2"
   ]
  },
  {
   "cell_type": "code",
   "execution_count": 225,
   "metadata": {},
   "outputs": [
    {
     "data": {
      "image/png": "[encoded data removed]",
      "text/plain": [
       "<Figure size 432x288 with 1 Axes>"
      ]
     },
     "metadata": {
      "needs_background": "light"
     },
     "output_type": "display_data"
    }
   ],
   "source": [
    "wcss = []\n",
    "for i in range(1, 11):\n",
    "    kmeans = KMeans(n_clusters=i, init='k-means++', max_iter=300, n_init=10, random_state=0)\n",
    "    kmeans.fit(data_23_2D)\n",
    "    wcss.append(kmeans.inertia_)\n",
    "plt.plot(range(1, 11), wcss)\n",
    "plt.title('Elbow Method')\n",
    "plt.xlabel('Number of clusters')\n",
    "plt.ylabel('WCSS')\n",
    "plt.show()"
   ]
  },
  {
   "cell_type": "code",
   "execution_count": 226,
   "metadata": {},
   "outputs": [
    {
     "data": {
      "image/png": "[encoded data removed]",
      "text/plain": [
       "<Figure size 432x288 with 1 Axes>"
      ]
     },
     "metadata": {
      "needs_background": "light"
     },
     "output_type": "display_data"
    }
   ],
   "source": [
    "kmeans = KMeans(n_clusters=4, init='k-means++', max_iter=300, n_init=10, random_state=0)\n",
    "pred_y = kmeans.fit_predict(data_23_2D)\n",
    "plt.scatter(data_23_2D[:,0], data_23_2D[:,1])\n",
    "plt.scatter(kmeans.cluster_centers_[:, 0], kmeans.cluster_centers_[:, 1], s=300, c='red')\n",
    "plt.show()"
   ]
  },
  {
   "cell_type": "code",
   "execution_count": 53,
   "metadata": {},
   "outputs": [
    {
     "ename": "ValueError",
     "evalue": "Input contains NaN, infinity or a value too large for dtype('float64').",
     "output_type": "error",
     "traceback": [
      "\u001b[0;31m-----------------------------------------\u001b[0m",
      "\u001b[0;31mValueError\u001b[0mTraceback (most recent call last)",
      "\u001b[0;32m<ipython-input-53-ad87009624bd>\u001b[0m in \u001b[0;36m<module>\u001b[0;34m\u001b[0m\n\u001b[1;32m      1\u001b[0m \u001b[0mpca\u001b[0m \u001b[0;34m=\u001b[0m \u001b[0mdecomposition\u001b[0m\u001b[0;34m.\u001b[0m\u001b[0mPCA\u001b[0m\u001b[0;34m(\u001b[0m\u001b[0mn_components\u001b[0m\u001b[0;34m=\u001b[0m\u001b[0;36m2\u001b[0m\u001b[0;34m)\u001b[0m\u001b[0;34m\u001b[0m\u001b[0;34m\u001b[0m\u001b[0m\n\u001b[0;32m----> 2\u001b[0;31m \u001b[0mpca\u001b[0m\u001b[0;34m.\u001b[0m\u001b[0mfit\u001b[0m\u001b[0;34m(\u001b[0m\u001b[0mdata\u001b[0m\u001b[0;34m)\u001b[0m\u001b[0;34m\u001b[0m\u001b[0;34m\u001b[0m\u001b[0m\n\u001b[0m\u001b[1;32m      3\u001b[0m \u001b[0mdata_2D\u001b[0m \u001b[0;34m=\u001b[0m \u001b[0mpca\u001b[0m\u001b[0;34m.\u001b[0m\u001b[0mfit_transform\u001b[0m\u001b[0;34m(\u001b[0m\u001b[0mdata\u001b[0m\u001b[0;34m)\u001b[0m\u001b[0;34m\u001b[0m\u001b[0;34m\u001b[0m\u001b[0m\n",
      "\u001b[0;32m~/opt/anaconda3/lib/python3.7/site-packages/sklearn/decomposition/_pca.py\u001b[0m in \u001b[0;36mfit\u001b[0;34m(self, X, y)\u001b[0m\n\u001b[1;32m    342\u001b[0m             \u001b[0mReturns\u001b[0m \u001b[0mthe\u001b[0m \u001b[0minstance\u001b[0m \u001b[0mitself\u001b[0m\u001b[0;34m.\u001b[0m\u001b[0;34m\u001b[0m\u001b[0;34m\u001b[0m\u001b[0m\n\u001b[1;32m    343\u001b[0m         \"\"\"\n\u001b[0;32m--> 344\u001b[0;31m         \u001b[0mself\u001b[0m\u001b[0;34m.\u001b[0m\u001b[0m_fit\u001b[0m\u001b[0;34m(\u001b[0m\u001b[0mX\u001b[0m\u001b[0;34m)\u001b[0m\u001b[0;34m\u001b[0m\u001b[0;34m\u001b[0m\u001b[0m\n\u001b[0m\u001b[1;32m    345\u001b[0m         \u001b[0;32mreturn\u001b[0m \u001b[0mself\u001b[0m\u001b[0;34m\u001b[0m\u001b[0;34m\u001b[0m\u001b[0m\n\u001b[1;32m    346\u001b[0m \u001b[0;34m\u001b[0m\u001b[0m\n",
      "\u001b[0;32m~/opt/anaconda3/lib/python3.7/site-packages/sklearn/decomposition/_pca.py\u001b[0m in \u001b[0;36m_fit\u001b[0;34m(self, X)\u001b[0m\n\u001b[1;32m    389\u001b[0m \u001b[0;34m\u001b[0m\u001b[0m\n\u001b[1;32m    390\u001b[0m         X = check_array(X, dtype=[np.float64, np.float32], ensure_2d=True,\n\u001b[0;32m--> 391\u001b[0;31m                         copy=self.copy)\n\u001b[0m\u001b[1;32m    392\u001b[0m \u001b[0;34m\u001b[0m\u001b[0m\n\u001b[1;32m    393\u001b[0m         \u001b[0;31m# Handle n_components==None\u001b[0m\u001b[0;34m\u001b[0m\u001b[0;34m\u001b[0m\u001b[0;34m\u001b[0m\u001b[0m\n",
      "\u001b[0;32m~/opt/anaconda3/lib/python3.7/site-packages/sklearn/utils/validation.py\u001b[0m in \u001b[0;36mcheck_array\u001b[0;34m(array, accept_sparse, accept_large_sparse, dtype, order, copy, force_all_finite, ensure_2d, allow_nd, ensure_min_samples, ensure_min_features, warn_on_dtype, estimator)\u001b[0m\n\u001b[1;32m    576\u001b[0m         \u001b[0;32mif\u001b[0m \u001b[0mforce_all_finite\u001b[0m\u001b[0;34m:\u001b[0m\u001b[0;34m\u001b[0m\u001b[0;34m\u001b[0m\u001b[0m\n\u001b[1;32m    577\u001b[0m             _assert_all_finite(array,\n\u001b[0;32m--> 578\u001b[0;31m                                allow_nan=force_all_finite == 'allow-nan')\n\u001b[0m\u001b[1;32m    579\u001b[0m \u001b[0;34m\u001b[0m\u001b[0m\n\u001b[1;32m    580\u001b[0m     \u001b[0;32mif\u001b[0m \u001b[0mensure_min_samples\u001b[0m \u001b[0;34m>\u001b[0m \u001b[0;36m0\u001b[0m\u001b[0;34m:\u001b[0m\u001b[0;34m\u001b[0m\u001b[0;34m\u001b[0m\u001b[0m\n",
      "\u001b[0;32m~/opt/anaconda3/lib/python3.7/site-packages/sklearn/utils/validation.py\u001b[0m in \u001b[0;36m_assert_all_finite\u001b[0;34m(X, allow_nan, msg_dtype)\u001b[0m\n\u001b[1;32m     58\u001b[0m                     \u001b[0mmsg_err\u001b[0m\u001b[0;34m.\u001b[0m\u001b[0mformat\u001b[0m\u001b[0;34m\u001b[0m\u001b[0;34m\u001b[0m\u001b[0m\n\u001b[1;32m     59\u001b[0m                     (type_err,\n\u001b[0;32m---> 60\u001b[0;31m                      msg_dtype if msg_dtype is not None else X.dtype)\n\u001b[0m\u001b[1;32m     61\u001b[0m             )\n\u001b[1;32m     62\u001b[0m     \u001b[0;31m# for object dtype data, we only check for NaNs (GH-13254)\u001b[0m\u001b[0;34m\u001b[0m\u001b[0;34m\u001b[0m\u001b[0;34m\u001b[0m\u001b[0m\n",
      "\u001b[0;31mValueError\u001b[0m: Input contains NaN, infinity or a value too large for dtype('float64')."
     ]
    }
   ],
   "source": [
    "pca = decomposition.PCA(n_components=2)\n",
    "pca.fit(data)\n",
    "data_2D = pca.fit_transform(data) "
   ]
  },
  {
   "cell_type": "code",
   "execution_count": 106,
   "metadata": {},
   "outputs": [
    {
     "data": {
      "text/plain": [
       "(16668, 2)"
      ]
     },
     "execution_count": 106,
     "metadata": {},
     "output_type": "execute_result"
    }
   ],
   "source": [
    "data_2D.shape"
   ]
  },
  {
   "cell_type": "markdown",
   "metadata": {},
   "source": [
    "## K Cluster Analysis"
   ]
  },
  {
   "cell_type": "code",
   "execution_count": 104,
   "metadata": {},
   "outputs": [
    {
     "data": {
      "image/png": "[encoded data removed]",
      "text/plain": [
       "<Figure size 432x288 with 1 Axes>"
      ]
     },
     "metadata": {
      "needs_background": "light"
     },
     "output_type": "display_data"
    }
   ],
   "source": [
    "wcss = []\n",
    "for i in range(1, 11):\n",
    "    kmeans = KMeans(n_clusters=i, init='k-means++', max_iter=300, n_init=10, random_state=0)\n",
    "    kmeans.fit(data_2D)\n",
    "    wcss.append(kmeans.inertia_)\n",
    "plt.plot(range(1, 11), wcss)\n",
    "plt.title('Elbow Method')\n",
    "plt.xlabel('Number of clusters')\n",
    "plt.ylabel('WCSS')\n",
    "plt.show()"
   ]
  },
  {
   "cell_type": "code",
   "execution_count": 105,
   "metadata": {},
   "outputs": [
    {
     "data": {
      "image/png": "[encoded data removed]",
      "text/plain": [
       "<Figure size 432x288 with 1 Axes>"
      ]
     },
     "metadata": {
      "needs_background": "light"
     },
     "output_type": "display_data"
    }
   ],
   "source": [
    "kmeans = KMeans(n_clusters=6, init='k-means++', max_iter=300, n_init=10, random_state=0)\n",
    "pred_y = kmeans.fit_predict(data_2D)\n",
    "plt.scatter(data_2D[:,0], data_2D[:,1])\n",
    "plt.scatter(kmeans.cluster_centers_[:, 0], kmeans.cluster_centers_[:, 1], s=300, c='red')\n",
    "plt.show()"
   ]
  }
 ],
 "metadata": {
  "kernelspec": {
   "display_name": "Python 3",
   "language": "python",
   "name": "python3"
  },
  "language_info": {
   "codemirror_mode": {
    "name": "ipython",
    "version": 3
   },
   "file_extension": ".py",
   "mimetype": "text/x-python",
   "name": "python",
   "nbconvert_exporter": "python",
   "pygments_lexer": "ipython3",
   "version": "3.7.6"
  }
 },
 "nbformat": 4,
 "nbformat_minor": 4
}
