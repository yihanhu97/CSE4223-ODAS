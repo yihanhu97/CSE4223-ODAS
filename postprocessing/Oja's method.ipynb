{
 "cells": [
  {
   "cell_type": "markdown",
   "metadata": {},
   "source": [
    "# Oja's Algorithm"
   ]
  },
  {
   "cell_type": "markdown",
   "metadata": {},
   "source": [
    "## The following cell imports the .db file when run"
   ]
  },
  {
   "cell_type": "code",
   "execution_count": 1,
   "metadata": {},
   "outputs": [
    {
     "name": "stdout",
     "output_type": "stream",
     "text": [
      "../../Data/K_cluster_analysis.db\r\n"
     ]
    }
   ],
   "source": [
    "!ls ../../Data/K_cluster_analysis.db"
   ]
  },
  {
   "cell_type": "code",
   "execution_count": 2,
   "metadata": {},
   "outputs": [
    {
     "name": "stdout",
     "output_type": "stream",
     "text": [
      "Populating the interactive namespace from numpy and matplotlib\n"
     ]
    }
   ],
   "source": [
    "import pandas as pd\n",
    "import numpy as np\n",
    "from sklearn import decomposition\n",
    "from matplotlib import pyplot as plt\n",
    "import matplotlib.cm as cm\n",
    "from matplotlib.pyplot import figure\n",
    "import seaborn as sns\n",
    "from sklearn.cluster import KMeans\n",
    "import glob\n",
    "%pylab inline"
   ]
  },
  {
   "cell_type": "code",
   "execution_count": 5,
   "metadata": {
    "scrolled": true
   },
   "outputs": [
    {
     "name": "stdout",
     "output_type": "stream",
     "text": [
      "CPU times: user 193 ms, sys: 557 ms, total: 750 ms\n",
      "Wall time: 749 ms\n"
     ]
    },
    {
     "data": {
      "text/plain": [
       "(2664671, 12)"
      ]
     },
     "execution_count": 5,
     "metadata": {},
     "output_type": "execute_result"
    }
   ],
   "source": [
    "%%time\n",
    "#run this to import\n",
    "try:\n",
    "    import dill\n",
    "except:\n",
    "    %pip install dill\n",
    "    import dill\n",
    "dill.load_session('../../Data/K_cluster_analysis.db')\n",
    "data=data[:,1:]  # remove prefix '1'\n",
    "data.shape"
   ]
  },
  {
   "cell_type": "markdown",
   "metadata": {},
   "source": [
    "### Estimate mean"
   ]
  },
  {
   "cell_type": "code",
   "execution_count": 39,
   "metadata": {},
   "outputs": [],
   "source": [
    "_mean=np.zeros(data.shape[1])\n",
    "eta=0.001"
   ]
  },
  {
   "cell_type": "code",
   "execution_count": 78,
   "metadata": {},
   "outputs": [
    {
     "name": "stdout",
     "output_type": "stream",
     "text": [
      "0 0.00012566019948814615\n",
      "100000 1.4110992926028119e-06\n",
      "200000 3.4905972016866376e-07\n",
      "300000 8.250140851538883e-08\n",
      "400000 5.871203183486922e-08\n",
      "500000 2.68178602204014e-08\n",
      "600000 2.0603566478661913e-08\n",
      "700000 2.1391836749287394e-08\n",
      "800000 7.250426536890062e-08\n",
      "900000 3.7425581616697156e-08\n",
      "1000000 8.996284971454427e-09\n",
      "1100000 7.060080548045791e-08\n",
      "1200000 8.926682856046808e-08\n",
      "1300000 3.008419642461183e-08\n",
      "1400000 1.2726026401595336e-08\n",
      "1500000 4.113018819377822e-09\n",
      "1600000 1.3696279294920792e-08\n",
      "1700000 3.3121482088380983e-08\n",
      "1800000 3.441443335115428e-08\n",
      "1900000 2.61330638025206e-07\n",
      "2000000 6.250189996893726e-07\n",
      "2100000 6.339819855212079e-07\n",
      "2200000 1.9218702177027656e-07\n",
      "2300000 2.3633721186113327e-08\n",
      "2400000 3.438447077491205e-08\n",
      "2500000 5.928961365468249e-07\n",
      "2600000 6.811701729331191e-08\n"
     ]
    }
   ],
   "source": [
    "means=[]\n",
    "for i in range(data.shape[0]):\n",
    "    vector=data[i,:]\n",
    "    _not_nan=~isnan(vector)\n",
    "    _newmean=copy(_mean)\n",
    "    eta=min(0.001,1/(i+5))\n",
    "    _newmean[_not_nan] = (1-eta)*_mean[_not_nan] + eta*vector[_not_nan]\n",
    "    if i%100000 == 0:\n",
    "        print(i,norm(_mean-_newmean))\n",
    "    _mean=_newmean\n",
    "    means.append(_mean)"
   ]
  },
  {
   "cell_type": "code",
   "execution_count": 79,
   "metadata": {
    "scrolled": true
   },
   "outputs": [
    {
     "name": "stdout",
     "output_type": "stream",
     "text": [
      "0 0.1548606410348017\n",
      "100000 0.057859927764085405\n",
      "200000 0.013599378319167093\n",
      "300000 0.00340521391448316\n",
      "400000 0.0007516804244264582\n",
      "500000 0.001927760067769734\n",
      "600000 0.0014863742468648258\n",
      "700000 0.0011899874034203104\n",
      "800000 0.0010206885851345789\n",
      "900000 0.0034566137399536187\n",
      "1000000 0.006261872881842813\n",
      "1100000 0.006080910853215764\n",
      "1200000 0.003426198973891266\n",
      "1300000 0.0006581391973207176\n",
      "1400000 0.0012391753254917858\n",
      "1500000 0.0003902480206325005\n",
      "1600000 0.002816652126718424\n",
      "1700000 0.0057563078591068685\n",
      "1800000 0.006081149464133909\n",
      "1900000 0.027835095917031066\n",
      "2000000 0.021670255936550226\n",
      "2100000 0.03477641179466254\n",
      "2200000 0.01831125070150886\n",
      "2300000 0.002882924121414564\n",
      "2400000 0.013633169923918439\n",
      "2500000 0.018726048004889875\n"
     ]
    }
   ],
   "source": [
    "k=100000\n",
    "for i in range(0,len(means)-k,k):\n",
    "    print(i,norm(means[i]-means[i+k]))"
   ]
  },
  {
   "cell_type": "code",
   "execution_count": 80,
   "metadata": {},
   "outputs": [
    {
     "data": {
      "text/plain": [
       "0.11652559986278527"
      ]
     },
     "execution_count": 80,
     "metadata": {},
     "output_type": "execute_result"
    }
   ],
   "source": [
    "norm(means[-1]-means[int(len(means)/2)])"
   ]
  },
  {
   "cell_type": "code",
   "execution_count": 81,
   "metadata": {},
   "outputs": [
    {
     "data": {
      "text/plain": [
       "array([-0.07329919, -0.02682962,  0.9720738 , -0.22365044, -0.04377237,\n",
       "        0.57023735,  0.00812117,  0.00132767,  0.99941906,  0.10049459,\n",
       "       -0.02560934,  0.95248385])"
      ]
     },
     "execution_count": 81,
     "metadata": {},
     "output_type": "execute_result"
    }
   ],
   "source": [
    "means[10*k]"
   ]
  },
  {
   "cell_type": "code",
   "execution_count": 20,
   "metadata": {},
   "outputs": [
    {
     "data": {
      "text/plain": [
       "array([nan, nan, nan, nan, nan, nan, nan, nan, nan, nan, nan, nan])"
      ]
     },
     "execution_count": 20,
     "metadata": {},
     "output_type": "execute_result"
    }
   ],
   "source": [
    "eta*vector[_not_nan]"
   ]
  },
  {
   "cell_type": "code",
   "execution_count": 33,
   "metadata": {},
   "outputs": [],
   "source": [
    "_not_nan=~isnan(vector)"
   ]
  },
  {
   "cell_type": "code",
   "execution_count": 34,
   "metadata": {},
   "outputs": [
    {
     "data": {
      "text/plain": [
       "array([False, False, False, False, False, False,  True,  True,  True,\n",
       "       False, False, False])"
      ]
     },
     "execution_count": 34,
     "metadata": {},
     "output_type": "execute_result"
    }
   ],
   "source": [
    "_not_nan"
   ]
  },
  {
   "cell_type": "code",
   "execution_count": 35,
   "metadata": {},
   "outputs": [
    {
     "data": {
      "text/plain": [
       "array([   nan,    nan,    nan,    nan,    nan,    nan, -0.012, -0.   ,\n",
       "        1.   ,    nan,    nan,    nan])"
      ]
     },
     "execution_count": 35,
     "metadata": {},
     "output_type": "execute_result"
    }
   ],
   "source": [
    "vector"
   ]
  },
  {
   "cell_type": "code",
   "execution_count": 37,
   "metadata": {},
   "outputs": [
    {
     "data": {
      "text/plain": [
       "array([-0.012, -0.   ,  1.   ])"
      ]
     },
     "execution_count": 37,
     "metadata": {},
     "output_type": "execute_result"
    }
   ],
   "source": [
    "vector[_not_nan]"
   ]
  },
  {
   "cell_type": "code",
   "execution_count": null,
   "metadata": {},
   "outputs": [],
   "source": []
  }
 ],
 "metadata": {
  "kernelspec": {
   "display_name": "Python 3",
   "language": "python",
   "name": "python3"
  },
  "language_info": {
   "codemirror_mode": {
    "name": "ipython",
    "version": 3
   },
   "file_extension": ".py",
   "mimetype": "text/x-python",
   "name": "python",
   "nbconvert_exporter": "python",
   "pygments_lexer": "ipython3",
   "version": "3.7.6"
  },
  "toc": {
   "base_numbering": 1,
   "nav_menu": {},
   "number_sections": true,
   "sideBar": true,
   "skip_h1_title": false,
   "title_cell": "Table of Contents",
   "title_sidebar": "Contents",
   "toc_cell": false,
   "toc_position": {},
   "toc_section_display": true,
   "toc_window_display": false
  }
 },
 "nbformat": 4,
 "nbformat_minor": 4
}
