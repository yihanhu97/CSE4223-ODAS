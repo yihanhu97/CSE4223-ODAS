{
 "cells": [
  {
   "cell_type": "code",
   "execution_count": 1,
   "metadata": {},
   "outputs": [],
   "source": [
    "import pandasToMatrix\n",
    "import numpy as np\n",
    "import pickle"
   ]
  },
  {
   "cell_type": "markdown",
   "metadata": {},
   "source": [
    "### Convert combined .csv files into matrix and pickle dump"
   ]
  },
  {
   "cell_type": "code",
   "execution_count": 2,
   "metadata": {},
   "outputs": [
    {
     "name": "stderr",
     "output_type": "stream",
     "text": [
      "/home/ardelalegre/CSE4223-ODAS/postprocessing/pandasToMatrix.py:23: SettingWithCopyWarning: \n",
      "A value is trying to be set on a copy of a slice from a DataFrame\n",
      "\n",
      "See the caveats in the documentation: http://pandas.pydata.org/pandas-docs/stable/indexing.html#indexing-view-versus-copy\n",
      "  temp['X'] = None\n",
      "/home/ardelalegre/CSE4223-ODAS/postprocessing/pandasToMatrix.py:24: SettingWithCopyWarning: \n",
      "A value is trying to be set on a copy of a slice from a DataFrame\n",
      "\n",
      "See the caveats in the documentation: http://pandas.pydata.org/pandas-docs/stable/indexing.html#indexing-view-versus-copy\n",
      "  temp['Y'] = None\n",
      "/home/ardelalegre/CSE4223-ODAS/postprocessing/pandasToMatrix.py:25: SettingWithCopyWarning: \n",
      "A value is trying to be set on a copy of a slice from a DataFrame\n",
      "\n",
      "See the caveats in the documentation: http://pandas.pydata.org/pandas-docs/stable/indexing.html#indexing-view-versus-copy\n",
      "  temp['Z'] = None\n",
      "/home/ardelalegre/CSE4223-ODAS/postprocessing/pandasToMatrix.py:26: SettingWithCopyWarning: \n",
      "A value is trying to be set on a copy of a slice from a DataFrame\n",
      "\n",
      "See the caveats in the documentation: http://pandas.pydata.org/pandas-docs/stable/indexing.html#indexing-view-versus-copy\n",
      "  temp['Microphone Number'] = None\n"
     ]
    }
   ],
   "source": [
    "list_july_first = pandasToMatrix.main('2020-07-01')"
   ]
  },
  {
   "cell_type": "code",
   "execution_count": 5,
   "metadata": {},
   "outputs": [],
   "source": [
    "july_first_np = list_to_np_arr(list_july_first)"
   ]
  },
  {
   "cell_type": "code",
   "execution_count": 6,
   "metadata": {},
   "outputs": [
    {
     "data": {
      "text/plain": [
       "array([-0.444, 0.885, 0.14, None, None, None, None, None, None, None,\n",
       "       None, None, 1593613233.604519], dtype=object)"
      ]
     },
     "execution_count": 6,
     "metadata": {},
     "output_type": "execute_result"
    }
   ],
   "source": [
    "july_first_np[0]"
   ]
  },
  {
   "cell_type": "code",
   "execution_count": 7,
   "metadata": {},
   "outputs": [
    {
     "name": "stdout",
     "output_type": "stream",
     "text": [
      "(217451, 13)\n"
     ]
    }
   ],
   "source": [
    "# initialize np array as an array of zeros\n",
    "data = np.zeros((july_first_np.shape[0],13))\n",
    "print(data.shape)\n",
    "for (index,i) in enumerate(july_first_np):\n",
    "    data[index] = np.asarray(july_first_np[index])"
   ]
  },
  {
   "cell_type": "code",
   "execution_count": 8,
   "metadata": {},
   "outputs": [
    {
     "data": {
      "text/plain": [
       "array([-4.44000000e-01,  8.85000000e-01,  1.40000000e-01,             nan,\n",
       "                   nan,             nan,             nan,             nan,\n",
       "                   nan,             nan,             nan,             nan,\n",
       "        1.59361323e+09])"
      ]
     },
     "execution_count": 8,
     "metadata": {},
     "output_type": "execute_result"
    }
   ],
   "source": [
    "data[0]"
   ]
  },
  {
   "cell_type": "code",
   "execution_count": null,
   "metadata": {},
   "outputs": [],
   "source": [
    "pickle.dump(july_first_np, open(\"july_first_np.p\", \"wb\"))"
   ]
  },
  {
   "cell_type": "markdown",
   "metadata": {},
   "source": [
    "### Load pickle and convert list of lists to np array"
   ]
  },
  {
   "cell_type": "code",
   "execution_count": 4,
   "metadata": {},
   "outputs": [],
   "source": [
    "def list_to_np_arr(list_form):\n",
    "    \"\"\"Converts list of lists into numpy array.\"\"\"\n",
    "    data = np.zeros((1,13))\n",
    "    for i in list_form:\n",
    "        data = np.append(data,np.asarray(i), axis = 0)\n",
    "    data = data[1:]\n",
    "    return data"
   ]
  },
  {
   "cell_type": "markdown",
   "metadata": {},
   "source": [
    "### Load pickled numpy array and do further type casting"
   ]
  },
  {
   "cell_type": "code",
   "execution_count": 2,
   "metadata": {},
   "outputs": [],
   "source": [
    "first_july_2020 = pickle.load(open(\"july_first_np.p\", \"rb\"))"
   ]
  },
  {
   "cell_type": "code",
   "execution_count": 5,
   "metadata": {},
   "outputs": [
    {
     "name": "stdout",
     "output_type": "stream",
     "text": [
      "<class 'numpy.ndarray'>\n"
     ]
    }
   ],
   "source": [
    "first_july_2020[0]\n",
    "print(type(first_july_2020[0]))"
   ]
  },
  {
   "cell_type": "code",
   "execution_count": 7,
   "metadata": {},
   "outputs": [
    {
     "name": "stdout",
     "output_type": "stream",
     "text": [
      "(1, 13)\n"
     ]
    },
    {
     "ename": "KeyboardInterrupt",
     "evalue": "",
     "output_type": "error",
     "traceback": [
      "\u001b[0;31m---------------------------------------------------------------------------\u001b[0m",
      "\u001b[0;31mKeyboardInterrupt\u001b[0m                         Traceback (most recent call last)",
      "\u001b[0;32m<ipython-input-7-815fc874f0ab>\u001b[0m in \u001b[0;36m<module>\u001b[0;34m\u001b[0m\n\u001b[1;32m      3\u001b[0m \u001b[0mprint\u001b[0m\u001b[0;34m(\u001b[0m\u001b[0mdata\u001b[0m\u001b[0;34m.\u001b[0m\u001b[0mshape\u001b[0m\u001b[0;34m)\u001b[0m\u001b[0;34m\u001b[0m\u001b[0m\n\u001b[1;32m      4\u001b[0m \u001b[0;32mfor\u001b[0m \u001b[0mi\u001b[0m \u001b[0;32min\u001b[0m \u001b[0mfirst_july_2020\u001b[0m\u001b[0;34m:\u001b[0m\u001b[0;34m\u001b[0m\u001b[0m\n\u001b[0;32m----> 5\u001b[0;31m     \u001b[0mdata\u001b[0m \u001b[0;34m=\u001b[0m \u001b[0mnp\u001b[0m\u001b[0;34m.\u001b[0m\u001b[0mappend\u001b[0m\u001b[0;34m(\u001b[0m\u001b[0mdata\u001b[0m\u001b[0;34m,\u001b[0m \u001b[0mnp\u001b[0m\u001b[0;34m.\u001b[0m\u001b[0mreshape\u001b[0m\u001b[0;34m(\u001b[0m\u001b[0mnp\u001b[0m\u001b[0;34m.\u001b[0m\u001b[0masarray\u001b[0m\u001b[0;34m(\u001b[0m\u001b[0mi\u001b[0m\u001b[0;34m)\u001b[0m\u001b[0;34m,\u001b[0m \u001b[0;34m(\u001b[0m\u001b[0;36m1\u001b[0m\u001b[0;34m,\u001b[0m\u001b[0;36m13\u001b[0m\u001b[0;34m)\u001b[0m\u001b[0;34m)\u001b[0m\u001b[0;34m,\u001b[0m\u001b[0maxis\u001b[0m \u001b[0;34m=\u001b[0m \u001b[0;36m0\u001b[0m\u001b[0;34m)\u001b[0m\u001b[0;34m\u001b[0m\u001b[0m\n\u001b[0m\u001b[1;32m      6\u001b[0m \u001b[0;31m# loop through previous array and convert each element into np array\u001b[0m\u001b[0;34m\u001b[0m\u001b[0;34m\u001b[0m\u001b[0m\n\u001b[1;32m      7\u001b[0m \u001b[0;31m# append the resulting np array at each step to the array\u001b[0m\u001b[0;34m\u001b[0m\u001b[0;34m\u001b[0m\u001b[0m\n",
      "\u001b[0;32m<__array_function__ internals>\u001b[0m in \u001b[0;36mappend\u001b[0;34m(*args, **kwargs)\u001b[0m\n",
      "\u001b[0;32m~/.local/lib/python3.5/site-packages/numpy/lib/function_base.py\u001b[0m in \u001b[0;36mappend\u001b[0;34m(arr, values, axis)\u001b[0m\n\u001b[1;32m   4691\u001b[0m         \u001b[0mvalues\u001b[0m \u001b[0;34m=\u001b[0m \u001b[0mravel\u001b[0m\u001b[0;34m(\u001b[0m\u001b[0mvalues\u001b[0m\u001b[0;34m)\u001b[0m\u001b[0;34m\u001b[0m\u001b[0m\n\u001b[1;32m   4692\u001b[0m         \u001b[0maxis\u001b[0m \u001b[0;34m=\u001b[0m \u001b[0marr\u001b[0m\u001b[0;34m.\u001b[0m\u001b[0mndim\u001b[0m\u001b[0;34m-\u001b[0m\u001b[0;36m1\u001b[0m\u001b[0;34m\u001b[0m\u001b[0m\n\u001b[0;32m-> 4693\u001b[0;31m     \u001b[0;32mreturn\u001b[0m \u001b[0mconcatenate\u001b[0m\u001b[0;34m(\u001b[0m\u001b[0;34m(\u001b[0m\u001b[0marr\u001b[0m\u001b[0;34m,\u001b[0m \u001b[0mvalues\u001b[0m\u001b[0;34m)\u001b[0m\u001b[0;34m,\u001b[0m \u001b[0maxis\u001b[0m\u001b[0;34m=\u001b[0m\u001b[0maxis\u001b[0m\u001b[0;34m)\u001b[0m\u001b[0;34m\u001b[0m\u001b[0m\n\u001b[0m\u001b[1;32m   4694\u001b[0m \u001b[0;34m\u001b[0m\u001b[0m\n\u001b[1;32m   4695\u001b[0m \u001b[0;34m\u001b[0m\u001b[0m\n",
      "\u001b[0;32m<__array_function__ internals>\u001b[0m in \u001b[0;36mconcatenate\u001b[0;34m(*args, **kwargs)\u001b[0m\n",
      "\u001b[0;31mKeyboardInterrupt\u001b[0m: "
     ]
    }
   ],
   "source": [
    "# # define one row of a np array\n",
    "# data = np.zeros((1,13))\n",
    "# print(data.shape)\n",
    "# for i in first_july_2020:\n",
    "#     data = np.append(data, np.reshape(np.asarray(i), (1,13)),axis = 0)\n",
    "# # loop through previous array and convert each element into np array\n",
    "# # append the resulting np array at each step to the array\n",
    "# # print(data)\n",
    "\n",
    "\n",
    "# # this is too slow"
   ]
  },
  {
   "cell_type": "code",
   "execution_count": 19,
   "metadata": {},
   "outputs": [
    {
     "name": "stdout",
     "output_type": "stream",
     "text": [
      "(217451, 13)\n"
     ]
    }
   ],
   "source": [
    "# initialize np array as an array of zeros\n",
    "data = np.zeros((first_july_2020.shape[0],13))\n",
    "print(data.shape)\n",
    "for (index,i) in enumerate(first_july_2020):\n",
    "    data[index] = np.asarray(first_july_2020[index])\n",
    "\n",
    "pickle.dump(data, open(\"july_first_np.p\", \"wb\"))"
   ]
  },
  {
   "cell_type": "code",
   "execution_count": 17,
   "metadata": {},
   "outputs": [
    {
     "data": {
      "text/plain": [
       "array([[-0.444, 0.885, 0.14, ..., None, None, 1593613233.604519],\n",
       "       [-0.444, 0.885, 0.14, ..., None, None, 1593613233.612516],\n",
       "       [-0.444, 0.885, 0.14, ..., None, None, 1593613233.6205132],\n",
       "       ...,\n",
       "       [-0.649, 0.555, 0.52, ..., None, None, 1593653152.957259],\n",
       "       [-0.649, 0.555, 0.52, ..., None, None, 1593653152.965256],\n",
       "       [-0.649, 0.555, 0.52, ..., None, None, 1593653152.973253]],\n",
       "      dtype=object)"
      ]
     },
     "execution_count": 17,
     "metadata": {},
     "output_type": "execute_result"
    }
   ],
   "source": [
    "first_july_2020"
   ]
  },
  {
   "cell_type": "code",
   "execution_count": 18,
   "metadata": {},
   "outputs": [
    {
     "data": {
      "text/plain": [
       "array([[-4.44000000e-01,  8.85000000e-01,  1.40000000e-01, ...,\n",
       "                    nan,             nan,  1.59361323e+09],\n",
       "       [-4.44000000e-01,  8.85000000e-01,  1.40000000e-01, ...,\n",
       "                    nan,             nan,  1.59361323e+09],\n",
       "       [-4.44000000e-01,  8.85000000e-01,  1.40000000e-01, ...,\n",
       "                    nan,             nan,  1.59361323e+09],\n",
       "       ...,\n",
       "       [-6.49000000e-01,  5.55000000e-01,  5.20000000e-01, ...,\n",
       "                    nan,             nan,  1.59365315e+09],\n",
       "       [-6.49000000e-01,  5.55000000e-01,  5.20000000e-01, ...,\n",
       "                    nan,             nan,  1.59365315e+09],\n",
       "       [-6.49000000e-01,  5.55000000e-01,  5.20000000e-01, ...,\n",
       "                    nan,             nan,  1.59365315e+09]])"
      ]
     },
     "execution_count": 18,
     "metadata": {},
     "output_type": "execute_result"
    }
   ],
   "source": [
    "data"
   ]
  },
  {
   "cell_type": "code",
   "execution_count": null,
   "metadata": {},
   "outputs": [],
   "source": [
    "# converts list of lists into numpy array\n",
    "data = np.zeros((1,13))\n",
    "for i in first_july_2020:\n",
    "    data = np.append(data,np.asarray(i), axis = 0)\n",
    "data = data[1:]"
   ]
  },
  {
   "cell_type": "code",
   "execution_count": null,
   "metadata": {},
   "outputs": [],
   "source": [
    "print(data.shape)"
   ]
  },
  {
   "cell_type": "code",
   "execution_count": null,
   "metadata": {},
   "outputs": [],
   "source": [
    "# sanity check: is the number of rows in data equal to the total number of entries in all the lists\n",
    "total_num_entries = 0\n",
    "for i in first_july_2020:\n",
    "    total_num_entries = total_num_entries + len(i)\n",
    "print(total_num_entries)"
   ]
  },
  {
   "cell_type": "markdown",
   "metadata": {},
   "source": [
    "### Working with datetimes"
   ]
  },
  {
   "cell_type": "code",
   "execution_count": 10,
   "metadata": {},
   "outputs": [],
   "source": [
    "import datetime\n",
    "import pickle"
   ]
  },
  {
   "cell_type": "code",
   "execution_count": 2,
   "metadata": {},
   "outputs": [
    {
     "data": {
      "text/plain": [
       "datetime.datetime(2020, 7, 16, 12, 30, 48, 595400)"
      ]
     },
     "execution_count": 2,
     "metadata": {},
     "output_type": "execute_result"
    }
   ],
   "source": [
    "datetime.datetime.timestamp()"
   ]
  },
  {
   "cell_type": "code",
   "execution_count": 19,
   "metadata": {},
   "outputs": [
    {
     "name": "stdout",
     "output_type": "stream",
     "text": [
      "2020-07-15 13:40:00\n",
      "1594845600.0\n",
      "2020-07-15 14:00:00\n",
      "1594846800.0\n"
     ]
    }
   ],
   "source": [
    "format_timestring = '%b %d %Y %I:%M%p'\n",
    "\n",
    "start_timestring = 'Jul 15 2020 01:40PM'\n",
    "end_timestring = 'Jul 15 2020 02:00PM'\n",
    "start_standard_dt_string = datetime.datetime.strptime(start_timestring, format_timestring)\n",
    "end_standard_dt_string = datetime.datetime.strptime(end_timestring, format_timestring)\n",
    "\n",
    "print(start_standard_dt_string)\n",
    "print(datetime.datetime.timestamp(start_standard_dt_string))\n",
    "print(end_standard_dt_string)\n",
    "print(datetime.datetime.timestamp(end_standard_dt_string))"
   ]
  },
  {
   "cell_type": "code",
   "execution_count": 14,
   "metadata": {},
   "outputs": [],
   "source": [
    "# loading the data from 15th July\n",
    "data = pickle.load(open('/home/ardelalegre/CSE4223-ODAS/preprocessing/python/exp_15_07.p','rb'))"
   ]
  },
  {
   "cell_type": "code",
   "execution_count": 32,
   "metadata": {},
   "outputs": [],
   "source": [
    "for x in range(data.shape[0]):\n",
    "    if(data[x,12] > datetime.datetime.timestamp(start_standard_dt_string) and data[x,12] < datetime.datetime.timestamp(end_standard_dt_string)):\n",
    "        start_index = x\n",
    "        break\n",
    "for y in range(x,data.shape[0]):\n",
    "    if(data[y,12] > datetime.datetime.timestamp(end_standard_dt_string)):\n",
    "        end_index = y\n",
    "        break"
   ]
  },
  {
   "cell_type": "code",
   "execution_count": 30,
   "metadata": {},
   "outputs": [
    {
     "data": {
      "text/plain": [
       "datetime.datetime(2020, 7, 15, 13, 40, 4, 87972)"
      ]
     },
     "execution_count": 30,
     "metadata": {},
     "output_type": "execute_result"
    }
   ],
   "source": [
    "start_"
   ]
  },
  {
   "cell_type": "code",
   "execution_count": 34,
   "metadata": {},
   "outputs": [
    {
     "data": {
      "text/plain": [
       "40.9648"
      ]
     },
     "execution_count": 34,
     "metadata": {},
     "output_type": "execute_result"
    }
   ],
   "source": [
    "307236*0.008/60"
   ]
  },
  {
   "cell_type": "code",
   "execution_count": null,
   "metadata": {},
   "outputs": [],
   "source": []
  }
 ],
 "metadata": {
  "kernelspec": {
   "display_name": "Python 3",
   "language": "python",
   "name": "python3"
  },
  "language_info": {
   "codemirror_mode": {
    "name": "ipython",
    "version": 3
   },
   "file_extension": ".py",
   "mimetype": "text/x-python",
   "name": "python",
   "nbconvert_exporter": "python",
   "pygments_lexer": "ipython3",
   "version": "3.5.2"
  }
 },
 "nbformat": 4,
 "nbformat_minor": 4
}
