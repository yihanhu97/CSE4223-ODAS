{
 "cells": [
  {
   "cell_type": "code",
   "execution_count": 15,
   "metadata": {},
   "outputs": [
    {
     "name": "stdout",
     "output_type": "stream",
     "text": [
      "Populating the interactive namespace from numpy and matplotlib\n"
     ]
    },
    {
     "name": "stderr",
     "output_type": "stream",
     "text": [
      "/home/ardelalegre/.local/lib/python3.5/site-packages/IPython/core/magics/pylab.py:160: UserWarning: pylab import has clobbered these variables: ['datetime', 'cov']\n",
      "`%matplotlib` prevents importing * from pylab and numpy\n",
      "  \"\\n`%matplotlib` prevents importing * from pylab and numpy\"\n"
     ]
    }
   ],
   "source": [
    "import pandas as pd\n",
    "import numpy as np\n",
    "from sklearn import decomposition\n",
    "from matplotlib import pyplot as plt\n",
    "import matplotlib.cm as cm\n",
    "from matplotlib.pyplot import figure\n",
    "import seaborn as sns\n",
    "from sklearn.cluster import KMeans\n",
    "import glob\n",
    "import pickle\n",
    "from datetime import datetime\n",
    "%pylab inline"
   ]
  },
  {
   "cell_type": "code",
   "execution_count": 3,
   "metadata": {},
   "outputs": [],
   "source": [
    "data_with_time = pickle.load(open(\"july_first_np.p\", \"rb\"))\n",
    "data = data_with_time[:,:12]\n"
   ]
  },
  {
   "cell_type": "code",
   "execution_count": 4,
   "metadata": {},
   "outputs": [
    {
     "name": "stdout",
     "output_type": "stream",
     "text": [
      "[-0.444  0.885  0.14     nan    nan    nan    nan    nan    nan    nan\n",
      "    nan    nan]\n",
      "[-0.444  0.885  0.14     nan    nan    nan    nan    nan    nan    nan\n",
      "    nan    nan]\n"
     ]
    }
   ],
   "source": [
    "\n",
    "print(data[0])\n",
    "print(np.asarray(data[0]))"
   ]
  },
  {
   "cell_type": "code",
   "execution_count": 5,
   "metadata": {},
   "outputs": [
    {
     "name": "stdout",
     "output_type": "stream",
     "text": [
      "(217451, 12)\n",
      "[[-0.67912647  0.54785298  0.28616772 -0.67088296  0.56292409  0.28495837\n",
      "  -0.17352863 -0.91857956  0.17220478  0.82691013 -0.00581666  0.33859397]]\n"
     ]
    }
   ],
   "source": [
    "print(data.shape)\n",
    "data_mean = np.nanmean(data,axis = 0,keepdims = True)\n",
    "print(data_mean)\n"
   ]
  },
  {
   "cell_type": "code",
   "execution_count": 6,
   "metadata": {},
   "outputs": [
    {
     "name": "stdout",
     "output_type": "stream",
     "text": [
      "(1, 12)\n"
     ]
    }
   ],
   "source": [
    "# subtracting the means from the data matrix\n",
    "\n",
    "print(data_mean.shape)\n",
    "\n",
    "data = data - data_mean"
   ]
  },
  {
   "cell_type": "code",
   "execution_count": 7,
   "metadata": {},
   "outputs": [
    {
     "data": {
      "text/plain": [
       "array([[-1.09003112e-13,  1.58376722e-14, -4.76301822e-14,\n",
       "        -1.57145824e-13, -1.97553510e-14, -1.37021825e-14,\n",
       "        -7.72331934e-15, -2.68639174e-16,  1.12090010e-13,\n",
       "         1.32178806e-14,  1.67764203e-15, -2.68492637e-15]])"
      ]
     },
     "execution_count": 7,
     "metadata": {},
     "output_type": "execute_result"
    }
   ],
   "source": [
    "\n",
    "# check that mean is now zero\n",
    "np.nanmean(data,axis = 0,keepdims = True)"
   ]
  },
  {
   "cell_type": "code",
   "execution_count": 8,
   "metadata": {},
   "outputs": [],
   "source": [
    "np.sum(np.isnan(data))\n",
    "cdata=np.nan_to_num(data)\n",
    "np.sum(np.isnan(cdata))\n",
    "\n",
    "from numpy import linalg as LA\n",
    "\n",
    "d=9  # dimension\n",
    "data=data[:,0:d] # taking just the first 9 columns of data, ie from 3 arrays out of 4\n",
    "cdata=cdata[:,0:d] # taking just the first 9 columns of cdata\n",
    "n=cdata.shape[0] # n stores the number of data points\n",
    "block_size=10000\n",
    "# calculate covariance matrix\n",
    "\n",
    "outters = np.zeros((d, d)) # a 9x9 matrix\n",
    "Sout = np.zeros((d, d, n)) # a 9x9xn array where n is the number of data points\n",
    "for j in range(n): # for each data point\n",
    "    outters += np.outer(cdata[j,:],cdata[j,:]) \n",
    "    Sout[:,:,j]=np.outer(data[j,:],data[j,:]); # storing each outer product value in one slice of Sout\n",
    "#   Sout[:,:,j]=data[j,:] @ data[j,:].T;\n",
    "#   if j%block_size==0:\n",
    "#       print('\\r %d: '%j,end='')\n",
    "\n",
    "#for d1 in range(d):\n",
    "#   for d2 in range(d):\n",
    "#     Sout[d1,d2,:]\n",
    "   \n",
    "cov = outters/n # calculating covariance matrix\n",
    "SCM=np.nanmean(Sout,axis=2) # calculating the mean slice - this should also be the covariance matrix\n",
    "\n"
   ]
  },
  {
   "cell_type": "code",
   "execution_count": 9,
   "metadata": {},
   "outputs": [
    {
     "name": "stdout",
     "output_type": "stream",
     "text": [
      "[[0.02399106 0.04016142 0.01835323 0.05638613 0.07665509 0.05004825\n",
      "  0.01639514 0.00085077 0.00068301]\n",
      " [0.04016142 0.14514037 0.05284854 0.11314995 0.27527297 0.06397666\n",
      "  0.03630892 0.01254679 0.00247447]\n",
      " [0.01835323 0.05284854 0.03952465 0.04907302 0.20138512 0.01674695\n",
      "  0.05640058 0.01078125 0.00107555]\n",
      " [0.05638613 0.11314995 0.04907302 0.07456398 0.06899643 0.01808753\n",
      "  0.03447317 0.01699607 0.0043171 ]\n",
      " [0.07665509 0.27527297 0.20138512 0.06899643 0.23698208 0.04125196\n",
      "  0.11924527 0.09617722 0.01669075]\n",
      " [0.05004825 0.06397666 0.01674695 0.01808753 0.04125196 0.01345262\n",
      "  0.03178079 0.02641735 0.00437496]\n",
      " [0.01639514 0.03630892 0.05640058 0.03447317 0.11924527 0.03178079\n",
      "  0.1381288  0.06510129 0.01285506]\n",
      " [0.00085077 0.01254679 0.01078125 0.01699607 0.09617722 0.02641735\n",
      "  0.06510129 0.04784723 0.008269  ]\n",
      " [0.00068301 0.00247447 0.00107555 0.0043171  0.01669075 0.00437496\n",
      "  0.01285506 0.008269   0.0122012 ]]\n"
     ]
    }
   ],
   "source": [
    "SCMstd=np.nanstd(Sout,axis=2) # calculating the standard deviation\n",
    "print(SCMstd)\n"
   ]
  },
  {
   "cell_type": "code",
   "execution_count": 10,
   "metadata": {},
   "outputs": [],
   "source": [
    "SCMfinite=np.sum(np.isfinite(Sout),axis=2)/n \n",
    "#eigen values\n",
    "eigen_values, eigen_vectors = LA.eig(cov)\n",
    "eigen_valuesSCM, eigen_vectorsSCM = LA.eig(SCM)"
   ]
  },
  {
   "cell_type": "code",
   "execution_count": 12,
   "metadata": {},
   "outputs": [
    {
     "data": {
      "text/plain": [
       "array([0.06340537, 0.03787144, 0.0172076 , 0.00581688, 0.00388465,\n",
       "       0.00275632, 0.00064362, 0.00133698, 0.00095388])"
      ]
     },
     "execution_count": 12,
     "metadata": {},
     "output_type": "execute_result"
    }
   ],
   "source": [
    "eigen_values"
   ]
  },
  {
   "cell_type": "code",
   "execution_count": 13,
   "metadata": {},
   "outputs": [
    {
     "name": "stdout",
     "output_type": "stream",
     "text": [
      "[6 8 7 5 4 3 2 1 0]\n",
      "[0 1 2 3 4 5 7 8 6]\n"
     ]
    },
    {
     "data": {
      "text/plain": [
       "(9,)"
      ]
     },
     "execution_count": 13,
     "metadata": {},
     "output_type": "execute_result"
    }
   ],
   "source": [
    "eig_val_sorted_indices = np.argsort(eigen_values)\n",
    "print(eig_val_sorted_indices)\n",
    "eig_val_sorted_indices = eig_val_sorted_indices[-1::-1]\n",
    "print(eig_val_sorted_indices)\n",
    "eig_val_sorted_indices.shape"
   ]
  },
  {
   "cell_type": "code",
   "execution_count": 16,
   "metadata": {},
   "outputs": [
    {
     "data": {
      "image/png": "[encoded data removed]",
      "text/plain": [
       "<Figure size 432x288 with 1 Axes>"
      ]
     },
     "metadata": {
      "needs_background": "light"
     },
     "output_type": "display_data"
    }
   ],
   "source": [
    "eig_val_ordered=eigen_values[eig_val_sorted_indices]\n",
    "eig_val_cumul = np.cumsum(eig_val_ordered)\n",
    "eig_val_cumul /= eig_val_cumul[-1]\n",
    "plot([0]+list(eig_val_cumul))\n",
    "grid()"
   ]
  },
  {
   "cell_type": "code",
   "execution_count": 17,
   "metadata": {},
   "outputs": [],
   "source": [
    "sorted_eigvec = eigen_vectors[:,eig_val_sorted_indices]"
   ]
  },
  {
   "cell_type": "code",
   "execution_count": 20,
   "metadata": {},
   "outputs": [
    {
     "data": {
      "text/plain": [
       "((217451, 9), (9, 9))"
      ]
     },
     "execution_count": 20,
     "metadata": {},
     "output_type": "execute_result"
    }
   ],
   "source": [
    "data.shape, sorted_eigvec.shape"
   ]
  },
  {
   "cell_type": "code",
   "execution_count": 21,
   "metadata": {},
   "outputs": [
    {
     "name": "stdout",
     "output_type": "stream",
     "text": [
      "CPU times: user 32.2 ms, sys: 19.3 ms, total: 51.5 ms\n",
      "Wall time: 12.4 ms\n"
     ]
    }
   ],
   "source": [
    "%%time\n",
    "data_proj_ev1 = np.dot(cdata,sorted_eigvec[:,:2])\n"
   ]
  },
  {
   "cell_type": "code",
   "execution_count": 22,
   "metadata": {},
   "outputs": [
    {
     "data": {
      "text/plain": [
       "(217451, 2)"
      ]
     },
     "execution_count": 22,
     "metadata": {},
     "output_type": "execute_result"
    }
   ],
   "source": [
    "data_proj_ev1.shape"
   ]
  },
  {
   "cell_type": "code",
   "execution_count": 23,
   "metadata": {},
   "outputs": [
    {
     "data": {
      "text/plain": [
       "numpy.ndarray"
      ]
     },
     "execution_count": 23,
     "metadata": {},
     "output_type": "execute_result"
    }
   ],
   "source": [
    "N=data_proj_ev1.shape[0]\n",
    "time_axis = np.arange(N)\n",
    "type(time_axis)"
   ]
  },
  {
   "cell_type": "code",
   "execution_count": 26,
   "metadata": {},
   "outputs": [],
   "source": [
    "leftx = -0.6\n",
    "rightx = 0.5\n",
    "lefty = -0.6\n",
    "righty = 0.75"
   ]
  },
  {
   "cell_type": "code",
   "execution_count": null,
   "metadata": {},
   "outputs": [
    {
     "name": "stdout",
     "output_type": "stream",
     "text": [
      "Each plot represents activity for 64.0 seconds\n"
     ]
    }
   ],
   "source": [
    "figure(figsize=[15,15])\n",
    "Length=8000\n",
    "print(\"Each plot represents activity for \" + str(8000 * 0.008) + \" seconds\")\n",
    "i=1\n",
    "for T1 in range(0,data.shape[0],Length):\n",
    "    subplot(5,5,i)\n",
    "#     print(data_with_time[T1,12])\n",
    "#     print(datetime.datetime.fromtimestamp(data_with_time[T1,12]))\n",
    "    plt.title(str(\"Time:\")+str(datetime.datetime.fromtimestamp(data_with_time[T1,12]))[11:16])\n",
    "    scatter(data_proj_ev1[T1:T1+Length,0], data_proj_ev1[T1:T1+Length,1],marker='.',s=1,c=np.arange(T1,T1+Length))\n",
    "    \n",
    "#     plt.xlim(leftx,rightx)\n",
    "#     plt.ylim(lefty,righty)\n",
    "    i=i+1\n",
    "    if (i>25):\n",
    "        break"
   ]
  },
  {
   "cell_type": "code",
   "execution_count": null,
   "metadata": {},
   "outputs": [],
   "source": []
  }
 ],
 "metadata": {
  "kernelspec": {
   "display_name": "Python 3",
   "language": "python",
   "name": "python3"
  },
  "language_info": {
   "codemirror_mode": {
    "name": "ipython",
    "version": 3
   },
   "file_extension": ".py",
   "mimetype": "text/x-python",
   "name": "python",
   "nbconvert_exporter": "python",
   "pygments_lexer": "ipython3",
   "version": "3.5.2"
  }
 },
 "nbformat": 4,
 "nbformat_minor": 4
}
