{
 "cells": [
  {
   "cell_type": "code",
   "execution_count": 1,
   "metadata": {},
   "outputs": [],
   "source": [
    "import numpy as np\n",
    "import pickle"
   ]
  },
  {
   "cell_type": "code",
   "execution_count": 2,
   "metadata": {},
   "outputs": [],
   "source": [
    "data_with_time = pickle.load(open(\"july_first_np.p\", \"rb\"))\n",
    "data = data_with_time[:,:12]\n"
   ]
  },
  {
   "cell_type": "code",
   "execution_count": 3,
   "metadata": {},
   "outputs": [
    {
     "name": "stdout",
     "output_type": "stream",
     "text": [
      "[-0.444  0.885  0.14     nan    nan    nan    nan    nan    nan    nan\n",
      "    nan    nan]\n",
      "[-0.444  0.885  0.14     nan    nan    nan    nan    nan    nan    nan\n",
      "    nan    nan]\n"
     ]
    }
   ],
   "source": [
    "\n",
    "print(data[0])\n",
    "print(np.asarray(data[0]))"
   ]
  },
  {
   "cell_type": "code",
   "execution_count": 4,
   "metadata": {},
   "outputs": [
    {
     "name": "stdout",
     "output_type": "stream",
     "text": [
      "(217451, 12)\n",
      "[[-0.67912647  0.54785298  0.28616772 -0.67088296  0.56292409  0.28495837\n",
      "  -0.17352863 -0.91857956  0.17220478  0.82691013 -0.00581666  0.33859397]]\n"
     ]
    }
   ],
   "source": [
    "print(data.shape)\n",
    "data_mean = np.nanmean(data,axis = 0,keepdims = True)\n",
    "print(data_mean)\n"
   ]
  },
  {
   "cell_type": "code",
   "execution_count": 5,
   "metadata": {},
   "outputs": [
    {
     "name": "stdout",
     "output_type": "stream",
     "text": [
      "(1, 12)\n"
     ]
    }
   ],
   "source": [
    "# subtracting the means from the data matrix\n",
    "\n",
    "print(data_mean.shape)\n",
    "\n",
    "data = data - data_mean"
   ]
  },
  {
   "cell_type": "code",
   "execution_count": 6,
   "metadata": {},
   "outputs": [
    {
     "data": {
      "text/plain": [
       "array([[-1.09003112e-13,  1.58376722e-14, -4.76301822e-14,\n",
       "        -1.57145824e-13, -1.97553510e-14, -1.37021825e-14,\n",
       "        -7.72331934e-15, -2.68639174e-16,  1.12090010e-13,\n",
       "         1.32178806e-14,  1.67764203e-15, -2.68492637e-15]])"
      ]
     },
     "execution_count": 6,
     "metadata": {},
     "output_type": "execute_result"
    }
   ],
   "source": [
    "\n",
    "# check that mean is now zero\n",
    "np.nanmean(data,axis = 0,keepdims = True)"
   ]
  },
  {
   "cell_type": "code",
   "execution_count": null,
   "metadata": {},
   "outputs": [],
   "source": [
    "np.sum(np.isnan(data))\n",
    "cdata=np.nan_to_num(data)\n",
    "np.sum(np.isnan(cdata))\n",
    "\n",
    "from numpy import linalg as LA\n",
    "\n",
    "d=9  # dimension\n",
    "data=data[:,0:d]\n",
    "cdata=cdata[:,0:d]\n",
    "n=cdata.shape[0]\n",
    "block_size=10000\n",
    "# calculate covariance matrix\n",
    "\n",
    "outters = np.zeros((d, d))\n",
    "Sout = np.zeros((d, d, n))\n",
    "for j in range(n):\n",
    "    outters += np.outer(cdata[j,:],cdata[j,:])\n",
    "    Sout[:,:,j]=np.outer(data[j,:],data[j,:]);\n",
    "#   Sout[:,:,j]=data[j,:] @ data[j,:].T;\n",
    "#   if j%block_size==0:\n",
    "#       print('\\r %d: '%j,end='')\n",
    "\n",
    "#for d1 in range(d):\n",
    "#   for d2 in range(d):\n",
    "#     Sout[d1,d2,:]\n",
    "   \n",
    "cov = outters/n\n",
    "SCM=np.nanmean(Sout,axis=2)\n",
    "SCMstd=np.nanstd(Sout,axis=2)\n",
    "SCMfinite=np.sum(np.isfinite(Sout),axis=2)/n\n",
    "#eigen values\n",
    "eigen_values, eigen_vectors = LA.eig(cov)\n",
    "eigen_valuesSCM, eigen_vectorsSCM = LA.eig(SCM)\n"
   ]
  }
 ],
 "metadata": {
  "kernelspec": {
   "display_name": "Python 3",
   "language": "python",
   "name": "python3"
  },
  "language_info": {
   "codemirror_mode": {
    "name": "ipython",
    "version": 3
   },
   "file_extension": ".py",
   "mimetype": "text/x-python",
   "name": "python",
   "nbconvert_exporter": "python",
   "pygments_lexer": "ipython3",
   "version": "3.5.2"
  }
 },
 "nbformat": 4,
 "nbformat_minor": 4
}
