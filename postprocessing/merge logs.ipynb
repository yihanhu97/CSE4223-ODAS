{
 "cells": [
  {
   "cell_type": "code",
   "execution_count": 1,
   "metadata": {
    "ExecuteTime": {
     "end_time": "2019-09-16T19:02:18.150767Z",
     "start_time": "2019-09-16T19:02:17.540224Z"
    }
   },
   "outputs": [
    {
     "name": "stdout",
     "output_type": "stream",
     "text": [
      "Populating the interactive namespace from numpy and matplotlib\n",
      "/Volumes/GoogleDrive/My Drive/Microphone Arrays/CSV\n",
      "total 640\n",
      "-r--------  0 yoavfreund  staff      0 Dec 31  1969 Icon\n",
      "-rw-------@ 1 yoavfreund  staff  24630 Sep 13 14:06 ODAS0.csv\n",
      "-rw-------  1 yoavfreund  staff  31833 Sep 13 14:06 ODAS2.csv\n",
      "-rw-------  1 yoavfreund  staff  30910 Sep 13 14:06 ODAS1.csv\n",
      "-rw-------  1 yoavfreund  staff  33846 Sep 13 20:21 ODAS3.csv\n",
      "-rw-------  1 yoavfreund  staff  99480 Sep 16 11:55 combined.csv\n"
     ]
    }
   ],
   "source": [
    "%pylab inline\n",
    "import pandas as pd\n",
    "%cd \"/Users/yoavfreund/Google Drive File Stream/My Drive/Microphone Arrays/CSV/\"\n",
    "!ls -lrt | tail"
   ]
  },
  {
   "cell_type": "code",
   "execution_count": 6,
   "metadata": {
    "ExecuteTime": {
     "end_time": "2019-09-16T19:05:01.887981Z",
     "start_time": "2019-09-16T19:05:01.853777Z"
    }
   },
   "outputs": [
    {
     "data": {
      "text/html": [
       "<div>\n",
       "<style scoped>\n",
       "    .dataframe tbody tr th:only-of-type {\n",
       "        vertical-align: middle;\n",
       "    }\n",
       "\n",
       "    .dataframe tbody tr th {\n",
       "        vertical-align: top;\n",
       "    }\n",
       "\n",
       "    .dataframe thead th {\n",
       "        text-align: right;\n",
       "    }\n",
       "</style>\n",
       "<table border=\"1\" class=\"dataframe\">\n",
       "  <thead>\n",
       "    <tr style=\"text-align: right;\">\n",
       "      <th></th>\n",
       "      <th>sensor</th>\n",
       "      <th>File</th>\n",
       "      <th>End Time</th>\n",
       "      <th>Timestamp Length(ms)</th>\n",
       "      <th>Total Timestamps</th>\n",
       "      <th>0 source detected</th>\n",
       "      <th>1 source detected</th>\n",
       "      <th>2 source detected</th>\n",
       "      <th>3 source detected</th>\n",
       "      <th>4 source detected</th>\n",
       "    </tr>\n",
       "    <tr>\n",
       "      <th>start time</th>\n",
       "      <th></th>\n",
       "      <th></th>\n",
       "      <th></th>\n",
       "      <th></th>\n",
       "      <th></th>\n",
       "      <th></th>\n",
       "      <th></th>\n",
       "      <th></th>\n",
       "      <th></th>\n",
       "      <th></th>\n",
       "    </tr>\n",
       "  </thead>\n",
       "  <tbody>\n",
       "    <tr>\n",
       "      <th>2019-09-09 14:50:11.480119</th>\n",
       "      <td>2</td>\n",
       "      <td>cSST_2019-09-09_14:50:11.log</td>\n",
       "      <td>2019-09-09 14:54:57.630740</td>\n",
       "      <td>7.9997</td>\n",
       "      <td>35770</td>\n",
       "      <td>34493</td>\n",
       "      <td>1277</td>\n",
       "      <td>0</td>\n",
       "      <td>0</td>\n",
       "      <td>0</td>\n",
       "    </tr>\n",
       "    <tr>\n",
       "      <th>2019-09-09 15:10:04.273825</th>\n",
       "      <td>2</td>\n",
       "      <td>cSST_2019-09-09_15:10:04.log</td>\n",
       "      <td>2019-09-09 15:14:49.993445</td>\n",
       "      <td>7.9980</td>\n",
       "      <td>35724</td>\n",
       "      <td>21707</td>\n",
       "      <td>13148</td>\n",
       "      <td>869</td>\n",
       "      <td>0</td>\n",
       "      <td>0</td>\n",
       "    </tr>\n",
       "    <tr>\n",
       "      <th>2019-09-09 15:15:04.313383</th>\n",
       "      <td>2</td>\n",
       "      <td>cSST_2019-09-09_15:15:04.log</td>\n",
       "      <td>2019-09-09 15:19:50.072515</td>\n",
       "      <td>7.9991</td>\n",
       "      <td>35724</td>\n",
       "      <td>13716</td>\n",
       "      <td>13804</td>\n",
       "      <td>6692</td>\n",
       "      <td>1389</td>\n",
       "      <td>123</td>\n",
       "    </tr>\n",
       "  </tbody>\n",
       "</table>\n",
       "</div>"
      ],
      "text/plain": [
       "                            sensor                          File  \\\n",
       "start time                                                         \n",
       "2019-09-09 14:50:11.480119       2  cSST_2019-09-09_14:50:11.log   \n",
       "2019-09-09 15:10:04.273825       2  cSST_2019-09-09_15:10:04.log   \n",
       "2019-09-09 15:15:04.313383       2  cSST_2019-09-09_15:15:04.log   \n",
       "\n",
       "                                              End Time  Timestamp Length(ms)  \\\n",
       "start time                                                                     \n",
       "2019-09-09 14:50:11.480119  2019-09-09 14:54:57.630740                7.9997   \n",
       "2019-09-09 15:10:04.273825  2019-09-09 15:14:49.993445                7.9980   \n",
       "2019-09-09 15:15:04.313383  2019-09-09 15:19:50.072515                7.9991   \n",
       "\n",
       "                            Total Timestamps  0 source detected  \\\n",
       "start time                                                        \n",
       "2019-09-09 14:50:11.480119             35770              34493   \n",
       "2019-09-09 15:10:04.273825             35724              21707   \n",
       "2019-09-09 15:15:04.313383             35724              13716   \n",
       "\n",
       "                            1 source detected  2 source detected  \\\n",
       "start time                                                         \n",
       "2019-09-09 14:50:11.480119               1277                  0   \n",
       "2019-09-09 15:10:04.273825              13148                869   \n",
       "2019-09-09 15:15:04.313383              13804               6692   \n",
       "\n",
       "                            3 source detected  4 source detected  \n",
       "start time                                                        \n",
       "2019-09-09 14:50:11.480119                  0                  0  \n",
       "2019-09-09 15:10:04.273825                  0                  0  \n",
       "2019-09-09 15:15:04.313383               1389                123  "
      ]
     },
     "execution_count": 6,
     "metadata": {},
     "output_type": "execute_result"
    }
   ],
   "source": [
    "from datetime import datetime\n",
    "Cols=['sensor','File', 'End Time', 'Timestamp Length(ms)',\n",
    "       'Total Timestamps', '0 source detected', '1 source detected',\n",
    "       '2 source detected', '3 source detected', '4 source detected']\n",
    "all_df=[]\n",
    "for i in range(3):\n",
    "    df=pd.read_csv('ODAS%d.csv'%i)\n",
    "    df['sensor']=i\n",
    "    df['start time']=[datetime.fromisoformat(t) for t in list(df['Start Time'])]\n",
    "    df=df.set_index('start time')\n",
    "    df=df.sort_index()\n",
    "    df=df[Cols]\n",
    "    all_df.append(df)\n",
    "all_df[2].head(3)"
   ]
  },
  {
   "cell_type": "code",
   "execution_count": 7,
   "metadata": {
    "ExecuteTime": {
     "end_time": "2019-09-16T19:05:13.987204Z",
     "start_time": "2019-09-16T19:05:13.972665Z"
    }
   },
   "outputs": [
    {
     "data": {
      "text/html": [
       "<div>\n",
       "<style scoped>\n",
       "    .dataframe tbody tr th:only-of-type {\n",
       "        vertical-align: middle;\n",
       "    }\n",
       "\n",
       "    .dataframe tbody tr th {\n",
       "        vertical-align: top;\n",
       "    }\n",
       "\n",
       "    .dataframe thead th {\n",
       "        text-align: right;\n",
       "    }\n",
       "</style>\n",
       "<table border=\"1\" class=\"dataframe\">\n",
       "  <thead>\n",
       "    <tr style=\"text-align: right;\">\n",
       "      <th></th>\n",
       "      <th>sensor</th>\n",
       "      <th>File</th>\n",
       "      <th>End Time</th>\n",
       "      <th>Timestamp Length(ms)</th>\n",
       "      <th>Total Timestamps</th>\n",
       "      <th>0 source detected</th>\n",
       "      <th>1 source detected</th>\n",
       "      <th>2 source detected</th>\n",
       "      <th>3 source detected</th>\n",
       "      <th>4 source detected</th>\n",
       "    </tr>\n",
       "    <tr>\n",
       "      <th>start time</th>\n",
       "      <th></th>\n",
       "      <th></th>\n",
       "      <th></th>\n",
       "      <th></th>\n",
       "      <th></th>\n",
       "      <th></th>\n",
       "      <th></th>\n",
       "      <th></th>\n",
       "      <th></th>\n",
       "      <th></th>\n",
       "    </tr>\n",
       "  </thead>\n",
       "  <tbody>\n",
       "    <tr>\n",
       "      <th>2019-09-09 14:45:11.427053</th>\n",
       "      <td>0</td>\n",
       "      <td>cSST_2019-09-09_14:45:11.log</td>\n",
       "      <td>2019-09-09 14:49:57.625110</td>\n",
       "      <td>7.9988</td>\n",
       "      <td>35780</td>\n",
       "      <td>8625</td>\n",
       "      <td>25197</td>\n",
       "      <td>1727</td>\n",
       "      <td>112</td>\n",
       "      <td>119</td>\n",
       "    </tr>\n",
       "    <tr>\n",
       "      <th>2019-09-09 14:45:12.438027</th>\n",
       "      <td>1</td>\n",
       "      <td>cSST_2019-09-09_14:45:12.log</td>\n",
       "      <td>2019-09-09 14:49:58.735869</td>\n",
       "      <td>7.9978</td>\n",
       "      <td>35797</td>\n",
       "      <td>29083</td>\n",
       "      <td>6624</td>\n",
       "      <td>90</td>\n",
       "      <td>0</td>\n",
       "      <td>0</td>\n",
       "    </tr>\n",
       "    <tr>\n",
       "      <th>2019-09-09 14:50:03.745063</th>\n",
       "      <td>0</td>\n",
       "      <td>cSST_2019-09-09_14:50:03.log</td>\n",
       "      <td>2019-09-09 14:54:50.063201</td>\n",
       "      <td>7.9973</td>\n",
       "      <td>35802</td>\n",
       "      <td>33544</td>\n",
       "      <td>2258</td>\n",
       "      <td>0</td>\n",
       "      <td>0</td>\n",
       "      <td>0</td>\n",
       "    </tr>\n",
       "    <tr>\n",
       "      <th>2019-09-09 14:50:11.480119</th>\n",
       "      <td>2</td>\n",
       "      <td>cSST_2019-09-09_14:50:11.log</td>\n",
       "      <td>2019-09-09 14:54:57.630740</td>\n",
       "      <td>7.9997</td>\n",
       "      <td>35770</td>\n",
       "      <td>34493</td>\n",
       "      <td>1277</td>\n",
       "      <td>0</td>\n",
       "      <td>0</td>\n",
       "      <td>0</td>\n",
       "    </tr>\n",
       "    <tr>\n",
       "      <th>2019-09-09 14:55:03.883986</th>\n",
       "      <td>1</td>\n",
       "      <td>cSST_2019-09-09_14:55:03.log</td>\n",
       "      <td>2019-09-09 14:59:50.172443</td>\n",
       "      <td>7.9978</td>\n",
       "      <td>35796</td>\n",
       "      <td>35203</td>\n",
       "      <td>593</td>\n",
       "      <td>0</td>\n",
       "      <td>0</td>\n",
       "      <td>0</td>\n",
       "    </tr>\n",
       "  </tbody>\n",
       "</table>\n",
       "</div>"
      ],
      "text/plain": [
       "                            sensor                          File  \\\n",
       "start time                                                         \n",
       "2019-09-09 14:45:11.427053       0  cSST_2019-09-09_14:45:11.log   \n",
       "2019-09-09 14:45:12.438027       1  cSST_2019-09-09_14:45:12.log   \n",
       "2019-09-09 14:50:03.745063       0  cSST_2019-09-09_14:50:03.log   \n",
       "2019-09-09 14:50:11.480119       2  cSST_2019-09-09_14:50:11.log   \n",
       "2019-09-09 14:55:03.883986       1  cSST_2019-09-09_14:55:03.log   \n",
       "\n",
       "                                              End Time  Timestamp Length(ms)  \\\n",
       "start time                                                                     \n",
       "2019-09-09 14:45:11.427053  2019-09-09 14:49:57.625110                7.9988   \n",
       "2019-09-09 14:45:12.438027  2019-09-09 14:49:58.735869                7.9978   \n",
       "2019-09-09 14:50:03.745063  2019-09-09 14:54:50.063201                7.9973   \n",
       "2019-09-09 14:50:11.480119  2019-09-09 14:54:57.630740                7.9997   \n",
       "2019-09-09 14:55:03.883986  2019-09-09 14:59:50.172443                7.9978   \n",
       "\n",
       "                            Total Timestamps  0 source detected  \\\n",
       "start time                                                        \n",
       "2019-09-09 14:45:11.427053             35780               8625   \n",
       "2019-09-09 14:45:12.438027             35797              29083   \n",
       "2019-09-09 14:50:03.745063             35802              33544   \n",
       "2019-09-09 14:50:11.480119             35770              34493   \n",
       "2019-09-09 14:55:03.883986             35796              35203   \n",
       "\n",
       "                            1 source detected  2 source detected  \\\n",
       "start time                                                         \n",
       "2019-09-09 14:45:11.427053              25197               1727   \n",
       "2019-09-09 14:45:12.438027               6624                 90   \n",
       "2019-09-09 14:50:03.745063               2258                  0   \n",
       "2019-09-09 14:50:11.480119               1277                  0   \n",
       "2019-09-09 14:55:03.883986                593                  0   \n",
       "\n",
       "                            3 source detected  4 source detected  \n",
       "start time                                                        \n",
       "2019-09-09 14:45:11.427053                112                119  \n",
       "2019-09-09 14:45:12.438027                  0                  0  \n",
       "2019-09-09 14:50:03.745063                  0                  0  \n",
       "2019-09-09 14:50:11.480119                  0                  0  \n",
       "2019-09-09 14:55:03.883986                  0                  0  "
      ]
     },
     "execution_count": 7,
     "metadata": {},
     "output_type": "execute_result"
    }
   ],
   "source": [
    "cdf=pd.concat(all_df)\n",
    "cdf=cdf.sort_index()\n",
    "cdf.head(5)"
   ]
  },
  {
   "cell_type": "code",
   "execution_count": 8,
   "metadata": {
    "ExecuteTime": {
     "end_time": "2019-09-16T19:05:26.752718Z",
     "start_time": "2019-09-16T19:05:26.729784Z"
    }
   },
   "outputs": [],
   "source": [
    "cdf.to_csv('combined.csv')"
   ]
  },
  {
   "cell_type": "code",
   "execution_count": 9,
   "metadata": {
    "ExecuteTime": {
     "end_time": "2019-09-16T19:05:43.794051Z",
     "start_time": "2019-09-16T19:05:43.665770Z"
    }
   },
   "outputs": [
    {
     "name": "stdout",
     "output_type": "stream",
     "text": [
      "Icon?        ODAS0.csv    ODAS1.csv    ODAS2.csv    ODAS3.csv    combined.csv\r\n"
     ]
    }
   ],
   "source": [
    "!ls"
   ]
  },
  {
   "cell_type": "code",
   "execution_count": null,
   "metadata": {},
   "outputs": [],
   "source": []
  }
 ],
 "metadata": {
  "hide_input": false,
  "kernelspec": {
   "display_name": "Python 3",
   "language": "python",
   "name": "python3"
  },
  "language_info": {
   "codemirror_mode": {
    "name": "ipython",
    "version": 3
   },
   "file_extension": ".py",
   "mimetype": "text/x-python",
   "name": "python",
   "nbconvert_exporter": "python",
   "pygments_lexer": "ipython3",
   "version": "3.7.2"
  },
  "toc": {
   "base_numbering": 1,
   "nav_menu": {},
   "number_sections": true,
   "sideBar": true,
   "skip_h1_title": false,
   "title_cell": "Table of Contents",
   "title_sidebar": "Contents",
   "toc_cell": false,
   "toc_position": {},
   "toc_section_display": true,
   "toc_window_display": false
  }
 },
 "nbformat": 4,
 "nbformat_minor": 2
}
