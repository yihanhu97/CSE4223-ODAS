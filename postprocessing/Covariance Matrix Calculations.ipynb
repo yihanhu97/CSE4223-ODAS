{
 "cells": [
  {
   "cell_type": "markdown",
   "metadata": {},
   "source": [
    "# Covariance Matrix Calculations"
   ]
  },
  {
   "cell_type": "markdown",
   "metadata": {},
   "source": [
    "## The following cell was used to download data from my local drive. Do not run it."
   ]
  },
  {
   "cell_type": "code",
   "execution_count": null,
   "metadata": {},
   "outputs": [],
   "source": [
    "#create data\n",
    "df = pd.DataFrame()\n",
    "for filename in glob.glob(\"/Volumes/Extreme SSD/ODAS_data/Ardel1/*.csv\"):\n",
    "    temp = pd.read_csv(filename)\n",
    "    df = df.append(temp)\n",
    "data = df.values\n",
    "data = data[:, 1:]"
   ]
  },
  {
   "cell_type": "markdown",
   "metadata": {},
   "source": [
    "## The following cell imports the .db file when run"
   ]
  },
  {
   "cell_type": "code",
   "execution_count": 1,
   "metadata": {},
   "outputs": [
    {
     "name": "stdout",
     "output_type": "stream",
     "text": [
      "../../Data/K_cluster_analysis.db\r\n"
     ]
    }
   ],
   "source": [
    "!ls ../../Data/K_cluster_analysis.db"
   ]
  },
  {
   "cell_type": "code",
   "execution_count": 2,
   "metadata": {},
   "outputs": [
    {
     "name": "stdout",
     "output_type": "stream",
     "text": [
      "CPU times: user 1.04 s, sys: 871 ms, total: 1.92 s\n",
      "Wall time: 2.33 s\n"
     ]
    }
   ],
   "source": [
    "%%time\n",
    "#run this to import\n",
    "try:\n",
    "    import dill\n",
    "except:\n",
    "    %pip install dill\n",
    "    import dill\n",
    "dill.load_session('../../Data/K_cluster_analysis.db')"
   ]
  },
  {
   "cell_type": "markdown",
   "metadata": {},
   "source": [
    "## The following cell saves the current notebook's state into the .db file."
   ]
  },
  {
   "cell_type": "code",
   "execution_count": null,
   "metadata": {},
   "outputs": [],
   "source": [
    "#run this to save\n",
    "try:\n",
    "    import dill\n",
    "except:\n",
    "    %pip install dill\n",
    "    import dill\n",
    "dill.dump_session('K_cluster_analysis.db')"
   ]
  },
  {
   "cell_type": "markdown",
   "metadata": {},
   "source": [
    "## Covariance matrix"
   ]
  },
  {
   "cell_type": "markdown",
   "metadata": {},
   "source": [
    "Below are the cells run in order to calculate Eigen Values and Vectors from the data. After running the import cell, you will have the following values:<br><br>\n",
    "data: all data points with 13 dimensions (the first column being '1' and the following 12 being the xyz's of the point)<br>\n",
    "cov: the calculated covariance matrix<br>\n",
    "eigen_values: eigen values of the covariance matrix<br>\n",
    "eigen_vectors: eigen vectors of the covariance matrix"
   ]
  },
  {
   "cell_type": "code",
   "execution_count": 3,
   "metadata": {},
   "outputs": [],
   "source": [
    "import pandas as pd\n",
    "import numpy as np\n",
    "from sklearn import decomposition\n",
    "from matplotlib import pyplot as plt\n",
    "import matplotlib.cm as cm\n",
    "from matplotlib.pyplot import figure\n",
    "import seaborn as sns\n",
    "from sklearn.cluster import KMeans\n",
    "import glob"
   ]
  },
  {
   "cell_type": "code",
   "execution_count": 4,
   "metadata": {},
   "outputs": [],
   "source": [
    "from numpy import linalg as LA\n",
    "\n",
    "def outerProduct(X):\n",
    "    \"\"\"Computer outer product and indicate which locations in matrix are undefined\"\"\"\n",
    "    O=np.outer(X,X)\n",
    "    N=1-np.isnan(O)\n",
    "    return (O,N)\n",
    "\n",
    "def sumWithNan(M1,M2):\n",
    "    \"\"\"Add two pairs of (matrix,count)\"\"\"\n",
    "    (X1,N1)=M1\n",
    "    (X2,N2)=M2\n",
    "    N=N1+N2\n",
    "    X=np.nansum(np.dstack((X1,X2)),axis=2)\n",
    "    return (X,N)"
   ]
  },
  {
   "cell_type": "code",
   "execution_count": 126,
   "metadata": {},
   "outputs": [
    {
     "name": "stdout",
     "output_type": "stream",
     "text": [
      "0:   4,  -4, 1e-05, 1e-08, 2e-16, 5e-22, -3e-22, -4e-27, -4e-27, -6e-31, -4e-74, -5e-58\n",
      "100:  -4,   4, 1e-05, -9e-18, -2e-21, -5e-23, -1e-25, 7e-37, -5e-39, -8e-71, 8e-87,   0\n",
      "200:   4,  -4, 4e-06, 1e-16, 6e-23, -5e-24, -7e-26, 8e-38, 4e-40,   0, 1e-72,   0\n",
      "300:   4,  -4, 2e-05, 1e-08, -9e-17, -4e-22, -3e-23, -4e-26, -5e-27, -6e-38, 5e-60,   0\n",
      "400:   4,  -4, 1e-05, -1e-16, 4e-23, 5e-22, 3e-26, 7e-40, 7e-40, 7e-71,   0,   0\n",
      "500:   4,  -4, 6e-06, -8e-17, 2e-22, 1e-22, 6e-27, 5e-38, 3e-39,   0, -3e-71,   0\n",
      "600:   4,  -4, 3e-05, 1e-08, 2e-22, 1e-16, 1e-24, 1e-24, 2e-31, 5e-26,   0, 1e-57\n",
      "700:   4,  -4, 2e-05, 8e-22, -1e-16, -2e-26, -1e-23, -6e-41, -3e-39,   0, 8e-73,   0\n",
      "800:  -4,   4, 1e-05, 2e-16, 2e-22, 2e-22, 3e-25, -1e-35, -1e-38, -3e-86, -5e-70,   0\n",
      "900:   4,  -4, 2e-05, 1e-08, -1e-16, 1e-22, 2e-21, 3e-25, -9e-26, -3e-30, -5e-58,   0\n",
      "CPU times: user 62.4 ms, sys: 12.9 ms, total: 75.3 ms\n",
      "Wall time: 67.2 ms\n"
     ]
    },
    {
     "name": "stderr",
     "output_type": "stream",
     "text": [
      "/Users/yoavfreund/opt/anaconda3/lib/python3.7/site-packages/ipykernel_launcher.py:24: ComplexWarning: Casting complex values to real discards the imaginary part\n"
     ]
    }
   ],
   "source": [
    "%%time\n",
    "block_size=100\n",
    "# calculate covariance matrix\n",
    "\n",
    "all_outters = np.zeros((13, 13))\n",
    "all_non_nan = np.zeros((13, 13))\n",
    "for j in range(0,block_size*10,block_size):\n",
    "    outters = np.zeros((13, 13))\n",
    "    non_nan = np.zeros((13, 13))\n",
    "    for i in range(j,j+block_size): #len(data)):\n",
    "        outters, non_nan = sumWithNan((outters, non_nan), outerProduct(data[i]))\n",
    "    all_outters +=outters\n",
    "    all_non_nan +=non_nan\n",
    "    \n",
    "    zeros=non_nan==0\n",
    "    non_nan[zeros]=1\n",
    "    outters[zeros]=1\n",
    "    \n",
    "    _cov = outters/non_nan\n",
    "    _cov = _cov[1:, 1:] - np.outer(_cov[0, 1:], _cov[0, 1:])\n",
    "\n",
    "    #eigen values\n",
    "    eigen_values, eigen_vectors = LA.eig(_cov)\n",
    "    \n",
    "    print('%d: '%j + ', '.join(['%3.1g'%v for v in list(eigen_values)]))"
   ]
  },
  {
   "cell_type": "code",
   "execution_count": 128,
   "metadata": {},
   "outputs": [
    {
     "data": {
      "text/plain": [
       "array([ 2.35701861e-01,  2.35702660e-01, -1.28574962e-06,  2.58809975e-09,\n",
       "       -1.17850240e-01,  3.14333173e-02,  8.70726760e-01, -2.71538175e-05,\n",
       "        2.36256162e-05, -2.01494281e-06, -2.92701723e-17,  5.56797299e-34])"
      ]
     },
     "execution_count": 128,
     "metadata": {},
     "output_type": "execute_result"
    }
   ],
   "source": [
    "eigen_vectors[0,:]"
   ]
  },
  {
   "cell_type": "code",
   "execution_count": 89,
   "metadata": {
    "scrolled": true
   },
   "outputs": [
    {
     "data": {
      "text/plain": [
       "[<matplotlib.lines.Line2D at 0x1a1df14f90>]"
      ]
     },
     "execution_count": 89,
     "metadata": {},
     "output_type": "execute_result"
    },
    {
     "data": {
      "image/png": "[encoded data removed]",
      "text/plain": [
       "<Figure size 432x288 with 1 Axes>"
      ]
     },
     "metadata": {
      "needs_background": "light"
     },
     "output_type": "display_data"
    }
   ],
   "source": [
    "plot(non_nan[0,1:])"
   ]
  },
  {
   "cell_type": "code",
   "execution_count": 90,
   "metadata": {},
   "outputs": [
    {
     "data": {
      "text/plain": [
       "array([-9.99838795e-01,  9.99840525e-01,  3.44039948e-06,  1.08814927e-05,\n",
       "        3.93786423e-04,  4.90619551e-05,  0.00000000e+00,  0.00000000e+00,\n",
       "        0.00000000e+00,  0.00000000e+00,  0.00000000e+00,  0.00000000e+00])"
      ]
     },
     "execution_count": 90,
     "metadata": {},
     "output_type": "execute_result"
    }
   ],
   "source": [
    "eigen_values"
   ]
  },
  {
   "cell_type": "code",
   "execution_count": 71,
   "metadata": {},
   "outputs": [
    {
     "data": {
      "text/plain": [
       "dtype('float64')"
      ]
     },
     "execution_count": 71,
     "metadata": {},
     "output_type": "execute_result"
    }
   ],
   "source": [
    "outters.dtype"
   ]
  },
  {
   "cell_type": "code",
   "execution_count": 72,
   "metadata": {
    "scrolled": true
   },
   "outputs": [
    {
     "data": {
      "text/plain": [
       "array([ 1.   ,    nan,    nan,    nan,    nan,    nan,    nan, -0.012,\n",
       "        0.   ,  1.   ,    nan,    nan,    nan])"
      ]
     },
     "execution_count": 72,
     "metadata": {},
     "output_type": "execute_result"
    }
   ],
   "source": [
    "data[4]"
   ]
  },
  {
   "cell_type": "code",
   "execution_count": 10,
   "metadata": {},
   "outputs": [
    {
     "name": "stdout",
     "output_type": "stream",
     "text": [
      "Populating the interactive namespace from numpy and matplotlib\n"
     ]
    },
    {
     "name": "stderr",
     "output_type": "stream",
     "text": [
      "/Users/yoavfreund/opt/anaconda3/lib/python3.7/site-packages/IPython/core/magics/pylab.py:160: UserWarning: pylab import has clobbered these variables: ['cov']\n",
      "`%matplotlib` prevents importing * from pylab and numpy\n",
      "  \"\\n`%matplotlib` prevents importing * from pylab and numpy\"\n"
     ]
    }
   ],
   "source": [
    "%pylab inline"
   ]
  },
  {
   "cell_type": "code",
   "execution_count": 83,
   "metadata": {},
   "outputs": [
    {
     "data": {
      "image/png": "[encoded data removed]",
      "text/plain": [
       "<Figure size 432x288 with 1 Axes>"
      ]
     },
     "metadata": {
      "needs_background": "light"
     },
     "output_type": "display_data"
    }
   ],
   "source": [
    "hist(outters[1:,1:].flatten(),13*13);"
   ]
  },
  {
   "cell_type": "code",
   "execution_count": 84,
   "metadata": {},
   "outputs": [
    {
     "data": {
      "image/png": "[encoded data removed]",
      "text/plain": [
       "<Figure size 432x288 with 1 Axes>"
      ]
     },
     "metadata": {
      "needs_background": "light"
     },
     "output_type": "display_data"
    }
   ],
   "source": [
    "hist(non_nan[1:,1:].flatten(),13*13);"
   ]
  },
  {
   "cell_type": "code",
   "execution_count": 52,
   "metadata": {},
   "outputs": [
    {
     "data": {
      "image/png": "[encoded data removed]",
      "text/plain": [
       "<Figure size 432x288 with 1 Axes>"
      ]
     },
     "metadata": {
      "needs_background": "light"
     },
     "output_type": "display_data"
    }
   ],
   "source": [
    "hist(data.flatten());"
   ]
  },
  {
   "cell_type": "code",
   "execution_count": null,
   "metadata": {},
   "outputs": [],
   "source": []
  }
 ],
 "metadata": {
  "kernelspec": {
   "display_name": "Python 3",
   "language": "python",
   "name": "python3"
  },
  "language_info": {
   "codemirror_mode": {
    "name": "ipython",
    "version": 3
   },
   "file_extension": ".py",
   "mimetype": "text/x-python",
   "name": "python",
   "nbconvert_exporter": "python",
   "pygments_lexer": "ipython3",
   "version": "3.7.6"
  },
  "toc": {
   "base_numbering": 1,
   "nav_menu": {},
   "number_sections": true,
   "sideBar": true,
   "skip_h1_title": false,
   "title_cell": "Table of Contents",
   "title_sidebar": "Contents",
   "toc_cell": false,
   "toc_position": {},
   "toc_section_display": true,
   "toc_window_display": false
  }
 },
 "nbformat": 4,
 "nbformat_minor": 4
}
