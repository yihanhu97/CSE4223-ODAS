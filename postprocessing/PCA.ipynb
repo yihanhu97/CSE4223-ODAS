{
 "cells": [
  {
   "cell_type": "code",
   "execution_count": null,
   "metadata": {},
   "outputs": [],
   "source": [
    "import numpy as np\n",
    "from numpy import linalg as LA\n",
    "# data -- 18*measurement topN -- how many PCs that we want to pick up?\n",
    "def PCA(data, topN):\n",
    "    num_measurement = data.shape[0] \n",
    "    num_feature = data.shape[1] #18\n",
    "    phi = np.zeros([num_feature,1])\n",
    "    for ii in range(num_measurement):\n",
    "        phi = phi + data[:,ii]\n",
    "    phi = phi / num_measurement\n",
    "    A = np.zeros(num_feature ,num_measurement)\n",
    "    # subtract the mean value of the total measurements\n",
    "    for ii in range(num_measurement):\n",
    "        A[:,ii] = data[:,ii] - phi   \n",
    "    # Construct the Covariance Matrix\n",
    "    C1 = np.matmul(A, A.T) # dim : 18*18\n",
    "    val, vec = LA.eig(C1)\n",
    "    sortedVal = np.sort(val)[::-1][:topN]\n",
    "    sortedVec = vec[:, val.argsort()[::-1]][:, :topN]\n",
    "    PC = np.zeros([num_feature, topN])\n",
    "    for jj in range(topN):\n",
    "        PC = PC.append(sortedVec.T[i])\n",
    "    return PC"
   ]
  }
 ],
 "metadata": {
  "kernelspec": {
   "display_name": "Python 3",
   "language": "python",
   "name": "python3"
  },
  "language_info": {
   "codemirror_mode": {
    "name": "ipython",
    "version": 3
   },
   "file_extension": ".py",
   "mimetype": "text/x-python",
   "name": "python",
   "nbconvert_exporter": "python",
   "pygments_lexer": "ipython3",
   "version": "3.7.4"
  }
 },
 "nbformat": 4,
 "nbformat_minor": 2
}
