{
 "cells": [
  {
   "cell_type": "code",
   "execution_count": 3,
   "metadata": {},
   "outputs": [],
   "source": [
    "import soundfile as sf\n",
    "import numpy as np\n",
    "import scipy as signal\n",
    "import matplotlib.pyplot as plt\n",
    "from functools import lru_cache"
   ]
  },
  {
   "cell_type": "code",
   "execution_count": 43,
   "metadata": {},
   "outputs": [],
   "source": [
    "# Load data\n",
    "data1,samplerate = sf.read('/Users/hyh/Desktop/Test Files/Postfiltered/postfiltered_2020-01-08_09_25_03_1.raw', \n",
    "               channels=4, \n",
    "               samplerate=16000,\n",
    "               subtype='PCM_16'\n",
    "              )\n",
    "data2,samplerate = sf.read('/Users/hyh/Desktop/Test Files/Postfiltered/postfiltered_2020-01-08_09_25_03_2.raw', \n",
    "               channels=4, \n",
    "               samplerate=16000,\n",
    "               subtype='PCM_16'\n",
    "              )"
   ]
  },
  {
   "cell_type": "code",
   "execution_count": 113,
   "metadata": {},
   "outputs": [],
   "source": [
    "def truncate(sig1, sig2):\n",
    "    '''\n",
    "    This function truncates the longer signal and return two signals of the same length\n",
    "    '''\n",
    "    l1, l2 = len(sig1), len(sig2)\n",
    "    if l1 <= l2:\n",
    "        return sig1, sig2[0:l1]\n",
    "    else:\n",
    "        return sig1[0:l2], sig2\n",
    "\n",
    "def prepadding(sig1, sig2, winDuration, Fs):\n",
    "    l = winDuration * Fs\n",
    "    N = len(sig1)    \n",
    "    # Padding to have an interger number of windows\n",
    "    if N%l != 0:\n",
    "        padWidth = l-N%l\n",
    "        sig1 = np.pad(sig1, (0, padWidth), 'constant', constant_values = 0)\n",
    "        sig2 = np.pad(sig2, (0, padWidth), 'constant', constant_values = 0)\n",
    "        \n",
    "    numOfWindows = len(sig1)/l\n",
    "    \n",
    "\n",
    "def gcc_phat(sig1, sig2, fs=16000, max_tau=None, interp=1):\n",
    "    '''\n",
    "    This function computes the offset between the signal sig and the reference signal refsig\n",
    "    using the Generalized Cross Correlation - Phase Transform (GCC-PHAT)method.\n",
    "    '''\n",
    "    # make sure the length for the FFT is larger or equal than len(sig) + len(refsig)\n",
    "    n = sig1.shape[0] \n",
    "\n",
    "    # Generalized Cross Correlation Phase Transform\n",
    "    SIG1 = np.fft.rfft(sig1, n=n)\n",
    "    SIG2 = np.fft.rfft(sig2, n=n)\n",
    "    R = SIG1 * np.conj(SIG2)\n",
    "\n",
    "    cc = np.fft.irfft(R / np.abs(R), n=(interp * n))\n",
    "\n",
    "    max_shift = int(interp * n / 2)\n",
    "    if max_tau:\n",
    "        max_shift = np.minimum(int(interp * fs * max_tau), max_shift)\n",
    "\n",
    "    cc = np.concatenate((cc[-max_shift:], cc[:max_shift+1]))\n",
    "\n",
    "    # find max cross correlation index\n",
    "    shift = np.argmax(np.abs(cc)) - max_shift\n",
    "\n",
    "    tau = np.float(shift / float(interp * fs))\n",
    "    \n",
    "    return tau, cc, R, SIG, SIG2"
   ]
  },
  {
   "cell_type": "code",
   "execution_count": 126,
   "metadata": {},
   "outputs": [],
   "source": [
    "'''\n",
    "Between two devices, each device generates 4 channels/arrays\n",
    "The number of possible gcc-phat combinations is (8!)/(2!(8-2)!) = 28\n",
    "'''\n",
    "'''\n",
    "         Fs: Sampling Frequency\n",
    "WinDuration: The length of the moving window in time (s)\n",
    "  tauPerWin: An array that keeps track of delay per window\n",
    "'''\n",
    "\n",
    "# This needs to be turned into a for loop for all 8 channels\n",
    "# Need to make sure the number of windows are the same across all comparisons\n",
    "\n",
    "sig1, sig2 = truncate(data1[:,0], data2[:,0])\n",
    "\n",
    "winDuration, Fs = 1, 16000\n",
    "\n",
    "    \n",
    "for i in range(0,numOfWindows):\n",
    "    sig1Temp, sig2Temp = sig1[i*l:l*(i+1)], sig2[i*l:l*(i+1)]\n",
    "    \n",
    "    \n",
    "\n",
    "\n",
    "\n",
    "\n",
    "windowDuration, Fs = 1, 16000\n",
    "window = np.hanning(16000)\n",
    "max_tau = 5/340\n",
    "# The number of samples in each window\n",
    "l = windowDuration * Fs\n",
    "N = len(sig1)\n",
    "for i in range(98,99):\n",
    "    sig1Temp, sig2Temp = sig1[i*l:l*(i+1)], sig2[i*l:l*(i+1)]\n",
    "tau, cc, R, SIG, SIG2 = gcc_phat(sig1Temp*window, sig2Temp*window, fs=16000, max_tau=max_tau, interp=1)"
   ]
  },
  {
   "cell_type": "code",
   "execution_count": 4,
   "metadata": {},
   "outputs": [
    {
     "name": "stderr",
     "output_type": "stream",
     "text": [
      "C:\\Users\\lenovo\\Anaconda3\\lib\\site-packages\\ipykernel_launcher.py:33: RuntimeWarning: divide by zero encountered in true_divide\n",
      "C:\\Users\\lenovo\\Anaconda3\\lib\\site-packages\\ipykernel_launcher.py:34: RuntimeWarning: invalid value encountered in multiply\n"
     ]
    }
   ],
   "source": [
    "\n",
    "# The number of samples in each window\n",
    "l = windowDuration * Fs\n",
    "N = len(sig1)\n",
    "# Padding\n",
    "if N%l != 0:\n",
    "    padWidth = l-N%l\n",
    "    sig1 = np.pad(sig1, (0, padWidth), 'constant', constant_values = 0)\n",
    "    sig2 = np.pad(sig2, (0, padWidth), 'constant', constant_values = 0)\n",
    "    \n",
    "numOfWindows = len(sig1)/l\n",
    "for i in range(100,101):\n",
    "    sig1Temp, sig2Temp = sig1[i*l:l*(i+1)], sig2[i*l:l*(i+1)]\n",
    "    [f,crossSpectrum] = signal.csd(sig1Temp, sig2Temp, \n",
    "                                   nperseg=l,                   \n",
    "                                   fs=16000.0, \n",
    "                                   window='hamming',\n",
    "                                   return_onesided=False, \n",
    "                                   scaling='spectrum')\n",
    "    weight = 1/np.abs(crossSpectrum)\n",
    "    Rxy = np.fft.ifft(np.multiply(weight,crossSpectrum))\n"
   ]
  },
  {
   "cell_type": "code",
   "execution_count": 1,
   "metadata": {},
   "outputs": [
    {
     "ename": "NameError",
     "evalue": "name 'np' is not defined",
     "output_type": "error",
     "traceback": [
      "\u001b[0;31m---------------------------------------------------------------------------\u001b[0m",
      "\u001b[0;31mNameError\u001b[0m                                 Traceback (most recent call last)",
      "\u001b[0;32m<ipython-input-1-6b02e860e7b9>\u001b[0m in \u001b[0;36m<module>\u001b[0;34m\u001b[0m\n\u001b[0;32m----> 1\u001b[0;31m \u001b[0msig1Temp\u001b[0m \u001b[0;34m=\u001b[0m \u001b[0;34m(\u001b[0m\u001b[0;36m10\u001b[0m\u001b[0;34m**\u001b[0m\u001b[0;34m(\u001b[0m\u001b[0;34m-\u001b[0m\u001b[0;36m1\u001b[0m\u001b[0;34m)\u001b[0m\u001b[0;34m)\u001b[0m\u001b[0;34m*\u001b[0m\u001b[0mnp\u001b[0m\u001b[0;34m.\u001b[0m\u001b[0mones\u001b[0m\u001b[0;34m(\u001b[0m\u001b[0;36m16000\u001b[0m\u001b[0;34m)\u001b[0m\u001b[0;34m\u001b[0m\u001b[0;34m\u001b[0m\u001b[0m\n\u001b[0m",
      "\u001b[0;31mNameError\u001b[0m: name 'np' is not defined"
     ]
    }
   ],
   "source": [
    "sig1Temp = (10**(-1))*np.ones(16000)"
   ]
  },
  {
   "cell_type": "code",
   "execution_count": 6,
   "metadata": {},
   "outputs": [
    {
     "data": {
      "text/plain": [
       "28.0"
      ]
     },
     "execution_count": 6,
     "metadata": {},
     "output_type": "execute_result"
    }
   ],
   "source": [
    "# @lru_cache\n",
    "# def fact(n):\n",
    "#     if n <= 1:\n",
    "#         return 1\n",
    "#     return n * fact(n-1)\n",
    "\n",
    "# fact(8)/fact(2)/fact(6)"
   ]
  },
  {
   "cell_type": "code",
   "execution_count": null,
   "metadata": {},
   "outputs": [],
   "source": []
  }
 ],
 "metadata": {
  "kernelspec": {
   "display_name": "Python 3",
   "language": "python",
   "name": "python3"
  },
  "language_info": {
   "codemirror_mode": {
    "name": "ipython",
    "version": 3
   },
   "file_extension": ".py",
   "mimetype": "text/x-python",
   "name": "python",
   "nbconvert_exporter": "python",
   "pygments_lexer": "ipython3",
   "version": "3.8.0"
  }
 },
 "nbformat": 4,
 "nbformat_minor": 2
}
