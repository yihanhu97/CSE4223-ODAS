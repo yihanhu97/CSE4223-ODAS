{
 "cells": [
  {
   "cell_type": "code",
   "execution_count": 8,
   "metadata": {},
   "outputs": [],
   "source": [
    "import soundfile as sf\n",
    "data1,samplerate = sf.read('/Users/hyh/Desktop/Test Files/Postfiltered/postfiltered_2020-01-08_09_25_03_2.raw', \n",
    "               channels=4, \n",
    "               samplerate=16000,\n",
    "               subtype='PCM_16'\n",
    "              )\n",
    "data2,samplerate = sf.read('/Users/hyh/Desktop/Test Files/Postfiltered/postfiltered_2020-01-08_09_25_03_3.raw', \n",
    "               channels=4, \n",
    "               samplerate=16000,\n",
    "               subtype='PCM_16'\n",
    "              )"
   ]
  },
  {
   "cell_type": "code",
   "execution_count": 8,
   "metadata": {},
   "outputs": [],
   "source": [
    "from scipy import signal\n",
    "corr1 = signal.correlate(data1[:,0],data1[:,0],method='fft')/len(data1[:,0])"
   ]
  },
  {
   "cell_type": "code",
   "execution_count": 6,
   "metadata": {},
   "outputs": [
    {
     "data": {
      "image/png": "[encoded data removed]",
      "text/plain": [
       "<Figure size 432x288 with 1 Axes>"
      ]
     },
     "metadata": {
      "needs_background": "light"
     },
     "output_type": "display_data"
    }
   ],
   "source": [
    "corr2 = signal.correlate(data1[:,0],data1[:,1],method='fft')/len(data1[:,0])\n",
    "plt.plot(corr2)\n",
    "plt.show()"
   ]
  },
  {
   "cell_type": "code",
   "execution_count": 3,
   "metadata": {},
   "outputs": [],
   "source": [
    "# FFT & Normalization\n",
    "import numpy as np\n",
    "fft1 = np.fft.fft(data1[:,0],n=1024, norm=None)\n",
    "fft2 = np.fft.fft(data2[:,0],n=1024, norm=None)"
   ]
  },
  {
   "cell_type": "code",
   "execution_count": 87,
   "metadata": {},
   "outputs": [],
   "source": [
    "# Truncate signal, based on the signal that has the shorter length\n",
    "def truncate(sig1, sig2):\n",
    "    l1, l2 = len(sig1), len(sig2)\n",
    "    if l1 <= l2:\n",
    "        return sig1, sig2[0:l1]\n",
    "    else:\n",
    "        return sig1[0:l2], sig2\n",
    "\n",
    "# PHAT Transfrorm \n",
    "def phatTransform(sig1, sig2, windowDuration, Fs, ):\n",
    "    # Fs: Sampling Frequency\n",
    "    # WindowDuration: the length of moving window in time (s)\n",
    "    l = windowDuration * Fs\n",
    "    N = len(sig1)\n",
    "    # Padding\n",
    "    if N%l != 0:\n",
    "        padWidth = l-N%l\n",
    "        sig1 = np.pad(sig1, (0, padWidth), 'constant', constant_values = 0)\n",
    "        sig2 = np.pad(sig2, (0, padWidth), 'constant', constant_values = 0)\n",
    "    numOfWindows = len(sig1)/l\n",
    "    for i in range(0,numOfWindows):\n",
    "        sig1Temp, sig2Temp = sig1[i*l:l*(i+1)], sig2[i*l:l*(i+1)]\n",
    "        Fsig1 = np.fft.fft(sig1Temp)\n",
    "        Fsig2 = np.fft.fft(sig2Temp)\n",
    "        # Normalize magnitude to 1\n",
    "        phat1 = np.exp(1j*np.angle(Fsig1))\n",
    "        phat2 = np.exp(1j*np.angle(Fsig2))\n",
    "        # Element wise multiplication\n",
    "        product = np.multiply(phat1, phat2)\n",
    "        # Inverse fourier transform\n",
    "        IFFT = np.abs(np.fft.ifft(product))\n",
    "        # Statistics\n",
    "        maxValue, argmax, mean, std = max(IFFT), np.argmax(IFFT), np.mean(IFFT), np.std(IFFT)\n",
    "        significance = (maxValue - mean) / std\n",
    "        normalized = (IFFT-mean)/std\n",
    "    "
   ]
  },
  {
   "cell_type": "code",
   "execution_count": 88,
   "metadata": {},
   "outputs": [],
   "source": [
    "import numpy as np\n",
    "\n",
    "# Truncate signal, based on the signal that has the shorter length\n",
    "def truncate(sig1, sig2):\n",
    "    l1, l2 = len(sig1), len(sig2)\n",
    "    if l1 <= l2:\n",
    "        return sig1, sig2[0:l1]\n",
    "    else:\n",
    "        return sig1[0:l2], sig2\n",
    "    \n",
    "sig1, sig2 = truncate(data1[:,0], data2[:,1])\n",
    "\n",
    "windowDuration, Fs = 1, 16000\n",
    "l = windowDuration * Fs\n",
    "N = len(sig1)\n",
    "# Padding\n",
    "if N%l != 0:\n",
    "    padWidth = l-N%l\n",
    "    sig1 = np.pad(sig1, (0, padWidth), 'constant', constant_values = 0)\n",
    "    sig2 = np.pad(sig2, (0, padWidth), 'constant', constant_values = 0)\n",
    "    \n",
    "numOfWindows = len(sig1)/l\n",
    "for i in range(99,100):\n",
    "    sig1Temp, sig2Temp = sig1[i*l:l*(i+1)], sig2[i*l:l*(i+1)]\n",
    "    Fsig1 = np.fft.fft(sig1Temp)\n",
    "    Fsig2 = np.fft.fft(sig2Temp)\n",
    "    \n",
    "    phat1 = np.exp(1j*np.angle(Fsig1))\n",
    "    phat2 = np.exp(1j*np.angle(Fsig2))\n",
    "    \n",
    "    product = np.multiply(phat1, phat2)\n",
    "    IFFT = np.abs(np.fft.ifft(product))\n",
    "    \n",
    "maxValue, argmax, mean, std = max(IFFT), np.argmax(IFFT), np.mean(IFFT), np.std(IFFT)\n",
    "significance = (maxValue - mean) / std\n",
    "normalized = (IFFT-mean)/std    "
   ]
  },
  {
   "cell_type": "code",
   "execution_count": 90,
   "metadata": {},
   "outputs": [
    {
     "data": {
      "text/plain": [
       "80.92499330938445"
      ]
     },
     "execution_count": 90,
     "metadata": {},
     "output_type": "execute_result"
    }
   ],
   "source": [
    "significance"
   ]
  },
  {
   "cell_type": "code",
   "execution_count": 86,
   "metadata": {},
   "outputs": [
    {
     "data": {
      "text/plain": [
       "[<matplotlib.lines.Line2D at 0x1318867f0>]"
      ]
     },
     "execution_count": 86,
     "metadata": {},
     "output_type": "execute_result"
    },
    {
     "data": {
      "image/png": "[encoded data removed]",
      "text/plain": [
       "<Figure size 432x288 with 1 Axes>"
      ]
     },
     "metadata": {
      "needs_background": "light"
     },
     "output_type": "display_data"
    }
   ],
   "source": [
    "import matplotlib.pyplot as plt\n",
    "plt.plot(normalized[100:8000])"
   ]
  },
  {
   "cell_type": "code",
   "execution_count": null,
   "metadata": {},
   "outputs": [],
   "source": []
  }
 ],
 "metadata": {
  "kernelspec": {
   "display_name": "Python 3",
   "language": "python",
   "name": "python3"
  },
  "language_info": {
   "codemirror_mode": {
    "name": "ipython",
    "version": 3
   },
   "file_extension": ".py",
   "mimetype": "text/x-python",
   "name": "python",
   "nbconvert_exporter": "python",
   "pygments_lexer": "ipython3",
   "version": "3.8.0"
  }
 },
 "nbformat": 4,
 "nbformat_minor": 2
}
