{
 "cells": [
  {
   "cell_type": "code",
   "execution_count": 18,
   "metadata": {},
   "outputs": [],
   "source": [
    "import pandas as pd\n",
    "import numpy as np\n",
    "import copy"
   ]
  },
  {
   "cell_type": "code",
   "execution_count": 15,
   "metadata": {},
   "outputs": [],
   "source": [
    "def main(date, starting_hour=0, num_hours=24): \n",
    "    matricies = []\n",
    "    ending_hour = starting_hour + num_hours\n",
    "    if(ending_hour >= 25):\n",
    "        print(\"Hours must end before end of day.\")\n",
    "        return\n",
    "    \n",
    "    hours = []\n",
    "    for i in range(starting_hour, ending_hour):\n",
    "        if(i > 9):\n",
    "            hours.append(str(i))\n",
    "        else:\n",
    "            hours.append('0' + str(i))\n",
    "    for hour in hours:\n",
    "        df = read_csv('/home/ardelalegre/google-drive/ODAS/dataframes/combined/date/' + hour + '.csv')\n",
    "        temp = convert_single(df)\n",
    "        try:\n",
    "            matricies = matricies.append(temp)\n",
    "        except:\n",
    "            print(\"Too many hours\")\n",
    "    matrix = np.asarray(matricies)\n",
    "    return matrix"
   ]
  },
  {
   "cell_type": "code",
   "execution_count": 59,
   "metadata": {},
   "outputs": [],
   "source": [
    "def source_matching_single(dfs):\n",
    "    \n",
    "    df = dfs.drop_duplicates(subset=['Time In Seconds', 'Microphone Number'])\n",
    "    \n",
    "    master_list = []\n",
    "    start_time = df['Time In Seconds'].iloc[0]\n",
    "    split = start_time + 0.008\n",
    "    \n",
    "\n",
    "    end_time = df['Time In Seconds'].iloc[-1]\n",
    "    temp = df.iloc[0]\n",
    "    temp['X'] = None\n",
    "    temp['Y'] = None\n",
    "    temp['Z'] = None\n",
    "    temp['Microphone Number'] = None\n",
    "    array_0 = temp \n",
    "    array_1 = temp\n",
    "    array_2 = temp\n",
    "    array_3 = temp\n",
    "    counter = 0\n",
    "    #Assuming only 1 channel for each array\n",
    "    \n",
    "    for row in df.iterrows():\n",
    "        if row[1]['Time In Seconds'] >= split:\n",
    "            data_point = [None] * 13\n",
    "            data_point[0] = array_0['X']\n",
    "            data_point[1] = array_0['Y']\n",
    "            data_point[2] = array_0['Z']\n",
    "            data_point[3] = array_1['X']\n",
    "            data_point[4] = array_1['Y']\n",
    "            data_point[5] = array_1['Z']\n",
    "            data_point[6] = array_2['X']\n",
    "            data_point[7] = array_2['Y']\n",
    "            data_point[8] = array_2['Z']\n",
    "            data_point[9] = array_3['X']\n",
    "            data_point[10] = array_3['Y']\n",
    "            data_point[11] = array_3['Z']\n",
    "            data_point[12] = split - .008\n",
    "            \n",
    "            if data_point[0] != None  or data_point[3] != None or  data_point[6] != None or data_point[9] != None:\n",
    "                master_list.append(data_point)\n",
    "\n",
    "            filler = copy.copy(row[1])\n",
    "            filler['X'] = None\n",
    "            filler['Y'] = None\n",
    "            filler['Z'] = None\n",
    "            array_0 = filler\n",
    "            array_1 = filler\n",
    "            array_2 = filler\n",
    "            array_3 = filler\n",
    "            \n",
    "            split = row[1]['Time In Seconds'] + 0.008\n",
    "\n",
    "            \n",
    "                \n",
    "        if row[1]['Microphone Number'] == 0:\n",
    "            array_0 = row[1]\n",
    "            \n",
    "        elif row[1]['Microphone Number'] == 1:\n",
    "            array_1 = row[1]\n",
    "            \n",
    "        elif row[1]['Microphone Number'] == 2:\n",
    "            array_2 = row[1]\n",
    "\n",
    "        else:\n",
    "            array_3 = row[1]\n",
    "    \n",
    "    return master_list\n",
    "\n"
   ]
  },
  {
   "cell_type": "code",
   "execution_count": 13,
   "metadata": {},
   "outputs": [],
   "source": [
    "data = pd.read_csv('/home/ardelalegre/google-drive/ODAS/dataframes/combined/2020-01-08/11.csv')"
   ]
  },
  {
   "cell_type": "code",
   "execution_count": 60,
   "metadata": {},
   "outputs": [
    {
     "name": "stdout",
     "output_type": "stream",
     "text": [
      "419929\n",
      "419929\n"
     ]
    },
    {
     "name": "stderr",
     "output_type": "stream",
     "text": [
      "/home/ardelalegre/.local/lib/python3.5/site-packages/ipykernel_launcher.py:10: SettingWithCopyWarning: \n",
      "A value is trying to be set on a copy of a slice from a DataFrame\n",
      "\n",
      "See the caveats in the documentation: http://pandas.pydata.org/pandas-docs/stable/indexing.html#indexing-view-versus-copy\n",
      "  # Remove the CWD from sys.path while we load stuff.\n",
      "/home/ardelalegre/.local/lib/python3.5/site-packages/ipykernel_launcher.py:11: SettingWithCopyWarning: \n",
      "A value is trying to be set on a copy of a slice from a DataFrame\n",
      "\n",
      "See the caveats in the documentation: http://pandas.pydata.org/pandas-docs/stable/indexing.html#indexing-view-versus-copy\n",
      "  # This is added back by InteractiveShellApp.init_path()\n",
      "/home/ardelalegre/.local/lib/python3.5/site-packages/ipykernel_launcher.py:12: SettingWithCopyWarning: \n",
      "A value is trying to be set on a copy of a slice from a DataFrame\n",
      "\n",
      "See the caveats in the documentation: http://pandas.pydata.org/pandas-docs/stable/indexing.html#indexing-view-versus-copy\n",
      "  if sys.path[0] == '':\n",
      "/home/ardelalegre/.local/lib/python3.5/site-packages/ipykernel_launcher.py:13: SettingWithCopyWarning: \n",
      "A value is trying to be set on a copy of a slice from a DataFrame\n",
      "\n",
      "See the caveats in the documentation: http://pandas.pydata.org/pandas-docs/stable/indexing.html#indexing-view-versus-copy\n",
      "  del sys.path[0]\n"
     ]
    }
   ],
   "source": [
    "lol = source_matching_single(data)"
   ]
  },
  {
   "cell_type": "code",
   "execution_count": 62,
   "metadata": {},
   "outputs": [
    {
     "data": {
      "text/plain": [
       "[[-0.066,\n",
       "  0.021,\n",
       "  0.998,\n",
       "  None,\n",
       "  None,\n",
       "  None,\n",
       "  None,\n",
       "  None,\n",
       "  None,\n",
       "  None,\n",
       "  None,\n",
       "  None,\n",
       "  1578510030.902675],\n",
       " [-0.066,\n",
       "  0.021,\n",
       "  0.998,\n",
       "  None,\n",
       "  None,\n",
       "  None,\n",
       "  None,\n",
       "  None,\n",
       "  None,\n",
       "  None,\n",
       "  None,\n",
       "  None,\n",
       "  1578510030.9186738],\n",
       " [-0.066,\n",
       "  0.021,\n",
       "  0.998,\n",
       "  None,\n",
       "  None,\n",
       "  None,\n",
       "  None,\n",
       "  None,\n",
       "  None,\n",
       "  None,\n",
       "  None,\n",
       "  None,\n",
       "  1578510030.934673],\n",
       " [-0.066,\n",
       "  0.021,\n",
       "  0.998,\n",
       "  None,\n",
       "  None,\n",
       "  None,\n",
       "  None,\n",
       "  None,\n",
       "  None,\n",
       "  None,\n",
       "  None,\n",
       "  None,\n",
       "  1578510030.9506724],\n",
       " [-0.066,\n",
       "  0.021,\n",
       "  0.998,\n",
       "  None,\n",
       "  None,\n",
       "  None,\n",
       "  None,\n",
       "  None,\n",
       "  None,\n",
       "  None,\n",
       "  None,\n",
       "  None,\n",
       "  1578510030.9666715],\n",
       " [-0.066,\n",
       "  0.021,\n",
       "  0.998,\n",
       "  None,\n",
       "  None,\n",
       "  None,\n",
       "  None,\n",
       "  None,\n",
       "  None,\n",
       "  None,\n",
       "  None,\n",
       "  None,\n",
       "  1578510030.9746716],\n",
       " [-0.066,\n",
       "  0.021,\n",
       "  0.998,\n",
       "  None,\n",
       "  None,\n",
       "  None,\n",
       "  None,\n",
       "  None,\n",
       "  None,\n",
       "  None,\n",
       "  None,\n",
       "  None,\n",
       "  1578510030.9906704],\n",
       " [-0.066,\n",
       "  0.021,\n",
       "  0.998,\n",
       "  None,\n",
       "  None,\n",
       "  None,\n",
       "  None,\n",
       "  None,\n",
       "  None,\n",
       "  None,\n",
       "  None,\n",
       "  None,\n",
       "  1578510031.0066698],\n",
       " [-0.066,\n",
       "  0.021,\n",
       "  0.998,\n",
       "  None,\n",
       "  None,\n",
       "  None,\n",
       "  None,\n",
       "  None,\n",
       "  None,\n",
       "  None,\n",
       "  None,\n",
       "  None,\n",
       "  1578510031.0226688],\n",
       " [-0.066,\n",
       "  0.021,\n",
       "  0.998,\n",
       "  None,\n",
       "  None,\n",
       "  None,\n",
       "  None,\n",
       "  None,\n",
       "  None,\n",
       "  None,\n",
       "  None,\n",
       "  None,\n",
       "  1578510031.0386682]]"
      ]
     },
     "execution_count": 62,
     "metadata": {},
     "output_type": "execute_result"
    }
   ],
   "source": [
    "lol[:10]"
   ]
  },
  {
   "cell_type": "code",
   "execution_count": 25,
   "metadata": {},
   "outputs": [
    {
     "data": {
      "text/plain": [
       "419929"
      ]
     },
     "execution_count": 25,
     "metadata": {},
     "output_type": "execute_result"
    }
   ],
   "source": [
    "len(data)"
   ]
  },
  {
   "cell_type": "code",
   "execution_count": 39,
   "metadata": {},
   "outputs": [
    {
     "name": "stdout",
     "output_type": "stream",
     "text": [
      "0.007749795913696289\n"
     ]
    }
   ],
   "source": [
    "one = 1578510188.7671757\n",
    "two = 1578510188.7749255\n",
    "three = 1578510188.775175\n",
    "four = 1578510188.7829244\n",
    "print(two - one)"
   ]
  },
  {
   "cell_type": "code",
   "execution_count": 66,
   "metadata": {},
   "outputs": [
    {
     "data": {
      "text/plain": [
       "0.00800013542175293"
      ]
     },
     "execution_count": 66,
     "metadata": {},
     "output_type": "execute_result"
    }
   ],
   "source": [
    "one = 1578510030.90267\n",
    "two = 1578510030.91067\n",
    "three = 1578510030.91867\n",
    "two - one"
   ]
  },
  {
   "cell_type": "code",
   "execution_count": null,
   "metadata": {},
   "outputs": [],
   "source": []
  }
 ],
 "metadata": {
  "kernelspec": {
   "display_name": "Python 3",
   "language": "python",
   "name": "python3"
  },
  "language_info": {
   "codemirror_mode": {
    "name": "ipython",
    "version": 3
   },
   "file_extension": ".py",
   "mimetype": "text/x-python",
   "name": "python",
   "nbconvert_exporter": "python",
   "pygments_lexer": "ipython3",
   "version": "3.5.2"
  }
 },
 "nbformat": 4,
 "nbformat_minor": 4
}
