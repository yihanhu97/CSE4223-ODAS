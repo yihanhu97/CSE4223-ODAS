{
 "cells": [
  {
   "cell_type": "markdown",
   "metadata": {},
   "source": [
    "# pandasToMatrix\n",
    "### Sumarry\n",
    "pandas to matrix accepts a date (##-##-20##), starting hour, total number of hours, and multiple source indicator as its parameters. pandasToMatrix will take the dataframes given these parameters and return a 13 dimensional matrix that represents the dataframes."
   ]
  },
  {
   "cell_type": "code",
   "execution_count": 17,
   "metadata": {},
   "outputs": [],
   "source": [
    "import pandas as pd\n",
    "import numpy as np\n",
    "import copy\n",
    "import os"
   ]
  },
  {
   "cell_type": "code",
   "execution_count": 2,
   "metadata": {},
   "outputs": [],
   "source": [
    "def source_matching_single(dfs):\n",
    "    \n",
    "    df = dfs.drop_duplicates(subset=['Time In Seconds', 'Microphone Number'])\n",
    "    \n",
    "    master_list = []\n",
    "    start_time = df['Time In Seconds'][0]\n",
    "    split = start_time + 0.0077\n",
    "    \n",
    "\n",
    "    end_time = df['Time In Seconds'].iloc[-1]\n",
    "    temp = df.iloc[0]\n",
    "    temp['X'] = None\n",
    "    temp['Y'] = None\n",
    "    temp['Z'] = None\n",
    "    temp['Microphone Number'] = None\n",
    "    array_0 = temp \n",
    "    array_1 = temp\n",
    "    array_2 = temp\n",
    "    array_3 = temp\n",
    "    counter = 0\n",
    "    #Assuming only 1 channel for each array\n",
    "    \n",
    "    for row in df.iterrows():\n",
    "        if row[1]['Time In Seconds'] >= split:\n",
    "            data_point = [None] * 13\n",
    "            data_point[0] = array_0['X']\n",
    "            data_point[1] = array_0['Y']\n",
    "            data_point[2] = array_0['Z']\n",
    "            data_point[3] = array_1['X']\n",
    "            data_point[4] = array_1['Y']\n",
    "            data_point[5] = array_1['Z']\n",
    "            data_point[6] = array_2['X']\n",
    "            data_point[7] = array_2['Y']\n",
    "            data_point[8] = array_2['Z']\n",
    "            data_point[9] = array_3['X']\n",
    "            data_point[10] = array_3['Y']\n",
    "            data_point[11] = array_3['Z']\n",
    "            data_point[12] = split - .0077\n",
    "            \n",
    "            if data_point[0] != None  or data_point[3] != None or  data_point[6] != None or data_point[9] != None:\n",
    "                master_list.append(data_point)\n",
    "\n",
    "            filler = copy.copy(row[1])\n",
    "            filler['X'] = None\n",
    "            filler['Y'] = None\n",
    "            filler['Z'] = None\n",
    "            array_0 = filler\n",
    "            array_1 = filler\n",
    "            array_2 = filler\n",
    "            array_3 = filler\n",
    "            \n",
    "            split = row[1]['Time In Seconds'] + 0.0077\n",
    "\n",
    "            \n",
    "                \n",
    "        if row[1]['Microphone Number'] == 0:\n",
    "            array_0 = row[1]\n",
    "            \n",
    "        elif row[1]['Microphone Number'] == 1:\n",
    "            array_1 = row[1]\n",
    "            \n",
    "        elif row[1]['Microphone Number'] == 2:\n",
    "            array_2 = row[1]\n",
    "\n",
    "        else:\n",
    "            array_3 = row[1]\n",
    "    \n",
    "    return master_list"
   ]
  },
  {
   "cell_type": "code",
   "execution_count": 29,
   "metadata": {},
   "outputs": [],
   "source": [
    "def non_contiguous_hours_extractor(date, path):\n",
    "    list_dir = os.listdir(path)\n",
    "    list_dir_nums = []\n",
    "    for i in list_dir:\n",
    "        list_dir_nums.append(int(i[:-4]))\n",
    "    list_dir_nums.sort()\n",
    "    return list_dir_nums"
   ]
  },
  {
   "cell_type": "code",
   "execution_count": 44,
   "metadata": {},
   "outputs": [],
   "source": [
    "def main(date, starting_hour=1, num_hours=1, multiple_sources=False):\n",
    "    \"\"\" Given the date, starting hour, and number of hours, this function processes combined csv\n",
    "    files on the ODAS google drive folder and gives the corresponding matrix as the output.\"\"\"\n",
    "    \n",
    "    date_path_combined = '/home/ardelalegre/google-drive/ODAS/dataframes/combined/'+ date\n",
    "    \n",
    "    matricies = []\n",
    "    ending_hour = starting_hour + num_hours\n",
    "    if(ending_hour >= 25):\n",
    "        print(\"Hours must end before end of day.\")\n",
    "        return\n",
    "            \n",
    "    hours_ints = non_contiguous_hours_extractor(date,date_path_combined)\n",
    "    hours = []\n",
    "    \n",
    "    for i in hours_ints:\n",
    "        if(i > 9):\n",
    "            hours.append(str(i))\n",
    "        else:\n",
    "            hours.append('0' + str(i))\n",
    "\n",
    "    for hour in hours:\n",
    "        df = pd.read_csv(date_path_combined+'/' + str(hour) + '.csv')\n",
    "        if(multiple_sources):\n",
    "            pass\n",
    "        else:\n",
    "            temp = source_matching_single(df) # earlier convert_single\n",
    "            \n",
    "        try:\n",
    "            matricies = matricies.append(temp)\n",
    "        except:\n",
    "            print(\"Too many hours\")\n",
    "    matrix = np.asarray(matricies)\n",
    "    return matrix\n"
   ]
  },
  {
   "cell_type": "code",
   "execution_count": 45,
   "metadata": {},
   "outputs": [
    {
     "name": "stderr",
     "output_type": "stream",
     "text": [
      "/home/ardelalegre/.local/lib/python3.5/site-packages/ipykernel_launcher.py:12: SettingWithCopyWarning: \n",
      "A value is trying to be set on a copy of a slice from a DataFrame\n",
      "\n",
      "See the caveats in the documentation: http://pandas.pydata.org/pandas-docs/stable/indexing.html#indexing-view-versus-copy\n",
      "  if sys.path[0] == '':\n",
      "/home/ardelalegre/.local/lib/python3.5/site-packages/ipykernel_launcher.py:13: SettingWithCopyWarning: \n",
      "A value is trying to be set on a copy of a slice from a DataFrame\n",
      "\n",
      "See the caveats in the documentation: http://pandas.pydata.org/pandas-docs/stable/indexing.html#indexing-view-versus-copy\n",
      "  del sys.path[0]\n",
      "/home/ardelalegre/.local/lib/python3.5/site-packages/ipykernel_launcher.py:14: SettingWithCopyWarning: \n",
      "A value is trying to be set on a copy of a slice from a DataFrame\n",
      "\n",
      "See the caveats in the documentation: http://pandas.pydata.org/pandas-docs/stable/indexing.html#indexing-view-versus-copy\n",
      "  \n",
      "/home/ardelalegre/.local/lib/python3.5/site-packages/ipykernel_launcher.py:15: SettingWithCopyWarning: \n",
      "A value is trying to be set on a copy of a slice from a DataFrame\n",
      "\n",
      "See the caveats in the documentation: http://pandas.pydata.org/pandas-docs/stable/indexing.html#indexing-view-versus-copy\n",
      "  from ipykernel import kernelapp as app\n"
     ]
    },
    {
     "ename": "SystemError",
     "evalue": "<built-in function is_scalar> returned a result with an error set",
     "output_type": "error",
     "traceback": [
      "\u001b[0;31m---------------------------------------------------------------------------\u001b[0m",
      "\u001b[0;31mKeyboardInterrupt\u001b[0m                         Traceback (most recent call last)",
      "\u001b[0;31mKeyboardInterrupt\u001b[0m: ",
      "\nDuring handling of the above exception, another exception occurred:\n",
      "\u001b[0;31mSystemError\u001b[0m                               Traceback (most recent call last)",
      "\u001b[0;32m<ipython-input-45-d6ac59a2413a>\u001b[0m in \u001b[0;36m<module>\u001b[0;34m\u001b[0m\n\u001b[1;32m      1\u001b[0m \u001b[0mdate\u001b[0m \u001b[0;34m=\u001b[0m \u001b[0;34m'2019-09-14'\u001b[0m\u001b[0;34m\u001b[0m\u001b[0m\n\u001b[0;32m----> 2\u001b[0;31m \u001b[0mtest_matrix\u001b[0m \u001b[0;34m=\u001b[0m \u001b[0mmain\u001b[0m\u001b[0;34m(\u001b[0m\u001b[0;34m'2019-09-14'\u001b[0m\u001b[0;34m)\u001b[0m\u001b[0;34m\u001b[0m\u001b[0m\n\u001b[0m",
      "\u001b[0;32m<ipython-input-44-861f466d481c>\u001b[0m in \u001b[0;36mmain\u001b[0;34m(date, starting_hour, num_hours, multiple_sources)\u001b[0m\n\u001b[1;32m     25\u001b[0m             \u001b[0;32mpass\u001b[0m\u001b[0;34m\u001b[0m\u001b[0m\n\u001b[1;32m     26\u001b[0m         \u001b[0;32melse\u001b[0m\u001b[0;34m:\u001b[0m\u001b[0;34m\u001b[0m\u001b[0m\n\u001b[0;32m---> 27\u001b[0;31m             \u001b[0mtemp\u001b[0m \u001b[0;34m=\u001b[0m \u001b[0msource_matching_single\u001b[0m\u001b[0;34m(\u001b[0m\u001b[0mdf\u001b[0m\u001b[0;34m)\u001b[0m \u001b[0;31m# earlier convert_single\u001b[0m\u001b[0;34m\u001b[0m\u001b[0m\n\u001b[0m\u001b[1;32m     28\u001b[0m             \u001b[0mprint\u001b[0m\u001b[0;34m(\u001b[0m\u001b[0mtemp\u001b[0m\u001b[0;34m)\u001b[0m\u001b[0;34m\u001b[0m\u001b[0m\n\u001b[1;32m     29\u001b[0m \u001b[0;34m\u001b[0m\u001b[0m\n",
      "\u001b[0;32m<ipython-input-2-41252832ca7c>\u001b[0m in \u001b[0;36msource_matching_single\u001b[0;34m(dfs)\u001b[0m\n\u001b[1;32m     30\u001b[0m             \u001b[0mdata_point\u001b[0m\u001b[0;34m[\u001b[0m\u001b[0;36m4\u001b[0m\u001b[0;34m]\u001b[0m \u001b[0;34m=\u001b[0m \u001b[0marray_1\u001b[0m\u001b[0;34m[\u001b[0m\u001b[0;34m'Y'\u001b[0m\u001b[0;34m]\u001b[0m\u001b[0;34m\u001b[0m\u001b[0m\n\u001b[1;32m     31\u001b[0m             \u001b[0mdata_point\u001b[0m\u001b[0;34m[\u001b[0m\u001b[0;36m5\u001b[0m\u001b[0;34m]\u001b[0m \u001b[0;34m=\u001b[0m \u001b[0marray_1\u001b[0m\u001b[0;34m[\u001b[0m\u001b[0;34m'Z'\u001b[0m\u001b[0;34m]\u001b[0m\u001b[0;34m\u001b[0m\u001b[0m\n\u001b[0;32m---> 32\u001b[0;31m             \u001b[0mdata_point\u001b[0m\u001b[0;34m[\u001b[0m\u001b[0;36m6\u001b[0m\u001b[0;34m]\u001b[0m \u001b[0;34m=\u001b[0m \u001b[0marray_2\u001b[0m\u001b[0;34m[\u001b[0m\u001b[0;34m'X'\u001b[0m\u001b[0;34m]\u001b[0m\u001b[0;34m\u001b[0m\u001b[0m\n\u001b[0m\u001b[1;32m     33\u001b[0m             \u001b[0mdata_point\u001b[0m\u001b[0;34m[\u001b[0m\u001b[0;36m7\u001b[0m\u001b[0;34m]\u001b[0m \u001b[0;34m=\u001b[0m \u001b[0marray_2\u001b[0m\u001b[0;34m[\u001b[0m\u001b[0;34m'Y'\u001b[0m\u001b[0;34m]\u001b[0m\u001b[0;34m\u001b[0m\u001b[0m\n\u001b[1;32m     34\u001b[0m             \u001b[0mdata_point\u001b[0m\u001b[0;34m[\u001b[0m\u001b[0;36m8\u001b[0m\u001b[0;34m]\u001b[0m \u001b[0;34m=\u001b[0m \u001b[0marray_2\u001b[0m\u001b[0;34m[\u001b[0m\u001b[0;34m'Z'\u001b[0m\u001b[0;34m]\u001b[0m\u001b[0;34m\u001b[0m\u001b[0m\n",
      "\u001b[0;32m~/.local/lib/python3.5/site-packages/pandas/core/series.py\u001b[0m in \u001b[0;36m__getitem__\u001b[0;34m(self, key)\u001b[0m\n\u001b[1;32m    868\u001b[0m             \u001b[0mresult\u001b[0m \u001b[0;34m=\u001b[0m \u001b[0mself\u001b[0m\u001b[0;34m.\u001b[0m\u001b[0mindex\u001b[0m\u001b[0;34m.\u001b[0m\u001b[0mget_value\u001b[0m\u001b[0;34m(\u001b[0m\u001b[0mself\u001b[0m\u001b[0;34m,\u001b[0m \u001b[0mkey\u001b[0m\u001b[0;34m)\u001b[0m\u001b[0;34m\u001b[0m\u001b[0m\n\u001b[1;32m    869\u001b[0m \u001b[0;34m\u001b[0m\u001b[0m\n\u001b[0;32m--> 870\u001b[0;31m             \u001b[0;32mif\u001b[0m \u001b[0;32mnot\u001b[0m \u001b[0mis_scalar\u001b[0m\u001b[0;34m(\u001b[0m\u001b[0mresult\u001b[0m\u001b[0;34m)\u001b[0m\u001b[0;34m:\u001b[0m\u001b[0;34m\u001b[0m\u001b[0m\n\u001b[0m\u001b[1;32m    871\u001b[0m                 \u001b[0;32mif\u001b[0m \u001b[0mis_list_like\u001b[0m\u001b[0;34m(\u001b[0m\u001b[0mresult\u001b[0m\u001b[0;34m)\u001b[0m \u001b[0;32mand\u001b[0m \u001b[0;32mnot\u001b[0m \u001b[0misinstance\u001b[0m\u001b[0;34m(\u001b[0m\u001b[0mresult\u001b[0m\u001b[0;34m,\u001b[0m \u001b[0mSeries\u001b[0m\u001b[0;34m)\u001b[0m\u001b[0;34m:\u001b[0m\u001b[0;34m\u001b[0m\u001b[0m\n\u001b[1;32m    872\u001b[0m \u001b[0;34m\u001b[0m\u001b[0m\n",
      "\u001b[0;31mSystemError\u001b[0m: <built-in function is_scalar> returned a result with an error set"
     ]
    }
   ],
   "source": [
    "date = '2019-09-14'\n",
    "test_matrix = main('2019-09-14')"
   ]
  },
  {
   "cell_type": "code",
   "execution_count": 46,
   "metadata": {},
   "outputs": [
    {
     "data": {
      "text/plain": [
       "array(None, dtype=object)"
      ]
     },
     "execution_count": 46,
     "metadata": {},
     "output_type": "execute_result"
    }
   ],
   "source": [
    "test_matrix"
   ]
  },
  {
   "cell_type": "code",
   "execution_count": null,
   "metadata": {},
   "outputs": [],
   "source": []
  }
 ],
 "metadata": {
  "kernelspec": {
   "display_name": "Python 3",
   "language": "python",
   "name": "python3"
  },
  "language_info": {
   "codemirror_mode": {
    "name": "ipython",
    "version": 3
   },
   "file_extension": ".py",
   "mimetype": "text/x-python",
   "name": "python",
   "nbconvert_exporter": "python",
   "pygments_lexer": "ipython3",
   "version": "3.5.2"
  }
 },
 "nbformat": 4,
 "nbformat_minor": 4
}
