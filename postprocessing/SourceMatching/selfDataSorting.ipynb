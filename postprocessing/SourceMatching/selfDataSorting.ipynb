{
 "cells": [
  {
   "cell_type": "code",
   "execution_count": null,
   "metadata": {},
   "outputs": [],
   "source": [
    "# This script aims to sort DOAs recorded within one array where sources are stationary\n",
    "# Possible scenarios: \n",
    "# 1. people having conversations in the room at fixed points\n",
    "# 2. random noised made at fixed points\n",
    "# 3. ..."
   ]
  },
  {
   "cell_type": "markdown",
   "metadata": {},
   "source": [
    "### K-means\n",
    "The method takes k-means approach, referenced from [link](https://sites.google.com/site/dataclusteringalgorithms/k-means-clustering-algorithm)\n",
    "\n",
    "Let  X = {x1,x2,x3,...,xn} be the set of data points and V = {v1,v2,...,vc} be the set of centers.\n",
    "\n",
    "1) Randomly select ‘c’ cluster centers.\n",
    "\n",
    "2) Calculate the distance between each data point and cluster centers.\n",
    "\n",
    "3) Assign the data point to the cluster center whose distance from the cluster center is minimum of all the cluster centers..\n",
    "\n",
    "4) Recalculate the new cluster center using:  $$v_{i} = \\frac{1}{c_i} \\sum_{j=1}^{c_i} x_i$$\n",
    "\n",
    "where, ‘ci’ represents the number of data points in ith cluster.\n",
    "\n",
    "\n",
    "5) Recalculate the distance between each data point and new obtained cluster centers.\n",
    "\n",
    "6) If no data point was reassigned then stop, otherwise repeat from step 3)."
   ]
  },
  {
   "cell_type": "markdown",
   "metadata": {},
   "source": [
    "### Revision\n",
    "Due to the assumption that sources are stationary, this will simplify the center choosing process. Then k-means will take a revised form:\n",
    "\n",
    "Let  doa = {X1,X2,X3,X4} be the set of DOA estimations corresponding to each channel in an array, where Xm = {x1,x2,x3,...,xn}, m = {1,2,3,4}. \n",
    "\n",
    "1) Randomly select ‘c’ cluster centers.\n",
    "\n",
    "2) Calculate the distance between each data point and cluster centers.\n",
    "\n",
    "3) Assign the data point to the cluster center whose distance from the cluster center is minimum of all the cluster centers..\n",
    "\n",
    "4) Recalculate the new cluster center using:  $$v_{i} = \\frac{1}{c_i} \\sum_{j=1}^{c_i} x_i$$\n",
    "\n",
    "where, ‘ci’ represents the number of data points in ith cluster.\n",
    "\n",
    "\n",
    "5) Recalculate the distance between each data point and new obtained cluster centers.\n",
    "\n",
    "6) If no data point was reassigned then stop, otherwise repeat from step 3)."
   ]
  },
  {
   "cell_type": "code",
   "execution_count": null,
   "metadata": {},
   "outputs": [],
   "source": []
  }
 ],
 "metadata": {
  "kernelspec": {
   "display_name": "Python 3",
   "language": "python",
   "name": "python3"
  },
  "language_info": {
   "codemirror_mode": {
    "name": "ipython",
    "version": 3
   },
   "file_extension": ".py",
   "mimetype": "text/x-python",
   "name": "python",
   "nbconvert_exporter": "python",
   "pygments_lexer": "ipython3",
   "version": "3.7.3"
  }
 },
 "nbformat": 4,
 "nbformat_minor": 4
}
