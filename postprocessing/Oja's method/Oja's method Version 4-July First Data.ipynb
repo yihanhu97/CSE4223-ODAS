{
 "cells": [
  {
   "cell_type": "markdown",
   "metadata": {},
   "source": [
    "# Oja's Algorithm"
   ]
  },
  {
   "cell_type": "markdown",
   "metadata": {},
   "source": [
    "## The following cell imports the .db file when run"
   ]
  },
  {
   "cell_type": "code",
   "execution_count": 1,
   "metadata": {
    "scrolled": true
   },
   "outputs": [
    {
     "name": "stdout",
     "output_type": "stream",
     "text": [
      "Populating the interactive namespace from numpy and matplotlib\n"
     ]
    },
    {
     "name": "stderr",
     "output_type": "stream",
     "text": [
      "/home/ardelalegre/.local/lib/python3.5/site-packages/IPython/core/magics/pylab.py:160: UserWarning: pylab import has clobbered these variables: ['datetime']\n",
      "`%matplotlib` prevents importing * from pylab and numpy\n",
      "  \"\\n`%matplotlib` prevents importing * from pylab and numpy\"\n"
     ]
    }
   ],
   "source": [
    "import pandas as pd\n",
    "import numpy as np\n",
    "from sklearn import decomposition\n",
    "from matplotlib import pyplot as plt\n",
    "import matplotlib.cm as cm\n",
    "from matplotlib.pyplot import figure\n",
    "import seaborn as sns\n",
    "from sklearn.cluster import KMeans\n",
    "import glob\n",
    "import pickle\n",
    "from datetime import datetime\n",
    "%pylab inline"
   ]
  },
  {
   "cell_type": "code",
   "execution_count": 2,
   "metadata": {
    "scrolled": true
   },
   "outputs": [],
   "source": [
    "data_with_time = pickle.load(open(\"july_first_np.p\", \"rb\"))"
   ]
  },
  {
   "cell_type": "markdown",
   "metadata": {},
   "source": [
    "From [the fast onvergence of incremental PCA](https://arxiv.org/pdf/1501.03796.pdf)\n",
    "\n",
    "![](figures/OnlinePCAEquations.png)"
   ]
  },
  {
   "cell_type": "markdown",
   "metadata": {},
   "source": [
    "### Explanation of Oja's update\n",
    "\n",
    "* $V_n$ - the estimate of the top eigenvector at iteration $n$\n",
    "* $\\gamma_n$ - learning rate.\n",
    "* $X_n$ The $n$th example\n",
    "* $X_n X_n^T V_{n-1} = X_n (X_n \\cdot V_{n-1})$"
   ]
  },
  {
   "cell_type": "code",
   "execution_count": 3,
   "metadata": {},
   "outputs": [],
   "source": [
    "data = data_with_time[:,:12]"
   ]
  },
  {
   "cell_type": "markdown",
   "metadata": {},
   "source": [
    "### calc and subtract mean"
   ]
  },
  {
   "cell_type": "code",
   "execution_count": 4,
   "metadata": {},
   "outputs": [
    {
     "name": "stdout",
     "output_type": "stream",
     "text": [
      "[-0.444  0.885  0.14     nan    nan    nan    nan    nan    nan    nan\n",
      "    nan    nan]\n",
      "[-0.444  0.885  0.14     nan    nan    nan    nan    nan    nan    nan\n",
      "    nan    nan]\n"
     ]
    }
   ],
   "source": [
    "print(data[0])\n",
    "print(np.asarray(data[0]))"
   ]
  },
  {
   "cell_type": "code",
   "execution_count": 5,
   "metadata": {},
   "outputs": [
    {
     "name": "stdout",
     "output_type": "stream",
     "text": [
      "(217451, 12)\n",
      "[[-0.67912647  0.54785298  0.28616772 -0.67088296  0.56292409  0.28495837\n",
      "  -0.17352863 -0.91857956  0.17220478  0.82691013 -0.00581666  0.33859397]]\n",
      "(1, 12)\n"
     ]
    }
   ],
   "source": [
    "# Calculating the mean of the data points\n",
    "print(data.shape)\n",
    "data_mean = np.nanmean(data,axis = 0,keepdims = True)\n",
    "print(data_mean)\n",
    "\n",
    "# subtracting the means from the data matrix\n",
    "\n",
    "print(data_mean.shape)\n",
    "\n",
    "data = data - data_mean"
   ]
  },
  {
   "cell_type": "code",
   "execution_count": 6,
   "metadata": {
    "scrolled": false
   },
   "outputs": [
    {
     "data": {
      "text/plain": [
       "array([[-1.09003112e-13,  1.58376722e-14, -4.76301822e-14,\n",
       "        -1.57145824e-13, -1.97553510e-14, -1.37021825e-14,\n",
       "        -7.72331934e-15, -2.68639174e-16,  1.12090010e-13,\n",
       "         1.32178806e-14,  1.67764203e-15, -2.68492637e-15]])"
      ]
     },
     "execution_count": 6,
     "metadata": {},
     "output_type": "execute_result"
    }
   ],
   "source": [
    "# check that mean is now zero\n",
    "np.nanmean(data,axis = 0,keepdims = True)"
   ]
  },
  {
   "cell_type": "markdown",
   "metadata": {},
   "source": [
    "## New idea: set nan to zero after subtructing the mean\n",
    "After subtracting the mean, we know that the new mean is zero. If we now set all of the nans to zero \n",
    "we create a fully defined data with the mean unchanged. Outer product has to be positive semi-definite."
   ]
  },
  {
   "cell_type": "code",
   "execution_count": 7,
   "metadata": {},
   "outputs": [
    {
     "data": {
      "text/plain": [
       "1861080"
      ]
     },
     "execution_count": 7,
     "metadata": {},
     "output_type": "execute_result"
    }
   ],
   "source": [
    "np.sum(isnan(data))"
   ]
  },
  {
   "cell_type": "code",
   "execution_count": 8,
   "metadata": {},
   "outputs": [
    {
     "data": {
      "text/plain": [
       "0"
      ]
     },
     "execution_count": 8,
     "metadata": {},
     "output_type": "execute_result"
    }
   ],
   "source": [
    "cdata=np.nan_to_num(data)\n",
    "np.sum(isnan(cdata))"
   ]
  },
  {
   "cell_type": "code",
   "execution_count": 9,
   "metadata": {},
   "outputs": [
    {
     "data": {
      "text/plain": [
       "(217451, 12)"
      ]
     },
     "execution_count": 9,
     "metadata": {},
     "output_type": "execute_result"
    }
   ],
   "source": [
    "cdata.shape"
   ]
  },
  {
   "cell_type": "code",
   "execution_count": 10,
   "metadata": {},
   "outputs": [
    {
     "name": "stdout",
     "output_type": "stream",
     "text": [
      " 210000: "
     ]
    }
   ],
   "source": [
    "import pandas as pd\n",
    "import numpy as np\n",
    "from sklearn import decomposition\n",
    "from matplotlib import pyplot as plt\n",
    "import matplotlib.cm as cm\n",
    "from matplotlib.pyplot import figure\n",
    "import seaborn as sns\n",
    "from sklearn.cluster import KMeans\n",
    "import glob\n",
    "\n",
    "from numpy import linalg as LA\n",
    "\n",
    "d=12  # dimension\n",
    "n=cdata.shape[0]\n",
    "block_size=10000\n",
    "# calculate covariance matrix\n",
    "\n",
    "outters = np.zeros((d, d))\n",
    "for j in range(n):\n",
    "    outters += np.outer(cdata[j,:],cdata[j,:])\n",
    "    if j%block_size==0:\n",
    "        print('\\r %d: '%j,end='')\n",
    "    \n",
    "_cov = outters/n\n",
    "\n",
    "#eigen values\n",
    "eigen_values, eigen_vectors = LA.eig(_cov)\n"
   ]
  },
  {
   "cell_type": "code",
   "execution_count": 11,
   "metadata": {},
   "outputs": [
    {
     "data": {
      "text/plain": [
       "array([6.34053657e-02, 3.78714442e-02, 1.72075988e-02, 5.81688400e-03,\n",
       "       3.88465221e-03, 2.75631540e-03, 6.43619990e-04, 1.33697964e-03,\n",
       "       9.53882888e-04, 2.71609486e-03, 7.46612424e-06, 1.02066097e-04])"
      ]
     },
     "execution_count": 11,
     "metadata": {},
     "output_type": "execute_result"
    }
   ],
   "source": [
    "eigen_values"
   ]
  },
  {
   "cell_type": "code",
   "execution_count": 12,
   "metadata": {},
   "outputs": [
    {
     "name": "stdout",
     "output_type": "stream",
     "text": [
      "[10 11  6  8  7  9  5  4  3  2  1  0]\n",
      "[ 0  1  2  3  4  5  9  7  8  6 11 10]\n"
     ]
    },
    {
     "data": {
      "text/plain": [
       "(12,)"
      ]
     },
     "execution_count": 12,
     "metadata": {},
     "output_type": "execute_result"
    }
   ],
   "source": [
    "eig_val_sorted_indices = np.argsort(eigen_values)\n",
    "print(eig_val_sorted_indices)\n",
    "eig_val_sorted_indices = eig_val_sorted_indices[-1::-1]\n",
    "print(eig_val_sorted_indices)\n",
    "eig_val_sorted_indices.shape"
   ]
  },
  {
   "cell_type": "code",
   "execution_count": 13,
   "metadata": {},
   "outputs": [
    {
     "data": {
      "image/png": "[encoded data removed]",
      "text/plain": [
       "<Figure size 432x288 with 1 Axes>"
      ]
     },
     "metadata": {
      "needs_background": "light"
     },
     "output_type": "display_data"
    }
   ],
   "source": [
    "eig_val_ordered=eigen_values[eig_val_sorted_indices]\n",
    "eig_val_cumul = np.cumsum(eig_val_ordered)\n",
    "eig_val_cumul /= eig_val_cumul[-1]\n",
    "plot([0]+list(eig_val_cumul))\n",
    "grid()"
   ]
  },
  {
   "cell_type": "code",
   "execution_count": 14,
   "metadata": {},
   "outputs": [],
   "source": [
    "sorted_eigvec = eigen_vectors[:,eig_val_sorted_indices]"
   ]
  },
  {
   "cell_type": "markdown",
   "metadata": {},
   "source": [
    "1. Understand what format of output of LA.eig(_cov) is - It returns an array of eigenvalues and eigenvectors, such that the ith eigenvalue's eigenvector can be found in eigen_vectors[:i]\n",
    "2. Get eigenvectors corresponding to the largest eigenvalues\n",
    "3. Project data onto eigenvectors"
   ]
  },
  {
   "cell_type": "markdown",
   "metadata": {},
   "source": [
    "We use the equation to project vector a onto vector b:\n",
    "$ \\vec{a_1} = \\vec{a}  \\frac{\\vec{b}}{||\\vec{b}||} $\n",
    "\n",
    "This is the magnitude of the projection vector.\n",
    "\n",
    "Here we want to project all our data onto our eigenvector. The magnitude is already 1. So we just calculate the dot product of the data with the eigenvector."
   ]
  },
  {
   "cell_type": "markdown",
   "metadata": {},
   "source": [
    "Projections are to be made on the mean shifted data."
   ]
  },
  {
   "cell_type": "code",
   "execution_count": 15,
   "metadata": {},
   "outputs": [
    {
     "data": {
      "text/plain": [
       "((217451, 12), (12, 12))"
      ]
     },
     "execution_count": 15,
     "metadata": {},
     "output_type": "execute_result"
    }
   ],
   "source": [
    "data.shape, sorted_eigvec.shape"
   ]
  },
  {
   "cell_type": "code",
   "execution_count": 16,
   "metadata": {},
   "outputs": [
    {
     "name": "stdout",
     "output_type": "stream",
     "text": [
      "CPU times: user 37.8 ms, sys: 34 ms, total: 71.9 ms\n",
      "Wall time: 7.21 ms\n"
     ]
    }
   ],
   "source": [
    "%%time\n",
    "data_proj_ev1 = np.dot(cdata,sorted_eigvec[:,:2])\n"
   ]
  },
  {
   "cell_type": "code",
   "execution_count": 17,
   "metadata": {},
   "outputs": [
    {
     "data": {
      "text/plain": [
       "(217451, 2)"
      ]
     },
     "execution_count": 17,
     "metadata": {},
     "output_type": "execute_result"
    }
   ],
   "source": [
    "data_proj_ev1.shape"
   ]
  },
  {
   "cell_type": "markdown",
   "metadata": {},
   "source": [
    "## Plotting trajectories"
   ]
  },
  {
   "cell_type": "code",
   "execution_count": null,
   "metadata": {},
   "outputs": [],
   "source": [
    "N=data_proj_ev1.shape[0]\n",
    "time_axis = np.arange(N)\n",
    "type(time_axis)"
   ]
  },
  {
   "cell_type": "markdown",
   "metadata": {},
   "source": [
    "We create a 3D plot.  \n",
    "x: projection of mean subtracted data onto largest eigenvector - data_proj_ev1[:,0]  \n",
    "y: projection of mean subtracted data onto second largest eigenvector - data_proj_ev1[:,1]  \n",
    "z: time - time interval between samples not known. For now, assuming it to be 1s - time_axis  "
   ]
  },
  {
   "cell_type": "code",
   "execution_count": null,
   "metadata": {},
   "outputs": [],
   "source": [
    "from mpl_toolkits import mplot3d"
   ]
  },
  {
   "cell_type": "code",
   "execution_count": 18,
   "metadata": {},
   "outputs": [],
   "source": [
    "leftx = -1.5\n",
    "rightx = 1\n",
    "lefty = -1\n",
    "righty = 0.5"
   ]
  },
  {
   "cell_type": "code",
   "execution_count": 34,
   "metadata": {},
   "outputs": [
    {
     "name": "stdout",
     "output_type": "stream",
     "text": [
      "Each plot represents activity for 64.0 seconds\n"
     ]
    },
    {
     "data": {
      "image/png": "[encoded data removed]",
      "text/plain": [
       "<Figure size 1080x1080 with 25 Axes>"
      ]
     },
     "metadata": {
      "needs_background": "light"
     },
     "output_type": "display_data"
    }
   ],
   "source": [
    "figure(figsize=[15,15])\n",
    "Length=8000\n",
    "print(\"Each plot represents activity for \" + str(8000 * 0.008) + \" seconds\")\n",
    "i=1\n",
    "for T1 in range(0,data.shape[0],Length):\n",
    "    subplot(5,5,i)\n",
    "#     print(data_with_time[T1,12])\n",
    "#     print(datetime.datetime.fromtimestamp(data_with_time[T1,12]))\n",
    "    plt.title(str(\"Time:\")+str(datetime.datetime.fromtimestamp(data_with_time[T1,12]))[11:16])\n",
    "    scatter(data_proj_ev1[T1:T1+Length,0], data_proj_ev1[T1:T1+Length,1],marker='.',s=1,c=np.arange(T1,T1+Length))\n",
    "    \n",
    "    plt.xlim(leftx,rightx)\n",
    "    plt.ylim(lefty,righty)\n",
    "    i=i+1\n",
    "    if (i>25):\n",
    "        break"
   ]
  },
  {
   "cell_type": "markdown",
   "metadata": {},
   "source": [
    "### Looking closer at the last six plots ( approximately 1.3 hours)"
   ]
  },
  {
   "cell_type": "code",
   "execution_count": null,
   "metadata": {
    "scrolled": false
   },
   "outputs": [],
   "source": [
    "figure(figsize=[15,15])\n",
    "Length=100000\n",
    "\n",
    "i=1\n",
    "for T1 in range(Length*19,N,Length):\n",
    "    subplot(3,2,i)\n",
    "    scatter(data_proj_ev1[T1:T1+Length,0], data_proj_ev1[T1:T1+Length,1],marker='.',s=1,c=np.arange(T1,T1+Length))\n",
    "    plt.xlim(leftx,rightx)\n",
    "    plt.ylim(lefty,righty)\n",
    "    i=i+1\n",
    "    if (i>6):\n",
    "        break"
   ]
  },
  {
   "cell_type": "code",
   "execution_count": null,
   "metadata": {},
   "outputs": [],
   "source": [
    "three_d_plot = plt.figure()\n",
    "new_axis = three_d_plot.add_subplot(111,projection = '3d')\n",
    "new_axis.plot(data_proj_ev1[T1:T2,0], data_proj_ev1[T1:T2,1],time_axis[T1:T2])\n",
    "new_axis.set_xlabel('X Coordinate')\n",
    "new_axis.set_ylabel('Y Coordinate')\n",
    "new_axis.set_zlabel('Time')"
   ]
  },
  {
   "cell_type": "markdown",
   "metadata": {},
   "source": [
    "## Generating a more intuitive plot"
   ]
  },
  {
   "cell_type": "code",
   "execution_count": null,
   "metadata": {},
   "outputs": [],
   "source": [
    "import ipywidgets\n",
    "begin_time = ipywidgets.IntSlider(min=0, max=2500000, step=100000, value=0)\n",
    "end_time = ipywidgets.IntSlider(min=100000, max=2600000, step=100000, value=100000)"
   ]
  },
  {
   "cell_type": "code",
   "execution_count": null,
   "metadata": {},
   "outputs": [],
   "source": [
    "begin_time"
   ]
  },
  {
   "cell_type": "code",
   "execution_count": null,
   "metadata": {
    "scrolled": true
   },
   "outputs": [],
   "source": [
    "end_time"
   ]
  },
  {
   "cell_type": "code",
   "execution_count": null,
   "metadata": {},
   "outputs": [],
   "source": [
    "three_d_plot = plt.figure()\n",
    "new_axis = three_d_plot.add_subplot(111,projection = '3d')\n",
    "new_axis.plot(data_proj_ev1[begin_time.value:end_time.value,0], data_proj_ev1[begin_time.value:end_time.value,1],time_axis[begin_time.value:end_time.value])\n",
    "new_axis.set_xlabel('X Coordinate')\n",
    "new_axis.set_ylabel('Y Coordinate')\n",
    "new_axis.set_zlabel('Time')\n",
    "\n",
    "\n",
    "\n",
    "# References:\n",
    "# 1. https://matplotlib.org/mpl_toolkits/mplot3d/tutorial.html\n",
    "# 2. https://ipywidgets.readthedocs.io/en/latest/examples/Using%20Interact.html\n",
    "# 3. A helpful video for understanding widgets: https://www.youtube.com/watch?v=i40d8-Hu4vM"
   ]
  },
  {
   "cell_type": "markdown",
   "metadata": {},
   "source": [
    "## Old Oja-based code"
   ]
  },
  {
   "cell_type": "code",
   "execution_count": null,
   "metadata": {
    "scrolled": false
   },
   "outputs": [],
   "source": [
    "v_next_Nr = np.zeros((12))\n",
    "\n",
    "vList=[]\n",
    "varList=[]\n",
    "\n",
    "for i in range(data.shape[0]):\n",
    "    \n",
    "    gamma_oja = 0.0001 # max(0.00001,1/(i+1)) # fixing learning rate [1]\n",
    "    \n",
    "    # Implementing Oja's rule equation\n",
    "    # It involves an inner product. In the presence of NaNs, we look at it as\n",
    "    # elementwise multiplication followed by nansum\n",
    "    # Then we have a multiplication of gamma and the dot product with the current vector\n",
    "    # We also add the previous weight vector to this.\n",
    "    \n",
    "    # we calculate the second term of the sum first\n",
    "    _dot=np.nansum(np.multiply(data[i,:],v))\n",
    "    oja_term_2 = gamma_oja * data[i,:] * _dot\n",
    "    \n",
    "    # we find which the indices of elements that not nan\n",
    "    _not_nan_term_2=~isnan(oja_term_2)\n",
    "    \n",
    "    # only updating those terms of the numerator which are not NaN\n",
    "    v_next_Nr[_not_nan_term_2] = v[_not_nan_term_2] + oja_term_2[_not_nan_term_2]\n",
    "\n",
    "    v_next_Dr = np.linalg.norm(v_next_Nr)\n",
    "#     if(i%100000==0):\n",
    "#         print('the denominator is', v_next_Dr)\n",
    "    v_next = v_next_Nr/v_next_Dr\n",
    "\n",
    "    \n",
    "    v = v_next\n",
    "    vList.append(v)\n",
    "    varList.append(_dot**2)\n",
    "    if(i%100000==0):\n",
    "        print(\"%d\\t\"%i+' '.join([\"%5.4f\"%x for x in v]))"
   ]
  },
  {
   "cell_type": "code",
   "execution_count": null,
   "metadata": {},
   "outputs": [],
   "source": [
    "varList=np.array(varList)\n",
    "varList.shape\n",
    "plot(varList);"
   ]
  },
  {
   "cell_type": "code",
   "execution_count": null,
   "metadata": {
    "scrolled": true
   },
   "outputs": [],
   "source": [
    "vstack=np.stack(vList)\n",
    "\n",
    "vstack.shape"
   ]
  },
  {
   "cell_type": "code",
   "execution_count": null,
   "metadata": {},
   "outputs": [],
   "source": [
    "step=10000\n",
    "diffs=vstack[step:,:]-vstack[:-step,:]\n",
    "change=np.sqrt(np.sum(diffs**2,axis=1))\n",
    "plot(change);"
   ]
  },
  {
   "cell_type": "markdown",
   "metadata": {},
   "source": [
    "### Obtaining the second second eigenvector"
   ]
  },
  {
   "cell_type": "markdown",
   "metadata": {},
   "source": [
    "1. 'v' is the current eigenvector\n",
    "2. project each point i onto v. call this projection i_proj_v\n",
    "3. subtract, for each point, i_proj_v from i"
   ]
  },
  {
   "cell_type": "code",
   "execution_count": null,
   "metadata": {},
   "outputs": [],
   "source": [
    "v"
   ]
  },
  {
   "cell_type": "markdown",
   "metadata": {},
   "source": [
    "We use the equation to project vector a onto vector b:\n",
    "$ \\vec{a_1} = \\vec{a}  \\frac{\\vec{b}}{||\\vec{b}||} $\n",
    "\n",
    "This is the magnitude of the projection vector."
   ]
  },
  {
   "cell_type": "code",
   "execution_count": null,
   "metadata": {},
   "outputs": [],
   "source": [
    "# projecting i_1 onto v\n",
    "\n",
    "data_perp_1 = np.zeros(data.shape)\n",
    "\n",
    "v_mag = np.linalg.norm(v)\n",
    "\n",
    "v_unit_vector = v/v_mag\n",
    "\n",
    "for j in range(data.shape[0]):\n",
    "\n",
    "    i_1 = data[j,:]\n",
    "\n",
    "    proj_num = np.nansum(np.multiply(i_1,v))\n",
    "\n",
    "    proj_not_nan = ~isnan(i_1)\n",
    "\n",
    "    proj_den = np.linalg.norm(v[proj_not_nan])\n",
    "\n",
    "    proj_mag = proj_num/proj_den\n",
    "\n",
    "    proj_vector = proj_mag * v_unit_vector\n",
    "\n",
    "    # print(proj_vector)\n",
    "\n",
    "    # subtracting projection from datapoint\n",
    "\n",
    "    data_perp_1[j,proj_not_nan] = i_1[proj_not_nan] - proj_vector[proj_not_nan]\n",
    "    "
   ]
  },
  {
   "cell_type": "markdown",
   "metadata": {},
   "source": [
    "### Oja's rule for second matrix"
   ]
  },
  {
   "cell_type": "code",
   "execution_count": null,
   "metadata": {},
   "outputs": [],
   "source": [
    "# calculating the mean of data_perp_1 and subtracting it from the data\n",
    "\n",
    "\n",
    "print(data_perp_1.shape)\n",
    "data_perp_1_mean = np.nanmean(data_perp_1,axis = 0,keepdims = True)\n",
    "print(data_perp_1_mean)\n",
    "\n",
    "# subtracting the means from the data matrix\n",
    "\n",
    "print(data_perp_1_mean.shape)\n",
    "\n",
    "data_perp_1 = data_perp_1 - data_perp_1_mean"
   ]
  },
  {
   "cell_type": "code",
   "execution_count": null,
   "metadata": {},
   "outputs": [],
   "source": [
    "v_2= np.random.normal(0, 1, size = 12)\n",
    "# print(v)\n",
    "v_2 = v_2 / 10000\n",
    "# print(v)\n",
    "\n",
    "v_next_Nr_2 = np.zeros((12))\n",
    "\n",
    "\n",
    "for i in range(data.shape[0]):\n",
    "    \n",
    "    gamma_oja_2 = max(0.001,1/(i+1)) # fixing learning rate [1]\n",
    "    \n",
    "    # Implementing Oja's rule equation\n",
    "    # It involves an inner product. In the presence of NaNs, we look at it as\n",
    "    # elementwise multiplication followed by nansum\n",
    "    # Then we have a multiplication of gamma and the dot product with the current vector\n",
    "    # We also add the previous weight vector to this.\n",
    "    \n",
    "    # we calculate the second term of the sum first\n",
    "    oja_2_term_2 = gamma_oja_2 * data_perp_1[i,:] * np.nansum(np.multiply(data_perp_1[i,:],v_2))\n",
    "    \n",
    "    # we find which the indices of elements that not nan\n",
    "    _not_nan_2_term_2=~isnan(oja_2_term_2)\n",
    "    \n",
    "    # only updating those terms of the numerator which are not NaN\n",
    "    v_next_Nr_2[_not_nan_2_term_2] = v_2[_not_nan_2_term_2] + oja_2_term_2[_not_nan_2_term_2]\n",
    "\n",
    "#     if(i == 0):\n",
    "#         print('At the 1st iteration, numerator is ',v_next_Nr)\n",
    "#     if(i%100000==0):\n",
    "#         print('the numerator is', v_next_Nr)\n",
    "#     not_nn_oja = ~isnan(v_next_Nr)\n",
    "\n",
    "    v_next_Dr_2 = np.linalg.norm(v_next_Nr_2)\n",
    "#     if(i%100000==0):\n",
    "#         print('the denominator is', v_next_Dr)\n",
    "    v_next_2 = v_next_Nr_2/v_next_Dr_2\n",
    "\n",
    "    v_2 = v_next_2\n",
    "    if(i%100000==0):\n",
    "        print(i,v_2)"
   ]
  },
  {
   "cell_type": "code",
   "execution_count": null,
   "metadata": {},
   "outputs": [],
   "source": [
    "# for a symmetric matrix eigenvectors must be normal\n",
    "dot_prod_ev = np.dot(v,v_2)\n",
    "print(dot_prod_ev)"
   ]
  },
  {
   "cell_type": "code",
   "execution_count": null,
   "metadata": {},
   "outputs": [],
   "source": [
    "v2= np.random.normal(0, 1, size = 12)\n",
    "print(v2)\n",
    "v3= np.random.normal(0, 1, size = 12)\n",
    "print(v3)"
   ]
  },
  {
   "cell_type": "code",
   "execution_count": null,
   "metadata": {},
   "outputs": [],
   "source": [
    "print(_not_nan_term_2)"
   ]
  },
  {
   "cell_type": "code",
   "execution_count": null,
   "metadata": {},
   "outputs": [],
   "source": [
    "print(v2[_not_nan_term_2])"
   ]
  },
  {
   "cell_type": "code",
   "execution_count": null,
   "metadata": {},
   "outputs": [],
   "source": [
    "print(v3[_not_nan_term_2])"
   ]
  },
  {
   "cell_type": "code",
   "execution_count": null,
   "metadata": {},
   "outputs": [],
   "source": [
    "v4 = np.zeros((12))\n",
    "print(v4)"
   ]
  },
  {
   "cell_type": "code",
   "execution_count": null,
   "metadata": {},
   "outputs": [],
   "source": [
    "v4[_not_nan_term_2] = (v3[_not_nan_term_2]) + (v2[_not_nan_term_2])"
   ]
  },
  {
   "cell_type": "code",
   "execution_count": null,
   "metadata": {},
   "outputs": [],
   "source": [
    "print(v2,v3,v4)"
   ]
  },
  {
   "cell_type": "code",
   "execution_count": null,
   "metadata": {},
   "outputs": [],
   "source": [
    "print(v2[_not_nan_term_2],v3[_not_nan_term_2],v4[_not_nan_term_2])"
   ]
  },
  {
   "cell_type": "code",
   "execution_count": null,
   "metadata": {},
   "outputs": [],
   "source": [
    "_not_nan_term_2"
   ]
  },
  {
   "cell_type": "markdown",
   "metadata": {},
   "source": [
    "### References (links):\n",
    "\n",
    "1. https://arxiv.org/pdf/1501.03796.pdf"
   ]
  }
 ],
 "metadata": {
  "kernelspec": {
   "display_name": "Python 3",
   "language": "python",
   "name": "python3"
  },
  "language_info": {
   "codemirror_mode": {
    "name": "ipython",
    "version": 3
   },
   "file_extension": ".py",
   "mimetype": "text/x-python",
   "name": "python",
   "nbconvert_exporter": "python",
   "pygments_lexer": "ipython3",
   "version": "3.5.2"
  },
  "toc": {
   "base_numbering": 1,
   "nav_menu": {},
   "number_sections": true,
   "sideBar": true,
   "skip_h1_title": false,
   "title_cell": "Table of Contents",
   "title_sidebar": "Contents",
   "toc_cell": false,
   "toc_position": {},
   "toc_section_display": true,
   "toc_window_display": false
  }
 },
 "nbformat": 4,
 "nbformat_minor": 4
}
