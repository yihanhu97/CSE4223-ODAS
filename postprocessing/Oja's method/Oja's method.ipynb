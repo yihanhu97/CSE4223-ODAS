{
 "cells": [
  {
   "cell_type": "markdown",
   "metadata": {},
   "source": [
    "# Oja's Algorithm"
   ]
  },
  {
   "cell_type": "markdown",
   "metadata": {},
   "source": [
    "## The following cell imports the .db file when run"
   ]
  },
  {
   "cell_type": "code",
   "execution_count": 1,
   "metadata": {},
   "outputs": [
    {
     "name": "stdout",
     "output_type": "stream",
     "text": [
      "../../K_cluster_analysis.db\r\n"
     ]
    }
   ],
   "source": [
    "!ls ../../K_cluster_analysis.db"
   ]
  },
  {
   "cell_type": "code",
   "execution_count": 2,
   "metadata": {
    "scrolled": true
   },
   "outputs": [
    {
     "name": "stdout",
     "output_type": "stream",
     "text": [
      "Populating the interactive namespace from numpy and matplotlib\n"
     ]
    }
   ],
   "source": [
    "import pandas as pd\n",
    "import numpy as np\n",
    "from sklearn import decomposition\n",
    "from matplotlib import pyplot as plt\n",
    "import matplotlib.cm as cm\n",
    "from matplotlib.pyplot import figure\n",
    "import seaborn as sns\n",
    "from sklearn.cluster import KMeans\n",
    "import glob\n",
    "%pylab inline"
   ]
  },
  {
   "cell_type": "markdown",
   "metadata": {},
   "source": [
    "From [the fast onvergence of incremental PCA](https://arxiv.org/pdf/1501.03796.pdf)\n",
    "\n",
    "![](figures/OnlinePCAEquations.png)"
   ]
  },
  {
   "cell_type": "markdown",
   "metadata": {},
   "source": [
    "### Explanation of Oja's update\n",
    "\n",
    "* $V_n$ - the estimate of the top eigenvector at iteration $n$\n",
    "* $\\gamma_n$ - learning rate.\n",
    "* $X_n$ The $n$th example\n",
    "* $X_n X_n^T V_{n-1} = X_n (X_n \\cdot V_{n-1})$"
   ]
  },
  {
   "cell_type": "code",
   "execution_count": 3,
   "metadata": {
    "scrolled": true
   },
   "outputs": [
    {
     "name": "stdout",
     "output_type": "stream",
     "text": [
      "CPU times: user 243 ms, sys: 1.33 s, total: 1.57 s\n",
      "Wall time: 12.6 s\n"
     ]
    },
    {
     "data": {
      "text/plain": [
       "(2664671, 12)"
      ]
     },
     "execution_count": 3,
     "metadata": {},
     "output_type": "execute_result"
    }
   ],
   "source": [
    "%%time\n",
    "#run this to import\n",
    "try:\n",
    "    import dill\n",
    "except:\n",
    "    %pip install dill\n",
    "    import dill\n",
    "dill.load_session('../../K_cluster_analysis.db')\n",
    "data=data[:,1:]  # remove prefix '1'\n",
    "data.shape"
   ]
  },
  {
   "cell_type": "markdown",
   "metadata": {},
   "source": [
    "### Estimate mean"
   ]
  },
  {
   "cell_type": "markdown",
   "metadata": {},
   "source": [
    "## Calculating the regular mean onine\n",
    "\n",
    "$\\mu_n = \\frac{\\sum_{i=1}^n a_i}{n}$\n",
    "\n",
    "$\\frac{n}{n+1} \\mu_n + \\frac{a_{n+1}}{n+1}$\n",
    "\n",
    "Equivalent to setting $\\eta=1/(n+1)$"
   ]
  },
  {
   "cell_type": "code",
   "execution_count": 4,
   "metadata": {},
   "outputs": [],
   "source": [
    "_mean=np.zeros(data.shape[1]) # initializing zero vector with 12 elements\n",
    "_non_nan_incidence = np.zeros(data.shape[1])\n",
    "eta=0.001 # setting learning rate"
   ]
  },
  {
   "cell_type": "code",
   "execution_count": 5,
   "metadata": {},
   "outputs": [
    {
     "name": "stdout",
     "output_type": "stream",
     "text": [
      "0 1.0000604981699857\n",
      "100000 5.736182578759251e-06\n",
      "200000 6.937662597720766e-07\n",
      "300000 7.521542888137032e-08\n",
      "400000 5.9789299840198e-08\n",
      "500000 2.842112320005564e-08\n",
      "600000 1.9892053532317562e-08\n",
      "700000 2.2275906975915026e-08\n",
      "800000 1.3794310649967045e-07\n",
      "900000 3.81451475294294e-08\n",
      "1000000 9.455594422086783e-09\n",
      "1100000 4.2651814163865296e-07\n",
      "1200000 3.6439235675076137e-07\n",
      "1300000 6.325536240915223e-08\n",
      "1400000 1.228059522900131e-08\n",
      "1500000 3.903372062654489e-09\n",
      "1600000 1.3636588843548614e-08\n",
      "1700000 5.2764013186954494e-08\n",
      "1800000 5.024591349027317e-08\n",
      "1900000 2.616893720235214e-07\n",
      "2000000 7.084413616135357e-07\n",
      "2100000 6.67039551507288e-07\n",
      "2200000 2.592451029017278e-07\n",
      "2300000 3.797223522909746e-08\n",
      "2400000 4.364669281781259e-08\n",
      "2500000 5.630394980643138e-07\n",
      "2600000 1.5896442041951605e-07\n"
     ]
    }
   ],
   "source": [
    "means=[] # initializing empty list for means\n",
    "for i in range(data.shape[0]):  # looping through all data points\n",
    "    vector=data[i,:] # selecting current vector\n",
    "    _not_nan=~isnan(vector) # creating boolean vector based off current vector with 0's where NaNs are found and 1's otherwise\n",
    "    _newmean=copy(_mean) # copying _mean vector\n",
    "    eta=1/(i+1) # configuring learning rate with each iteration\n",
    "    _newmean[_not_nan] = (1-eta)*_mean[_not_nan] + eta*vector[_not_nan]\n",
    "    # above, we update only those elements of the mean corr. to non NaN elements in current vector.\n",
    "    # if we have twelve elements in every vector, we must add all the non NaN values from the whole dataset\n",
    "    # and divide each element by how many times the element was not NaN. \n",
    "    if i%100000 == 0:\n",
    "        print(i,norm(_mean-_newmean))\n",
    "    _mean=_newmean\n",
    "    means.append(_mean)"
   ]
  },
  {
   "cell_type": "code",
   "execution_count": 6,
   "metadata": {
    "scrolled": true
   },
   "outputs": [
    {
     "name": "stdout",
     "output_type": "stream",
     "text": [
      "0 0.9112799400882033\n",
      "100000 0.12404024365110486\n",
      "200000 0.02652589667743528\n",
      "300000 0.00316309581171782\n",
      "400000 0.0009386316591947038\n",
      "500000 0.0017968447548237705\n",
      "600000 0.001803846358651171\n",
      "700000 0.00272560816828956\n",
      "800000 0.0013859855188258997\n",
      "900000 0.007002621440201456\n",
      "1000000 0.03328825955686318\n",
      "1100000 0.03548923407269052\n",
      "1200000 0.017958296653161808\n",
      "1300000 0.0013654246877348774\n",
      "1400000 0.0023432984021251333\n",
      "1500000 0.0005841012329466819\n",
      "1600000 0.004757069393662526\n",
      "1700000 0.01580980415532421\n",
      "1800000 0.007303714176165043\n",
      "1900000 0.03310852384806099\n",
      "2000000 0.020343131468545442\n",
      "2100000 0.03430865144858992\n",
      "2200000 0.01825453348303243\n",
      "2300000 0.004033380789159255\n",
      "2400000 0.012447000451012078\n",
      "2500000 0.022686920604119448\n"
     ]
    }
   ],
   "source": [
    "k=100000\n",
    "for i in range(0,len(means)-k,k):\n",
    "    print(i,norm(means[i]-means[i+k]))"
   ]
  },
  {
   "cell_type": "code",
   "execution_count": 7,
   "metadata": {},
   "outputs": [
    {
     "data": {
      "text/plain": [
       "0.1268358878205581"
      ]
     },
     "execution_count": 7,
     "metadata": {},
     "output_type": "execute_result"
    }
   ],
   "source": [
    "norm(means[-1]-means[int(len(means)/2)])"
   ]
  },
  {
   "cell_type": "code",
   "execution_count": 8,
   "metadata": {},
   "outputs": [
    {
     "data": {
      "text/plain": [
       "1.4727579784896112"
      ]
     },
     "execution_count": 8,
     "metadata": {},
     "output_type": "execute_result"
    }
   ],
   "source": [
    "mean_last=means[-1]\n",
    "norm(mean_last)"
   ]
  },
  {
   "cell_type": "code",
   "execution_count": 9,
   "metadata": {},
   "outputs": [
    {
     "data": {
      "text/plain": [
       "array([-9.00674042e-09, -4.50337021e-09,  3.75280851e-07])"
      ]
     },
     "execution_count": 9,
     "metadata": {},
     "output_type": "execute_result"
    }
   ],
   "source": [
    "eta*vector[_not_nan]"
   ]
  },
  {
   "cell_type": "code",
   "execution_count": 10,
   "metadata": {},
   "outputs": [],
   "source": [
    "_not_nan=~isnan(vector)"
   ]
  },
  {
   "cell_type": "code",
   "execution_count": 11,
   "metadata": {},
   "outputs": [
    {
     "data": {
      "text/plain": [
       "array([ True,  True,  True, False, False, False, False, False, False,\n",
       "       False, False, False])"
      ]
     },
     "execution_count": 11,
     "metadata": {},
     "output_type": "execute_result"
    }
   ],
   "source": [
    "_not_nan"
   ]
  },
  {
   "cell_type": "code",
   "execution_count": 12,
   "metadata": {},
   "outputs": [
    {
     "data": {
      "text/plain": [
       "array([-0.024, -0.012,  1.   ,    nan,    nan,    nan,    nan,    nan,\n",
       "          nan,    nan,    nan,    nan])"
      ]
     },
     "execution_count": 12,
     "metadata": {},
     "output_type": "execute_result"
    }
   ],
   "source": [
    "vector"
   ]
  },
  {
   "cell_type": "code",
   "execution_count": 36,
   "metadata": {},
   "outputs": [
    {
     "data": {
      "text/plain": [
       "0.964"
      ]
     },
     "execution_count": 36,
     "metadata": {},
     "output_type": "execute_result"
    }
   ],
   "source": [
    "np.nansum(vector)"
   ]
  },
  {
   "cell_type": "code",
   "execution_count": 13,
   "metadata": {},
   "outputs": [
    {
     "data": {
      "text/plain": [
       "array([-0.024, -0.012,  1.   ])"
      ]
     },
     "execution_count": 13,
     "metadata": {},
     "output_type": "execute_result"
    }
   ],
   "source": [
    "vector[_not_nan]"
   ]
  },
  {
   "cell_type": "code",
   "execution_count": 14,
   "metadata": {},
   "outputs": [
    {
     "name": "stdout",
     "output_type": "stream",
     "text": [
      "[   nan    nan    nan    nan    nan    nan -0.011  0.     1.       nan\n",
      "    nan    nan]\n",
      "[False False False False False False  True  True  True False False False]\n",
      "[-0.011  0.     1.   ]\n"
     ]
    }
   ],
   "source": [
    "test_vec = data[2,:]\n",
    "print(test_vec)\n",
    "not_nn = ~isnan(test_vec)\n",
    "print(not_nn)\n",
    "short_vec = test_vec[not_nn]\n",
    "print(short_vec)"
   ]
  },
  {
   "cell_type": "markdown",
   "metadata": {},
   "source": [
    "### Implementing Oja's method"
   ]
  },
  {
   "cell_type": "markdown",
   "metadata": {},
   "source": [
    "![](figures/OnlinePCAEquations.png)"
   ]
  },
  {
   "cell_type": "code",
   "execution_count": null,
   "metadata": {},
   "outputs": [],
   "source": [
    "v= np.random.normal(0, 1, size = 12)\n",
    "# print(v)\n",
    "v = v / 10000\n",
    "# print(v)"
   ]
  },
  {
   "cell_type": "code",
   "execution_count": 10,
   "metadata": {},
   "outputs": [
    {
     "name": "stdout",
     "output_type": "stream",
     "text": [
      "(2664671, 12)\n",
      "[[-0.02950949  0.00459708  0.95076457  0.1287518  -0.04651903  0.61195448\n",
      "   0.05075128 -0.11779619  0.93551044  0.25047638 -0.0368738   0.8057973 ]]\n",
      "(1, 12)\n"
     ]
    }
   ],
   "source": [
    "# Calculating the mean of the data points\n",
    "print(data.shape)\n",
    "data_mean = np.nanmean(data,axis = 0,keepdims = True)\n",
    "print(data_mean)\n",
    "\n",
    "# subtracting the means from the data matrix\n",
    "\n",
    "print(data_mean.shape)\n",
    "\n",
    "data = data - data_mean"
   ]
  },
  {
   "cell_type": "code",
   "execution_count": 11,
   "metadata": {},
   "outputs": [
    {
     "name": "stdout",
     "output_type": "stream",
     "text": [
      "0 [ 0.          0.          0.          0.          0.          0.\n",
      " -0.29954059 -0.37849002  0.87579721  0.          0.          0.        ]\n",
      "100000 [ 0.          0.          0.          0.          0.          0.\n",
      " -0.32638595 -0.30246893  0.89553602  0.          0.          0.        ]\n",
      "200000 [ 0.          0.          0.          0.          0.          0.\n",
      " -0.3282908  -0.28355858  0.90101037  0.          0.          0.        ]\n",
      "300000 [ 0.          0.          0.          0.          0.          0.\n",
      " -0.38383174  0.1258792   0.914736   -0.00704564  0.0010005   0.00591865]\n",
      "400000 [ 0.0008284  -0.0008599   0.00220686  0.          0.          0.\n",
      " -0.30438313  0.76488248  0.56763873 -0.00704558  0.00100049  0.0059186 ]\n",
      "500000 [ 0.00165292 -0.00254383  0.00571783  0.          0.          0.\n",
      " -0.33939048  0.81135118  0.47581068 -0.00704558  0.00100049  0.0059186 ]\n",
      "600000 [ 0.00255498 -0.00351351  0.00788939  0.          0.          0.\n",
      " -0.27840146  0.85159633  0.4439702  -0.00704556  0.00100049  0.00591858]\n",
      "700000 [ 0.00525951 -0.04249618  0.05475236  0.          0.          0.\n",
      " -0.2725954   0.85269687  0.44009399 -0.00704558  0.0010005   0.00591861]\n",
      "800000 [ 0.00598756 -0.07502626  0.09216001  0.          0.          0.\n",
      " -0.26925738  0.83408016  0.42855393 -0.13948354  0.02162366  0.1186203 ]\n",
      "900000 [ 0.00422599 -0.09875664  0.11725458  0.          0.          0.\n",
      " -0.25486622  0.83260413  0.42833847 -0.14746761  0.02844174  0.1107462 ]\n",
      "1000000 [ 0.00088363 -0.10098579  0.11509051  0.          0.          0.\n",
      " -0.28688676  0.81591187  0.44013522 -0.14746698  0.02844162  0.11074573]\n",
      "1100000 [ 1.16701753e-02  3.83073045e-04  4.40382730e-02  0.00000000e+00\n",
      "  0.00000000e+00  0.00000000e+00 -2.93457202e-01  8.13332760e-01\n",
      "  4.40457280e-01 -1.66061580e-01  1.37593999e-02  1.68904109e-01]\n",
      "1200000 [ 1.38181873e-02 -3.18819273e-05  4.18040495e-02  0.00000000e+00\n",
      "  0.00000000e+00  0.00000000e+00 -2.93454295e-01  8.13324703e-01\n",
      "  4.40452917e-01 -1.69077306e-01  1.61867874e-02  1.66135676e-01]\n",
      "1300000 [ 1.49131242e-02 -6.16880401e-04  4.11909262e-02  0.00000000e+00\n",
      "  0.00000000e+00  0.00000000e+00 -3.19702711e-01  8.00782375e-01\n",
      "  4.45192019e-01 -1.69916944e-01  1.71200978e-02  1.65098428e-01]\n",
      "1400000 [ 0.01504393 -0.00317164  0.04372306  0.          0.          0.\n",
      " -0.26526267  0.78776005  0.41150497 -0.27388967  0.02962386  0.24837928]\n",
      "1500000 [ 0.01388323 -0.00212496  0.03991425  0.          0.          0.\n",
      " -0.25733594  0.79184708  0.40855151 -0.34226727  0.04804005  0.13637063]\n",
      "1600000 [ 0.01388322 -0.00212495  0.0399142   0.          0.          0.\n",
      " -0.24277352  0.76163231  0.39015681 -0.40206771  0.06141615  0.2037992 ]\n",
      "1700000 [-0.03498888 -0.06263895  0.15946896 -0.25460933  0.12817611  0.1394425\n",
      "  0.23397955  0.44661127  0.37294218 -0.5446181   0.10749185  0.40898076]\n",
      "1800000 [ 5.13233663e-02 -5.53977767e-05  1.01106113e-01 -2.54609117e-01\n",
      "  1.28176003e-01  1.39442381e-01  2.33979357e-01  4.46610901e-01\n",
      "  3.72941873e-01 -5.70623011e-01  5.89019789e-02  4.05056854e-01]\n",
      "1900000 [-0.03752568 -0.01081457  0.03080051 -0.20165519 -0.01571933  0.04120511\n",
      " -0.25387464  0.55446549  0.14669689 -0.70379717  0.2028358   0.15823817]\n",
      "2000000 [ 0.19022382 -0.52990864  0.27712118 -0.22573306 -0.10784753 -0.25302745\n",
      "  0.20874689  0.48729085  0.21671378 -0.32259153  0.20747569  0.06709869]\n",
      "2100000 [-0.39844962 -0.06990693 -0.29451958  0.25510339 -0.12722211 -0.06776809\n",
      " -0.28314676 -0.41197911 -0.3242182   0.17143969 -0.44415692 -0.2864789 ]\n",
      "2200000 [-0.12826291  0.00666427  0.01146193 -0.87043204  0.26581038 -0.23170058\n",
      "  0.13780049 -0.2575701  -0.05029165 -0.0396626   0.0545705   0.09470453]\n",
      "2300000 [ 0.61884389 -0.18278304  0.31711742 -0.03466042  0.49012934 -0.01480322\n",
      " -0.05017739  0.04909997 -0.0086106   0.44520908 -0.19281794 -0.0319264 ]\n",
      "2400000 [ 5.67215647e-01 -1.81079853e-01  3.99057611e-01 -1.86114821e-02\n",
      "  4.85524514e-01  5.47983688e-02 -5.01772228e-02  4.90998039e-02\n",
      " -8.61057331e-03  4.55472070e-01 -1.86248518e-01  4.63018166e-04]\n",
      "2500000 [ 0.0604877   0.10470168 -0.20948212 -0.19881251  0.16611789 -0.0606289\n",
      "  0.13535144 -0.53619526 -0.43546724  0.4380937  -0.19678784 -0.38024989]\n",
      "2600000 [ 0.65482661 -0.25579933  0.04761909  0.46360384  0.03669432  0.11506281\n",
      " -0.17429432  0.26545526  0.15863816 -0.30077849 -0.09800227  0.21886887]\n"
     ]
    }
   ],
   "source": [
    "v= np.random.normal(0, 1, size = 12)\n",
    "# print(v)\n",
    "v = v / 10000\n",
    "# print(v)\n",
    "\n",
    "v_next_Nr = np.zeros((12))\n",
    "\n",
    "\n",
    "for i in range(data.shape[0]):\n",
    "    \n",
    "    gamma_oja = max(0.001,1/(i+1)) # fixing learning rate [1]\n",
    "    \n",
    "    # Implementing Oja's rule equation\n",
    "    # It involves an inner product. In the presence of NaNs, we look at it as\n",
    "    # elementwise multiplication followed by nansum\n",
    "    # Then we have a multiplication of gamma and the dot product with the current vector\n",
    "    # We also add the previous weight vector to this.\n",
    "    \n",
    "    # we calculate the second term of the sum first\n",
    "    oja_term_2 = gamma_oja * data[i,:] * np.nansum(np.multiply(data[i,:],v))\n",
    "    \n",
    "    # we find which the indices of elements that not nan\n",
    "    _not_nan_term_2=~isnan(oja_term_2)\n",
    "    \n",
    "    # only updating those terms of the numerator which are not NaN\n",
    "    v_next_Nr[_not_nan_term_2] = v[_not_nan_term_2] + oja_term_2[_not_nan_term_2]\n",
    "\n",
    "#     if(i == 0):\n",
    "#         print('At the 1st iteration, numerator is ',v_next_Nr)\n",
    "#     if(i%100000==0):\n",
    "#         print('the numerator is', v_next_Nr)\n",
    "#     not_nn_oja = ~isnan(v_next_Nr)\n",
    "\n",
    "    v_next_Dr = np.linalg.norm(v_next_Nr)\n",
    "#     if(i%100000==0):\n",
    "#         print('the denominator is', v_next_Dr)\n",
    "    v_next = v_next_Nr/v_next_Dr\n",
    "\n",
    "    v = v_next\n",
    "    if(i%100000==0):\n",
    "        print(i,v)"
   ]
  },
  {
   "cell_type": "markdown",
   "metadata": {},
   "source": [
    "### Obtaining the second second eigenvector"
   ]
  },
  {
   "cell_type": "markdown",
   "metadata": {},
   "source": [
    "1. 'v' is the current eigenvector\n",
    "2. project each point i onto v. call this projection i_proj_v\n",
    "3. subtract, for each point, i_proj_v from i"
   ]
  },
  {
   "cell_type": "code",
   "execution_count": 12,
   "metadata": {},
   "outputs": [
    {
     "data": {
      "text/plain": [
       "array([ 0.16916344, -0.04079698,  0.11737491,  0.46364721,  0.03669775,\n",
       "        0.11507357, -0.17431063,  0.26548009,  0.15865301, -0.62723891,\n",
       "        0.06237903,  0.45058921])"
      ]
     },
     "execution_count": 12,
     "metadata": {},
     "output_type": "execute_result"
    }
   ],
   "source": [
    "v"
   ]
  },
  {
   "cell_type": "code",
   "execution_count": 13,
   "metadata": {},
   "outputs": [
    {
     "ename": "NameError",
     "evalue": "name 'i_1' is not defined",
     "output_type": "error",
     "traceback": [
      "\u001b[0;31m---------------------------------------------------------------------------\u001b[0m",
      "\u001b[0;31mNameError\u001b[0m                                 Traceback (most recent call last)",
      "\u001b[0;32m<ipython-input-13-2a32102cda7c>\u001b[0m in \u001b[0;36m<module>\u001b[0;34m\u001b[0m\n\u001b[0;32m----> 1\u001b[0;31m \u001b[0mprint\u001b[0m\u001b[0;34m(\u001b[0m\u001b[0mi_1\u001b[0m\u001b[0;34m)\u001b[0m\u001b[0;34m\u001b[0m\u001b[0;34m\u001b[0m\u001b[0m\n\u001b[0m",
      "\u001b[0;31mNameError\u001b[0m: name 'i_1' is not defined"
     ]
    }
   ],
   "source": [
    "print(i_1)"
   ]
  },
  {
   "cell_type": "markdown",
   "metadata": {},
   "source": [
    "We use the equation to project vector a onto vector b:\n",
    "$ \\vec{a_1} = \\vec{a}  \\frac{\\vec{b}}{||\\vec{b}||} $\n",
    "\n",
    "This is the magnitude of the projection vector."
   ]
  },
  {
   "cell_type": "code",
   "execution_count": 14,
   "metadata": {},
   "outputs": [],
   "source": [
    "# projecting i_1 onto v\n",
    "\n",
    "data_perp_1 = np.zeros(data.shape)\n",
    "\n",
    "v_mag = np.linalg.norm(v)\n",
    "\n",
    "v_unit_vector = v/v_mag\n",
    "\n",
    "for j in range(data.shape[0]):\n",
    "\n",
    "    i_1 = data[j,:]\n",
    "\n",
    "    proj_num = np.nansum(np.multiply(i_1,v))\n",
    "\n",
    "    proj_not_nan = ~isnan(i_1)\n",
    "\n",
    "    proj_den = np.linalg.norm(v[proj_not_nan])\n",
    "\n",
    "    proj_mag = proj_num/proj_den\n",
    "\n",
    "    proj_vector = proj_mag * v_unit_vector\n",
    "\n",
    "    # print(proj_vector)\n",
    "\n",
    "    # subtracting projection from datapoint\n",
    "\n",
    "    data_perp_1[j,proj_not_nan] = i_1[proj_not_nan] - proj_vector[proj_not_nan]\n",
    "    "
   ]
  },
  {
   "cell_type": "markdown",
   "metadata": {},
   "source": [
    "### Oja's rule for second matrix"
   ]
  },
  {
   "cell_type": "code",
   "execution_count": 15,
   "metadata": {},
   "outputs": [
    {
     "name": "stdout",
     "output_type": "stream",
     "text": [
      "(2664671, 12)\n",
      "[[-0.0038939   0.00093909 -0.0027018   0.01117392  0.00088442  0.00277328\n",
      "  -0.00178168  0.00271356  0.00162164 -0.00628616  0.00062516  0.00451578]]\n",
      "(1, 12)\n"
     ]
    }
   ],
   "source": [
    "# calculating the mean of data_perp_1 and subtracting it from the data\n",
    "\n",
    "\n",
    "print(data_perp_1.shape)\n",
    "data_perp_1_mean = np.nanmean(data_perp_1,axis = 0,keepdims = True)\n",
    "print(data_perp_1_mean)\n",
    "\n",
    "# subtracting the means from the data matrix\n",
    "\n",
    "print(data_perp_1_mean.shape)\n",
    "\n",
    "data_perp_1 = data_perp_1 - data_perp_1_mean"
   ]
  },
  {
   "cell_type": "code",
   "execution_count": 16,
   "metadata": {},
   "outputs": [
    {
     "name": "stdout",
     "output_type": "stream",
     "text": [
      "0 [ 0.37277669 -0.05731865 -0.39865916  0.44272782  0.03552602  0.30858963\n",
      "  0.27503927 -0.18685365 -0.25201469 -0.18597132 -0.44459656  0.00129792]\n",
      "100000 [ 0.7964066   0.38044611  0.4674886   0.02592613  0.00207626  0.01636902\n",
      "  0.01419637 -0.01113982 -0.01355375 -0.01698885 -0.02644464 -0.00316093]\n",
      "200000 [ 0.79616899  0.46464539  0.38341077  0.03821356  0.00304739  0.01883394\n",
      "  0.01119919 -0.00624294 -0.01023646 -0.02322511 -0.02412523  0.00094293]\n",
      "300000 [ 0.79619983  0.47632142  0.3687785   0.03927637  0.00313133  0.01902642\n",
      "  0.00888749  0.00587675 -0.00430972 -0.02384473 -0.02384577  0.00155441]\n",
      "400000 [ 0.79589296  0.47445424  0.36915287  0.03333238  0.0026608   0.01752333\n",
      "  0.00292002  0.04954868  0.01683458 -0.02049555 -0.02410018 -0.0008048 ]\n",
      "500000 [ 0.78969038  0.46611857  0.36914878  0.01996471  0.0016024   0.01406625\n",
      " -0.02059548  0.13139958  0.06132687 -0.01294899 -0.024457   -0.00599214]\n",
      "600000 [ 0.73980385  0.42815484  0.34843755 -0.01071277 -0.00082741  0.00575964\n",
      " -0.05194873  0.34365409  0.16159447  0.00443993 -0.02422902 -0.01732102]\n",
      "700000 [ 0.55883785  0.30552363  0.27379389 -0.05917328 -0.0046685  -0.00849924\n",
      " -0.09717013  0.64160323  0.30351454  0.03212313 -0.02067709 -0.03346213]\n",
      "800000 [ 0.30302511  0.13763778  0.17315633 -0.09554866 -0.00755485 -0.02049519\n",
      " -0.12731538  0.8232796   0.38873906  0.05193731 -0.01338156 -0.04060434]\n",
      "900000 [ 0.14755494  0.04213993  0.10394557 -0.10940503 -0.00865601 -0.02574995\n",
      " -0.12641466  0.87228005  0.41259814  0.06143568 -0.01027421 -0.04437733]\n",
      "1000000 [ 0.12332482  0.02883567  0.08737585 -0.11408175 -0.00902702 -0.02725949\n",
      " -0.14703022  0.86785143  0.42587131  0.06409469 -0.00950365 -0.04622689]\n",
      "1100000 [ 0.134496    0.02154491  0.07852444 -0.10855511 -0.0085897  -0.02593525\n",
      " -0.15251295  0.86349997  0.42559856  0.07146714 -0.00780636 -0.08691889]\n",
      "1200000 [ 0.40286065  0.08946147  0.19335373 -0.07683996 -0.00607979 -0.01820803\n",
      " -0.13325375  0.74378585  0.36700562  0.23911231  0.12378058 -0.08875805]\n",
      "1300000 [ 0.3380826   0.05987029  0.14208785 -0.08129509 -0.00643291 -0.01951685\n",
      " -0.1662339   0.77490936  0.39465635  0.21451674  0.09312228 -0.12780657]\n",
      "1400000 [ 0.19358254  0.02719921  0.08662632 -0.10101995 -0.00799493 -0.02473681\n",
      " -0.15722008  0.84647678  0.41520728  0.14183481  0.04455098 -0.08752686]\n",
      "1500000 [ 0.114768    0.00947339  0.05801633 -0.10888416 -0.00861781 -0.02686321\n",
      " -0.15010935  0.86920363  0.41854853  0.114095    0.0185426  -0.0642563 ]\n",
      "1600000 [ 0.07069371 -0.00199     0.04028935 -0.11350382 -0.00898369 -0.0281055\n",
      " -0.14173449  0.88032873  0.41783521  0.08473116  0.00436688 -0.05262527]\n",
      "1700000 [-0.48000825 -0.41577036  0.4990735  -0.25064815  0.20300665  0.11829395\n",
      "  0.14067885  0.34463619  0.24136667 -0.02784765  0.15888611  0.08234238]\n",
      "1800000 [-0.49549079 -0.37676606  0.51418167 -0.26094486  0.19082437  0.10653097\n",
      "  0.13718332  0.32145091  0.22570475 -0.11773964  0.16682682  0.13233297]\n",
      "1900000 [-0.39212646 -0.28275087  0.40164635 -0.20136838  0.23855469  0.10081399\n",
      " -0.10311065  0.63259098  0.18440418 -0.1437212   0.15557681  0.08763552]\n",
      "2000000 [ 0.11838122 -0.57970381  0.29911497 -0.40162837 -0.10299621 -0.30932642\n",
      "  0.24084367  0.35563873  0.15062177 -0.15920396  0.23755121 -0.06257191]\n",
      "2100000 [ 0.4878356   0.07870076  0.36668152 -0.4072807   0.31626243  0.08248571\n",
      "  0.31266727  0.26108164  0.20654704  0.03316906  0.35879471  0.10121232]\n",
      "2200000 [-0.05427272 -0.01842628  0.06873633 -0.59171901  0.26805055 -0.11145692\n",
      "  0.12504655 -0.48025889 -0.25620718 -0.35515858  0.15960121  0.30667183]\n",
      "2300000 [ 0.31890233 -0.07504533  0.1482994  -0.05257315  0.90249751 -0.018165\n",
      " -0.02100615 -0.00285425 -0.00844446  0.20532182 -0.1011428   0.01317208]\n",
      "2400000 [ 0.28982721 -0.07665284  0.18464276 -0.01306175  0.87802585  0.06707988\n",
      " -0.01456703 -0.0057793  -0.00886167  0.27969945 -0.13179183  0.06713327]\n",
      "2500000 [-0.04369597 -0.01199156  0.02769885  0.00481941 -0.01138815  0.0148695\n",
      " -0.04540981  0.73626347  0.6363857   0.10469891  0.18941874  0.02883728]\n",
      "2600000 [-0.00824529  0.00206421 -0.00542852 -0.17041628 -0.19621793 -0.40841655\n",
      " -0.33991825  0.49888641  0.36078454 -0.08855161 -0.49579268  0.13153593]\n"
     ]
    }
   ],
   "source": [
    "v_2= np.random.normal(0, 1, size = 12)\n",
    "# print(v)\n",
    "v_2 = v_2 / 10000\n",
    "# print(v)\n",
    "\n",
    "v_next_Nr_2 = np.zeros((12))\n",
    "\n",
    "\n",
    "for i in range(data.shape[0]):\n",
    "    \n",
    "    gamma_oja_2 = max(0.001,1/(i+1)) # fixing learning rate [1]\n",
    "    \n",
    "    # Implementing Oja's rule equation\n",
    "    # It involves an inner product. In the presence of NaNs, we look at it as\n",
    "    # elementwise multiplication followed by nansum\n",
    "    # Then we have a multiplication of gamma and the dot product with the current vector\n",
    "    # We also add the previous weight vector to this.\n",
    "    \n",
    "    # we calculate the second term of the sum first\n",
    "    oja_2_term_2 = gamma_oja_2 * data_perp_1[i,:] * np.nansum(np.multiply(data_perp_1[i,:],v_2))\n",
    "    \n",
    "    # we find which the indices of elements that not nan\n",
    "    _not_nan_2_term_2=~isnan(oja_2_term_2)\n",
    "    \n",
    "    # only updating those terms of the numerator which are not NaN\n",
    "    v_next_Nr_2[_not_nan_2_term_2] = v_2[_not_nan_2_term_2] + oja_2_term_2[_not_nan_2_term_2]\n",
    "\n",
    "#     if(i == 0):\n",
    "#         print('At the 1st iteration, numerator is ',v_next_Nr)\n",
    "#     if(i%100000==0):\n",
    "#         print('the numerator is', v_next_Nr)\n",
    "#     not_nn_oja = ~isnan(v_next_Nr)\n",
    "\n",
    "    v_next_Dr_2 = np.linalg.norm(v_next_Nr_2)\n",
    "#     if(i%100000==0):\n",
    "#         print('the denominator is', v_next_Dr)\n",
    "    v_next_2 = v_next_Nr_2/v_next_Dr_2\n",
    "\n",
    "    v_2 = v_next_2\n",
    "    if(i%100000==0):\n",
    "        print(i,v_2)"
   ]
  },
  {
   "cell_type": "code",
   "execution_count": 19,
   "metadata": {},
   "outputs": [
    {
     "name": "stdout",
     "output_type": "stream",
     "text": [
      "0.21242311956092796\n"
     ]
    }
   ],
   "source": [
    "# for a symmetric matrix eigenvectors must be normal\n",
    "dot_prod_ev = np.dot(v,v_2)\n",
    "print(dot_prod_ev)"
   ]
  },
  {
   "cell_type": "code",
   "execution_count": 69,
   "metadata": {},
   "outputs": [
    {
     "name": "stdout",
     "output_type": "stream",
     "text": [
      "[-0.06512481  0.55507046 -0.06970197 -1.54765397  0.66028296  0.88860828\n",
      "  0.48639555  0.38047019  0.30092569 -0.7525398   1.40319839 -0.08627907]\n",
      "[ 0.17673735 -0.09013655 -0.1184975   0.14000183 -0.61194194  0.42845273\n",
      "  0.48662751  1.14981189  0.8819502  -0.81194435 -0.55124646 -0.63579609]\n"
     ]
    }
   ],
   "source": [
    "v2= np.random.normal(0, 1, size = 12)\n",
    "print(v2)\n",
    "v3= np.random.normal(0, 1, size = 12)\n",
    "print(v3)"
   ]
  },
  {
   "cell_type": "code",
   "execution_count": 83,
   "metadata": {},
   "outputs": [
    {
     "name": "stdout",
     "output_type": "stream",
     "text": [
      "[False False False False False False  True  True  True False False False]\n"
     ]
    }
   ],
   "source": [
    "print(_not_nan_term_2)"
   ]
  },
  {
   "cell_type": "code",
   "execution_count": 70,
   "metadata": {},
   "outputs": [
    {
     "name": "stdout",
     "output_type": "stream",
     "text": [
      "[-0.06512481  0.55507046 -0.06970197]\n"
     ]
    }
   ],
   "source": [
    "print(v2[_not_nan_term_2])"
   ]
  },
  {
   "cell_type": "code",
   "execution_count": 71,
   "metadata": {},
   "outputs": [
    {
     "name": "stdout",
     "output_type": "stream",
     "text": [
      "[ 0.17673735 -0.09013655 -0.1184975 ]\n"
     ]
    }
   ],
   "source": [
    "print(v3[_not_nan_term_2])"
   ]
  },
  {
   "cell_type": "code",
   "execution_count": 77,
   "metadata": {},
   "outputs": [
    {
     "name": "stdout",
     "output_type": "stream",
     "text": [
      "[0. 0. 0. 0. 0. 0. 0. 0. 0. 0. 0. 0.]\n"
     ]
    }
   ],
   "source": [
    "v4 = np.zeros((12))\n",
    "print(v4)"
   ]
  },
  {
   "cell_type": "code",
   "execution_count": 78,
   "metadata": {},
   "outputs": [],
   "source": [
    "v4[_not_nan_term_2] = (v3[_not_nan_term_2]) + (v2[_not_nan_term_2])"
   ]
  },
  {
   "cell_type": "code",
   "execution_count": 80,
   "metadata": {},
   "outputs": [
    {
     "name": "stdout",
     "output_type": "stream",
     "text": [
      "[-0.06512481  0.55507046 -0.06970197 -1.54765397  0.66028296  0.88860828\n",
      "  0.48639555  0.38047019  0.30092569 -0.7525398   1.40319839 -0.08627907] [ 0.17673735 -0.09013655 -0.1184975   0.14000183 -0.61194194  0.42845273\n",
      "  0.48662751  1.14981189  0.8819502  -0.81194435 -0.55124646 -0.63579609] [0.         0.         0.         0.         0.         0.\n",
      " 0.97302307 1.53028208 1.18287589 0.         0.         0.        ]\n"
     ]
    }
   ],
   "source": [
    "print(v2,v3,v4)"
   ]
  },
  {
   "cell_type": "code",
   "execution_count": 81,
   "metadata": {},
   "outputs": [
    {
     "name": "stdout",
     "output_type": "stream",
     "text": [
      "[0.48639555 0.38047019 0.30092569] [0.48662751 1.14981189 0.8819502 ] [0.97302307 1.53028208 1.18287589]\n"
     ]
    }
   ],
   "source": [
    "print(v2[_not_nan_term_2],v3[_not_nan_term_2],v4[_not_nan_term_2])"
   ]
  },
  {
   "cell_type": "code",
   "execution_count": 82,
   "metadata": {},
   "outputs": [
    {
     "data": {
      "text/plain": [
       "array([False, False, False, False, False, False,  True,  True,  True,\n",
       "       False, False, False])"
      ]
     },
     "execution_count": 82,
     "metadata": {},
     "output_type": "execute_result"
    }
   ],
   "source": [
    "_not_nan_term_2"
   ]
  },
  {
   "cell_type": "markdown",
   "metadata": {},
   "source": [
    "### References (links):\n",
    "\n",
    "1. https://arxiv.org/pdf/1501.03796.pdf"
   ]
  }
 ],
 "metadata": {
  "kernelspec": {
   "display_name": "Python 3",
   "language": "python",
   "name": "python3"
  },
  "language_info": {
   "codemirror_mode": {
    "name": "ipython",
    "version": 3
   },
   "file_extension": ".py",
   "mimetype": "text/x-python",
   "name": "python",
   "nbconvert_exporter": "python",
   "pygments_lexer": "ipython3",
   "version": "3.7.6"
  },
  "toc": {
   "base_numbering": 1,
   "nav_menu": {},
   "number_sections": true,
   "sideBar": true,
   "skip_h1_title": false,
   "title_cell": "Table of Contents",
   "title_sidebar": "Contents",
   "toc_cell": false,
   "toc_position": {},
   "toc_section_display": true,
   "toc_window_display": false
  }
 },
 "nbformat": 4,
 "nbformat_minor": 4
}
