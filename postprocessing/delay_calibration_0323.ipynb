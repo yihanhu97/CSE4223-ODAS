{
 "cells": [
  {
   "cell_type": "code",
   "execution_count": 10,
   "metadata": {},
   "outputs": [],
   "source": [
    "import pandas as pd\n",
    "import os\n",
    "import numpy as np\n",
    "import csv"
   ]
  },
  {
   "cell_type": "code",
   "execution_count": 17,
   "metadata": {},
   "outputs": [],
   "source": [
    "with open('./ccResults/postfiltered_2020-01-08_09_25_03_12_01.csv') as csvfile:\n",
    "    reader = csv.reader(csvfile)\n",
    "    column21 = [row[2] for row in reader]\n",
    "with open('./ccResults/postfiltered_2020-01-08_09_25_03_12_02.csv') as csvfile:\n",
    "    reader = csv.reader(csvfile)\n",
    "    column31 = [row[2] for row in reader]\n",
    "with open('./ccResults/postfiltered_2020-01-08_09_25_03_12_12.csv') as csvfile:\n",
    "    reader = csv.reader(csvfile)\n",
    "    column32 = [row[2] for row in reader]\n",
    "with open('./ccResults/postfiltered_2020-01-08_09_25_03_12_03.csv') as csvfile:\n",
    "    reader = csv.reader(csvfile)\n",
    "    column41 = [row[2] for row in reader]\n",
    "with open('./ccResults/postfiltered_2020-01-08_09_25_03_12_13.csv') as csvfile:\n",
    "    reader = csv.reader(csvfile)\n",
    "    column42 = [row[2] for row in reader]\n",
    "with open('./ccResults/postfiltered_2020-01-08_09_25_03_12_23.csv') as csvfile:\n",
    "    reader = csv.reader(csvfile)\n",
    "    column43 = [row[2] for row in reader]"
   ]
  },
  {
   "cell_type": "code",
   "execution_count": 34,
   "metadata": {},
   "outputs": [],
   "source": [
    "column = [column21,column31,column32,column41,column42,column43]\n",
    "column = np.array(column)"
   ]
  },
  {
   "cell_type": "code",
   "execution_count": 45,
   "metadata": {},
   "outputs": [],
   "source": [
    "column_len = len(column21)\n",
    "d = np.zeros(6)\n",
    "for ii in range(6):\n",
    "    column_ii = column[ii,:]\n",
    "    delay_sum = 0\n",
    "    count = 0\n",
    "    for jj in range(1, column_len):\n",
    "        if (column_ii[jj] != ''):\n",
    "            delay_sum += float(column_ii[jj])\n",
    "            count += 1\n",
    "    if count != 0:\n",
    "        d[ii] = delay_sum / count\n",
    "    else:\n",
    "        d[ii] = np.nan"
   ]
  },
  {
   "cell_type": "code",
   "execution_count": 46,
   "metadata": {},
   "outputs": [
    {
     "data": {
      "text/plain": [
       "array([0.09016369,        nan,        nan,        nan,        nan,\n",
       "              nan])"
      ]
     },
     "execution_count": 46,
     "metadata": {},
     "output_type": "execute_result"
    }
   ],
   "source": [
    "d"
   ]
  },
  {
   "cell_type": "code",
   "execution_count": null,
   "metadata": {},
   "outputs": [],
   "source": [
    "c1 = 0\n",
    "c2 = d[0]\n",
    "c3 = -1/2*(d[2] + d[0] - d[1])\n",
    "c4 = 1/3 * (d[3] + d[4] + d[5] + 1/2*d[0] -1/2*d[2] + 1/2*d[1])\n"
   ]
  }
 ],
 "metadata": {
  "kernelspec": {
   "display_name": "Python 3",
   "language": "python",
   "name": "python3"
  },
  "language_info": {
   "codemirror_mode": {
    "name": "ipython",
    "version": 3
   },
   "file_extension": ".py",
   "mimetype": "text/x-python",
   "name": "python",
   "nbconvert_exporter": "python",
   "pygments_lexer": "ipython3",
   "version": "3.7.3"
  }
 },
 "nbformat": 4,
 "nbformat_minor": 2
}
