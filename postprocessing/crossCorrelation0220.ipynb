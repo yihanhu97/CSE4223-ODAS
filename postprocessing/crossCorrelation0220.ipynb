{
 "cells": [
  {
   "cell_type": "code",
   "execution_count": 2,
   "metadata": {},
   "outputs": [],
   "source": [
    "import soundfile as sf\n",
    "import numpy as np\n",
    "import scipy as signal\n",
    "import matplotlib.pyplot as plt\n",
    "import math\n",
    "import pandas as pd\n",
    "from pathlib import Path\n",
    "# from functools import lru_cache"
   ]
  },
  {
   "cell_type": "code",
   "execution_count": 16,
   "metadata": {},
   "outputs": [],
   "source": [
    "# Load data\n",
    "data1,samplerate = sf.read('/Users/hyh/Desktop/Test Files/Postfiltered/postfiltered_2020-01-08_09_25_03_1.raw', \n",
    "               channels=4, \n",
    "               samplerate=16000,\n",
    "               subtype='PCM_16'\n",
    "              )\n",
    "data2,samplerate = sf.read('/Users/hyh/Desktop/Test Files/Postfiltered/postfiltered_2020-01-08_09_25_03_2.raw', \n",
    "               channels=4, \n",
    "               samplerate=16000,\n",
    "               subtype='PCM_16'\n",
    "              )"
   ]
  },
  {
   "cell_type": "markdown",
   "metadata": {},
   "source": [
    "## Functions"
   ]
  },
  {
   "cell_type": "code",
   "execution_count": 17,
   "metadata": {},
   "outputs": [],
   "source": [
    "def truncate(sig1, sig2):\n",
    "    '''\n",
    "    This function truncates the longer signal and return two signals of the same length\n",
    "    '''\n",
    "    l1, l2 = len(sig1), len(sig2)\n",
    "    if l1 <= l2:\n",
    "        return sig1, sig2[0:l1]\n",
    "    else:\n",
    "        return sig1[0:l2], sig2\n",
    "\n",
    "def prepadding(sig1, sig2, winDuration, Fs):\n",
    "    l = winDuration * Fs\n",
    "    N = len(sig1)    \n",
    "    # Padding to have an interger number of windows\n",
    "    if N%l != 0:\n",
    "        padWidth = l-N%l\n",
    "        sig1 = np.pad(sig1, (0, padWidth), 'constant', constant_values = 0)\n",
    "        sig2 = np.pad(sig2, (0, padWidth), 'constant', constant_values = 0)\n",
    "        \n",
    "    numOfWindows = len(sig1)/l\n",
    "    \n",
    "    return sig1, sig2, numOfWindows\n",
    "\n",
    "def whiten(sig):\n",
    "    return sig/np.abs(sig)\n",
    "\n",
    "def gcc_phat(sig1, sig2, fs=16000, max_tau=None, interp=1, window=True, windowName=\"hamming\"):\n",
    "    '''\n",
    "    This function computes the offset between the signal sig and the reference signal refsig\n",
    "    using the Generalized Cross Correlation - Phase Transform (GCC-PHAT)method. In this modified\n",
    "    function, sig1 and sig2 are garuanteed to have the same length\n",
    "    '''\n",
    "    # Make sure the length for the FFT is larger or equal than len(sig) + len(refsig)\n",
    "    # n1, n2 = sig1.shape[0], sig2.shape[0]\n",
    "    n = sig1.shape[0]\n",
    "    \n",
    "    # Add window\n",
    "    if window: \n",
    "        win1 = getattr(np, windowName)(n)\n",
    "        win2 = getattr(np, windowName)(n)\n",
    "        sig1 = sig1 * win1\n",
    "        sig2 = sig2 * win2\n",
    "\n",
    "    # Generalized Cross Correlation Phase Transform\n",
    "    SIG1 = np.fft.rfft(sig1, n=n)\n",
    "    SIG2 = np.fft.rfft(sig2, n=n)\n",
    "    \n",
    "    W1 = whiten(SIG1)\n",
    "    W2 = whiten(SIG2)\n",
    "    \n",
    "    R = W1 * np.conj(W2)\n",
    "    \n",
    "    cc = np.fft.irfft(R, n=(interp * n))\n",
    "\n",
    "    max_shift = int(interp * n / 2)\n",
    "    if max_tau:\n",
    "        max_shift = np.minimum(int(interp * fs * max_tau), max_shift)\n",
    "\n",
    "    cc = np.concatenate((cc[-max_shift:], cc[:max_shift+1]))\n",
    "\n",
    "    # find max cross correlation index\n",
    "    shift = np.argmax(np.abs(cc)) - max_shift\n",
    "\n",
    "    tau = np.float(shift / float(interp * fs))\n",
    "    \n",
    "    if(np.any(np.isnan(cc))): \n",
    "        tau = math.nan\n",
    "    \n",
    "    return tau, cc, R, SIG1, SIG2"
   ]
  },
  {
   "cell_type": "markdown",
   "metadata": {},
   "source": [
    "## Extract delay across ODAS2 & ODAS3"
   ]
  },
  {
   "cell_type": "code",
   "execution_count": 18,
   "metadata": {},
   "outputs": [],
   "source": [
    "'''\n",
    "Between two devices, each device generates 4 channels/arrays\n",
    "The number of possible gcc-phat combinations is 2*(4!)/(1!(4-1)!) = 16\n",
    "'''\n",
    "'''\n",
    "         Fs: Sampling Frequency\n",
    "WinDuration: The length of the moving window in time (s)\n",
    "  tauPerWin: An array that keeps track of delay per window\n",
    "'''\n",
    "\n",
    "# This needs to be turned into a for loop for all 4 channels\n",
    "# Need to make sure the number of windows are the same across all comparisons\n",
    "\n",
    "columnNames = [\"time\",\"delay\",\"0-0\",\"0-1\",\"0-2\",\"0-3\"]\n",
    "timeColumn  = []\n",
    "delayColumn = []\n",
    "\n",
    "winDuration, Fs = 1, 16000\n",
    "max_tau = 5/340\n",
    "l = int(winDuration * Fs)\n",
    "sig1, sig2 = truncate(data1[:,0], data2[:,0])\n",
    "sig1, sig2, numOfWindows = prepadding(sig1, sig2, winDuration, Fs)\n",
    "\n",
    "# for i in range(0,int(numOfWindows)):\n",
    "#     sig1Temp, sig2Temp = sig1[i*l:l*(i+1)], sig2[i*l:l*(i+1)]\n",
    "#     tau, cc, R, SIG1, SIG2 = gcc_phat(sig1Temp, sig2Temp, fs=16000)\n",
    "#     if tau is not math.nan:\n",
    "#         timeColumn.append(i)\n",
    "#         delayColumn.append(tau)\n",
    "    \n",
    "# d = pd.DataFrame(data=delayColumn,    # values\n",
    "#                  index=timeColumn     # 1st column as index\n",
    "#                 )                     #  1st row as the column names   \n",
    "    \n",
    "\n",
    "# for i in range(97,98):\n",
    "#     sig1Temp, sig2Temp = sig1[i*l:l*(i+1)], sig2[i*l:l*(i+1)]\n",
    "#     tau, cc, R, SIG1, SIG2 = gcc_phat(sig1Temp, sig2Temp, fs=16000)"
   ]
  },
  {
   "cell_type": "code",
   "execution_count": 180,
   "metadata": {},
   "outputs": [
    {
     "data": {
      "text/plain": [
       "27.2"
      ]
     },
     "execution_count": 180,
     "metadata": {},
     "output_type": "execute_result"
    }
   ],
   "source": [
    "# In addition to the delay, significance, take the mean of the cross corrletion, std, peak/std\n",
    "# width of the peak, half of the peak, width = index of first element above half and the last element above half\n",
    "# Create a table, time | array 1 | array 2 | significance | width"
   ]
  },
  {
   "cell_type": "code",
   "execution_count": 21,
   "metadata": {},
   "outputs": [
    {
     "name": "stderr",
     "output_type": "stream",
     "text": [
      "<ipython-input-17-ac6d5c7264d0>:25: RuntimeWarning: invalid value encountered in true_divide\n",
      "  return sig/np.abs(sig)\n"
     ]
    }
   ],
   "source": [
    "i = 8\n",
    "sig1Temp, sig2Temp = sig1[i*l:l*(i+1)], sig2[i*l:l*(i+1)]\n",
    "tau, cc, R, SIG1, SIG2 = gcc_phat(sig1Temp, sig2Temp, fs=16000)"
   ]
  },
  {
   "cell_type": "code",
   "execution_count": 22,
   "metadata": {},
   "outputs": [
    {
     "data": {
      "text/plain": [
       "nan"
      ]
     },
     "execution_count": 22,
     "metadata": {},
     "output_type": "execute_result"
    }
   ],
   "source": [
    "tau"
   ]
  },
  {
   "cell_type": "code",
   "execution_count": 20,
   "metadata": {},
   "outputs": [
    {
     "data": {
      "text/plain": [
       "[<matplotlib.lines.Line2D at 0x116532340>]"
      ]
     },
     "execution_count": 20,
     "metadata": {},
     "output_type": "execute_result"
    },
    {
     "data": {
      "image/png": "[encoded data removed]",
      "text/plain": [
       "<Figure size 432x288 with 2 Axes>"
      ]
     },
     "metadata": {
      "needs_background": "light"
     },
     "output_type": "display_data"
    }
   ],
   "source": [
    "plt.subplot(2,1,1)\n",
    "plt.plot(sig1Temp)\n",
    "plt.subplot(2,1,2)\n",
    "plt.plot(sig2Temp)"
   ]
  },
  {
   "cell_type": "code",
   "execution_count": 6,
   "metadata": {},
   "outputs": [
    {
     "data": {
      "text/plain": [
       "28.0"
      ]
     },
     "execution_count": 6,
     "metadata": {},
     "output_type": "execute_result"
    }
   ],
   "source": [
    "# @lru_cache\n",
    "# def fact(n):\n",
    "#     if n <= 1:\n",
    "#         return 1\n",
    "#     return n * fact(n-1)\n",
    "\n",
    "# fact(8)/fact(2)/fact(6)"
   ]
  },
  {
   "cell_type": "code",
   "execution_count": 23,
   "metadata": {},
   "outputs": [],
   "source": [
    "# If time range is given, say between 2020-01-08, 09:10 - 09:30\n",
    "timeRange = ['2020-01-08_09_10',\n",
    "             '2020-01-08_09_15',\n",
    "             '2020-01-08_09_20',\n",
    "             '2020-01-08_09_25',\n",
    "             '2020-01-08_09_30'\n",
    "            ]\n",
    "\n",
    "# Extract any files that exsist within this time range. For testing, I am only using array 2 and array 3\n",
    "for time in timeRange:\n",
    "    path_in_str_list = []\n",
    "    pathlist = Path('/Users/hyh/Desktop/Test Files/Postfiltered/').glob('*'+time+'*[2-3].raw')\n",
    "    for path in pathlist:\n",
    "        # because path is object not string\n",
    "        path_in_str = str(path)\n",
    "        path_in_str_list.append(path_in_str)\n",
    "        path_in_str_list.sort()\n",
    "    # Load data\n",
    "    data1,samplerate = sf.read(path_in_str_list[0], \n",
    "                   channels=4, \n",
    "                   samplerate=16000,\n",
    "                   subtype='PCM_16'\n",
    "                  )\n",
    "    data2,samplerate = sf.read(path_in_str_list[1], \n",
    "                   channels=4, \n",
    "                   samplerate=16000,\n",
    "                   subtype='PCM_16'\n",
    "                  )\n",
    "    # Then do cross correlation"
   ]
  },
  {
   "cell_type": "code",
   "execution_count": 15,
   "metadata": {},
   "outputs": [
    {
     "data": {
      "text/plain": [
       "['/Users/hyh/Desktop/Test Files/Postfiltered/postfiltered_2020-01-08_09_30_03_2.raw',\n",
       " '/Users/hyh/Desktop/Test Files/Postfiltered/postfiltered_2020-01-08_09_30_03_3.raw']"
      ]
     },
     "execution_count": 15,
     "metadata": {},
     "output_type": "execute_result"
    }
   ],
   "source": [
    "path_in_str_list"
   ]
  },
  {
   "cell_type": "code",
   "execution_count": null,
   "metadata": {},
   "outputs": [],
   "source": []
  }
 ],
 "metadata": {
  "kernelspec": {
   "display_name": "Python 3",
   "language": "python",
   "name": "python3"
  },
  "language_info": {
   "codemirror_mode": {
    "name": "ipython",
    "version": 3
   },
   "file_extension": ".py",
   "mimetype": "text/x-python",
   "name": "python",
   "nbconvert_exporter": "python",
   "pygments_lexer": "ipython3",
   "version": "3.8.0"
  }
 },
 "nbformat": 4,
 "nbformat_minor": 2
}
