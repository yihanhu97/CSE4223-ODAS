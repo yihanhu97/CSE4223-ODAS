{
 "cells": [
  {
   "cell_type": "markdown",
   "metadata": {},
   "source": [
    "# Oja's Algorithm"
   ]
  },
  {
   "cell_type": "markdown",
   "metadata": {},
   "source": [
    "## The following cell imports the .db file when run"
   ]
  },
  {
   "cell_type": "code",
   "execution_count": 1,
   "metadata": {},
   "outputs": [
    {
     "name": "stdout",
     "output_type": "stream",
     "text": [
      "-rw-r--r--@ 1 yoavfreund  staff   576M May 19 09:10 ../../Data/K_cluster_analysis.db\r\n"
     ]
    }
   ],
   "source": [
    "data_dir = \"../../Data/K_cluster_analysis.db\" # change this according to where your data is kept\n",
    "!ls -lh $data_dir"
   ]
  },
  {
   "cell_type": "code",
   "execution_count": 2,
   "metadata": {
    "scrolled": true
   },
   "outputs": [
    {
     "name": "stdout",
     "output_type": "stream",
     "text": [
      "Populating the interactive namespace from numpy and matplotlib\n"
     ]
    }
   ],
   "source": [
    "import pandas as pd\n",
    "import numpy as np\n",
    "from sklearn import decomposition\n",
    "from matplotlib import pyplot as plt\n",
    "import matplotlib.cm as cm\n",
    "from matplotlib.pyplot import figure\n",
    "import seaborn as sns\n",
    "from sklearn.cluster import KMeans\n",
    "import glob\n",
    "%pylab inline"
   ]
  },
  {
   "cell_type": "code",
   "execution_count": 3,
   "metadata": {
    "scrolled": true
   },
   "outputs": [
    {
     "name": "stdout",
     "output_type": "stream",
     "text": [
      "CPU times: user 189 ms, sys: 590 ms, total: 779 ms\n",
      "Wall time: 794 ms\n"
     ]
    },
    {
     "data": {
      "text/plain": [
       "(2664671, 12)"
      ]
     },
     "execution_count": 3,
     "metadata": {},
     "output_type": "execute_result"
    }
   ],
   "source": [
    "%%time\n",
    "#run this to import\n",
    "try:\n",
    "    import dill\n",
    "except:\n",
    "    %pip install dill\n",
    "    import dill\n",
    "dill.load_session(data_dir)\n",
    "data=data[:,1:]  # remove prefix '1'\n",
    "data.shape"
   ]
  },
  {
   "cell_type": "markdown",
   "metadata": {},
   "source": [
    "From [the fast onvergence of incremental PCA](https://arxiv.org/pdf/1501.03796.pdf)\n",
    "\n",
    "![](figures/OnlinePCAEquations.png)"
   ]
  },
  {
   "cell_type": "markdown",
   "metadata": {},
   "source": [
    "### Explanation of Oja's update\n",
    "\n",
    "* $V_n$ - the estimate of the top eigenvector at iteration $n$\n",
    "* $\\gamma_n$ - learning rate.\n",
    "* $X_n$ The $n$th example\n",
    "* $X_n X_n^T V_{n-1} = X_n (X_n \\cdot V_{n-1})$"
   ]
  },
  {
   "cell_type": "markdown",
   "metadata": {},
   "source": [
    "### calc and subtract mean"
   ]
  },
  {
   "cell_type": "code",
   "execution_count": 4,
   "metadata": {},
   "outputs": [
    {
     "name": "stdout",
     "output_type": "stream",
     "text": [
      "(2664671, 12)\n",
      "[[-0.02950949  0.00459708  0.95076457  0.1287518  -0.04651903  0.61195448\n",
      "   0.05075128 -0.11779619  0.93551044  0.25047638 -0.0368738   0.8057973 ]]\n",
      "(1, 12)\n"
     ]
    }
   ],
   "source": [
    "# Calculating the mean of the data points\n",
    "print(data.shape)\n",
    "data_mean = np.nanmean(data,axis = 0,keepdims = True)\n",
    "print(data_mean)\n",
    "\n",
    "# subtracting the means from the data matrix\n",
    "\n",
    "print(data_mean.shape)\n",
    "\n",
    "data = data - data_mean"
   ]
  },
  {
   "cell_type": "code",
   "execution_count": 5,
   "metadata": {
    "scrolled": true
   },
   "outputs": [
    {
     "data": {
      "text/plain": [
       "array([[ 1.00129615e-17, -6.22028761e-19,  1.29763140e-16,\n",
       "         2.22252682e-17, -2.80124212e-17,  1.22557594e-16,\n",
       "         3.26439482e-18,  7.95596556e-17,  5.16255423e-16,\n",
       "         7.70841431e-17,  9.97767260e-18,  1.42645399e-16]])"
      ]
     },
     "execution_count": 5,
     "metadata": {},
     "output_type": "execute_result"
    }
   ],
   "source": [
    "# check that mean is now zero\n",
    "np.nanmean(data,axis = 0,keepdims = True)"
   ]
  },
  {
   "cell_type": "markdown",
   "metadata": {},
   "source": [
    "## New idea: set nan to zero after subtructing the mean\n",
    "After subtracting the mean, we know that the new mean is zero. If we now set all of the nans to zero \n",
    "we create a fully defined data with the mean unchanged. Outer product has to be positive semi-definite."
   ]
  },
  {
   "cell_type": "code",
   "execution_count": 6,
   "metadata": {},
   "outputs": [
    {
     "data": {
      "text/plain": [
       "21558675"
      ]
     },
     "execution_count": 6,
     "metadata": {},
     "output_type": "execute_result"
    }
   ],
   "source": [
    "np.sum(isnan(data))"
   ]
  },
  {
   "cell_type": "code",
   "execution_count": 7,
   "metadata": {},
   "outputs": [
    {
     "data": {
      "text/plain": [
       "0"
      ]
     },
     "execution_count": 7,
     "metadata": {},
     "output_type": "execute_result"
    }
   ],
   "source": [
    "cdata=np.nan_to_num(data)\n",
    "np.sum(isnan(cdata))"
   ]
  },
  {
   "cell_type": "code",
   "execution_count": 8,
   "metadata": {},
   "outputs": [
    {
     "data": {
      "text/plain": [
       "(2664671, 12)"
      ]
     },
     "execution_count": 8,
     "metadata": {},
     "output_type": "execute_result"
    }
   ],
   "source": [
    "cdata.shape"
   ]
  },
  {
   "cell_type": "code",
   "execution_count": 10,
   "metadata": {},
   "outputs": [
    {
     "name": "stdout",
     "output_type": "stream",
     "text": [
      " 2660000: "
     ]
    }
   ],
   "source": [
    "import pandas as pd\n",
    "import numpy as np\n",
    "from sklearn import decomposition\n",
    "from matplotlib import pyplot as plt\n",
    "import matplotlib.cm as cm\n",
    "from matplotlib.pyplot import figure\n",
    "import seaborn as sns\n",
    "from sklearn.cluster import KMeans\n",
    "import glob\n",
    "\n",
    "from numpy import linalg as LA\n",
    "\n",
    "d=12  # dimension\n",
    "n=cdata.shape[0]\n",
    "block_size=10000\n",
    "# calculate covariance matrix\n",
    "\n",
    "outters = np.zeros((d, d))\n",
    "for j in range(n):\n",
    "    outters += np.outer(cdata[j,:],cdata[j,:])\n",
    "    if j%block_size==0:\n",
    "        print('\\r %d: '%j,end='')\n",
    "    \n",
    "_cov = outters/n\n",
    "\n",
    "#eigen values\n",
    "eigen_values, eigen_vectors = LA.eig(_cov)\n"
   ]
  },
  {
   "cell_type": "code",
   "execution_count": 11,
   "metadata": {},
   "outputs": [
    {
     "data": {
      "text/plain": [
       "array([0.07987757, 0.0345566 , 0.02562041, 0.02324271, 0.02034742,\n",
       "       0.0015321 , 0.00317211, 0.00431054, 0.0060947 , 0.00873081,\n",
       "       0.01008793, 0.01197347])"
      ]
     },
     "execution_count": 11,
     "metadata": {},
     "output_type": "execute_result"
    }
   ],
   "source": [
    "eigen_values"
   ]
  },
  {
   "cell_type": "code",
   "execution_count": 12,
   "metadata": {},
   "outputs": [
    {
     "data": {
      "text/plain": [
       "array([0.0015321 , 0.00317211, 0.00431054, 0.0060947 , 0.00873081,\n",
       "       0.01008793, 0.01197347, 0.02034742, 0.02324271, 0.02562041,\n",
       "       0.0345566 , 0.07987757])"
      ]
     },
     "execution_count": 12,
     "metadata": {},
     "output_type": "execute_result"
    }
   ],
   "source": [
    "np.sort(eigen_values)"
   ]
  },
  {
   "cell_type": "markdown",
   "metadata": {},
   "source": [
    "## Old Oja-based code"
   ]
  },
  {
   "cell_type": "code",
   "execution_count": 32,
   "metadata": {
    "scrolled": false
   },
   "outputs": [
    {
     "name": "stdout",
     "output_type": "stream",
     "text": [
      "0\t0.0000 0.0000 0.0000 0.0000 0.0000 0.0000 -0.2678 0.7853 0.5582 0.0000 0.0000 0.0000\n",
      "100000\t0.0000 0.0000 0.0000 0.0000 0.0000 0.0000 -0.2700 0.7861 0.5560 0.0000 0.0000 0.0000\n",
      "200000\t0.0000 0.0000 0.0000 0.0000 0.0000 0.0000 -0.2690 0.7868 0.5556 0.0000 0.0000 0.0000\n",
      "300000\t0.0000 0.0000 0.0000 0.0000 0.0000 0.0000 -0.2699 0.7946 0.5438 -0.0016 0.0002 0.0014\n",
      "400000\t0.0001 -0.0001 0.0003 0.0000 0.0000 0.0000 -0.2694 0.8068 0.5258 -0.0016 0.0002 0.0014\n",
      "500000\t0.0002 -0.0003 0.0007 0.0000 0.0000 0.0000 -0.2818 0.8097 0.5148 -0.0016 0.0002 0.0014\n",
      "600000\t0.0003 -0.0004 0.0009 0.0000 0.0000 0.0000 -0.2795 0.8193 0.5007 -0.0016 0.0002 0.0014\n",
      "700000\t0.0006 -0.0046 0.0059 0.0000 0.0000 0.0000 -0.2780 0.8266 0.4893 -0.0016 0.0002 0.0014\n",
      "800000\t0.0008 -0.0086 0.0106 0.0000 0.0000 0.0000 -0.2775 0.8321 0.4797 -0.0137 0.0021 0.0116\n",
      "900000\t0.0006 -0.0118 0.0141 0.0000 0.0000 0.0000 -0.2756 0.8367 0.4725 -0.0138 0.0022 0.0116\n",
      "1000000\t0.0006 -0.0118 0.0140 0.0000 0.0000 0.0000 -0.2787 0.8360 0.4720 -0.0138 0.0022 0.0116\n",
      "1100000\t0.0008 -0.0085 0.0116 0.0000 0.0000 0.0000 -0.2795 0.8358 0.4719 -0.0158 0.0020 0.0146\n",
      "1200000\t0.0010 -0.0047 0.0084 0.0000 0.0000 0.0000 -0.2795 0.8358 0.4719 -0.0178 0.0017 0.0162\n",
      "1300000\t0.0012 -0.0033 0.0072 0.0000 0.0000 0.0000 -0.2849 0.8343 0.4713 -0.0180 0.0017 0.0168\n",
      "1400000\t0.0012 -0.0034 0.0074 0.0000 0.0000 0.0000 -0.2837 0.8372 0.4661 -0.0267 0.0027 0.0241\n",
      "1500000\t0.0010 -0.0028 0.0062 0.0000 0.0000 0.0000 -0.2827 0.8399 0.4618 -0.0282 0.0028 0.0233\n",
      "1600000\t0.0010 -0.0028 0.0062 0.0000 0.0000 0.0000 -0.2808 0.8427 0.4571 -0.0344 0.0040 0.0286\n",
      "1700000\t-0.0084 -0.0154 0.0198 -0.0108 0.0088 0.0069 -0.2645 0.8444 0.4613 -0.0416 0.0146 0.0372\n",
      "1800000\t-0.0013 -0.0064 0.0126 -0.0108 0.0088 0.0069 -0.2645 0.8444 0.4613 -0.0481 0.0105 0.0376\n",
      "1900000\t-0.0010 -0.0049 0.0100 -0.0106 0.0080 0.0062 -0.3176 0.8569 0.4006 -0.0516 0.0108 0.0346\n",
      "2000000\t0.1639 -0.3591 0.1566 -0.2040 -0.1229 -0.1119 -0.0558 0.7385 0.2960 -0.2912 0.1457 0.0911\n",
      "2100000\t0.2429 -0.2052 0.1707 -0.0854 -0.1169 0.1049 -0.0642 0.6526 0.3810 -0.3984 0.1127 0.3020\n",
      "2200000\t0.2187 -0.0187 0.0390 0.4354 -0.1453 -0.0180 -0.1739 0.4941 0.3444 -0.4671 -0.0455 0.3551\n",
      "2300000\t-0.3515 0.1626 0.0160 0.3516 -0.3263 -0.0209 -0.1807 0.3828 0.2245 -0.5354 -0.0433 0.3179\n",
      "2400000\t-0.3515 0.1626 0.0105 0.3456 -0.3333 -0.0266 -0.1807 0.3828 0.2245 -0.5395 -0.0383 0.3108\n",
      "2500000\t-0.3539 0.1134 0.2073 0.2465 -0.3700 -0.0193 -0.1352 0.4422 0.3191 -0.4374 0.0824 0.3273\n",
      "2600000\t-0.1822 0.1308 0.2236 0.3314 -0.0117 -0.0883 -0.1643 0.4817 0.3424 -0.4809 0.0086 0.4175\n"
     ]
    }
   ],
   "source": [
    "v_next_Nr = np.zeros((12))\n",
    "\n",
    "vList=[]\n",
    "varList=[]\n",
    "\n",
    "for i in range(data.shape[0]):\n",
    "    \n",
    "    gamma_oja = 0.0001 # max(0.00001,1/(i+1)) # fixing learning rate [1]\n",
    "    \n",
    "    # Implementing Oja's rule equation\n",
    "    # It involves an inner product. In the presence of NaNs, we look at it as\n",
    "    # elementwise multiplication followed by nansum\n",
    "    # Then we have a multiplication of gamma and the dot product with the current vector\n",
    "    # We also add the previous weight vector to this.\n",
    "    \n",
    "    # we calculate the second term of the sum first\n",
    "    _dot=np.nansum(np.multiply(data[i,:],v))\n",
    "    oja_term_2 = gamma_oja * data[i,:] * _dot\n",
    "    \n",
    "    # we find which the indices of elements that not nan\n",
    "    _not_nan_term_2=~isnan(oja_term_2)\n",
    "    \n",
    "    # only updating those terms of the numerator which are not NaN\n",
    "    v_next_Nr[_not_nan_term_2] = v[_not_nan_term_2] + oja_term_2[_not_nan_term_2]\n",
    "\n",
    "    v_next_Dr = np.linalg.norm(v_next_Nr)\n",
    "#     if(i%100000==0):\n",
    "#         print('the denominator is', v_next_Dr)\n",
    "    v_next = v_next_Nr/v_next_Dr\n",
    "\n",
    "    \n",
    "    v = v_next\n",
    "    vList.append(v)\n",
    "    varList.append(_dot**2)\n",
    "    if(i%100000==0):\n",
    "        print(\"%d\\t\"%i+' '.join([\"%5.4f\"%x for x in v]))"
   ]
  },
  {
   "cell_type": "code",
   "execution_count": 37,
   "metadata": {},
   "outputs": [
    {
     "data": {
      "image/png": "[encoded data removed]",
      "text/plain": [
       "<Figure size 432x288 with 1 Axes>"
      ]
     },
     "metadata": {
      "needs_background": "light"
     },
     "output_type": "display_data"
    }
   ],
   "source": [
    "varList=np.array(varList)\n",
    "varList.shape\n",
    "plot(varList);"
   ]
  },
  {
   "cell_type": "code",
   "execution_count": 34,
   "metadata": {
    "scrolled": true
   },
   "outputs": [
    {
     "data": {
      "text/plain": [
       "(2664671, 12)"
      ]
     },
     "execution_count": 34,
     "metadata": {},
     "output_type": "execute_result"
    }
   ],
   "source": [
    "vstack=np.stack(vList)\n",
    "\n",
    "vstack.shape"
   ]
  },
  {
   "cell_type": "code",
   "execution_count": 35,
   "metadata": {},
   "outputs": [
    {
     "data": {
      "image/png": "[encoded data removed]",
      "text/plain": [
       "<Figure size 432x288 with 1 Axes>"
      ]
     },
     "metadata": {
      "needs_background": "light"
     },
     "output_type": "display_data"
    }
   ],
   "source": [
    "step=10000\n",
    "diffs=vstack[step:,:]-vstack[:-step,:]\n",
    "change=np.sqrt(np.sum(diffs**2,axis=1))\n",
    "plot(change);"
   ]
  },
  {
   "cell_type": "markdown",
   "metadata": {},
   "source": [
    "### Obtaining the second second eigenvector"
   ]
  },
  {
   "cell_type": "markdown",
   "metadata": {},
   "source": [
    "1. 'v' is the current eigenvector\n",
    "2. project each point i onto v. call this projection i_proj_v\n",
    "3. subtract, for each point, i_proj_v from i"
   ]
  },
  {
   "cell_type": "code",
   "execution_count": 38,
   "metadata": {},
   "outputs": [
    {
     "data": {
      "text/plain": [
       "array([-0.13811838,  0.10837885,  0.20350062,  0.33143228, -0.01169869,\n",
       "       -0.08830868, -0.16426548,  0.48175471,  0.3424045 , -0.51097917,\n",
       "        0.02474153,  0.4146791 ])"
      ]
     },
     "execution_count": 38,
     "metadata": {},
     "output_type": "execute_result"
    }
   ],
   "source": [
    "v"
   ]
  },
  {
   "cell_type": "markdown",
   "metadata": {},
   "source": [
    "We use the equation to project vector a onto vector b:\n",
    "$ \\vec{a_1} = \\vec{a}  \\frac{\\vec{b}}{||\\vec{b}||} $\n",
    "\n",
    "This is the magnitude of the projection vector."
   ]
  },
  {
   "cell_type": "code",
   "execution_count": 14,
   "metadata": {},
   "outputs": [],
   "source": [
    "# projecting i_1 onto v\n",
    "\n",
    "data_perp_1 = np.zeros(data.shape)\n",
    "\n",
    "v_mag = np.linalg.norm(v)\n",
    "\n",
    "v_unit_vector = v/v_mag\n",
    "\n",
    "for j in range(data.shape[0]):\n",
    "\n",
    "    i_1 = data[j,:]\n",
    "\n",
    "    proj_num = np.nansum(np.multiply(i_1,v))\n",
    "\n",
    "    proj_not_nan = ~isnan(i_1)\n",
    "\n",
    "    proj_den = np.linalg.norm(v[proj_not_nan])\n",
    "\n",
    "    proj_mag = proj_num/proj_den\n",
    "\n",
    "    proj_vector = proj_mag * v_unit_vector\n",
    "\n",
    "    # print(proj_vector)\n",
    "\n",
    "    # subtracting projection from datapoint\n",
    "\n",
    "    data_perp_1[j,proj_not_nan] = i_1[proj_not_nan] - proj_vector[proj_not_nan]\n",
    "    "
   ]
  },
  {
   "cell_type": "markdown",
   "metadata": {},
   "source": [
    "### Oja's rule for second matrix"
   ]
  },
  {
   "cell_type": "code",
   "execution_count": 15,
   "metadata": {},
   "outputs": [
    {
     "name": "stdout",
     "output_type": "stream",
     "text": [
      "(2664671, 12)\n",
      "[[-0.0038939   0.00093909 -0.0027018   0.01117392  0.00088442  0.00277328\n",
      "  -0.00178168  0.00271356  0.00162164 -0.00628616  0.00062516  0.00451578]]\n",
      "(1, 12)\n"
     ]
    }
   ],
   "source": [
    "# calculating the mean of data_perp_1 and subtracting it from the data\n",
    "\n",
    "\n",
    "print(data_perp_1.shape)\n",
    "data_perp_1_mean = np.nanmean(data_perp_1,axis = 0,keepdims = True)\n",
    "print(data_perp_1_mean)\n",
    "\n",
    "# subtracting the means from the data matrix\n",
    "\n",
    "print(data_perp_1_mean.shape)\n",
    "\n",
    "data_perp_1 = data_perp_1 - data_perp_1_mean"
   ]
  },
  {
   "cell_type": "code",
   "execution_count": 16,
   "metadata": {},
   "outputs": [
    {
     "name": "stdout",
     "output_type": "stream",
     "text": [
      "0 [ 0.37277669 -0.05731865 -0.39865916  0.44272782  0.03552602  0.30858963\n",
      "  0.27503927 -0.18685365 -0.25201469 -0.18597132 -0.44459656  0.00129792]\n",
      "100000 [ 0.7964066   0.38044611  0.4674886   0.02592613  0.00207626  0.01636902\n",
      "  0.01419637 -0.01113982 -0.01355375 -0.01698885 -0.02644464 -0.00316093]\n",
      "200000 [ 0.79616899  0.46464539  0.38341077  0.03821356  0.00304739  0.01883394\n",
      "  0.01119919 -0.00624294 -0.01023646 -0.02322511 -0.02412523  0.00094293]\n",
      "300000 [ 0.79619983  0.47632142  0.3687785   0.03927637  0.00313133  0.01902642\n",
      "  0.00888749  0.00587675 -0.00430972 -0.02384473 -0.02384577  0.00155441]\n",
      "400000 [ 0.79589296  0.47445424  0.36915287  0.03333238  0.0026608   0.01752333\n",
      "  0.00292002  0.04954868  0.01683458 -0.02049555 -0.02410018 -0.0008048 ]\n",
      "500000 [ 0.78969038  0.46611857  0.36914878  0.01996471  0.0016024   0.01406625\n",
      " -0.02059548  0.13139958  0.06132687 -0.01294899 -0.024457   -0.00599214]\n",
      "600000 [ 0.73980385  0.42815484  0.34843755 -0.01071277 -0.00082741  0.00575964\n",
      " -0.05194873  0.34365409  0.16159447  0.00443993 -0.02422902 -0.01732102]\n",
      "700000 [ 0.55883785  0.30552363  0.27379389 -0.05917328 -0.0046685  -0.00849924\n",
      " -0.09717013  0.64160323  0.30351454  0.03212313 -0.02067709 -0.03346213]\n",
      "800000 [ 0.30302511  0.13763778  0.17315633 -0.09554866 -0.00755485 -0.02049519\n",
      " -0.12731538  0.8232796   0.38873906  0.05193731 -0.01338156 -0.04060434]\n",
      "900000 [ 0.14755494  0.04213993  0.10394557 -0.10940503 -0.00865601 -0.02574995\n",
      " -0.12641466  0.87228005  0.41259814  0.06143568 -0.01027421 -0.04437733]\n",
      "1000000 [ 0.12332482  0.02883567  0.08737585 -0.11408175 -0.00902702 -0.02725949\n",
      " -0.14703022  0.86785143  0.42587131  0.06409469 -0.00950365 -0.04622689]\n",
      "1100000 [ 0.134496    0.02154491  0.07852444 -0.10855511 -0.0085897  -0.02593525\n",
      " -0.15251295  0.86349997  0.42559856  0.07146714 -0.00780636 -0.08691889]\n",
      "1200000 [ 0.40286065  0.08946147  0.19335373 -0.07683996 -0.00607979 -0.01820803\n",
      " -0.13325375  0.74378585  0.36700562  0.23911231  0.12378058 -0.08875805]\n",
      "1300000 [ 0.3380826   0.05987029  0.14208785 -0.08129509 -0.00643291 -0.01951685\n",
      " -0.1662339   0.77490936  0.39465635  0.21451674  0.09312228 -0.12780657]\n",
      "1400000 [ 0.19358254  0.02719921  0.08662632 -0.10101995 -0.00799493 -0.02473681\n",
      " -0.15722008  0.84647678  0.41520728  0.14183481  0.04455098 -0.08752686]\n",
      "1500000 [ 0.114768    0.00947339  0.05801633 -0.10888416 -0.00861781 -0.02686321\n",
      " -0.15010935  0.86920363  0.41854853  0.114095    0.0185426  -0.0642563 ]\n",
      "1600000 [ 0.07069371 -0.00199     0.04028935 -0.11350382 -0.00898369 -0.0281055\n",
      " -0.14173449  0.88032873  0.41783521  0.08473116  0.00436688 -0.05262527]\n",
      "1700000 [-0.48000825 -0.41577036  0.4990735  -0.25064815  0.20300665  0.11829395\n",
      "  0.14067885  0.34463619  0.24136667 -0.02784765  0.15888611  0.08234238]\n",
      "1800000 [-0.49549079 -0.37676606  0.51418167 -0.26094486  0.19082437  0.10653097\n",
      "  0.13718332  0.32145091  0.22570475 -0.11773964  0.16682682  0.13233297]\n",
      "1900000 [-0.39212646 -0.28275087  0.40164635 -0.20136838  0.23855469  0.10081399\n",
      " -0.10311065  0.63259098  0.18440418 -0.1437212   0.15557681  0.08763552]\n",
      "2000000 [ 0.11838122 -0.57970381  0.29911497 -0.40162837 -0.10299621 -0.30932642\n",
      "  0.24084367  0.35563873  0.15062177 -0.15920396  0.23755121 -0.06257191]\n",
      "2100000 [ 0.4878356   0.07870076  0.36668152 -0.4072807   0.31626243  0.08248571\n",
      "  0.31266727  0.26108164  0.20654704  0.03316906  0.35879471  0.10121232]\n",
      "2200000 [-0.05427272 -0.01842628  0.06873633 -0.59171901  0.26805055 -0.11145692\n",
      "  0.12504655 -0.48025889 -0.25620718 -0.35515858  0.15960121  0.30667183]\n",
      "2300000 [ 0.31890233 -0.07504533  0.1482994  -0.05257315  0.90249751 -0.018165\n",
      " -0.02100615 -0.00285425 -0.00844446  0.20532182 -0.1011428   0.01317208]\n",
      "2400000 [ 0.28982721 -0.07665284  0.18464276 -0.01306175  0.87802585  0.06707988\n",
      " -0.01456703 -0.0057793  -0.00886167  0.27969945 -0.13179183  0.06713327]\n",
      "2500000 [-0.04369597 -0.01199156  0.02769885  0.00481941 -0.01138815  0.0148695\n",
      " -0.04540981  0.73626347  0.6363857   0.10469891  0.18941874  0.02883728]\n",
      "2600000 [-0.00824529  0.00206421 -0.00542852 -0.17041628 -0.19621793 -0.40841655\n",
      " -0.33991825  0.49888641  0.36078454 -0.08855161 -0.49579268  0.13153593]\n"
     ]
    }
   ],
   "source": [
    "v_2= np.random.normal(0, 1, size = 12)\n",
    "# print(v)\n",
    "v_2 = v_2 / 10000\n",
    "# print(v)\n",
    "\n",
    "v_next_Nr_2 = np.zeros((12))\n",
    "\n",
    "\n",
    "for i in range(data.shape[0]):\n",
    "    \n",
    "    gamma_oja_2 = max(0.001,1/(i+1)) # fixing learning rate [1]\n",
    "    \n",
    "    # Implementing Oja's rule equation\n",
    "    # It involves an inner product. In the presence of NaNs, we look at it as\n",
    "    # elementwise multiplication followed by nansum\n",
    "    # Then we have a multiplication of gamma and the dot product with the current vector\n",
    "    # We also add the previous weight vector to this.\n",
    "    \n",
    "    # we calculate the second term of the sum first\n",
    "    oja_2_term_2 = gamma_oja_2 * data_perp_1[i,:] * np.nansum(np.multiply(data_perp_1[i,:],v_2))\n",
    "    \n",
    "    # we find which the indices of elements that not nan\n",
    "    _not_nan_2_term_2=~isnan(oja_2_term_2)\n",
    "    \n",
    "    # only updating those terms of the numerator which are not NaN\n",
    "    v_next_Nr_2[_not_nan_2_term_2] = v_2[_not_nan_2_term_2] + oja_2_term_2[_not_nan_2_term_2]\n",
    "\n",
    "#     if(i == 0):\n",
    "#         print('At the 1st iteration, numerator is ',v_next_Nr)\n",
    "#     if(i%100000==0):\n",
    "#         print('the numerator is', v_next_Nr)\n",
    "#     not_nn_oja = ~isnan(v_next_Nr)\n",
    "\n",
    "    v_next_Dr_2 = np.linalg.norm(v_next_Nr_2)\n",
    "#     if(i%100000==0):\n",
    "#         print('the denominator is', v_next_Dr)\n",
    "    v_next_2 = v_next_Nr_2/v_next_Dr_2\n",
    "\n",
    "    v_2 = v_next_2\n",
    "    if(i%100000==0):\n",
    "        print(i,v_2)"
   ]
  },
  {
   "cell_type": "code",
   "execution_count": 19,
   "metadata": {},
   "outputs": [
    {
     "name": "stdout",
     "output_type": "stream",
     "text": [
      "0.21242311956092796\n"
     ]
    }
   ],
   "source": [
    "# for a symmetric matrix eigenvectors must be normal\n",
    "dot_prod_ev = np.dot(v,v_2)\n",
    "print(dot_prod_ev)"
   ]
  },
  {
   "cell_type": "code",
   "execution_count": 69,
   "metadata": {},
   "outputs": [
    {
     "name": "stdout",
     "output_type": "stream",
     "text": [
      "[-0.06512481  0.55507046 -0.06970197 -1.54765397  0.66028296  0.88860828\n",
      "  0.48639555  0.38047019  0.30092569 -0.7525398   1.40319839 -0.08627907]\n",
      "[ 0.17673735 -0.09013655 -0.1184975   0.14000183 -0.61194194  0.42845273\n",
      "  0.48662751  1.14981189  0.8819502  -0.81194435 -0.55124646 -0.63579609]\n"
     ]
    }
   ],
   "source": [
    "v2= np.random.normal(0, 1, size = 12)\n",
    "print(v2)\n",
    "v3= np.random.normal(0, 1, size = 12)\n",
    "print(v3)"
   ]
  },
  {
   "cell_type": "code",
   "execution_count": 83,
   "metadata": {},
   "outputs": [
    {
     "name": "stdout",
     "output_type": "stream",
     "text": [
      "[False False False False False False  True  True  True False False False]\n"
     ]
    }
   ],
   "source": [
    "print(_not_nan_term_2)"
   ]
  },
  {
   "cell_type": "code",
   "execution_count": 70,
   "metadata": {},
   "outputs": [
    {
     "name": "stdout",
     "output_type": "stream",
     "text": [
      "[-0.06512481  0.55507046 -0.06970197]\n"
     ]
    }
   ],
   "source": [
    "print(v2[_not_nan_term_2])"
   ]
  },
  {
   "cell_type": "code",
   "execution_count": 71,
   "metadata": {},
   "outputs": [
    {
     "name": "stdout",
     "output_type": "stream",
     "text": [
      "[ 0.17673735 -0.09013655 -0.1184975 ]\n"
     ]
    }
   ],
   "source": [
    "print(v3[_not_nan_term_2])"
   ]
  },
  {
   "cell_type": "code",
   "execution_count": 77,
   "metadata": {},
   "outputs": [
    {
     "name": "stdout",
     "output_type": "stream",
     "text": [
      "[0. 0. 0. 0. 0. 0. 0. 0. 0. 0. 0. 0.]\n"
     ]
    }
   ],
   "source": [
    "v4 = np.zeros((12))\n",
    "print(v4)"
   ]
  },
  {
   "cell_type": "code",
   "execution_count": 78,
   "metadata": {},
   "outputs": [],
   "source": [
    "v4[_not_nan_term_2] = (v3[_not_nan_term_2]) + (v2[_not_nan_term_2])"
   ]
  },
  {
   "cell_type": "code",
   "execution_count": 80,
   "metadata": {},
   "outputs": [
    {
     "name": "stdout",
     "output_type": "stream",
     "text": [
      "[-0.06512481  0.55507046 -0.06970197 -1.54765397  0.66028296  0.88860828\n",
      "  0.48639555  0.38047019  0.30092569 -0.7525398   1.40319839 -0.08627907] [ 0.17673735 -0.09013655 -0.1184975   0.14000183 -0.61194194  0.42845273\n",
      "  0.48662751  1.14981189  0.8819502  -0.81194435 -0.55124646 -0.63579609] [0.         0.         0.         0.         0.         0.\n",
      " 0.97302307 1.53028208 1.18287589 0.         0.         0.        ]\n"
     ]
    }
   ],
   "source": [
    "print(v2,v3,v4)"
   ]
  },
  {
   "cell_type": "code",
   "execution_count": 81,
   "metadata": {},
   "outputs": [
    {
     "name": "stdout",
     "output_type": "stream",
     "text": [
      "[0.48639555 0.38047019 0.30092569] [0.48662751 1.14981189 0.8819502 ] [0.97302307 1.53028208 1.18287589]\n"
     ]
    }
   ],
   "source": [
    "print(v2[_not_nan_term_2],v3[_not_nan_term_2],v4[_not_nan_term_2])"
   ]
  },
  {
   "cell_type": "code",
   "execution_count": 82,
   "metadata": {},
   "outputs": [
    {
     "data": {
      "text/plain": [
       "array([False, False, False, False, False, False,  True,  True,  True,\n",
       "       False, False, False])"
      ]
     },
     "execution_count": 82,
     "metadata": {},
     "output_type": "execute_result"
    }
   ],
   "source": [
    "_not_nan_term_2"
   ]
  },
  {
   "cell_type": "markdown",
   "metadata": {},
   "source": [
    "### References (links):\n",
    "\n",
    "1. https://arxiv.org/pdf/1501.03796.pdf"
   ]
  }
 ],
 "metadata": {
  "kernelspec": {
   "display_name": "Python 3",
   "language": "python",
   "name": "python3"
  },
  "language_info": {
   "codemirror_mode": {
    "name": "ipython",
    "version": 3
   },
   "file_extension": ".py",
   "mimetype": "text/x-python",
   "name": "python",
   "nbconvert_exporter": "python",
   "pygments_lexer": "ipython3",
   "version": "3.7.6"
  },
  "toc": {
   "base_numbering": 1,
   "nav_menu": {},
   "number_sections": true,
   "sideBar": true,
   "skip_h1_title": false,
   "title_cell": "Table of Contents",
   "title_sidebar": "Contents",
   "toc_cell": false,
   "toc_position": {},
   "toc_section_display": true,
   "toc_window_display": false
  }
 },
 "nbformat": 4,
 "nbformat_minor": 4
}
