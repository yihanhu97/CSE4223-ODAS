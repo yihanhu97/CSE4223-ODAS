{
 "cells": [
  {
   "cell_type": "markdown",
   "metadata": {},
   "source": [
    "# mergeDirectionality"
   ]
  },
  {
   "cell_type": "markdown",
   "metadata": {},
   "source": [
    "## Imports"
   ]
  },
  {
   "cell_type": "code",
   "execution_count": null,
   "metadata": {},
   "outputs": [],
   "source": [
    "import pandas as pd\n",
    "import globimport io\n",
    "import os\n",
    "import pickle\n",
    "import sys\n",
    "from ipynb.fs.full.extractDirectionality import extractDirectionalities \n",
    "from googleapiclient.http import MediaIoBaseDownload\n",
    "from googleapiclient.discovery import build\n",
    "from google_auth_oauthlib.flow import InstalledAppFlow\n",
    "from google.auth.transport.requests import Request\n",
    "from tqdm import tqdm\n",
    "print(\"done\")"
   ]
  },
  {
   "cell_type": "code",
   "execution_count": null,
   "metadata": {},
   "outputs": [],
   "source": [
    "#Todo\n",
    "#create a function to fill the \"data\" folder with the recording .log files from the google doc \n",
    "#here\n",
    "SCOPES = ['https://www.googleapis.com/auth/drive.readonly']\n",
    "\n",
    "def begin():\n",
    "    creds = None\n",
    "    if os.path.exists('token.pickle'):\n",
    "        with open('token.pickle', 'rb') as token:\n",
    "            creds = pickle.load(token)\n",
    "    if not creds or not creds.valid:\n",
    "        if creds and creds.expired and creds.refresh_token:\n",
    "            creds.refresh(Request())\n",
    "        else:\n",
    "            flow = InstalledAppFlow.from_client_secrets_file('credentials.json', SCOPES)\n",
    "            creds = flow.run_local_server(port=1337)\n",
    "        with open('token.pickle', 'wb') as token:\n",
    "            pickle.dump(creds, token)\n",
    "    service = build('drive', 'v3', credentials=creds)\n",
    "\n",
    "    folder_name = 'ODAS'\n",
    "    folder_id = ''\n",
    "    location = unicode('../../data' 'utf-8')\n",
    "    folder = service.files().list(\n",
    "            q=\"name='{}' and mimeType='application/vnd.google-apps.folder'\".format(folder_name),\n",
    "            fields='files(id, name, parents)').execute()\n",
    "\n",
    "    total = len(folder['files'])\n",
    "    if total != 1:\n",
    "        print('{} folders found'.format(total))\n",
    "        if total == 0:\n",
    "            sys.exit(1)\n",
    "        prompt = 'Please select the folder you want to download:\\n\\n'\n",
    "        for i in range(total):\n",
    "            prompt += u'[{}]: {}\\n'.format(i, get_full_path(service, folder['files'][i]))\n",
    "        print prompt\n",
    "        choice = int(raw_input('Your choice: '))\n",
    "        if 0 <= choice and choice < total:\n",
    "            folder_id = folder['files'][choice]['id']\n",
    "        else:\n",
    "            sys.exit(1)\n",
    "    else:\n",
    "        folder_id = folder['files'][0]['id']\n",
    "\n",
    "    print('{} {}'.format(folder_id, folder_name))\n",
    "    download_folder(service, folder_id, location, unicode(folder_name, 'utf-8'))\n",
    "\n",
    "def get_full_path(service, folder):\n",
    "\n",
    "    if not 'parents' in folder:\n",
    "        return folder['name']\n",
    "    files = service.files().get(fileId=folder['parents'][0], fields='id, name, parents').execute()\n",
    "    path = files['name'] + ' > ' + folder['name']\n",
    "    while 'parents' in files:\n",
    "        files = service.files().get(fileId=files['parents'][0], fields='id, name, parents').execute()\n",
    "        path = files['name'] + ' > ' + path\n",
    "    return path\n",
    "\n",
    "def download_folder(service, folder_id, location, folder_name):\n",
    "\n",
    "    if not os.path.exists(location + folder_name):\n",
    "        os.makedirs(location + folder_name)\n",
    "    location += folder_name + '/'\n",
    "\n",
    "    result = []\n",
    "    files = service.files().list(\n",
    "            pageSize='1000',\n",
    "            q=\"'{}' in parents\".format(folder_id),\n",
    "            fields='files(id, name, mimeType)').execute()\n",
    "    result.extend(files['files'])\n",
    "    result = sorted(result, key=lambda k: k['name'])\n",
    "\n",
    "    total = len(result)\n",
    "    current = 1\n",
    "    for item in result:\n",
    "        file_id = item['id']\n",
    "        filename = item['name']\n",
    "        mime_type = item['mimeType']\n",
    "        print file_id, filename, mime_type, '({}/{})'.format(current, total)\n",
    "        if mime_type == 'application/vnd.google-apps.folder':\n",
    "            download_folder(service, file_id, location, filename)\n",
    "        elif not os.path.isfile(location + filename):\n",
    "            download_file(service, file_id, location, filename)\n",
    "        current += 1\n",
    "\n",
    "def download_file(service, file_id, location, filename):\n",
    "\n",
    "    request = service.files().get_media(fileId=file_id)\n",
    "    fh = io.FileIO(location + filename, 'wb')\n",
    "    downloader = MediaIoBaseDownload(fh, request, 1024 * 1024 * 1024)\n",
    "    done = False\n",
    "    while done is False:\n",
    "        try:\n",
    "            status, done = downloader.next_chunk()\n",
    "        except:\n",
    "            fh.close()\n",
    "            os.remove(location + filename)\n",
    "            sys.exit(1)\n",
    "        print '\\rDownload {}%.'.format(int(status.progress() * 100)),\n",
    "        sys.stdout.flush()\n",
    "    print ''\n",
    "\n"
   ]
  },
  {
   "cell_type": "markdown",
   "metadata": {},
   "source": [
    "## Main Function\n",
    "Decription: <br>\n",
    "mergeDirectionalities will iterate through all the files in \"data\" folder, and it will use extractDirectionalities create each file into a dataframe. The dataframe created will be appended into a master dataframe consiting of all the dataframes created from using extractDirectionalities on each file in \"data\" folder. <br>\n",
    "\n",
    "Prerequirements:<br>\n",
    "All folders in \"data\" folder must be filled with desired .log files in their respective recordingx folders.To do this, run the function above to automate it, or manually download the files from google drive and insert them into the correct folders.<br><br>\n",
    "\n",
    "Parameters:<br>\n",
    "None.<br><br>\n",
    "\n",
    "Returns a dataframe with the following columns:<br> \n",
    "**Timestamp, Time, Time In Seconds, Microphone Number, ID, X, Y, Z, Activity** <br>"
   ]
  },
  {
   "cell_type": "code",
   "execution_count": null,
   "metadata": {},
   "outputs": [],
   "source": [
    "def mergeDirectionalities():   \n",
    "    #create dataframe\n",
    "    df = pd.DataFrame(columns = ['Timestamp', 'Time', 'Microphone Number', 'Source ID', 'X', 'Y', 'Z', 'Activity'])\n",
    "    for i in range(1):\n",
    "        for filename in glob.glob(\"/Users/ardelalegre/CSE4223-ODAS/data/recordings\" + str(i) + \"/*.log\"):\n",
    "            with open(filename, 'r') as f:\n",
    "                firstline = f.readline()\n",
    "            if firstline == \"SST log contains no useful data\\n\":\n",
    "                pass\n",
    "            else:\n",
    "                df1 = extractDirectionalities(filename, i)\n",
    "                df = df.append(df1)\n",
    "            \n",
    "    df.sort_values(['Time In Seconds'])\n",
    "    print('in df')\n",
    "    return df"
   ]
  },
  {
   "cell_type": "markdown",
   "metadata": {},
   "source": [
    "## Testing"
   ]
  },
  {
   "cell_type": "code",
   "execution_count": null,
   "metadata": {},
   "outputs": [],
   "source": [
    "df = mergeDirectionalities():"
   ]
  },
  {
   "cell_type": "code",
   "execution_count": null,
   "metadata": {},
   "outputs": [],
   "source": [
    "begin()"
   ]
  },
  {
   "cell_type": "code",
   "execution_count": null,
   "metadata": {},
   "outputs": [],
   "source": [
    "\n"
   ]
  },
  {
   "cell_type": "code",
   "execution_count": null,
   "metadata": {},
   "outputs": [],
   "source": []
  },
  {
   "cell_type": "code",
   "execution_count": null,
   "metadata": {},
   "outputs": [],
   "source": []
  },
  {
   "cell_type": "code",
   "execution_count": null,
   "metadata": {},
   "outputs": [],
   "source": []
  },
  {
   "cell_type": "code",
   "execution_count": null,
   "metadata": {},
   "outputs": [],
   "source": []
  },
  {
   "cell_type": "code",
   "execution_count": null,
   "metadata": {},
   "outputs": [],
   "source": []
  },
  {
   "cell_type": "code",
   "execution_count": null,
   "metadata": {},
   "outputs": [],
   "source": []
  },
  {
   "cell_type": "code",
   "execution_count": null,
   "metadata": {},
   "outputs": [],
   "source": []
  },
  {
   "cell_type": "code",
   "execution_count": null,
   "metadata": {},
   "outputs": [],
   "source": []
  },
  {
   "cell_type": "code",
   "execution_count": null,
   "metadata": {},
   "outputs": [],
   "source": []
  },
  {
   "cell_type": "code",
   "execution_count": null,
   "metadata": {},
   "outputs": [],
   "source": []
  },
  {
   "cell_type": "code",
   "execution_count": null,
   "metadata": {},
   "outputs": [],
   "source": []
  },
  {
   "cell_type": "code",
   "execution_count": null,
   "metadata": {},
   "outputs": [],
   "source": []
  },
  {
   "cell_type": "code",
   "execution_count": null,
   "metadata": {},
   "outputs": [],
   "source": []
  },
  {
   "cell_type": "code",
   "execution_count": null,
   "metadata": {},
   "outputs": [],
   "source": []
  },
  {
   "cell_type": "code",
   "execution_count": null,
   "metadata": {},
   "outputs": [],
   "source": []
  },
  {
   "cell_type": "code",
   "execution_count": null,
   "metadata": {},
   "outputs": [],
   "source": []
  },
  {
   "cell_type": "code",
   "execution_count": null,
   "metadata": {},
   "outputs": [],
   "source": []
  }
 ],
 "metadata": {
  "kernelspec": {
   "display_name": "Python 3",
   "language": "python",
   "name": "python3"
  },
  "language_info": {
   "codemirror_mode": {
    "name": "ipython",
    "version": 3
   },
   "file_extension": ".py",
   "mimetype": "text/x-python",
   "name": "python",
   "nbconvert_exporter": "python",
   "pygments_lexer": "ipython3",
   "version": "3.7.3"
  }
 },
 "nbformat": 4,
 "nbformat_minor": 2
}
