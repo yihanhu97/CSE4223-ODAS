{
 "cells": [
  {
   "cell_type": "code",
   "execution_count": 43,
   "metadata": {},
   "outputs": [],
   "source": [
    "import soundfile as sf\n",
    "data1,samplerate = sf.read('E:\\Research ODAS\\Postfiltered\\postfiltered_2020-01-08_09_25_03_1.raw', \n",
    "               channels=4, \n",
    "               samplerate=16000,\n",
    "               subtype='PCM_16'\n",
    "              )\n",
    "data2,samplerate = sf.read('E:\\Research ODAS\\Postfiltered\\postfiltered_2020-01-08_09_25_03_3.raw', \n",
    "               channels=4, \n",
    "               samplerate=16000,\n",
    "               subtype='PCM_16'\n",
    "              )"
   ]
  },
  {
   "cell_type": "code",
   "execution_count": 113,
   "metadata": {},
   "outputs": [],
   "source": [
    "#0213 gcc-phat transform\n",
    "def gcc_phat(sig1, sig2, fs=16000, max_tau=None, interp=1):\n",
    "    '''\n",
    "    This function computes the offset between the signal sig and the reference signal refsig\n",
    "    using the Generalized Cross Correlation - Phase Transform (GCC-PHAT)method.\n",
    "    '''\n",
    "    \n",
    "    # make sure the length for the FFT is larger or equal than len(sig) + len(refsig)\n",
    "    n = sig1.shape[0] \n",
    "\n",
    "    # Generalized Cross Correlation Phase Transform\n",
    "    SIG = np.fft.rfft(sig1, n=n)\n",
    "    SIG2 = np.fft.rfft(sig2, n=n)\n",
    "    R = SIG * np.conj(SIG2)\n",
    "\n",
    "    cc = np.fft.irfft(R / np.abs(R), n=(interp * n))\n",
    "\n",
    "    max_shift = int(interp * n / 2)\n",
    "    if max_tau:\n",
    "        max_shift = np.minimum(int(interp * fs * max_tau), max_shift)\n",
    "\n",
    "    cc = np.concatenate((cc[-max_shift:], cc[:max_shift+1]))\n",
    "\n",
    "    # find max cross correlation index\n",
    "    shift = np.argmax(np.abs(cc)) - max_shift\n",
    "\n",
    "    tau = np.float(shift / float(interp * fs))\n",
    "    \n",
    "    return tau, cc, R, SIG, SIG2"
   ]
  },
  {
   "cell_type": "code",
   "execution_count": null,
   "metadata": {},
   "outputs": [],
   "source": [
    "x1 = np.array([1,2,3,4,5,6,7,8])\n",
    "x1.np.fft.rfft"
   ]
  },
  {
   "cell_type": "code",
   "execution_count": 126,
   "metadata": {},
   "outputs": [],
   "source": [
    "def truncate(sig1, sig2):\n",
    "    l1, l2 = len(sig1), len(sig2)\n",
    "    if l1 <= l2:\n",
    "        return sig1, sig2[0:l1]\n",
    "    else:\n",
    "        return sig1[0:l2], sig2\n",
    "    \n",
    "sig1, sig2 = truncate(data1[:,0], data2[:,0])\n",
    "windowDuration, Fs = 1, 16000\n",
    "window = np.hanning(16000)\n",
    "max_tau = 5/340\n",
    "# The number of samples in each window\n",
    "l = windowDuration * Fs\n",
    "N = len(sig1)\n",
    "for i in range(98,99):\n",
    "    sig1Temp, sig2Temp = sig1[i*l:l*(i+1)], sig2[i*l:l*(i+1)]\n",
    "tau, cc, R, SIG, SIG2 = gcc_phat(sig1Temp*window, sig2Temp*window, fs=16000, max_tau=max_tau, interp=1)"
   ]
  },
  {
   "cell_type": "code",
   "execution_count": 127,
   "metadata": {},
   "outputs": [
    {
     "data": {
      "text/plain": [
       "-0.001"
      ]
     },
     "execution_count": 127,
     "metadata": {},
     "output_type": "execute_result"
    }
   ],
   "source": [
    "tau"
   ]
  },
  {
   "cell_type": "code",
   "execution_count": 3,
   "metadata": {},
   "outputs": [],
   "source": [
    "# Truncate signal, based on the signal that has the shorter length\n",
    "def truncate(sig1, sig2):\n",
    "    l1, l2 = len(sig1), len(sig2)\n",
    "    if l1 <= l2:\n",
    "        return sig1, sig2[0:l1]\n",
    "    else:\n",
    "        return sig1[0:l2], sig2\n",
    "\n",
    "# PHAT Transfrorm \n",
    "def phatTransform(sig1, sig2, windowDuration, Fs, ):\n",
    "    # Fs: Sampling Frequency\n",
    "    # WindowDuration: the length of moving window in time (s)\n",
    "    l = windowDuration * Fs\n",
    "    N = len(sig1)\n",
    "    # Padding\n",
    "    if N%l != 0:\n",
    "        padWidth = l-N%l\n",
    "        sig1 = np.pad(sig1, (0, padWidth), 'constant', constant_values = 0)\n",
    "        sig2 = np.pad(sig2, (0, padWidth), 'constant', constant_values = 0)\n",
    "    numOfWindows = len(sig1)/l\n",
    "    for i in range(0,numOfWindows):\n",
    "        sig1Temp, sig2Temp = sig1[i*l:l*(i+1)], sig2[i*l:l*(i+1)]\n",
    "        Fsig1 = np.fft.fft(sig1Temp)\n",
    "        Fsig2 = np.fft.fft(sig2Temp)\n",
    "        # Normalize magnitude to 1\n",
    "        phat1 = np.exp(1j*np.angle(Fsig1))\n",
    "        phat2 = np.exp(1j*np.angle(Fsig2))\n",
    "        # Element wise multiplication\n",
    "        product = np.multiply(phat1, phat2)\n",
    "        # Inverse fourier transform\n",
    "        IFFT = np.abs(np.fft.ifft(product))\n",
    "        # Statistics\n",
    "        maxValue, argmax, mean, std = max(IFFT), np.argmax(IFFT), np.mean(IFFT), np.std(IFFT)\n",
    "        significance = (maxValue - mean) / std\n",
    "        normalized = (IFFT-mean)/std\n",
    "    "
   ]
  },
  {
   "cell_type": "code",
   "execution_count": 4,
   "metadata": {},
   "outputs": [
    {
     "name": "stderr",
     "output_type": "stream",
     "text": [
      "C:\\Users\\lenovo\\Anaconda3\\lib\\site-packages\\ipykernel_launcher.py:33: RuntimeWarning: divide by zero encountered in true_divide\n",
      "C:\\Users\\lenovo\\Anaconda3\\lib\\site-packages\\ipykernel_launcher.py:34: RuntimeWarning: invalid value encountered in multiply\n"
     ]
    }
   ],
   "source": [
    "import numpy as np\n",
    "from scipy import signal\n",
    "\n",
    "# Truncate signal, based on the signal that has the shorter length\n",
    "def truncate(sig1, sig2):\n",
    "    l1, l2 = len(sig1), len(sig2)\n",
    "    if l1 <= l2:\n",
    "        return sig1, sig2[0:l1]\n",
    "    else:\n",
    "        return sig1[0:l2], sig2\n",
    "    \n",
    "sig1, sig2 = truncate(data1[:,0], data1[:,0])\n",
    "\n",
    "windowDuration, Fs = 1, 16000\n",
    "# The number of samples in each window\n",
    "l = windowDuration * Fs\n",
    "N = len(sig1)\n",
    "# Padding\n",
    "if N%l != 0:\n",
    "    padWidth = l-N%l\n",
    "    sig1 = np.pad(sig1, (0, padWidth), 'constant', constant_values = 0)\n",
    "    sig2 = np.pad(sig2, (0, padWidth), 'constant', constant_values = 0)\n",
    "    \n",
    "numOfWindows = len(sig1)/l\n",
    "for i in range(100,101):\n",
    "    sig1Temp, sig2Temp = sig1[i*l:l*(i+1)], sig2[i*l:l*(i+1)]\n",
    "    [f,crossSpectrum] = signal.csd(sig1Temp, sig2Temp, \n",
    "                                   nperseg=l,                   \n",
    "                                   fs=16000.0, \n",
    "                                   window='hamming',\n",
    "                                   return_onesided=False, \n",
    "                                   scaling='spectrum')\n",
    "    weight = 1/np.abs(crossSpectrum)\n",
    "    Rxy = np.fft.ifft(np.multiply(weight,crossSpectrum))\n",
    "    \n",
    "    \n",
    "    \n",
    "#     Fsig1 = np.fft.fft(sig1Temp)\n",
    "#     Fsig2 = np.fft.fft(sig2Temp)\n",
    "    \n",
    "#     phat1 = np.exp(1j*np.angle(Fsig1))\n",
    "#     phat2 = np.exp(1j*np.angle(Fsig2))\n",
    "    \n",
    "    \n",
    "#     product = np.multiply(phat1, np.conj(phat2))\n",
    "#     result = np.abs(signal.correlate(phat1,phat2))\n",
    "#     IFFT = np.abs(np.fft.ifft(result))\n",
    "    \n",
    "# maxValue, argmax, mean, std = max(IFFT), np.argmax(IFFT), np.mean(IFFT), np.std(IFFT)\n",
    "# significance = (maxValue - mean) / std\n",
    "# normalized = (IFFT-mean)/std    "
   ]
  },
  {
   "cell_type": "code",
   "execution_count": 5,
   "metadata": {},
   "outputs": [
    {
     "data": {
      "text/plain": [
       "16000"
      ]
     },
     "execution_count": 5,
     "metadata": {},
     "output_type": "execute_result"
    }
   ],
   "source": [
    "len(Rxy)"
   ]
  },
  {
   "cell_type": "code",
   "execution_count": 6,
   "metadata": {},
   "outputs": [
    {
     "name": "stderr",
     "output_type": "stream",
     "text": [
      "C:\\Users\\lenovo\\Anaconda3\\lib\\site-packages\\ipykernel_launcher.py:8: RuntimeWarning: divide by zero encountered in true_divide\n",
      "  \n",
      "C:\\Users\\lenovo\\Anaconda3\\lib\\site-packages\\ipykernel_launcher.py:9: RuntimeWarning: invalid value encountered in multiply\n",
      "  if __name__ == '__main__':\n"
     ]
    }
   ],
   "source": [
    "sig1Temp = (10**(-1))*np.ones(16000)\n",
    "[f,crossSpectrum] = signal.csd(sig1Temp, sig1Temp, \n",
    "                               nperseg=l,                   \n",
    "                               fs=16000.0, \n",
    "                               window='hamming',\n",
    "                               return_onesided=False, \n",
    "                               scaling='spectrum')\n",
    "weight = 1/np.abs(crossSpectrum)\n",
    "Rxy = np.fft.ifft(np.multiply(weight,crossSpectrum))"
   ]
  },
  {
   "cell_type": "code",
   "execution_count": 7,
   "metadata": {},
   "outputs": [
    {
     "data": {
      "text/plain": [
       "125"
      ]
     },
     "execution_count": 7,
     "metadata": {},
     "output_type": "execute_result"
    }
   ],
   "source": [
    "np.argmin(crossSpectrum)"
   ]
  },
  {
   "cell_type": "code",
   "execution_count": 9,
   "metadata": {},
   "outputs": [
    {
     "data": {
      "text/plain": [
       "[<matplotlib.lines.Line2D at 0x163124f4408>]"
      ]
     },
     "execution_count": 9,
     "metadata": {},
     "output_type": "execute_result"
    },
    {
     "data": {
      "image/png": "[encoded data removed]",
      "text/plain": [
       "<Figure size 432x288 with 1 Axes>"
      ]
     },
     "metadata": {
      "needs_background": "light"
     },
     "output_type": "display_data"
    }
   ],
   "source": [
    "import matplotlib.pyplot as plt\n",
    "plt.plot(Rxy[100:2000])"
   ]
  },
  {
   "cell_type": "code",
   "execution_count": 14,
   "metadata": {},
   "outputs": [],
   "source": [
    "x = np.array([1,2,3,4,5,6,7,8])"
   ]
  },
  {
   "cell_type": "code",
   "execution_count": 17,
   "metadata": {},
   "outputs": [
    {
     "data": {
      "text/plain": [
       "array([1, 2, 3, 4])"
      ]
     },
     "execution_count": 17,
     "metadata": {},
     "output_type": "execute_result"
    }
   ],
   "source": [
    "x[:4]"
   ]
  },
  {
   "cell_type": "code",
   "execution_count": null,
   "metadata": {},
   "outputs": [],
   "source": []
  }
 ],
 "metadata": {
  "kernelspec": {
   "display_name": "Python 3",
   "language": "python",
   "name": "python3"
  },
  "language_info": {
   "codemirror_mode": {
    "name": "ipython",
    "version": 3
   },
   "file_extension": ".py",
   "mimetype": "text/x-python",
   "name": "python",
   "nbconvert_exporter": "python",
   "pygments_lexer": "ipython3",
   "version": "3.7.4"
  }
 },
 "nbformat": 4,
 "nbformat_minor": 2
}
