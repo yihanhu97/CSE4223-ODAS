{
 "cells": [
  {
   "cell_type": "code",
   "execution_count": 1,
   "metadata": {},
   "outputs": [],
   "source": [
    "#given .log file:\n",
    "#     create datframe of points\n",
    "#     (array i = source i + 1)\n",
    "#     dataframe: key:timestamp -> 2D array[[id, tag, x, y,z, activity]\n",
    "#                                    [id, tag, x, y,z, activity]\n",
    "#                                    [id, tag, x, y,z, activity]\n",
    "#                                    [id, tag, x, y,z, activity]]\n",
    "#     in dataframe:\n",
    "#     if(id of all source == 0):\n",
    "#         delete datapoint\n",
    "#     else\n",
    "#         convert timestamp to time\n",
    "#  \n",
    "#     return dataframe"
   ]
  },
  {
   "cell_type": "code",
   "execution_count": null,
   "metadata": {},
   "outputs": [],
   "source": [
    "#merge log files with same starting time"
   ]
  }
 ],
 "metadata": {
  "kernelspec": {
   "display_name": "Python 3",
   "language": "python",
   "name": "python3"
  },
  "language_info": {
   "codemirror_mode": {
    "name": "ipython",
    "version": 3
   },
   "file_extension": ".py",
   "mimetype": "text/x-python",
   "name": "python",
   "nbconvert_exporter": "python",
   "pygments_lexer": "ipython3",
   "version": "3.7.0"
  }
 },
 "nbformat": 4,
 "nbformat_minor": 2
}
