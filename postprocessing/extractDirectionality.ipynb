{
 "cells": [
  {
   "cell_type": "markdown",
   "metadata": {},
   "source": [
    "# extractDirectionality"
   ]
  },
  {
   "cell_type": "markdown",
   "metadata": {},
   "source": [
    "## Imports"
   ]
  },
  {
   "cell_type": "code",
<<<<<<< HEAD
   "execution_count": null,
=======
   "execution_count": 51,
>>>>>>> parent of dfda1d8... added 'time in seconds' to dataframe, and created mergeDirectionality
   "metadata": {},
   "outputs": [],
   "source": [
    "import pandas as pd\n",
    "import re \n",
    "import json\n",
    "import datetime\n",
    "import os\n",
    "import time\n",
    "import glob"
   ]
  },
  {
   "cell_type": "markdown",
   "metadata": {},
   "source": [
    "## Subroutines\n",
    "Subroutines neccessary for extractDirectionality\n",
    "timeExtract takes the log file to be parsed, and returns the start time and end time in a tuple:<br>\n",
    "    [startTime, endTime]<br>\n",
    "<br>\n",
    "durationinMicroseconds takes the log file to be parsed, and it returns the total duration, startTime, and endTime:<br>\n",
    "    duration, startTime, endTime"
   ]
  },
  {
   "cell_type": "code",
<<<<<<< HEAD
   "execution_count": null,
=======
   "execution_count": 50,
>>>>>>> parent of dfda1d8... added 'time in seconds' to dataframe, and created mergeDirectionality
   "metadata": {},
   "outputs": [],
   "source": [
    "# Extract time information of each recording from the log file\n",
    "def timeExtract(filename):\n",
    "    with open(filename, 'rb') as f:\n",
    "        # Start counting from the last byte\n",
    "        counter = 1\n",
    "        # Go to the 2nd byte before the end of the last line\n",
    "        f.seek(-2, 2) \n",
    "        while f.read(1) != b'\\n':\n",
    "            f.seek(-2, 1)\n",
    "            counter=counter+1\n",
    "        endTime_line = f.readline().decode()\n",
    "        # Go to the 2nd byte before the end of the last second line\n",
    "        f.seek(-counter-2, 2)\n",
    "        while f.read(1) != b'\\n':\n",
    "            f.seek(-2, 1)\n",
    "        startTime_line = f.readline().decode()\n",
    "\n",
    "    return [startTime_line, endTime_line]"
   ]
  },
  {
   "cell_type": "code",
<<<<<<< HEAD
   "execution_count": null,
=======
   "execution_count": 45,
>>>>>>> parent of dfda1d8... added 'time in seconds' to dataframe, and created mergeDirectionality
   "metadata": {},
   "outputs": [],
   "source": [
    "# Calculate duration of each recording in microseconds\n",
    "def durationinMicroseconds(filename):\n",
    "    startTime = timeExtract(filename)[0].split()[2:]\n",
    "    endTime = timeExtract(filename)[1].split()[2:]\n",
    "    startTimeStr = startTime[0] + ' ' + startTime[1]\n",
    "    endTimeStr = endTime[0] + ' ' + endTime[1]\n",
    "    T1 = datetime.datetime.strptime(startTimeStr, '%Y-%m-%d %H:%M:%S.%f')\n",
    "    T2 = datetime.datetime.strptime(endTimeStr, '%Y-%m-%d %H:%M:%S.%f')\n",
    "    delta = T2-T1\n",
    "    duration = delta.seconds*1000000 + delta.microseconds\n",
    "    \n",
    "    return duration, T1, T2"
   ]
  },
  {
   "cell_type": "markdown",
   "metadata": {},
   "source": [
<<<<<<< HEAD
    "## Main Function: extractDirectionalities\n",
    "Decription:<br>\n",
    "extractDirectionalities accepts a log file generated from data collected from an ODAS microphone, it will then organize the file into a dataframe, where each data point is time, direction, and strength of a single source.<br><br>\n",
    "Parameters:<br>\n",
    "**log file path, Microphopne Number**<br><br>\n",
    "Returns a dataframe with the following columns:<br> \n",
    "**Timestamp, Time, Time In Seconds, Microphone Number, ID, X, Y, Z, Activity** <br>\n",
    "\n",
    "## Main Function: mergeDirectionalities\n",
    "Description:<br>\n",
    "mergeDirectionalities will iterate through all the files in \"data\" folder, and it will use extractDirectionalities create each file into a dataframe. The dataframe created will be appended into a master dataframe consiting of all the dataframes created from using extractDirectionalities on each file in \"data\" folder. <br>\n",
    "\n",
    "Prerequirements:<br>\n",
    "All folders in \"data\" folder must be filled with desired .log files in their respective recordingx folders.To do this, run the function above to automate it, or manually download the files from google drive and insert them into the correct folders.<br><br>\n",
    "\n",
    "Parameters:<br>\n",
    "None.<br><br>\n",
    "\n",
    "Returns a dataframe with the following columns:<br> \n",
    "**Timestamp, Time, Time In Seconds, Microphone Number, ID, X, Y, Z, Activity** <br>"
=======
    "## Main Function\n",
    "extractDirectionalitiy accepts a log file generated from data collected from an ODAS microphone, it will then organize the file into a dataframe, where each data point is time, direction, and strength of a single source.<br><br>\n",
    "Parameters:<br>\n",
    "**log file path, Microphopne Number**<br><br>\n",
    "Returns a dataframe with the following columns:<br> \n",
    "**Timestamp, Time, Microphone Number, ID, X, Y, Z, Activity** <br>\n"
>>>>>>> parent of dfda1d8... added 'time in seconds' to dataframe, and created mergeDirectionality
   ]
  },
  {
   "cell_type": "code",
<<<<<<< HEAD
   "execution_count": null,
=======
   "execution_count": 52,
>>>>>>> parent of dfda1d8... added 'time in seconds' to dataframe, and created mergeDirectionality
   "metadata": {},
   "outputs": [],
   "source": [
    "def extractDirectionalities(filename, mic_number):\n",
    "    with open(filename, 'r') as f:\n",
    "        text = f.read()\n",
    "        # Use repex to store blocks of data into a list\n",
    "    data = re.split('(?<=})\\n(?={)', text) \n",
    "        # Delete the time info from the last data block\n",
    "    tmp = data[-1][:(data[-1].rfind(\"}\")+1)]\n",
    "    data[-1] = tmp\n",
    "        \n",
    "    #list of src blocks \n",
    "    srcList = [json.loads(block)[\"src\"] for block in data]\n",
    "    \n",
    "    #initialize dataframe to have colums: timestamp, time, data inside source\n",
    "    #timestamp is the initial time stamp\n",
    "    #time is the datetime value converted from the timestamp and intitial time\n",
    "    #source is a 4 by 6 array where the rows are the source, and the columns are the source values\n",
    "    df = pd.DataFrame(columns = ['Timestamp', 'Time', 'Microphone Number', 'Source ID', 'X', 'Y', 'Z', 'Activity'])\n",
    "    \n",
    "    #Used for calculating timestamps -> time\n",
    "    duration, startTime, endTime = durationinMicroseconds(filename)\n",
    "    start_time_in_seconds = time.mktime(startTime.timetuple())\n",
    "    t = duration/len(data)\n",
    "    \n",
    "    \n",
    "    index = 1.0\n",
    "    for block in srcList:\n",
    "        if block[0][\"id\"] != 0 or block[1][\"id\"] != 0 or block[2][\"id\"] != 0 or block[3][\"id\"] != 0:\n",
    "            time_in_seconds = start_time_in_seconds + (index - 1.0) * t\n",
    "            for i in range(0, 4):\n",
    "                if block[i]['id'] != 0:\n",
    "                    df = df.append(pd.DataFrame({\"Timestamp\": [index], \"Time\":datetime.datetime.fromtimestamp(time_in_seconds).strftime(\"%A, %B %d, %Y %I:%M:%S\"), \"Microphone Number\":mic_number, \"Source ID\": block[i][\"id\"], \"X\": block[i][\"x\"], \"Y\": block[i][\"y\"], \"Z\": block[i][\"z\"], \"Activity\": block[i][\"activity\"]}, index=[0]))\n",
    "        index = index + 1.0\n",
    "            \n",
    "    return(df)\n",
    "            "
   ]
  },
  {
   "cell_type": "code",
   "execution_count": null,
   "metadata": {},
   "outputs": [],
   "source": [
    "def mergeDirectionalities():   \n",
    "    #create dataframe\n",
    "    df = pd.DataFrame(columns = ['Timestamp', 'Time', 'Microphone Number', 'Source ID', 'X', 'Y', 'Z', 'Activity'])\n",
    "    for i in range(1):\n",
    "        for filename in glob.glob(\"/Users/ardelalegre/CSE4223-ODAS/data/recordings\" + str(i) + \"/*.log\"):\n",
    "            with open(filename, 'r') as f:\n",
    "                firstline = f.readline()\n",
    "            if firstline == \"SST log contains no useful data\\n\":\n",
    "                pass\n",
    "            else:\n",
    "                df1 = extractDirectionalities(filename, i)\n",
    "                df = df.append(df1)\n",
    "            \n",
    "    df.sort_values(['Time In Seconds'])\n",
    "    print('in df')\n",
    "    return df"
   ]
  },
  {
   "cell_type": "markdown",
   "metadata": {},
   "source": [
    "## Testing"
   ]
  },
  {
   "cell_type": "code",
<<<<<<< HEAD
   "execution_count": null,
=======
   "execution_count": 53,
>>>>>>> parent of dfda1d8... added 'time in seconds' to dataframe, and created mergeDirectionality
   "metadata": {},
   "outputs": [],
   "source": [
    "filename = \"/Users/ardelalegre/CSE4223-ODAS/cSST_2019-09-09_14_55_03.log\"\n",
    "dataframe = extractDirectionalities(filename, 0)"
   ]
  },
  {
   "cell_type": "code",
<<<<<<< HEAD
   "execution_count": null,
   "metadata": {},
   "outputs": [],
   "source": [
    "dataframe.head()\n",
    "# print(dataframe.head())\n",
    "# print(dataframe.tail())"
   ]
  },
  {
   "cell_type": "code",
   "execution_count": 40,
=======
   "execution_count": 48,
>>>>>>> parent of dfda1d8... added 'time in seconds' to dataframe, and created mergeDirectionality
   "metadata": {},
   "outputs": [
    {
     "data": {
      "text/html": [
       "<div>\n",
       "<style scoped>\n",
       "    .dataframe tbody tr th:only-of-type {\n",
       "        vertical-align: middle;\n",
       "    }\n",
       "\n",
       "    .dataframe tbody tr th {\n",
       "        vertical-align: top;\n",
       "    }\n",
       "\n",
       "    .dataframe thead th {\n",
       "        text-align: right;\n",
       "    }\n",
       "</style>\n",
       "<table border=\"1\" class=\"dataframe\">\n",
       "  <thead>\n",
       "    <tr style=\"text-align: right;\">\n",
       "      <th></th>\n",
       "      <th>Timestamp</th>\n",
       "      <th>Time</th>\n",
       "      <th>Microphone Number</th>\n",
       "      <th>ID</th>\n",
       "      <th>X</th>\n",
       "      <th>Y</th>\n",
       "      <th>Z</th>\n",
       "      <th>Activity</th>\n",
       "    </tr>\n",
       "  </thead>\n",
       "  <tbody>\n",
       "    <tr>\n",
       "      <th>0</th>\n",
       "      <td>300.0</td>\n",
       "      <td>Monday, October 07, 2019 07:14:13</td>\n",
       "      <td>0</td>\n",
       "      <td>2</td>\n",
       "      <td>0.701</td>\n",
       "      <td>-0.561</td>\n",
       "      <td>0.441</td>\n",
       "      <td>1.000</td>\n",
       "    </tr>\n",
       "    <tr>\n",
       "      <th>0</th>\n",
       "      <td>301.0</td>\n",
       "      <td>Monday, October 07, 2019 09:27:31</td>\n",
       "      <td>0</td>\n",
       "      <td>2</td>\n",
       "      <td>0.701</td>\n",
       "      <td>-0.561</td>\n",
       "      <td>0.441</td>\n",
       "      <td>0.999</td>\n",
       "    </tr>\n",
       "    <tr>\n",
       "      <th>0</th>\n",
       "      <td>302.0</td>\n",
       "      <td>Monday, October 07, 2019 11:40:50</td>\n",
       "      <td>0</td>\n",
       "      <td>2</td>\n",
       "      <td>0.701</td>\n",
       "      <td>-0.561</td>\n",
       "      <td>0.441</td>\n",
       "      <td>0.999</td>\n",
       "    </tr>\n",
       "    <tr>\n",
       "      <th>0</th>\n",
       "      <td>303.0</td>\n",
       "      <td>Monday, October 07, 2019 01:54:08</td>\n",
       "      <td>0</td>\n",
       "      <td>2</td>\n",
       "      <td>0.701</td>\n",
       "      <td>-0.561</td>\n",
       "      <td>0.441</td>\n",
       "      <td>0.999</td>\n",
       "    </tr>\n",
       "    <tr>\n",
       "      <th>0</th>\n",
       "      <td>304.0</td>\n",
       "      <td>Monday, October 07, 2019 04:07:27</td>\n",
       "      <td>0</td>\n",
       "      <td>2</td>\n",
       "      <td>0.701</td>\n",
       "      <td>-0.561</td>\n",
       "      <td>0.441</td>\n",
       "      <td>0.998</td>\n",
       "    </tr>\n",
       "  </tbody>\n",
       "</table>\n",
       "</div>"
      ],
      "text/plain": [
       "   Timestamp                               Time Microphone Number ID      X  \\\n",
       "0      300.0  Monday, October 07, 2019 07:14:13                 0  2  0.701   \n",
       "0      301.0  Monday, October 07, 2019 09:27:31                 0  2  0.701   \n",
       "0      302.0  Monday, October 07, 2019 11:40:50                 0  2  0.701   \n",
       "0      303.0  Monday, October 07, 2019 01:54:08                 0  2  0.701   \n",
       "0      304.0  Monday, October 07, 2019 04:07:27                 0  2  0.701   \n",
       "\n",
       "       Y      Z  Activity  \n",
       "0 -0.561  0.441     1.000  \n",
       "0 -0.561  0.441     0.999  \n",
       "0 -0.561  0.441     0.999  \n",
       "0 -0.561  0.441     0.999  \n",
       "0 -0.561  0.441     0.998  "
      ]
     },
     "execution_count": 48,
     "metadata": {},
     "output_type": "execute_result"
    }
   ],
   "source": [
    "dataframe.head()"
   ]
  }
 ],
 "metadata": {
  "kernelspec": {
   "display_name": "Python 3",
   "language": "python",
   "name": "python3"
  },
  "language_info": {
   "codemirror_mode": {
    "name": "ipython",
    "version": 3
   },
   "file_extension": ".py",
   "mimetype": "text/x-python",
   "name": "python",
   "nbconvert_exporter": "python",
   "pygments_lexer": "ipython3",
   "version": "3.7.0"
  }
 },
 "nbformat": 4,
 "nbformat_minor": 2
}
