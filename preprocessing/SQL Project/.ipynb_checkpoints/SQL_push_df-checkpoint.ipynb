{
 "cells": [
  {
   "cell_type": "code",
   "execution_count": 1,
   "metadata": {},
   "outputs": [],
   "source": [
    "import pickle\n",
    "import pandas as pd\n",
    "import datetime"
   ]
  },
  {
   "cell_type": "code",
   "execution_count": 2,
   "metadata": {},
   "outputs": [],
   "source": [
    "data_with_time_array = pickle.load(open('exp_07_15_good_data.p', 'rb'))"
   ]
  },
  {
   "cell_type": "markdown",
   "metadata": {},
   "source": [
    "### Converting one row of numpy array into one row of dataframe"
   ]
  },
  {
   "cell_type": "code",
   "execution_count": 3,
   "metadata": {},
   "outputs": [],
   "source": [
    "def np_to_df_single_row(index):\n",
    "    dt = datetime.datetime.fromtimestamp(data_with_time_array[index,12])\n",
    "    single_row = [\n",
    "        {'timestamp' : data_with_time_array[index,12], 'ar0_x' : data_with_time_array[index,0], 'ar0_y' : data_with_time_array[index,1],'ar0_z' : data_with_time_array[index,2], 'ar1_x' : data_with_time_array[index,3], 'ar1_y' : data_with_time_array[index,4],'ar1_z' : data_with_time_array[index,5], 'ar2_x' : data_with_time_array[index,6], 'ar2_y' : data_with_time_array[index,7],'ar2_z' : data_with_time_array[index,8], 'ar3_x' : data_with_time_array[index,9], 'ar3_y' : data_with_time_array[index,10],'ar3_z' : data_with_time_array[index,11], 'Year' : dt.year, 'Month': dt.month, 'Date':dt.day, 'Hour': dt.hour, 'Minute':dt.minute, 'Second':dt.second}\n",
    "    ]\n",
    "    df = pd.DataFrame(single_row)\n",
    "    return df"
   ]
  },
  {
   "cell_type": "code",
   "execution_count": 4,
   "metadata": {},
   "outputs": [],
   "source": [
    "list_for_faster_append = []\n",
    "for i in range(data_with_time_array.shape[0]):\n",
    "    list_for_faster_append.append(np_to_df_single_row(i))"
   ]
  },
  {
   "cell_type": "code",
   "execution_count": 6,
   "metadata": {},
   "outputs": [
    {
     "name": "stdout",
     "output_type": "stream",
     "text": [
      "CPU times: user 6 µs, sys: 0 ns, total: 6 µs\n",
      "Wall time: 11 µs\n"
     ]
    },
    {
     "data": {
      "text/plain": [
       "628426"
      ]
     },
     "execution_count": 6,
     "metadata": {},
     "output_type": "execute_result"
    }
   ],
   "source": [
    "len(list_for_faster_append)"
   ]
  },
  {
   "cell_type": "code",
   "execution_count": 7,
   "metadata": {},
   "outputs": [],
   "source": [
    "df = pd.concat(list_for_faster_append)"
   ]
  },
  {
   "cell_type": "code",
   "execution_count": 8,
   "metadata": {},
   "outputs": [
    {
     "data": {
      "text/plain": [
       "<bound method NDFrame.head of     Date  Hour  Minute  Month  Second  Year  ar0_x  ar0_y  ar0_z  ar1_x  \\\n",
       "0     15     7      33      7      27  2020    NaN    NaN    NaN   -0.0   \n",
       "0     15     7      33      7      27  2020    NaN    NaN    NaN   -0.0   \n",
       "0     15     7      33      7      27  2020    NaN    NaN    NaN   -0.0   \n",
       "0     15     7      33      7      27  2020    NaN    NaN    NaN   -0.0   \n",
       "0     15     7      33      7      27  2020    NaN    NaN    NaN   -0.0   \n",
       "0     15     7      33      7      27  2020    NaN    NaN    NaN   -0.0   \n",
       "0     15     7      33      7      27  2020    NaN    NaN    NaN   -0.0   \n",
       "0     15     7      33      7      27  2020    NaN    NaN    NaN   -0.0   \n",
       "0     15     7      33      7      27  2020    NaN    NaN    NaN   -0.0   \n",
       "0     15     7      33      7      27  2020    NaN    NaN    NaN   -0.0   \n",
       "0     15     7      33      7      27  2020    NaN    NaN    NaN   -0.0   \n",
       "0     15     7      33      7      27  2020    NaN    NaN    NaN   -0.0   \n",
       "0     15     7      33      7      27  2020    NaN    NaN    NaN   -0.0   \n",
       "0     15     7      33      7      27  2020    NaN    NaN    NaN   -0.0   \n",
       "0     15     7      33      7      27  2020    NaN    NaN    NaN   -0.0   \n",
       "0     15     7      33      7      27  2020    NaN    NaN    NaN   -0.0   \n",
       "0     15     7      33      7      27  2020    NaN    NaN    NaN   -0.0   \n",
       "0     15     7      33      7      27  2020    NaN    NaN    NaN   -0.0   \n",
       "0     15     7      33      7      27  2020    NaN    NaN    NaN   -0.0   \n",
       "0     15     7      33      7      27  2020    NaN    NaN    NaN   -0.0   \n",
       "0     15     7      33      7      27  2020    NaN    NaN    NaN   -0.0   \n",
       "0     15     7      33      7      27  2020    NaN    NaN    NaN   -0.0   \n",
       "0     15     7      33      7      27  2020    NaN    NaN    NaN   -0.0   \n",
       "0     15     7      33      7      27  2020    NaN    NaN    NaN   -0.0   \n",
       "0     15     7      33      7      27  2020    NaN    NaN    NaN   -0.0   \n",
       "0     15     7      33      7      27  2020    NaN    NaN    NaN   -0.0   \n",
       "0     15     7      33      7      27  2020    NaN    NaN    NaN   -0.0   \n",
       "0     15     7      33      7      27  2020    NaN    NaN    NaN   -0.0   \n",
       "0     15     7      33      7      27  2020    NaN    NaN    NaN   -0.0   \n",
       "0     15     7      33      7      27  2020    NaN    NaN    NaN   -0.0   \n",
       "..   ...   ...     ...    ...     ...   ...    ...    ...    ...    ...   \n",
       "0     15    16      58      7      59  2020 -0.700 -0.693  0.175    NaN   \n",
       "0     15    16      58      7      59  2020 -0.700 -0.693  0.175    NaN   \n",
       "0     15    16      58      7      59  2020 -0.700 -0.692  0.175    NaN   \n",
       "0     15    16      58      7      59  2020 -0.701 -0.692  0.175    NaN   \n",
       "0     15    16      58      7      59  2020 -0.701 -0.692  0.175    NaN   \n",
       "0     15    16      58      7      59  2020 -0.701 -0.691  0.175    NaN   \n",
       "0     15    16      58      7      59  2020 -0.701 -0.691  0.175    NaN   \n",
       "0     15    16      58      7      59  2020 -0.702 -0.690  0.175    NaN   \n",
       "0     15    16      58      7      59  2020 -0.702 -0.690  0.175    NaN   \n",
       "0     15    16      58      7      59  2020 -0.702 -0.690  0.175    NaN   \n",
       "0     15    16      58      7      59  2020 -0.703 -0.689  0.175    NaN   \n",
       "0     15    16      58      7      59  2020 -0.703 -0.689  0.175    NaN   \n",
       "0     15    16      58      7      59  2020 -0.703 -0.689  0.176    NaN   \n",
       "0     15    16      58      7      59  2020 -0.704 -0.688  0.176    NaN   \n",
       "0     15    16      58      7      59  2020 -0.704 -0.688  0.176    NaN   \n",
       "0     15    16      58      7      59  2020 -0.704 -0.688  0.176    NaN   \n",
       "0     15    16      58      7      59  2020 -0.705 -0.687  0.176    NaN   \n",
       "0     15    16      58      7      59  2020 -0.705 -0.686  0.177    NaN   \n",
       "0     15    16      58      7      59  2020 -0.706 -0.686  0.177    NaN   \n",
       "0     15    16      58      7      59  2020 -0.706 -0.686  0.177    NaN   \n",
       "0     15    16      58      7      59  2020 -0.706 -0.685  0.177    NaN   \n",
       "0     15    16      58      7      59  2020 -0.707 -0.685  0.177    NaN   \n",
       "0     15    16      58      7      59  2020 -0.707 -0.685  0.177    NaN   \n",
       "0     15    16      58      7      59  2020 -0.707 -0.684  0.177    NaN   \n",
       "0     15    16      58      7      59  2020 -0.708 -0.684  0.178    NaN   \n",
       "0     15    16      58      7      59  2020 -0.708 -0.683  0.178    NaN   \n",
       "0     15    16      58      7      59  2020 -0.708 -0.683  0.178    NaN   \n",
       "0     15    16      58      7      59  2020 -0.709 -0.683  0.178    NaN   \n",
       "0     15    16      58      7      59  2020 -0.709 -0.682  0.178    NaN   \n",
       "0     15    16      58      7      59  2020 -0.709 -0.682  0.178    NaN   \n",
       "\n",
       "    ar1_y  ar1_z  ar2_x  ar2_y  ar2_z  ar3_x  ar3_y  ar3_z     timestamp  \n",
       "0  -0.851  0.526    NaN    NaN    NaN    NaN    NaN    NaN  1.594824e+09  \n",
       "0  -0.851  0.526    NaN    NaN    NaN    NaN    NaN    NaN  1.594824e+09  \n",
       "0  -0.851  0.526    NaN    NaN    NaN    NaN    NaN    NaN  1.594824e+09  \n",
       "0  -0.851  0.526    NaN    NaN    NaN    NaN    NaN    NaN  1.594824e+09  \n",
       "0  -0.851  0.526    NaN    NaN    NaN    NaN    NaN    NaN  1.594824e+09  \n",
       "0  -0.851  0.526    NaN    NaN    NaN    NaN    NaN    NaN  1.594824e+09  \n",
       "0  -0.851  0.526    NaN    NaN    NaN    NaN    NaN    NaN  1.594824e+09  \n",
       "0  -0.851  0.526    NaN    NaN    NaN    NaN    NaN    NaN  1.594824e+09  \n",
       "0  -0.851  0.526    NaN    NaN    NaN    NaN    NaN    NaN  1.594824e+09  \n",
       "0  -0.851  0.526    NaN    NaN    NaN    NaN    NaN    NaN  1.594824e+09  \n",
       "0  -0.851  0.526    NaN    NaN    NaN    NaN    NaN    NaN  1.594824e+09  \n",
       "0  -0.851  0.526    NaN    NaN    NaN    NaN    NaN    NaN  1.594824e+09  \n",
       "0  -0.851  0.526    NaN    NaN    NaN    NaN    NaN    NaN  1.594824e+09  \n",
       "0  -0.851  0.526    NaN    NaN    NaN    NaN    NaN    NaN  1.594824e+09  \n",
       "0  -0.851  0.526    NaN    NaN    NaN    NaN    NaN    NaN  1.594824e+09  \n",
       "0  -0.851  0.526    NaN    NaN    NaN    NaN    NaN    NaN  1.594824e+09  \n",
       "0  -0.851  0.526    NaN    NaN    NaN    NaN    NaN    NaN  1.594824e+09  \n",
       "0  -0.851  0.526    NaN    NaN    NaN    NaN    NaN    NaN  1.594824e+09  \n",
       "0  -0.851  0.526    NaN    NaN    NaN    NaN    NaN    NaN  1.594824e+09  \n",
       "0  -0.851  0.526    NaN    NaN    NaN    NaN    NaN    NaN  1.594824e+09  \n",
       "0  -0.851  0.526    NaN    NaN    NaN    NaN    NaN    NaN  1.594824e+09  \n",
       "0  -0.851  0.526    NaN    NaN    NaN    NaN    NaN    NaN  1.594824e+09  \n",
       "0  -0.851  0.526    NaN    NaN    NaN    NaN    NaN    NaN  1.594824e+09  \n",
       "0  -0.851  0.526    NaN    NaN    NaN    NaN    NaN    NaN  1.594824e+09  \n",
       "0  -0.851  0.526    NaN    NaN    NaN    NaN    NaN    NaN  1.594824e+09  \n",
       "0  -0.851  0.526    NaN    NaN    NaN    NaN    NaN    NaN  1.594824e+09  \n",
       "0  -0.851  0.526    NaN    NaN    NaN    NaN    NaN    NaN  1.594824e+09  \n",
       "0  -0.851  0.526    NaN    NaN    NaN    NaN    NaN    NaN  1.594824e+09  \n",
       "0  -0.851  0.526    NaN    NaN    NaN    NaN    NaN    NaN  1.594824e+09  \n",
       "0  -0.851  0.526    NaN    NaN    NaN    NaN    NaN    NaN  1.594824e+09  \n",
       "..    ...    ...    ...    ...    ...    ...    ...    ...           ...  \n",
       "0     NaN    NaN    NaN    NaN    NaN    NaN    NaN    NaN  1.594858e+09  \n",
       "0     NaN    NaN    NaN    NaN    NaN    NaN    NaN    NaN  1.594858e+09  \n",
       "0     NaN    NaN    NaN    NaN    NaN    NaN    NaN    NaN  1.594858e+09  \n",
       "0     NaN    NaN    NaN    NaN    NaN    NaN    NaN    NaN  1.594858e+09  \n",
       "0     NaN    NaN    NaN    NaN    NaN    NaN    NaN    NaN  1.594858e+09  \n",
       "0     NaN    NaN    NaN    NaN    NaN    NaN    NaN    NaN  1.594858e+09  \n",
       "0     NaN    NaN    NaN    NaN    NaN    NaN    NaN    NaN  1.594858e+09  \n",
       "0     NaN    NaN    NaN    NaN    NaN    NaN    NaN    NaN  1.594858e+09  \n",
       "0     NaN    NaN    NaN    NaN    NaN    NaN    NaN    NaN  1.594858e+09  \n",
       "0     NaN    NaN    NaN    NaN    NaN    NaN    NaN    NaN  1.594858e+09  \n",
       "0     NaN    NaN    NaN    NaN    NaN    NaN    NaN    NaN  1.594858e+09  \n",
       "0     NaN    NaN    NaN    NaN    NaN    NaN    NaN    NaN  1.594858e+09  \n",
       "0     NaN    NaN    NaN    NaN    NaN    NaN    NaN    NaN  1.594858e+09  \n",
       "0     NaN    NaN    NaN    NaN    NaN    NaN    NaN    NaN  1.594858e+09  \n",
       "0     NaN    NaN    NaN    NaN    NaN    NaN    NaN    NaN  1.594858e+09  \n",
       "0     NaN    NaN    NaN    NaN    NaN    NaN    NaN    NaN  1.594858e+09  \n",
       "0     NaN    NaN    NaN    NaN    NaN    NaN    NaN    NaN  1.594858e+09  \n",
       "0     NaN    NaN    NaN    NaN    NaN    NaN    NaN    NaN  1.594858e+09  \n",
       "0     NaN    NaN    NaN    NaN    NaN    NaN    NaN    NaN  1.594858e+09  \n",
       "0     NaN    NaN    NaN    NaN    NaN    NaN    NaN    NaN  1.594858e+09  \n",
       "0     NaN    NaN    NaN    NaN    NaN    NaN    NaN    NaN  1.594858e+09  \n",
       "0     NaN    NaN    NaN    NaN    NaN    NaN    NaN    NaN  1.594858e+09  \n",
       "0     NaN    NaN    NaN    NaN    NaN    NaN    NaN    NaN  1.594858e+09  \n",
       "0     NaN    NaN    NaN    NaN    NaN    NaN    NaN    NaN  1.594858e+09  \n",
       "0     NaN    NaN    NaN    NaN    NaN    NaN    NaN    NaN  1.594858e+09  \n",
       "0     NaN    NaN    NaN    NaN    NaN    NaN    NaN    NaN  1.594858e+09  \n",
       "0     NaN    NaN    NaN    NaN    NaN    NaN    NaN    NaN  1.594858e+09  \n",
       "0     NaN    NaN    NaN    NaN    NaN    NaN    NaN    NaN  1.594858e+09  \n",
       "0     NaN    NaN    NaN    NaN    NaN    NaN    NaN    NaN  1.594858e+09  \n",
       "0     NaN    NaN    NaN    NaN    NaN    NaN    NaN    NaN  1.594858e+09  \n",
       "\n",
       "[628426 rows x 19 columns]>"
      ]
     },
     "execution_count": 8,
     "metadata": {},
     "output_type": "execute_result"
    }
   ],
   "source": [
    "df.head"
   ]
  },
  {
   "cell_type": "code",
   "execution_count": 11,
   "metadata": {},
   "outputs": [],
   "source": [
    "df.to_csv(r'test.csv',index = False)"
   ]
  },
  {
   "cell_type": "code",
   "execution_count": null,
   "metadata": {},
   "outputs": [],
   "source": []
  }
 ],
 "metadata": {
  "kernelspec": {
   "display_name": "Python 3",
   "language": "python",
   "name": "python3"
  },
  "language_info": {
   "codemirror_mode": {
    "name": "ipython",
    "version": 3
   },
   "file_extension": ".py",
   "mimetype": "text/x-python",
   "name": "python",
   "nbconvert_exporter": "python",
   "pygments_lexer": "ipython3",
   "version": "3.5.2"
  }
 },
 "nbformat": 4,
 "nbformat_minor": 4
}
