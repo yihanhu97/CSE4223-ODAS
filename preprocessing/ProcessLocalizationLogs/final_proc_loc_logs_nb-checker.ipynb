{
 "cells": [
  {
   "cell_type": "code",
   "execution_count": 41,
   "metadata": {},
   "outputs": [],
   "source": [
    "import glob\n",
    "a = glob.glob('/home/ardelalegre/google-drive/ODAS/logs0/SSL/cSSL_2020-07-31_*.log')\n",
    "b = glob.glob('/home/ardelalegre/google-drive/ODAS/logs1/SSL/cSSL_2020-07-31_*.log')\n",
    "c = glob.glob('/home/ardelalegre/google-drive/ODAS/logs2/SSL/cSSL_2020-07-31_*.log')\n",
    "d = glob.glob('/home/ardelalegre/google-drive/ODAS/logs3/SSL/cSSL_2020-07-31_*.log')\n"
   ]
  },
  {
   "cell_type": "code",
   "execution_count": 42,
   "metadata": {},
   "outputs": [
    {
     "name": "stdout",
     "output_type": "stream",
     "text": [
      "There are 34 SSL logs in logs0\n",
      "There are 85 SSL logs in logs1\n",
      "There are 0 SSL logs in logs2\n",
      "There are 48 SSL logs in logs3\n"
     ]
    }
   ],
   "source": [
    "print('There are', len(a), 'SSL logs in logs0')\n",
    "print('There are', len(b), 'SSL logs in logs1')\n",
    "print('There are', len(c), 'SSL logs in logs2')\n",
    "print('There are', len(d), 'SSL logs in logs3')"
   ]
  },
  {
   "cell_type": "code",
   "execution_count": null,
   "metadata": {},
   "outputs": [],
   "source": []
  }
 ],
 "metadata": {
  "kernelspec": {
   "display_name": "Python 3",
   "language": "python",
   "name": "python3"
  },
  "language_info": {
   "codemirror_mode": {
    "name": "ipython",
    "version": 3
   },
   "file_extension": ".py",
   "mimetype": "text/x-python",
   "name": "python",
   "nbconvert_exporter": "python",
   "pygments_lexer": "ipython3",
   "version": "3.5.2"
  }
 },
 "nbformat": 4,
 "nbformat_minor": 4
}
