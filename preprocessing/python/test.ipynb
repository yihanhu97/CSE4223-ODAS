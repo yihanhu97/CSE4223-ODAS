{
 "cells": [
  {
   "cell_type": "code",
   "execution_count": 34,
   "metadata": {},
   "outputs": [],
   "source": [
    "import glob\n",
    "records0  = glob.glob('/home/ardelalegre/google-drive/ODAS/logs0/SSL/cSSL_2020-07-31_*.log')\n",
    "records1  = glob.glob('/home/ardelalegre/google-drive/ODAS/logs1/SSL/cSSL_2020-07-31_*.log')\n",
    "records2  = glob.glob('/home/ardelalegre/google-drive/ODAS/logs2/SSL/cSSL_2020-07-31_*.log')\n",
    "records3  = glob.glob('/home/ardelalegre/google-drive/ODAS/logs3/SSL/cSSL_2020-07-31_*.log')"
   ]
  },
  {
   "cell_type": "code",
   "execution_count": 35,
   "metadata": {},
   "outputs": [
    {
     "name": "stdout",
     "output_type": "stream",
     "text": [
      "0\n",
      "0\n",
      "0\n",
      "31\n"
     ]
    }
   ],
   "source": [
    "print(len(records0))\n",
    "print(len(records1))\n",
    "print(len(records2))\n",
    "print(len(records3))"
   ]
  },
  {
   "cell_type": "code",
   "execution_count": 27,
   "metadata": {},
   "outputs": [],
   "source": [
    "proc0  = glob.glob('/home/ardelalegre/google-drive/ODAS/logs0/SSL/Processed/cSSL_2020-07-31_*.log')\n",
    "proc1  = glob.glob('/home/ardelalegre/google-drive/ODAS/logs1/SSL/Processed/cSSL_2020-07-31_*.log')\n",
    "proc2  = glob.glob('/home/ardelalegre/google-drive/ODAS/logs2/SSL/Processed/cSSL_2020-07-31_*.log')\n",
    "proc3  = glob.glob('/home/ardelalegre/google-drive/ODAS/logs3/SSL/Processed/cSSL_2020-07-31_*.log')"
   ]
  },
  {
   "cell_type": "code",
   "execution_count": 28,
   "metadata": {},
   "outputs": [
    {
     "name": "stdout",
     "output_type": "stream",
     "text": [
      "34\n",
      "85\n",
      "0\n",
      "10\n"
     ]
    }
   ],
   "source": [
    "print(len(proc0))\n",
    "print(len(proc1))\n",
    "print(len(proc2))\n",
    "print(len(proc3))"
   ]
  },
  {
   "cell_type": "code",
   "execution_count": null,
   "metadata": {},
   "outputs": [],
   "source": [
    "# This script combines dataframes from all microphone arrays produced one day ago relative to the date when the script is run\n",
    "\n",
    "import glob\n",
    "import os\n",
    "import pandas as pd\n",
    "import re\n",
    "import json\n",
    "import datetime\n",
    "import time\n",
    "\n",
    "#define the dates and hours to be combined\n",
    "\n",
    "today = datetime.datetime.now() # extract todays date\n",
    "a = today - datetime.timedelta(days = 4) # extract yesterday's date\n",
    "\n",
    "a = str(a) # convert into string\n",
    "year = a[:4] # extract yesterday's year\n",
    "month = a[5:7] # extract yesterday's month\n",
    "day = a[8:10] # extract yesterday\n",
    "\n",
    "\n",
    "hours = []\n",
    "for i in range(10):\n",
    "    hours.append('0' + str(i))\n",
    "for i in range(10, 25):\n",
    "    hours.append(str(i))\n",
    "\n",
    "#iterate through dates and combine. Then for each hour, for each array if a directory exists for that hour, list all the csv files for that hour. Read them and append \n",
    "\n",
    "date = year + '-' + month + '-' + day # setting date to yesterdays date\n",
    "date_path = os.path.join('/home/ardelalegre/google-drive/ODAS/localization_dataframes/combined/', date)\n",
    "for hour in hours:\n",
    "    dfs = []\n",
    "    for mic_number in range(4):\n",
    "        if(not os.path.isdir('/home/ardelalegre/google-drive/ODAS/localization_dataframes/dataframes' + str(mic_number) + '/' + date + '/' + hour + '/')):\n",
    "            continue\n",
    "\n",
    "        for file in glob.glob('/home/ardelalegre/google-drive/ODAS/localization_dataframes/dataframes' + str(mic_number) + '/' + date +'/' + hour + '/*.csv'):\n",
    "            print(\"Reading file \" + file) \n",
    "            df = pd.read_csv(file)\n",
    "            dfs.append(df)\n",
    "    if(len(dfs) > 0):\n",
    "        merged = pd.concat(dfs)\n",
    "        #sort by time\n",
    "        merged = merged.sort_values(['Time In Seconds'])\n",
    "\n",
    "        if(not os.path.isdir(date_path)):\n",
    "            os.mkdir(date_path)\n",
    "        merged.to_csv(path_or_buf=date_path + '/' + hour + '.csv', index=False)\n",
    "\n"
   ]
  }
 ],
 "metadata": {
  "kernelspec": {
   "display_name": "Python 3",
   "language": "python",
   "name": "python3"
  },
  "language_info": {
   "codemirror_mode": {
    "name": "ipython",
    "version": 3
   },
   "file_extension": ".py",
   "mimetype": "text/x-python",
   "name": "python",
   "nbconvert_exporter": "python",
   "pygments_lexer": "ipython3",
   "version": "3.5.2"
  }
 },
 "nbformat": 4,
 "nbformat_minor": 4
}
