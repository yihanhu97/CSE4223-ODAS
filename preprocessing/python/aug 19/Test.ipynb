{
 "cells": [
  {
   "cell_type": "code",
   "execution_count": 1,
   "metadata": {},
   "outputs": [],
   "source": [
    "import glob"
   ]
  },
  {
   "cell_type": "code",
   "execution_count": 2,
   "metadata": {},
   "outputs": [],
   "source": [
    "\n",
    "records0 = glob.glob('/home/ardelalegre/google-drive/ODAS/logs0/SST/Processed/cSST_2020-08-19*_0.log')\n",
    "records1 = glob.glob('/home/ardelalegre/google-drive/ODAS/logs1/SST/Processed/cSST_2020-08-19*_1.log')\n",
    "records2 = glob.glob('/home/ardelalegre/google-drive/ODAS/logs2/SST/Processed/cSST_2020-08-19*_2.log')\n",
    "records3 = glob.glob('/home/ardelalegre/google-drive/ODAS/logs3/SST/Processed/cSST_2020-08-19*_3.log')\n",
    "records4 = glob.glob('/home/ardelalegre/google-drive/ODAS/logs0/SST/Processed/cSST_2020-08-19*_4.log')\n",
    "records5 = glob.glob('/home/ardelalegre/google-drive/ODAS/logs1/SST/Processed/cSST_2020-08-19*_5.log')"
   ]
  },
  {
   "cell_type": "code",
   "execution_count": 10,
   "metadata": {},
   "outputs": [],
   "source": [
    "records4_more = glob.glob('/home/ardelalegre/google-drive/ODAS/logs4/SST/Processed/cSST_2020-08-19*_4.log')\n",
    "records5_more = glob.glob('/home/ardelalegre/google-drive/ODAS/logs5/SST/Processed/cSST_2020-08-19*_5.log')"
   ]
  },
  {
   "cell_type": "code",
   "execution_count": 3,
   "metadata": {},
   "outputs": [
    {
     "data": {
      "text/plain": [
       "283"
      ]
     },
     "execution_count": 3,
     "metadata": {},
     "output_type": "execute_result"
    }
   ],
   "source": [
    "len(records0)"
   ]
  },
  {
   "cell_type": "code",
   "execution_count": 4,
   "metadata": {},
   "outputs": [
    {
     "data": {
      "text/plain": [
       "283"
      ]
     },
     "execution_count": 4,
     "metadata": {},
     "output_type": "execute_result"
    }
   ],
   "source": [
    "len(records1)"
   ]
  },
  {
   "cell_type": "code",
   "execution_count": 5,
   "metadata": {},
   "outputs": [
    {
     "data": {
      "text/plain": [
       "157"
      ]
     },
     "execution_count": 5,
     "metadata": {},
     "output_type": "execute_result"
    }
   ],
   "source": [
    "len(records2)"
   ]
  },
  {
   "cell_type": "code",
   "execution_count": 6,
   "metadata": {},
   "outputs": [
    {
     "data": {
      "text/plain": [
       "287"
      ]
     },
     "execution_count": 6,
     "metadata": {},
     "output_type": "execute_result"
    }
   ],
   "source": [
    "len(records3)"
   ]
  },
  {
   "cell_type": "code",
   "execution_count": 7,
   "metadata": {},
   "outputs": [
    {
     "data": {
      "text/plain": [
       "69"
      ]
     },
     "execution_count": 7,
     "metadata": {},
     "output_type": "execute_result"
    }
   ],
   "source": [
    "len(records4)"
   ]
  },
  {
   "cell_type": "code",
   "execution_count": 8,
   "metadata": {},
   "outputs": [
    {
     "data": {
      "text/plain": [
       "126"
      ]
     },
     "execution_count": 8,
     "metadata": {},
     "output_type": "execute_result"
    }
   ],
   "source": [
    "len(records5)"
   ]
  },
  {
   "cell_type": "code",
   "execution_count": 11,
   "metadata": {},
   "outputs": [
    {
     "data": {
      "text/plain": [
       "111"
      ]
     },
     "execution_count": 11,
     "metadata": {},
     "output_type": "execute_result"
    }
   ],
   "source": [
    "len(records4_more)"
   ]
  },
  {
   "cell_type": "code",
   "execution_count": 13,
   "metadata": {},
   "outputs": [],
   "source": [
    "records4 = records4 + records4_more"
   ]
  },
  {
   "cell_type": "code",
   "execution_count": 14,
   "metadata": {},
   "outputs": [
    {
     "data": {
      "text/plain": [
       "180"
      ]
     },
     "execution_count": 14,
     "metadata": {},
     "output_type": "execute_result"
    }
   ],
   "source": [
    "len(records4)"
   ]
  },
  {
   "cell_type": "code",
   "execution_count": 15,
   "metadata": {},
   "outputs": [],
   "source": [
    "# we now have all paths. We can start processing.\n",
    "\n",
    "records = [records0, records1, records2, records3, records4, records5]\n"
   ]
  },
  {
   "cell_type": "code",
   "execution_count": null,
   "metadata": {},
   "outputs": [
    {
     "name": "stdout",
     "output_type": "stream",
     "text": [
      "Now processing logs0\n",
      "Could not open file: /home/ardelalegre/google-drive/ODAS/logs0/SST/Processed/cSST_2020-08-19_12:45:04_0.log\n",
      "Could not open file: /home/ardelalegre/google-drive/ODAS/logs0/SST/Processed/cSST_2020-08-19_14:40:04_0.log\n",
      "Could not open file: /home/ardelalegre/google-drive/ODAS/logs0/SST/Processed/cSST_2020-08-19_15:00:04_0.log\n"
     ]
    }
   ],
   "source": [
    "\n",
    "for mic_number in range(len(records)):\n",
    "    \n",
    "#     destination = \"/home/ardelalegre/google-drive/ODAS/logs\" + str(mic_number) + \"/SST/Processed\"\n",
    "    print(\"Now processing logs\" + str(mic_number))\n",
    "    \n",
    "    for log in records[mic_number]:\n",
    "        try:\n",
    "            with open(log, 'r') as f:\n",
    "                    firstline = f.readline()\n",
    "                    if firstline == \"SST log contains no useful data\\n\":\n",
    "#                         try:\n",
    "#                             temp = shutil.move(log,destination) # new\n",
    "#                         except:\n",
    "#                             continue\n",
    "                        continue\n",
    "\n",
    "            log_string = log[:-6] + '.log' # modification to account for added array number to path\n",
    "    #         print(log_string)\n",
    "\n",
    "            hour = log_string[log_string.rfind('_') + 1: log_string.rfind('_') + 1 + 2]\n",
    "            day = log_string[log_string.find('_') + 1: log_string.rfind('_')]\n",
    "            path = log_string[:log_string.find('S/') + 2] + 'dataframes/dataframes' + str(mic_number) + '/'\n",
    "    #         print(path)\n",
    "    #         print(day)\n",
    "    #         print(hour)\n",
    "            try:\n",
    "                if(not os.path.isdir(os.path.join(path, day))):\n",
    "                    os.mkdir(os.path.join(path, day))\n",
    "\n",
    "                path = os.path.join(path, day, hour)\n",
    "                if(not os.path.isdir(path)):\n",
    "                    print(\"making directory: \" + str(path))\n",
    "                    os.mkdir(path)\n",
    "\n",
    "            except:\n",
    "                continue\n",
    "\n",
    "    #         print(path)\n",
    "            try:\n",
    "                df = extractDirectionalities(log, mic_number)\n",
    "                if(not os.path.isdir(path)):\n",
    "                    os.mkdir(path)\n",
    "                df.to_csv(path_or_buf=path+ '/' + log[log.find('_') + 1:log.find('.')]+'.csv', index=False)\n",
    "                print(\"Processed a file!\")\n",
    "#                 try:\n",
    "#                     temp = shutil.move(log,destination) # new\n",
    "#                     print('Processed a log and moved it!')\n",
    "#                 except:\n",
    "#                     continue\n",
    "\n",
    "            except:\n",
    "                print('Could not process file: ' + log)\n",
    "        except:\n",
    "            print('Could not open file: ' + log)\n",
    "            continue\n",
    "        \n",
    "        \n",
    "print(\"Execution of processAllLogs_new.py ended at \" + str(datetime.datetime.now()))\n",
    "print(\"\\n\")\n"
   ]
  },
  {
   "cell_type": "code",
   "execution_count": null,
   "metadata": {},
   "outputs": [],
   "source": [
    "temp = shutil.move(log,destination)"
   ]
  },
  {
   "cell_type": "code",
   "execution_count": null,
   "metadata": {},
   "outputs": [],
   "source": [
    "destination = '/home/ardelalegre/google-drive/ODAS/logs5/SST'"
   ]
  },
  {
   "cell_type": "code",
   "execution_count": 1,
   "metadata": {},
   "outputs": [
    {
     "data": {
      "text/plain": [
       "'/home/ardelalegre/New_CSE4223/CSE4223-ODAS/preprocessing/python/aug 19'"
      ]
     },
     "execution_count": 1,
     "metadata": {},
     "output_type": "execute_result"
    }
   ],
   "source": [
    "pwd"
   ]
  },
  {
   "cell_type": "code",
   "execution_count": null,
   "metadata": {},
   "outputs": [],
   "source": []
  }
 ],
 "metadata": {
  "kernelspec": {
   "display_name": "Python 3",
   "language": "python",
   "name": "python3"
  },
  "language_info": {
   "codemirror_mode": {
    "name": "ipython",
    "version": 3
   },
   "file_extension": ".py",
   "mimetype": "text/x-python",
   "name": "python",
   "nbconvert_exporter": "python",
   "pygments_lexer": "ipython3",
   "version": "3.5.2"
  }
 },
 "nbformat": 4,
 "nbformat_minor": 4
}
